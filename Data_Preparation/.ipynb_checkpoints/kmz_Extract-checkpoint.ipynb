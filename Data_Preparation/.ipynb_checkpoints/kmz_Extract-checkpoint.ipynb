{
 "cells": [
  {
   "cell_type": "code",
   "execution_count": 9,
   "id": "aea5298b",
   "metadata": {},
   "outputs": [
    {
     "name": "stdout",
     "output_type": "stream",
     "text": [
      "Bounding Box Coordinates (WGS84): ((-90.88541453087521, 41.70744691541619), (-90.7530683699809, 41.70744691541619), (-90.88541453087521, 41.76383829277066), (-90.7530683699809, 41.76383829277066))\n"
     ]
    }
   ],
   "source": [
    "import zipfile\n",
    "import os\n",
    "import xml.etree.ElementTree as ET\n",
    "\n",
    "def extract_kml_from_kmz(kmz_path, extraction_root):\n",
    "    # Ensure the extraction directory exists\n",
    "    extract_path = os.path.join(extraction_root, 'extracted_kml')\n",
    "    os.makedirs(extract_path, exist_ok=True)\n",
    "    \n",
    "    # Unzip the KMZ file\n",
    "    with zipfile.ZipFile(kmz_path, 'r') as kmz:\n",
    "        kmz.extractall(extract_path)\n",
    "    \n",
    "    # Find the KML file in the extracted files\n",
    "    for root, dirs, files in os.walk(extract_path):\n",
    "        for file in files:\n",
    "            if file.endswith('.kml'):\n",
    "                return os.path.join(root, file)\n",
    "    \n",
    "    raise FileNotFoundError(\"No KML file found in the KMZ archive\")\n",
    "\n",
    "def get_bounding_box_from_kml(kml_path):\n",
    "    # Parse the KML file\n",
    "    tree = ET.parse(kml_path)\n",
    "    root = tree.getroot()\n",
    "    \n",
    "    # Define the namespaces\n",
    "    namespaces = {'kml': 'http://www.opengis.net/kml/2.2'}\n",
    "    \n",
    "    # Find all coordinates in the KML file\n",
    "    coordinates = []\n",
    "    for placemark in root.findall('.//kml:Placemark', namespaces):\n",
    "        for polygon in placemark.findall('.//kml:Polygon', namespaces):\n",
    "            for coord in polygon.findall('.//kml:coordinates', namespaces):\n",
    "                coords_text = coord.text.strip()\n",
    "                for coord_pair in coords_text.split():\n",
    "                    lon, lat, _ = map(float, coord_pair.split(','))\n",
    "                    coordinates.append((lat, lon))\n",
    "    \n",
    "    # Calculate the bounding box\n",
    "    lats, lons = zip(*coordinates)\n",
    "    min_lat, max_lat = min(lats), max(lats)\n",
    "    min_lon, max_lon = min(lons), max(lons)\n",
    "    \n",
    "    # Return the four coordinates of the bounding box\n",
    "    return (min_lon, min_lat), (max_lon, min_lat), (min_lon, max_lat), (max_lon, max_lat)\n",
    "\n",
    "def main(kmz_path, extraction_root):\n",
    "    kml_path = extract_kml_from_kmz(kmz_path, extraction_root)\n",
    "    bounding_box = get_bounding_box_from_kml(kml_path)\n",
    "    return bounding_box\n",
    "\n",
    "# # Example usage:\n",
    "\n",
    "HUC_number = '070801030408'\n",
    "extraction_root = f'/home/macula/SMATousi/Gullies/ground_truth/organized_data/HUCs/HUC_{HUC_number}/'\n",
    "kmz_file_path = f'/home/macula/SMATousi/Gullies/ground_truth/organized_data/HUCs/HUC_{HUC_number}/SC_{HUC_number}.kmz'\n",
    "bounding_box_coordinates = main(kmz_file_path, extraction_root)\n",
    "print(\"Bounding Box Coordinates (WGS84):\", bounding_box_coordinates)\n"
   ]
  },
  {
   "cell_type": "code",
   "execution_count": 4,
   "id": "e42e61df",
   "metadata": {},
   "outputs": [
    {
     "data": {
      "text/plain": [
       "(41.70744691541619, -90.88541453087521)"
      ]
     },
     "execution_count": 4,
     "metadata": {},
     "output_type": "execute_result"
    }
   ],
   "source": [
    "bounding_box_coordinates[0]"
   ]
  },
  {
   "cell_type": "code",
   "execution_count": null,
   "id": "86675014",
   "metadata": {},
   "outputs": [],
   "source": []
  }
 ],
 "metadata": {
  "kernelspec": {
   "display_name": "Python 3 (ipykernel)",
   "language": "python",
   "name": "python3"
  },
  "language_info": {
   "codemirror_mode": {
    "name": "ipython",
    "version": 3
   },
   "file_extension": ".py",
   "mimetype": "text/x-python",
   "name": "python",
   "nbconvert_exporter": "python",
   "pygments_lexer": "ipython3",
   "version": "3.7.13"
  }
 },
 "nbformat": 4,
 "nbformat_minor": 5
}
