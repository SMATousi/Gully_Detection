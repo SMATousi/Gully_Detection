{
 "cells": [
  {
   "cell_type": "code",
   "execution_count": 1,
   "id": "c76f2422-ce7c-4169-899d-b0170d9cf900",
   "metadata": {},
   "outputs": [],
   "source": [
    "import os\n",
    "import rasterio\n",
    "from rasterio.windows import Window\n",
    "from tqdm import tqdm\n",
    "\n",
    "def check_rasters_alignment(dem_src, so_src):\n",
    "    \"\"\"\n",
    "    Check if the DEM and SO rasters are aligned in terms of CRS, resolution, and dimensions.\n",
    "    \"\"\"\n",
    "    if dem_src.crs != so_src.crs:\n",
    "        raise ValueError(\"CRS mismatch between DEM and SO rasters\")\n",
    "    \n",
    "    # if dem_src.res != so_src.res:\n",
    "    #     print(dem_src.res)\n",
    "    #     print(so_src.res)\n",
    "    #     raise ValueError(\"Resolution mismatch between DEM and SO rasters\")\n",
    "\n",
    "    # if dem_src.bounds != so_src.bounds:\n",
    "    #     print(dem_src.bounds)\n",
    "    #     print(so_src.bounds)\n",
    "    #     raise ValueError(\"Bounds mismatch between DEM and SO rasters\")\n",
    "\n",
    "def save_tile(raster, window, output_path):\n",
    "    \"\"\"\n",
    "    Save a tile from the given raster and window to the specified output path.\n",
    "    \"\"\"\n",
    "    tile = raster.read(1, window=window)\n",
    "    transform = raster.window_transform(window)\n",
    "\n",
    "    with rasterio.open(\n",
    "        output_path,\n",
    "        'w',\n",
    "        driver='GTiff',\n",
    "        height=window.height,\n",
    "        width=window.width,\n",
    "        count=1,\n",
    "        dtype=tile.dtype,\n",
    "        crs=raster.crs,\n",
    "        transform=transform,\n",
    "    ) as dst:\n",
    "        dst.write(tile, 1)\n",
    "\n",
    "def generate_tiles(dem_path, so_path, output_dir_dem, output_dir_so, tile_size=(128, 128)):\n",
    "    \"\"\"\n",
    "    Generate 128x128 tiles for both DEM and SO rasters.\n",
    "    \"\"\"\n",
    "    with rasterio.open(dem_path) as dem_src, rasterio.open(so_path) as so_src:\n",
    "        # Check if rasters are aligned\n",
    "        check_rasters_alignment(dem_src, so_src)\n",
    "\n",
    "        for j in tqdm(range(0, dem_src.height, tile_size[0])):\n",
    "            for i in range(0, dem_src.width, tile_size[1]):\n",
    "                window = Window(i, j, tile_size[0], tile_size[1])\n",
    "                dem_tile_path = os.path.join(output_dir_dem, f'dem_tile_{i}_{j}.tif')\n",
    "                so_tile_path = os.path.join(output_dir_so, f'so_tile_{i}_{j}.tif')\n",
    "\n",
    "                save_tile(dem_src, window, dem_tile_path)\n",
    "                save_tile(so_src, window, so_tile_path)"
   ]
  },
  {
   "cell_type": "code",
   "execution_count": 13,
   "id": "aa86a3d9-2b54-42d2-b928-f034ec6633b8",
   "metadata": {},
   "outputs": [
    {
     "name": "stderr",
     "output_type": "stream",
     "text": [
      "100%|███████████████████████████████████████████████████████████| 55/55 [02:11<00:00,  2.38s/it]\n"
     ]
    }
   ],
   "source": [
    "dem_path = '../raw_data/HUC_102701030402/DEM/R_DEM.tif'\n",
    "so_path = '../raw_data/HUC_102701030402/SO/R_SO_KS_Strahler.tif'\n",
    "output_dir_dem = '../dem2so/dem'\n",
    "output_dir_so = '../dem2so/so'\n",
    "\n",
    "# Create output directories if they don't exist\n",
    "os.makedirs(output_dir_dem, exist_ok=True)\n",
    "os.makedirs(output_dir_so, exist_ok=True)\n",
    "\n",
    "generate_tiles(dem_path, so_path, output_dir_dem, output_dir_so)"
   ]
  },
  {
   "cell_type": "code",
   "execution_count": 13,
   "id": "c3946584-601c-46d9-bd22-70bc661b0b7b",
   "metadata": {},
   "outputs": [
    {
     "data": {
      "text/plain": [
       "4857.0"
      ]
     },
     "execution_count": 13,
     "metadata": {},
     "output_type": "execute_result"
    }
   ],
   "source": [
    "29142/6"
   ]
  },
  {
   "cell_type": "code",
   "execution_count": 2,
   "id": "1afd7c3c-5a95-4fef-80ff-7c51a2811d67",
   "metadata": {},
   "outputs": [],
   "source": [
    "def find_highest_tile_number(directory):\n",
    "    highest_number = 0\n",
    "    for file in os.listdir(directory):\n",
    "        if file.endswith(\".png\"):\n",
    "            parts = file.split('_')\n",
    "            if len(parts) >= 3 and parts[2].isdigit():\n",
    "                number = int(parts[2])\n",
    "                highest_number = max(highest_number, number)\n",
    "    return highest_number\n"
   ]
  },
  {
   "cell_type": "code",
   "execution_count": 15,
   "id": "171dc4a5-cd96-4124-bd0f-278b7c8f6227",
   "metadata": {},
   "outputs": [],
   "source": [
    "tile_number = max(find_highest_tile_number(input_dir), find_highest_tile_number(target_dir))"
   ]
  },
  {
   "cell_type": "code",
   "execution_count": 16,
   "id": "ceb9619f-50d7-4d20-ad5e-b706d3542c65",
   "metadata": {},
   "outputs": [
    {
     "data": {
      "text/plain": [
       "0"
      ]
     },
     "execution_count": 16,
     "metadata": {},
     "output_type": "execute_result"
    }
   ],
   "source": [
    "tile_number"
   ]
  },
  {
   "cell_type": "code",
   "execution_count": 15,
   "id": "73041249-26f2-453a-b66b-b0309f5a6b71",
   "metadata": {},
   "outputs": [
    {
     "name": "stdout",
     "output_type": "stream",
     "text": [
      "Mean: 318.90567\n",
      "Standard Deviation: 16.467052\n"
     ]
    }
   ],
   "source": [
    "import numpy as np\n",
    "with rasterio.open('../raw_data/HUC_102701030402/DEM/R_DEM.tif') as src:\n",
    "    # Step 2: Read the raster data into a NumPy array\n",
    "    raster_data = src.read()\n",
    "\n",
    "    # Step 3: Flatten the data to compute mean and standard deviation\n",
    "    flattened_data = raster_data.flatten()\n",
    "\n",
    "    # Step 4: Compute Mean and Standard Deviation\n",
    "    mean = np.mean(flattened_data)\n",
    "    std = np.std(flattened_data)\n",
    "\n",
    "# Step 5: Print or Use the Calculated Values\n",
    "print(\"Mean:\", mean)\n",
    "print(\"Standard Deviation:\", std)"
   ]
  },
  {
   "cell_type": "markdown",
   "id": "7ce2dcba-02b2-4a50-86fb-3b45f19437ec",
   "metadata": {},
   "source": [
    "# With RGB"
   ]
  },
  {
   "cell_type": "code",
   "execution_count": 3,
   "id": "9c3633d8-db65-44a3-a417-b1c58efc678a",
   "metadata": {},
   "outputs": [],
   "source": [
    "import os\n",
    "import rasterio\n",
    "from rasterio.windows import Window\n",
    "\n",
    "def save_tile(raster, window, output_path):\n",
    "    tile = raster.read(window=window)\n",
    "    transform = raster.window_transform(window)\n",
    "\n",
    "    with rasterio.open(\n",
    "        output_path,\n",
    "        'w',\n",
    "        driver='GTiff',\n",
    "        height=window.height,\n",
    "        width=window.width,\n",
    "        count=raster.count,\n",
    "        dtype=raster.dtypes[0],\n",
    "        crs=raster.crs,\n",
    "        transform=transform,\n",
    "    ) as dst:\n",
    "        dst.write(tile)\n",
    "\n",
    "def has_no_data(tile):\n",
    "    return (tile == 0).any()\n",
    "\n",
    "def generate_tiles(dem_path, so_path, rgb_paths, output_dirs, tile_size=(128, 128)):\n",
    "    with rasterio.open(dem_path) as dem_src, rasterio.open(so_path) as so_src:\n",
    "        tile_number = 0\n",
    "        for j in tqdm(range(0, dem_src.height, tile_size[0])):\n",
    "            for i in range(0, dem_src.width, tile_size[1]):\n",
    "                window = Window(i, j, tile_size[0], tile_size[1])\n",
    "                dem_tile = dem_src.read(window=window)\n",
    "                so_tile = so_src.read(window=window)\n",
    "\n",
    "                if has_no_data(dem_tile):\n",
    "                    continue\n",
    "\n",
    "                rgb_tiles = []\n",
    "                for rgb_path in rgb_paths:\n",
    "                    with rasterio.open(rgb_path) as rgb_src:\n",
    "                        rgb_tile = rgb_src.read(window=window)\n",
    "                        if has_no_data(rgb_tile):\n",
    "                            rgb_tiles = []  # Clear the list and break if no-data found\n",
    "                            break\n",
    "                        rgb_tiles.append((rgb_tile, rgb_src.profile))\n",
    "\n",
    "                if not rgb_tiles:  # Skip saving if any no-data found in RGB tiles\n",
    "                    continue\n",
    "\n",
    "                dem_tile_path = os.path.join(output_dirs['dem'], f'dem_tile_{tile_number}.tif')\n",
    "                so_tile_path = os.path.join(output_dirs['so'], f'so_tile_{tile_number}.tif')\n",
    "                save_tile(dem_src, window, dem_tile_path)\n",
    "                save_tile(so_src, window, so_tile_path)\n",
    "\n",
    "                for k, (rgb_tile, rgb_profile) in enumerate(rgb_tiles):\n",
    "                    rgb_tile_path = os.path.join(output_dirs['rgb'], f'rgb{k}_tile_{tile_number}.tif')\n",
    "                    with rasterio.open(\n",
    "                        rgb_tile_path,\n",
    "                        'w',\n",
    "                        driver='GTiff',\n",
    "                        height=window.height,\n",
    "                        width=window.width,\n",
    "                        count=rgb_profile['count'],\n",
    "                        dtype=rgb_profile['dtype'],\n",
    "                        crs=rgb_profile['crs'],\n",
    "                        transform=rasterio.windows.transform(window, rgb_profile['transform'])\n",
    "                    ) as dst:\n",
    "                        dst.write(rgb_tile)\n",
    "                \n",
    "                tile_number = tile_number + 1\n"
   ]
  },
  {
   "cell_type": "code",
   "execution_count": 4,
   "id": "b6bcb5e8-b874-437a-959b-80329d1177e1",
   "metadata": {
    "scrolled": true
   },
   "outputs": [
    {
     "name": "stderr",
     "output_type": "stream",
     "text": [
      "  5%|████▉                                                                                                     | 8/172 [04:13<1:26:27, 31.63s/it]\n"
     ]
    },
    {
     "ename": "KeyboardInterrupt",
     "evalue": "",
     "output_type": "error",
     "traceback": [
      "\u001b[0;31m---------------------------------------------------------------------------\u001b[0m",
      "\u001b[0;31mKeyboardInterrupt\u001b[0m                         Traceback (most recent call last)",
      "\u001b[0;32m/tmp/ipykernel_1386496/3876445987.py\u001b[0m in \u001b[0;36m<module>\u001b[0;34m\u001b[0m\n\u001b[1;32m     22\u001b[0m         \u001b[0mos\u001b[0m\u001b[0;34m.\u001b[0m\u001b[0mmakedirs\u001b[0m\u001b[0;34m(\u001b[0m\u001b[0mdir\u001b[0m\u001b[0;34m,\u001b[0m \u001b[0mexist_ok\u001b[0m\u001b[0;34m=\u001b[0m\u001b[0;32mTrue\u001b[0m\u001b[0;34m)\u001b[0m\u001b[0;34m\u001b[0m\u001b[0;34m\u001b[0m\u001b[0m\n\u001b[1;32m     23\u001b[0m \u001b[0;34m\u001b[0m\u001b[0m\n\u001b[0;32m---> 24\u001b[0;31m \u001b[0mgenerate_tiles\u001b[0m\u001b[0;34m(\u001b[0m\u001b[0mdem_path\u001b[0m\u001b[0;34m,\u001b[0m \u001b[0mso_path\u001b[0m\u001b[0;34m,\u001b[0m \u001b[0mrgb_paths\u001b[0m\u001b[0;34m,\u001b[0m \u001b[0moutput_dirs\u001b[0m\u001b[0;34m)\u001b[0m\u001b[0;34m\u001b[0m\u001b[0;34m\u001b[0m\u001b[0m\n\u001b[0m",
      "\u001b[0;32m/tmp/ipykernel_1386496/3459440247.py\u001b[0m in \u001b[0;36mgenerate_tiles\u001b[0;34m(dem_path, so_path, rgb_paths, output_dirs, tile_size)\u001b[0m\n\u001b[1;32m     65\u001b[0m                         \u001b[0mtransform\u001b[0m\u001b[0;34m=\u001b[0m\u001b[0mrasterio\u001b[0m\u001b[0;34m.\u001b[0m\u001b[0mwindows\u001b[0m\u001b[0;34m.\u001b[0m\u001b[0mtransform\u001b[0m\u001b[0;34m(\u001b[0m\u001b[0mwindow\u001b[0m\u001b[0;34m,\u001b[0m \u001b[0mrgb_profile\u001b[0m\u001b[0;34m[\u001b[0m\u001b[0;34m'transform'\u001b[0m\u001b[0;34m]\u001b[0m\u001b[0;34m)\u001b[0m\u001b[0;34m\u001b[0m\u001b[0;34m\u001b[0m\u001b[0m\n\u001b[1;32m     66\u001b[0m                     ) as dst:\n\u001b[0;32m---> 67\u001b[0;31m                         \u001b[0mdst\u001b[0m\u001b[0;34m.\u001b[0m\u001b[0mwrite\u001b[0m\u001b[0;34m(\u001b[0m\u001b[0mrgb_tile\u001b[0m\u001b[0;34m)\u001b[0m\u001b[0;34m\u001b[0m\u001b[0;34m\u001b[0m\u001b[0m\n\u001b[0m\u001b[1;32m     68\u001b[0m \u001b[0;34m\u001b[0m\u001b[0m\n\u001b[1;32m     69\u001b[0m                 \u001b[0mtile_number\u001b[0m \u001b[0;34m=\u001b[0m \u001b[0mtile_number\u001b[0m \u001b[0;34m+\u001b[0m \u001b[0;36m1\u001b[0m\u001b[0;34m\u001b[0m\u001b[0;34m\u001b[0m\u001b[0m\n",
      "\u001b[0;32mrasterio/_base.pyx\u001b[0m in \u001b[0;36mrasterio._base.DatasetBase.__exit__\u001b[0;34m()\u001b[0m\n",
      "\u001b[0;32m~/.conda/envs/mac-deep/lib/python3.7/site-packages/rasterio/env.py\u001b[0m in \u001b[0;36m__exit__\u001b[0;34m(self, *args)\u001b[0m\n\u001b[1;32m    358\u001b[0m         \u001b[0;32mreturn\u001b[0m \u001b[0mself\u001b[0m\u001b[0;34m\u001b[0m\u001b[0;34m\u001b[0m\u001b[0m\n\u001b[1;32m    359\u001b[0m \u001b[0;34m\u001b[0m\u001b[0m\n\u001b[0;32m--> 360\u001b[0;31m     \u001b[0;32mdef\u001b[0m \u001b[0m__exit__\u001b[0m\u001b[0;34m(\u001b[0m\u001b[0mself\u001b[0m\u001b[0;34m,\u001b[0m \u001b[0;34m*\u001b[0m\u001b[0margs\u001b[0m\u001b[0;34m)\u001b[0m\u001b[0;34m:\u001b[0m\u001b[0;34m\u001b[0m\u001b[0;34m\u001b[0m\u001b[0m\n\u001b[0m\u001b[1;32m    361\u001b[0m         \u001b[0;32mpass\u001b[0m\u001b[0;34m\u001b[0m\u001b[0;34m\u001b[0m\u001b[0m\n\u001b[1;32m    362\u001b[0m \u001b[0;34m\u001b[0m\u001b[0m\n",
      "\u001b[0;31mKeyboardInterrupt\u001b[0m: "
     ]
    }
   ],
   "source": [
    "# Example usage\n",
    "dem_path = '/home/macula/SMATousi/Gullies/ground_truth/organized_data/Google_Lines_Paper_Evaluation/downloaded_raw_1/merged/dem_tile__merged.tif'\n",
    "so_path = '/home/macula/SMATousi/Gullies/ground_truth/organized_data/Google_Lines_Paper_Evaluation/downloaded_raw_1/merged/dem_tile__merged.tif'\n",
    "rgb_paths = ['/home/macula/SMATousi/Gullies/ground_truth/organized_data/Google_Lines_Paper_Evaluation/downloaded_raw_1/merged/tile_10__merged.tif', \n",
    "             '/home/macula/SMATousi/Gullies/ground_truth/organized_data/Google_Lines_Paper_Evaluation/downloaded_raw_1/merged/tile_12__merged.tif', \n",
    "             '/home/macula/SMATousi/Gullies/ground_truth/organized_data/Google_Lines_Paper_Evaluation/downloaded_raw_1/merged/tile_14__merged.tif',\n",
    "             '/home/macula/SMATousi/Gullies/ground_truth/organized_data/Google_Lines_Paper_Evaluation/downloaded_raw_1/merged/tile_16__merged.tif',\n",
    "             '/home/macula/SMATousi/Gullies/ground_truth/organized_data/Google_Lines_Paper_Evaluation/downloaded_raw_1/merged/tile_18__merged.tif',\n",
    "             '/home/macula/SMATousi/Gullies/ground_truth/organized_data/Google_Lines_Paper_Evaluation/downloaded_raw_1/merged/tile_20__merged.tif']\n",
    "output_dirs = {\n",
    "    'dem': '/home/macula/SMATousi/Gullies/ground_truth/organized_data/Google_Lines_Paper_Evaluation/downloaded_raw_1/tiled_dem',\n",
    "    'so': '/home/macula/SMATousi/Gullies/ground_truth/organized_data/Google_Lines_Paper_Evaluation/downloaded_raw_1/tiled_so',\n",
    "    'rgb': '/home/macula/SMATousi/Gullies/ground_truth/organized_data/Google_Lines_Paper_Evaluation/downloaded_raw_1/tiled_rgb'\n",
    "}\n",
    "\n",
    "# Create output directories if they don't exist\n",
    "for dir in output_dirs.values():\n",
    "    if isinstance(dir, list):\n",
    "        for d in dir:\n",
    "            os.makedirs(d, exist_ok=True)\n",
    "    else:\n",
    "        os.makedirs(dir, exist_ok=True)\n",
    "\n",
    "generate_tiles(dem_path, so_path, rgb_paths, output_dirs)"
   ]
  },
  {
   "cell_type": "markdown",
   "id": "27519e35",
   "metadata": {},
   "source": [
    "# For Google Lines Paper Evaluation"
   ]
  },
  {
   "cell_type": "code",
   "execution_count": null,
   "id": "c5b4d94b",
   "metadata": {},
   "outputs": [],
   "source": [
    "\n",
    "root_path = '/home/macula/SMATousi/Gullies/ground_truth/organized_data/Google_Lines_Paper_Evaluation'\n",
    "\n",
    "all_files_in_the_root = os.listdir(root_path)\n",
    "\n",
    "# Example usage\n",
    "dem_path = '/home/macula/SMATousi/Gullies/ground_truth/organized_data/Google_Lines_Paper_Evaluation/downloaded_raw_1/merged/dem_tile__merged.tif'\n",
    "so_path = '/home/macula/SMATousi/Gullies/ground_truth/organized_data/Google_Lines_Paper_Evaluation/downloaded_raw_1/merged/dem_tile__merged.tif'\n",
    "rgb_paths = ['/home/macula/SMATousi/Gullies/ground_truth/organized_data/Google_Lines_Paper_Evaluation/downloaded_raw_1/merged/tile_10__merged.tif', \n",
    "             '/home/macula/SMATousi/Gullies/ground_truth/organized_data/Google_Lines_Paper_Evaluation/downloaded_raw_1/merged/tile_12__merged.tif', \n",
    "             '/home/macula/SMATousi/Gullies/ground_truth/organized_data/Google_Lines_Paper_Evaluation/downloaded_raw_1/merged/tile_14__merged.tif',\n",
    "             '/home/macula/SMATousi/Gullies/ground_truth/organized_data/Google_Lines_Paper_Evaluation/downloaded_raw_1/merged/tile_16__merged.tif',\n",
    "             '/home/macula/SMATousi/Gullies/ground_truth/organized_data/Google_Lines_Paper_Evaluation/downloaded_raw_1/merged/tile_18__merged.tif',\n",
    "             '/home/macula/SMATousi/Gullies/ground_truth/organized_data/Google_Lines_Paper_Evaluation/downloaded_raw_1/merged/tile_20__merged.tif']\n",
    "output_dirs = {\n",
    "    'dem': '/home/macula/SMATousi/Gullies/ground_truth/organized_data/Google_Lines_Paper_Evaluation/downloaded_raw_1/tiled_dem',\n",
    "    'so': '/home/macula/SMATousi/Gullies/ground_truth/organized_data/Google_Lines_Paper_Evaluation/downloaded_raw_1/tiled_so',\n",
    "    'rgb': '/home/macula/SMATousi/Gullies/ground_truth/organized_data/Google_Lines_Paper_Evaluation/downloaded_raw_1/tiled_rgb'\n",
    "}\n",
    "\n",
    "# Create output directories if they don't exist\n",
    "for dir in output_dirs.values():\n",
    "    if isinstance(dir, list):\n",
    "        for d in dir:\n",
    "            os.makedirs(d, exist_ok=True)\n",
    "    else:\n",
    "        os.makedirs(dir, exist_ok=True)\n",
    "\n",
    "generate_tiles(dem_path, so_path, rgb_paths, output_dirs)\n",
    "\n"
   ]
  },
  {
   "cell_type": "markdown",
   "id": "0c62507d",
   "metadata": {},
   "source": [
    "# With CropLand"
   ]
  },
  {
   "cell_type": "code",
   "execution_count": 18,
   "id": "f00d4f21",
   "metadata": {},
   "outputs": [],
   "source": [
    "import os\n",
    "import glob\n",
    "import rasterio\n",
    "from rasterio.windows import Window\n",
    "from tqdm import tqdm\n",
    "\n",
    "def save_tile(raster, window, output_path):\n",
    "    tile = raster.read(window=window)\n",
    "    transform = raster.window_transform(window)\n",
    "    with rasterio.open(\n",
    "        output_path,\n",
    "        'w',\n",
    "        driver='GTiff',\n",
    "        height=window.height,\n",
    "        width=window.width,\n",
    "        count=raster.count,\n",
    "        dtype=raster.dtypes[0],\n",
    "        crs=raster.crs,\n",
    "        transform=transform,\n",
    "    ) as dst:\n",
    "        dst.write(tile)\n",
    "\n",
    "def has_no_data(tile):\n",
    "    return (tile == 0).any()\n",
    "\n",
    "def is_crop_land_valid(tile):\n",
    "    invalid_values_count = ((tile < 0) | ((tile > 61) & (tile != 127))).sum()\n",
    "    return invalid_values_count <= 128*128 / 2\n",
    "\n",
    "def find_starting_number(output_dirs):\n",
    "    highest_number = -1\n",
    "    for output_dir in output_dirs.values():\n",
    "        for file in glob.glob(os.path.join(output_dir, '*.tif')):\n",
    "            file_name = os.path.basename(file)\n",
    "            parts = [int(part) for part in file_name.split('_') if part.isdigit()]\n",
    "            if parts:\n",
    "                highest_number = max(highest_number, max(parts))\n",
    "    return highest_number + 1\n",
    "\n",
    "def generate_tiles(dem_path, so_path, rgb_paths, cropland_path, output_dirs, tile_size=(128, 128)):\n",
    "    starting_number = 14456 + 1\n",
    "    with rasterio.open(dem_path) as dem_src, rasterio.open(so_path) as so_src, rasterio.open(cropland_path) as cropland_src:\n",
    "        for j in tqdm(range(0, dem_src.height, tile_size[0])):\n",
    "            for i in range(0, dem_src.width, tile_size[1]):\n",
    "                window = Window(i, j, tile_size[0], tile_size[1])\n",
    "                dem_tile = dem_src.read(window=window)\n",
    "\n",
    "                if has_no_data(dem_tile):\n",
    "                    continue\n",
    "\n",
    "                cropland_tile = cropland_src.read(1, window=window)\n",
    "                if not is_crop_land_valid(cropland_tile):\n",
    "                    continue\n",
    "\n",
    "                so_tile = so_src.read(window=window)\n",
    "\n",
    "                rgb_tiles = []\n",
    "                for rgb_path in rgb_paths:\n",
    "                    with rasterio.open(rgb_path) as rgb_src:\n",
    "                        rgb_tile = rgb_src.read(window=window)\n",
    "                        if has_no_data(rgb_tile):\n",
    "                            rgb_tiles = []\n",
    "                            break\n",
    "                        rgb_tiles.append((rgb_tile, rgb_src.profile))\n",
    "\n",
    "                if not rgb_tiles:\n",
    "                    continue\n",
    "\n",
    "                tile_number = starting_number\n",
    "                dem_tile_path = os.path.join(output_dirs['dem'], f'dem_tile_{tile_number}.tif')\n",
    "                so_tile_path = os.path.join(output_dirs['so'], f'so_tile_{tile_number}.tif')\n",
    "                save_tile(dem_src, window, dem_tile_path)\n",
    "                save_tile(so_src, window, so_tile_path)\n",
    "\n",
    "                for k, (rgb_tile, rgb_profile) in enumerate(rgb_tiles):\n",
    "                    rgb_tile_path = os.path.join(output_dirs['rgb'], f'rgb{k}_tile_{tile_number}.tif')\n",
    "                    with rasterio.open(\n",
    "                        rgb_tile_path,\n",
    "                        'w',\n",
    "                        driver='GTiff',\n",
    "                        height=window.height,\n",
    "                        width=window.width,\n",
    "                        count=rgb_profile['count'],\n",
    "                        dtype=rgb_profile['dtype'],\n",
    "                        crs=rgb_profile['crs'],\n",
    "                        transform=rasterio.windows.transform(window, rgb_profile['transform'])\n",
    "                    ) as dst:\n",
    "                        dst.write(rgb_tile)\n",
    "\n",
    "                starting_number += 1  # Increment the tile number for the next tile\n",
    "\n"
   ]
  },
  {
   "cell_type": "code",
   "execution_count": 19,
   "id": "e3906bca",
   "metadata": {},
   "outputs": [
    {
     "name": "stderr",
     "output_type": "stream",
     "text": [
      "100%|████████████████████████████████████████████████████████████████████████████████████████████████████████| 110/110 [1:18:32<00:00, 42.84s/it]\n"
     ]
    }
   ],
   "source": [
    "# Example usage\n",
    "dem_path = '../raw_data/HUC_070802050807/agg/agg_dem.tif'\n",
    "crop_path = '../raw_data/HUC_070802050807/agg/agg_crop.tif'\n",
    "so_path = '../raw_data/HUC_070802050807/SO/strahler.tif'\n",
    "rgb_paths = ['../raw_data/HUC_070802050807/agg/agg1.tif', \n",
    "             '../raw_data/HUC_070802050807/agg/agg2.tif', \n",
    "             '../raw_data/HUC_070802050807/agg/agg3.tif',\n",
    "             '../raw_data/HUC_070802050807/agg/agg4.tif',\n",
    "             '../raw_data/HUC_070802050807/agg/agg5.tif',\n",
    "             '../raw_data/HUC_070802050807/agg/agg6.tif']\n",
    "output_dirs = {\n",
    "    'dem': '../New_Data/dem/',\n",
    "    'so': '../New_Data/so',\n",
    "    'rgb': '../New_Data/rgb'\n",
    "}\n",
    "\n",
    "# Create output directories if they don't exist\n",
    "for dir in output_dirs.values():\n",
    "    if isinstance(dir, list):\n",
    "        for d in dir:\n",
    "            os.makedirs(d, exist_ok=True)\n",
    "    else:\n",
    "        os.makedirs(dir, exist_ok=True)\n",
    "\n",
    "generate_tiles(dem_path, so_path, rgb_paths, crop_path, output_dirs)"
   ]
  },
  {
   "cell_type": "code",
   "execution_count": null,
   "id": "e664cc92",
   "metadata": {},
   "outputs": [],
   "source": []
  }
 ],
 "metadata": {
  "kernelspec": {
   "display_name": "Python 3 (ipykernel)",
   "language": "python",
   "name": "python3"
  },
  "language_info": {
   "codemirror_mode": {
    "name": "ipython",
    "version": 3
   },
   "file_extension": ".py",
   "mimetype": "text/x-python",
   "name": "python",
   "nbconvert_exporter": "python",
   "pygments_lexer": "ipython3",
   "version": "3.7.13"
  }
 },
 "nbformat": 4,
 "nbformat_minor": 5
}
