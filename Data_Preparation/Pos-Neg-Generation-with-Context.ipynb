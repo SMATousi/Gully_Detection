{
 "cells": [
  {
   "cell_type": "code",
   "execution_count": 1,
   "id": "1db3cce7-bb53-4cd1-901b-d9aa0ee06772",
   "metadata": {},
   "outputs": [],
   "source": [
    "import rasterio\n",
    "from rasterio.windows import Window\n",
    "import numpy as np\n",
    "import cv2\n",
    "import os\n",
    "from tqdm import tqdm"
   ]
  },
  {
   "cell_type": "code",
   "execution_count": 12,
   "id": "10b18f29-b065-486a-89c2-538d0fdd80cb",
   "metadata": {},
   "outputs": [],
   "source": [
    "def save_tile(raster, window, output_path):\n",
    "    tile = raster.read(window=window)\n",
    "    transform = raster.window_transform(window)\n",
    "    with rasterio.open(\n",
    "        output_path,\n",
    "        'w',\n",
    "        driver='GTiff',\n",
    "        height=window.height,\n",
    "        width=window.width,\n",
    "        count=raster.count,\n",
    "        dtype=raster.dtypes[0],\n",
    "        crs=raster.crs,\n",
    "        transform=transform,\n",
    "    ) as dst:\n",
    "        dst.write(tile)\n",
    "\n",
    "def crop_image(src, x, y, crop_size):\n",
    "    window = rasterio.windows.Window(x - crop_size // 2, y - crop_size // 2, crop_size, crop_size)\n",
    "    return window\n",
    "\n",
    "def process_positive_files_with_overlap(ground_truth_path, \n",
    "                                        rgb_paths, \n",
    "                                        stream_order_path, \n",
    "                                        output_dir, \n",
    "                                        crop_size=128, \n",
    "                                        overlap_rate=0.5,\n",
    "                                        tile_number=0):\n",
    "    os.makedirs(output_dir, exist_ok=True)\n",
    "\n",
    "    gt_dir = os.path.join(output_dir, \"ground_truth\")\n",
    "    stream_dir = os.path.join(output_dir, \"dem\")\n",
    "    rgb_dir = os.path.join(output_dir, \"rgb_images\")\n",
    "    os.makedirs(gt_dir, exist_ok=True)\n",
    "    os.makedirs(stream_dir, exist_ok=True)\n",
    "    os.makedirs(rgb_dir, exist_ok=True)\n",
    "\n",
    "    with rasterio.open(ground_truth_path) as gt_src, rasterio.open(stream_order_path) as stream_src:\n",
    "        gt_data = gt_src.read(1)\n",
    "        if gt_data.min() < 0:\n",
    "            gt_data = -gt_data\n",
    "        y_indices, x_indices = np.where(gt_data > 0)\n",
    "\n",
    "        rgb_srcs = [rasterio.open(path) for path in rgb_paths]\n",
    "        cropped_regions = []\n",
    "        overlap_th = crop_size * overlap_rate\n",
    "        all_indices = zip(x_indices, y_indices)\n",
    "\n",
    "        for x, y in tqdm(all_indices):\n",
    "            overlap = any(abs(prev_x - x) < overlap_th and abs(prev_y - y) < overlap_th for prev_x, prev_y in cropped_regions)\n",
    "            if overlap:\n",
    "                continue\n",
    "\n",
    "            cropped_regions.append((x, y))\n",
    "\n",
    "            for size in [crop_size, crop_size * 2]:\n",
    "                window = crop_image(stream_src, x, y, size)\n",
    "                save_tile(stream_src, window, os.path.join(stream_dir, f'dem_tile_{size}_{tile_number}.tif'))\n",
    "                window = crop_image(gt_src, x, y, size)\n",
    "                save_tile(gt_src, window, os.path.join(gt_dir, f'ground_truth_tile_{size}_{tile_number}.tif'))\n",
    "\n",
    "                for i, rgb_src in enumerate(rgb_srcs):\n",
    "                    window = crop_image(rgb_src, x, y, size)\n",
    "                    save_tile(rgb_src, window, os.path.join(rgb_dir, f'rgb_{i}_tile_{size}_{tile_number}.tif'))\n",
    "\n",
    "            tile_number += 1\n",
    "\n",
    "        for src in rgb_srcs:\n",
    "            src.close()\n",
    "\n",
    "    return tile_number\n",
    "\n",
    "def process_files_with_negative_check(ground_truth_path, \n",
    "                                      rgb_paths, \n",
    "                                      stream_order_path, \n",
    "                                      output_dir, \n",
    "                                      crop_size=128, \n",
    "                                      overlap_rate=0.5, \n",
    "                                      buffer_size=50,\n",
    "                                      tile_number=0):\n",
    "    os.makedirs(output_dir, exist_ok=True)\n",
    "\n",
    "    gt_dir = os.path.join(output_dir, \"ground_truth\")\n",
    "    stream_dir = os.path.join(output_dir, \"dem\")\n",
    "    rgb_dir = os.path.join(output_dir, \"rgb_images\")\n",
    "    os.makedirs(gt_dir, exist_ok=True)\n",
    "    os.makedirs(stream_dir, exist_ok=True)\n",
    "    os.makedirs(rgb_dir, exist_ok=True)\n",
    "\n",
    "    with rasterio.open(ground_truth_path) as gt_src, rasterio.open(stream_order_path) as stream_src:\n",
    "        gt_data = gt_src.read(1)\n",
    "        if gt_data.min() < 0:\n",
    "            gt_data = -gt_data\n",
    "        positive_points = np.argwhere(gt_data > 0)\n",
    "        cropped_regions = []\n",
    "\n",
    "        for px, py in tqdm(positive_points):\n",
    "            for dx in range(-buffer_size, buffer_size + 1, crop_size):\n",
    "                for dy in range(-buffer_size, buffer_size + 1, crop_size):\n",
    "                    x, y = px + dx, py + dy\n",
    "                    if not (0 <= x < gt_src.width and 0 <= y < gt_src.height):\n",
    "                        continue\n",
    "\n",
    "                    for size in [crop_size, crop_size * 2]:\n",
    "                        window = crop_image(gt_src, x, y, size)\n",
    "                        overlap = any(\n",
    "                            np.sqrt((prev_x - window.col_off)**2 + (prev_y - window.row_off)**2) < overlap_rate * size\n",
    "                            for prev_x, prev_y in cropped_regions\n",
    "                        )\n",
    "                        if overlap:\n",
    "                            continue\n",
    "\n",
    "                        cropped_gt = gt_src.read(1, window=window)\n",
    "                        if np.any(cropped_gt > 0):\n",
    "                            continue\n",
    "\n",
    "                        cropped_regions.append((window.col_off, window.row_off))\n",
    "                        save_tile(gt_src, window, os.path.join(gt_dir, f'negative_ground_truth_tile_{size}_{tile_number}.tif'))\n",
    "                        save_tile(stream_src, window, os.path.join(stream_dir, f'dem_tile_{size}_{tile_number}.tif'))\n",
    "\n",
    "                        for i, rgb_path in enumerate(rgb_paths):\n",
    "                            with rasterio.open(rgb_path) as rgb_src:\n",
    "                                save_tile(rgb_src, window, os.path.join(rgb_dir, f'rgb_{i}_tile_{size}_{tile_number}.tif'))\n",
    "\n",
    "                        tile_number += 1\n",
    "\n",
    "    return tile_number\n"
   ]
  },
  {
   "cell_type": "code",
   "execution_count": 13,
   "id": "6de4b5ab",
   "metadata": {},
   "outputs": [
    {
     "name": "stdout",
     "output_type": "stream",
     "text": [
      "Starting with HUC:  HUC_071100080401-done\n"
     ]
    },
    {
     "name": "stderr",
     "output_type": "stream",
     "text": [
      "2136it [04:43,  7.52it/s]\n",
      "100%|████████████████████████████████████████████████████████████████████████████████████████████████████████| 2136/2136 [02:59<00:00, 11.89it/s]\n"
     ]
    },
    {
     "name": "stdout",
     "output_type": "stream",
     "text": [
      "Starting with HUC:  HUC_070801030408-done\n"
     ]
    },
    {
     "name": "stderr",
     "output_type": "stream",
     "text": [
      "3575it [06:57,  8.57it/s]\n",
      "100%|████████████████████████████████████████████████████████████████████████████████████████████████████████| 3575/3575 [03:36<00:00, 16.52it/s]\n"
     ]
    },
    {
     "name": "stdout",
     "output_type": "stream",
     "text": [
      "Starting with HUC:  HUC_071100060101-done\n"
     ]
    },
    {
     "name": "stderr",
     "output_type": "stream",
     "text": [
      "3422it [05:52,  9.72it/s]\n",
      "100%|████████████████████████████████████████████████████████████████████████████████████████████████████████| 3422/3422 [03:11<00:00, 17.86it/s]\n"
     ]
    },
    {
     "name": "stdout",
     "output_type": "stream",
     "text": [
      "Starting with HUC:  HUC_070802050807-done\n"
     ]
    },
    {
     "name": "stderr",
     "output_type": "stream",
     "text": [
      "6340it [11:13,  9.41it/s]\n",
      "100%|████████████████████████████████████████████████████████████████████████████████████████████████████████| 6340/6340 [04:28<00:00, 23.60it/s]\n"
     ]
    },
    {
     "name": "stdout",
     "output_type": "stream",
     "text": [
      "Starting with HUC:  HUC_070801050302-done\n"
     ]
    },
    {
     "name": "stderr",
     "output_type": "stream",
     "text": [
      "4591it [08:16,  9.25it/s]\n",
      "100%|████████████████████████████████████████████████████████████████████████████████████████████████████████| 4591/4591 [05:51<00:00, 13.05it/s]\n"
     ]
    }
   ],
   "source": [
    "# root_paths = ['/home/macula/SMATousi/Gullies/ground_truth/organized_data/MO_Downloaded_HUCs/',\n",
    "#               '/home/macula/SMATousi/Gullies/ground_truth/organized_data/OH_Downloaded_HUCs/']\n",
    "\n",
    "root_paths = ['/home/macula/SMATousi/Gullies/ground_truth/organized_data/MO+IA_downloaded_Test_HUCs/']\n",
    "\n",
    "pos_output_dir = '/home/macula/SMATousi/Gullies/ground_truth/organized_data/test_data_with_context/pos/'\n",
    "neg_output_dir = '/home/macula/SMATousi/Gullies/ground_truth/organized_data/test_data_with_context/neg/'\n",
    "\n",
    "starting_pos_tile_number = 0\n",
    "starting_neg_tile_number = 0\n",
    "\n",
    "last_neg_tile_number = 0\n",
    "last_pos_tile_number = 0\n",
    "\n",
    "for root_path in root_paths:\n",
    "\n",
    "    all_hucs = os.listdir(root_path)\n",
    "\n",
    "    for huc_name in all_hucs:\n",
    "\n",
    "        if huc_name.endswith(\"done\"):\n",
    "\n",
    "            print(\"Starting with HUC: \", huc_name)\n",
    "\n",
    "            huc_path = os.path.join(root_path, huc_name)\n",
    "            data_path = os.path.join(huc_path, \"data\")\n",
    "\n",
    "            GT_path = os.path.join(data_path, \"gt/rasterized_gt.tif\")\n",
    "\n",
    "            rgb_paths = [os.path.join(data_path,'merged/tile_10__merged.tif'), \n",
    "                         os.path.join(data_path,'merged/tile_12__merged.tif'), \n",
    "                         os.path.join(data_path,'merged/tile_14__merged.tif'), \n",
    "                         os.path.join(data_path,'merged/tile_16__merged.tif'),\n",
    "                         os.path.join(data_path,'merged/tile_18__merged.tif'), \n",
    "                         os.path.join(data_path,'merged/tile_20__merged.tif')]\n",
    "\n",
    "            dem_path = os.path.join(data_path,'merged/dem_tile__merged.tif')\n",
    "\n",
    "            starting_pos_tile_number = last_neg_tile_number\n",
    "#             starting_neg_tile_number = last_neg_tile_number\n",
    "\n",
    "#             try:\n",
    "\n",
    "            last_pos_tile_number = process_positive_files_with_overlap(GT_path, \n",
    "                                                               rgb_paths, \n",
    "                                                               dem_path, \n",
    "                                                               pos_output_dir, \n",
    "                                                               crop_size=128, \n",
    "                                                               overlap_rate=0.25,\n",
    "                                                               tile_number=starting_pos_tile_number)\n",
    "\n",
    "            last_neg_tile_number = process_files_with_negative_check(GT_path, \n",
    "                                                              rgb_paths, \n",
    "                                                              dem_path, \n",
    "                                                              neg_output_dir, \n",
    "                                                              crop_size=128, \n",
    "                                                              overlap_rate=0.25,  \n",
    "                                                              buffer_size=10,\n",
    "                                                              tile_number=last_pos_tile_number)\n",
    "#             except:\n",
    "#                 print(\"Error in HUC: \", huc_name)\n",
    "#                 continue\n",
    "\n",
    "    #     break"
   ]
  },
  {
   "cell_type": "code",
   "execution_count": 15,
   "id": "368a279c",
   "metadata": {},
   "outputs": [
    {
     "data": {
      "text/plain": [
       "628.0"
      ]
     },
     "execution_count": 15,
     "metadata": {},
     "output_type": "execute_result"
    }
   ],
   "source": [
    "7536/12"
   ]
  }
 ],
 "metadata": {
  "kernelspec": {
   "display_name": "Python 3 (ipykernel)",
   "language": "python",
   "name": "python3"
  },
  "language_info": {
   "codemirror_mode": {
    "name": "ipython",
    "version": 3
   },
   "file_extension": ".py",
   "mimetype": "text/x-python",
   "name": "python",
   "nbconvert_exporter": "python",
   "pygments_lexer": "ipython3",
   "version": "3.7.13"
  }
 },
 "nbformat": 4,
 "nbformat_minor": 5
}
