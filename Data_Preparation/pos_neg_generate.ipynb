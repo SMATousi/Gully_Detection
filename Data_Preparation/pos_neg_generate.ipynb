{
 "cells": [
  {
   "cell_type": "code",
   "execution_count": 1,
   "id": "2ce6ec19-55a0-4013-a1cd-e895886a1149",
   "metadata": {},
   "outputs": [],
   "source": [
    "import rasterio\n",
    "from rasterio.windows import Window\n",
    "import numpy as np\n",
    "import cv2\n",
    "import os\n",
    "from tqdm import tqdm"
   ]
  },
  {
   "cell_type": "code",
   "execution_count": 41,
   "id": "66b94dd3-9c61-4b92-817c-0ee877b32afc",
   "metadata": {},
   "outputs": [],
   "source": [
    "def crop_and_save(image, x, y, size, save_path, file_name, is_binary=False, binary_threshold = 0.5):\n",
    "    window = Window(x - size // 2, y - size // 2, size, size)\n",
    "    cropped_image = image.read(window=window)\n",
    "    if cropped_image.min() < 0:\n",
    "        cropped_image = -cropped_image\n",
    "\n",
    "    # Reshape and convert images\n",
    "    if cropped_image.ndim == 3 and not is_binary:\n",
    "        # For RGB or RGBA images\n",
    "        if cropped_image.shape[0] == 3:  # RGB\n",
    "            cropped_image = np.moveaxis(cropped_image, 0, -1)  # Rearrange bands to last dimension\n",
    "        elif cropped_image.shape[0] == 4:  # RGBA\n",
    "            # Convert RGBA to RGB by discarding the alpha channel\n",
    "            cropped_image = np.moveaxis(cropped_image, 0, -1)[..., :3]\n",
    "        else:\n",
    "            print(cropped_image.shape[0])\n",
    "            raise ValueError(\"Unexpected number of bands in image\")\n",
    "    else:\n",
    "        # For single-band images (binary or grayscale)\n",
    "        cropped_image = cropped_image.reshape(cropped_image.shape[1], cropped_image.shape[2])\n",
    "        if is_binary:\n",
    "            _, cropped_image = cv2.threshold(cropped_image, binary_threshold, 255, cv2.THRESH_BINARY)\n",
    "        else:\n",
    "            cropped_image = cv2.cvtColor(cropped_image, cv2.COLOR_GRAY2RGB)  # Convert grayscale to RGB\n",
    "\n",
    "    cv2.imwrite(os.path.join(save_path, file_name), cropped_image)\n",
    "\n"
   ]
  },
  {
   "cell_type": "code",
   "execution_count": 42,
   "id": "ba9c0e11-3468-4359-bdff-2c6d2e12dd06",
   "metadata": {},
   "outputs": [],
   "source": [
    "\n",
    "def process_files(ground_truth_path, rgb_paths, stream_order_path, output_dir, crop_size=128):\n",
    "    os.makedirs(output_dir, exist_ok=True)\n",
    "\n",
    "    # Create subdirectories for different types of images\n",
    "    gt_dir = os.path.join(output_dir, \"ground_truth\")\n",
    "    stream_dir = os.path.join(output_dir, \"stream_order\")\n",
    "    rgb_dir = os.path.join(output_dir, \"rgb_images\")\n",
    "    os.makedirs(gt_dir, exist_ok=True)\n",
    "    os.makedirs(stream_dir, exist_ok=True)\n",
    "    os.makedirs(rgb_dir, exist_ok=True)\n",
    "\n",
    "    with rasterio.open(ground_truth_path) as gt_src, rasterio.open(stream_order_path) as stream_src:\n",
    "        gt_data = gt_src.read(1)\n",
    "        y_indices, x_indices = np.where(gt_data > 0)\n",
    "\n",
    "        rgb_srcs = [rasterio.open(path) for path in rgb_paths]\n",
    "\n",
    "        for x, y in zip(x_indices, y_indices):\n",
    "            crop_and_save(stream_src, x, y, crop_size, stream_dir, f'KS1_stream_{x}_{y}.png', is_binary=True, binary_threshold=1)\n",
    "            crop_and_save(gt_src, x, y, crop_size, gt_dir, f'KS1_ground_truth_{x}_{y}.png', is_binary=True, binary_threshold=0.5)\n",
    "            for i, rgb_src in enumerate(rgb_srcs):\n",
    "                crop_and_save(rgb_src, x, y, crop_size, rgb_dir, f'KS1_rgb_{i}_{x}_{y}.png')\n",
    "\n",
    "    for src in rgb_srcs:\n",
    "        src.close()"
   ]
  },
  {
   "cell_type": "code",
   "execution_count": 38,
   "id": "391925b9-d540-4da0-81a5-428760a6e2b1",
   "metadata": {},
   "outputs": [],
   "source": [
    "output_dir = '../pos_test_1/'\n",
    "ground_truth_path = '../raw_data/HUC_102701030402/GT/Res_KS_GT.tif'\n",
    "rgb_paths = ['../raw_data/HUC_102701030402/RGB/Res_agg_11.tif', '../raw_data/HUC_102701030402/RGB/Res_agg_12.tif'\n",
    "             , '../raw_data/HUC_102701030402/RGB/Res_agg_13.tif', '../raw_data/HUC_102701030402/RGB/Res_agg_14.tif',\n",
    "            '../raw_data/HUC_102701030402/RGB/Res_agg_15.tif', '../raw_data/HUC_102701030402/RGB/Res_agg_16.tif']\n",
    "stream_order_path = '../raw_data/HUC_102701030402/SO/SO_KS_Strahler.tif'\n",
    "crop_path = '../raw_data/HUC_102701030402/CROP/R_aggregated_crop.tif'"
   ]
  },
  {
   "cell_type": "code",
   "execution_count": 10,
   "id": "9d7cd228-ab68-47e7-bd45-728b3c2de524",
   "metadata": {},
   "outputs": [],
   "source": [
    "process_files(ground_truth_path, rgb_paths, stream_order_path, output_dir, crop_size=128)"
   ]
  },
  {
   "cell_type": "code",
   "execution_count": 42,
   "id": "9cd2171b-4c12-4705-adf3-f18507151932",
   "metadata": {},
   "outputs": [],
   "source": [
    "with rasterio.open(crop_path) as gt_src:\n",
    "    gt_data = gt_src.read(1)\n",
    "\n"
   ]
  },
  {
   "cell_type": "code",
   "execution_count": 43,
   "id": "eb67350c-e67b-4fd7-9767-1a5efbe88b45",
   "metadata": {},
   "outputs": [
    {
     "data": {
      "text/plain": [
       "195.0"
      ]
     },
     "execution_count": 43,
     "metadata": {},
     "output_type": "execute_result"
    }
   ],
   "source": [
    "gt_data.max()"
   ]
  },
  {
   "cell_type": "code",
   "execution_count": 45,
   "id": "d9a98d05-e72e-4641-ab8b-5a135b3d13d1",
   "metadata": {},
   "outputs": [],
   "source": [
    "def save_tile(raster, window, output_path):\n",
    "    tile = raster.read(window=window)\n",
    "    transform = raster.window_transform(window)\n",
    "    with rasterio.open(\n",
    "        output_path,\n",
    "        'w',\n",
    "        driver='GTiff',\n",
    "        height=window.height,\n",
    "        width=window.width,\n",
    "        count=raster.count,\n",
    "        dtype=raster.dtypes[0],\n",
    "        crs=raster.crs,\n",
    "        transform=transform,\n",
    "    ) as dst:\n",
    "        dst.write(tile)\n",
    "\n",
    "def crop_image(src, x, y, crop_size):\n",
    "    window = rasterio.windows.Window(x - crop_size // 2, y - crop_size // 2, crop_size, crop_size)\n",
    "    return window\n",
    "\n",
    "def process_files_with_overlap(ground_truth_path, rgb_paths, stream_order_path, output_dir, crop_size=128, overlap_rate=0.5):\n",
    "    os.makedirs(output_dir, exist_ok=True)\n",
    "\n",
    "    gt_dir = os.path.join(output_dir, \"ground_truth\")\n",
    "    stream_dir = os.path.join(output_dir, \"stream_order\")\n",
    "    rgb_dir = os.path.join(output_dir, \"rgb_images\")\n",
    "    os.makedirs(gt_dir, exist_ok=True)\n",
    "    os.makedirs(stream_dir, exist_ok=True)\n",
    "    os.makedirs(rgb_dir, exist_ok=True)\n",
    "\n",
    "    with rasterio.open(ground_truth_path) as gt_src, rasterio.open(stream_order_path) as stream_src:\n",
    "        gt_data = gt_src.read(1)\n",
    "        if gt_data.min() < 0:\n",
    "            gt_data = -gt_data\n",
    "        y_indices, x_indices = np.where(gt_data > 0)\n",
    "\n",
    "        rgb_srcs = [rasterio.open(path) for path in rgb_paths]\n",
    "        cropped_regions = []  # List to keep track of cropped regions\n",
    "        tile_number = 0\n",
    "        \n",
    "        overlap_th = crop_size * overlap_rate\n",
    "        for x, y in tqdm(zip(x_indices, y_indices)):\n",
    "            # Check for overlap with existing cropped regions\n",
    "            overlap = False\n",
    "            for (prev_x, prev_y) in cropped_regions:\n",
    "                if abs(prev_x - x) < overlap_th and abs(prev_y - y) < overlap_th:\n",
    "                    overlap = True\n",
    "                    break\n",
    "\n",
    "            if overlap:\n",
    "                continue  # Skip cropping this region due to overlap\n",
    "\n",
    "            cropped_regions.append((x, y))\n",
    "            # Crop and save as usual\n",
    "            window = crop_image(stream_src, x, y, crop_size)\n",
    "            save_tile(stream_src, window, os.path.join(stream_dir, f'KS1_stream_tile_{tile_number}.tif'))\n",
    "            \n",
    "            window = crop_image(gt_src, x, y, crop_size)\n",
    "            save_tile(gt_src, window, os.path.join(gt_dir, f'KS1_ground_truth_tile_{tile_number}.tif'))\n",
    "\n",
    "            for i, rgb_src in enumerate(rgb_srcs):\n",
    "                window = crop_image(rgb_src, x, y, crop_size)\n",
    "                save_tile(rgb_src, window, os.path.join(rgb_dir, f'KS1_rgb_{i}_tile_{tile_number}.tif'))\n",
    "\n",
    "            tile_number += 1\n",
    "\n",
    "        for src in rgb_srcs:\n",
    "            src.close()"
   ]
  },
  {
   "cell_type": "code",
   "execution_count": null,
   "id": "e6b45b31-9419-4881-8d6c-c9d8995bcea9",
   "metadata": {},
   "outputs": [
    {
     "name": "stderr",
     "output_type": "stream",
     "text": [
      "2821it [02:24, 14.72it/s]"
     ]
    }
   ],
   "source": [
    "process_files_with_overlap(ground_truth_path, \n",
    "                           rgb_paths, \n",
    "                           stream_order_path, \n",
    "                           output_dir, \n",
    "                           crop_size=128, \n",
    "                           overlap_rate=0.25)"
   ]
  },
  {
   "cell_type": "markdown",
   "id": "3860aee8-b320-49f7-b5fb-b68183add470",
   "metadata": {},
   "source": [
    "# Negative images"
   ]
  },
  {
   "cell_type": "code",
   "execution_count": 35,
   "id": "28c3bb2d-1ceb-4c5f-b656-44f94d04cb4b",
   "metadata": {},
   "outputs": [],
   "source": [
    "\n",
    "def save_tile(raster, window, output_path):\n",
    "    tile = raster.read(window=window)\n",
    "    transform = raster.window_transform(window)\n",
    "    with rasterio.open(\n",
    "        output_path,\n",
    "        'w',\n",
    "        driver='GTiff',\n",
    "        height=window.height,\n",
    "        width=window.width,\n",
    "        count=raster.count,\n",
    "        dtype=raster.dtypes[0],\n",
    "        crs=raster.crs,\n",
    "        transform=transform,\n",
    "    ) as dst:\n",
    "        dst.write(tile)\n",
    "\n",
    "def crop_image(src, x, y, crop_size):\n",
    "    window = rasterio.windows.Window(x - crop_size // 2, y - crop_size // 2, crop_size, crop_size)\n",
    "    return window\n",
    "\n",
    "def process_files_with_negative_check(ground_truth_path, rgb_paths, stream_order_path, output_dir, crop_size=128, overlap_rate=0.5, buffer_size=50):\n",
    "    os.makedirs(output_dir, exist_ok=True)\n",
    "\n",
    "    gt_dir = os.path.join(output_dir, \"ground_truth\")\n",
    "    stream_dir = os.path.join(output_dir, \"stream_order\")\n",
    "    rgb_dir = os.path.join(output_dir, \"rgb_images\")\n",
    "    os.makedirs(gt_dir, exist_ok=True)\n",
    "    os.makedirs(stream_dir, exist_ok=True)\n",
    "    os.makedirs(rgb_dir, exist_ok=True)\n",
    "\n",
    "    with rasterio.open(ground_truth_path) as gt_src, rasterio.open(stream_order_path) as stream_src:\n",
    "        gt_data = gt_src.read(1)\n",
    "        gt_data = -gt_data\n",
    "        positive_points = np.argwhere(gt_data > 0)\n",
    "        cropped_regions = []\n",
    "        tile_number = 0  # Initialize tile number counter\n",
    "\n",
    "        for px, py in tqdm(positive_points):\n",
    "            for dx in range(-buffer_size, buffer_size + 1, crop_size):\n",
    "                for dy in range(-buffer_size, buffer_size + 1, crop_size):\n",
    "                    x, y = px + dx, py + dy\n",
    "                    if not (0 <= x < gt_src.width and 0 <= y < gt_src.height):\n",
    "                        continue  # Ensure within bounds\n",
    "\n",
    "                    window = crop_image(gt_src, x, y, crop_size)\n",
    "                    if any(np.sqrt((prev_x - window.col_off)**2 + (prev_y - window.row_off)**2) < overlap_rate * crop_size for prev_x, prev_y in cropped_regions):\n",
    "                        continue  # Check for overlap\n",
    "\n",
    "                    cropped_gt = gt_src.read(1, window=window)\n",
    "                    if np.any(cropped_gt > 0):\n",
    "                        continue  # Ensure no ground truth lines are included\n",
    "\n",
    "                    cropped_regions.append((window.col_off, window.row_off))\n",
    "                    save_tile(gt_src, window, os.path.join(gt_dir, f'negative_ground_truth_tile_{tile_number}.tif'))\n",
    "                    save_tile(stream_src, window, os.path.join(stream_dir, f'stream_tile_{tile_number}.tif'))\n",
    "\n",
    "                    for rgb_path in rgb_paths:\n",
    "                        with rasterio.open(rgb_path) as rgb_src:\n",
    "                            save_tile(rgb_src, window, os.path.join(rgb_dir, f'rgb_{os.path.basename(rgb_path).split(\".\")[0]}_tile_{tile_number}.tif'))\n",
    "\n",
    "                    tile_number += 1  # Increment tile number after each successful save\n",
    "\n",
    "        print(f\"Total regions saved: {len(cropped_regions)}\")"
   ]
  },
  {
   "cell_type": "code",
   "execution_count": 36,
   "id": "c298439d-1c03-4c31-9efd-d6f02cc1d42f",
   "metadata": {},
   "outputs": [
    {
     "name": "stderr",
     "output_type": "stream",
     "text": [
      "100%|███████████████████████████████████████████████████████| 3119/3119 [01:36<00:00, 32.18it/s]"
     ]
    },
    {
     "name": "stdout",
     "output_type": "stream",
     "text": [
      "Total regions saved: 61\n"
     ]
    },
    {
     "name": "stderr",
     "output_type": "stream",
     "text": [
      "\n"
     ]
    }
   ],
   "source": [
    "process_files_with_negative_check(ground_truth_path, \n",
    "                                  rgb_paths, \n",
    "                                  stream_order_path, \n",
    "                                  output_dir, \n",
    "                                  crop_size=128, \n",
    "                                  overlap_rate=0.5,  \n",
    "                                  buffer_size=10)\n",
    "\n",
    "\n"
   ]
  },
  {
   "cell_type": "code",
   "execution_count": 9,
   "id": "6c2f3cc2-9c8c-4572-8a21-c81d277e2b6c",
   "metadata": {},
   "outputs": [],
   "source": [
    "with rasterio.open(ground_truth_path) as gt_src:\n",
    "    gt_data = gt_src.read(1)"
   ]
  },
  {
   "cell_type": "code",
   "execution_count": 18,
   "id": "c848f8f4",
   "metadata": {},
   "outputs": [],
   "source": [
    "gt_data = -gt_data"
   ]
  },
  {
   "cell_type": "code",
   "execution_count": 24,
   "id": "f11c5709",
   "metadata": {},
   "outputs": [
    {
     "data": {
      "text/plain": [
       "(3119, 2)"
      ]
     },
     "execution_count": 24,
     "metadata": {},
     "output_type": "execute_result"
    }
   ],
   "source": [
    "a = np.argwhere(gt_data>0)\n",
    "a.shape"
   ]
  },
  {
   "cell_type": "code",
   "execution_count": null,
   "id": "9d49521d",
   "metadata": {},
   "outputs": [],
   "source": []
  }
 ],
 "metadata": {
  "kernelspec": {
   "display_name": "Python 3 (ipykernel)",
   "language": "python",
   "name": "python3"
  },
  "language_info": {
   "codemirror_mode": {
    "name": "ipython",
    "version": 3
   },
   "file_extension": ".py",
   "mimetype": "text/x-python",
   "name": "python",
   "nbconvert_exporter": "python",
   "pygments_lexer": "ipython3",
   "version": "3.7.13"
  }
 },
 "nbformat": 4,
 "nbformat_minor": 5
}
