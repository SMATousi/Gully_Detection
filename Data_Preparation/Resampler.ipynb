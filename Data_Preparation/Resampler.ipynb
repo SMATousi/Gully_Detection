{
 "cells": [
  {
   "cell_type": "code",
   "execution_count": 1,
   "id": "dc2291c2",
   "metadata": {},
   "outputs": [],
   "source": [
    "import rasterio\n",
    "from rasterio.enums import Resampling\n",
    "import numpy as np\n",
    "import os\n"
   ]
  },
  {
   "cell_type": "code",
   "execution_count": 6,
   "id": "0c5da888",
   "metadata": {},
   "outputs": [],
   "source": [
    "\n",
    "def downsample_to_common_resolution(file_paths, output_dir):\n",
    "    resolutions = []\n",
    "    os.makedirs(output_dir, exist_ok=True)\n",
    "\n",
    "    # Read resolutions of all the tif files\n",
    "    for file_path in file_paths:\n",
    "        with rasterio.open(file_path) as src:\n",
    "            resolutions.append(src.res)\n",
    "\n",
    "    # Find the common resolution (the largest resolution in each dimension)\n",
    "    max_resolution = (max(res[0] for res in resolutions), max(res[1] for res in resolutions))\n",
    "\n",
    "    # Process each tif file\n",
    "    for file_path in file_paths:\n",
    "        with rasterio.open(file_path) as src:\n",
    "            if src.res != max_resolution:\n",
    "                scale_x = src.res[0] / max_resolution[0]\n",
    "                scale_y = src.res[1] / max_resolution[1]\n",
    "\n",
    "                # Calculate the new dimensions\n",
    "                new_width = int(src.width * scale_x)\n",
    "                new_height = int(src.height * scale_y)\n",
    "\n",
    "                # Read the data and resample\n",
    "                data = src.read(\n",
    "                    out_shape=(src.count, new_height, new_width),\n",
    "                    resampling=Resampling.bilinear\n",
    "                )\n",
    "\n",
    "                # Update the metadata\n",
    "                transform = src.transform * src.transform.scale(\n",
    "                    (src.width / data.shape[-1]),\n",
    "                    (src.height / data.shape[-2])\n",
    "                )\n",
    "\n",
    "                out_meta = src.meta.copy()\n",
    "                out_meta.update({\n",
    "                    \"height\": new_height,\n",
    "                    \"width\": new_width,\n",
    "                    \"transform\": transform\n",
    "                })\n",
    "            else:\n",
    "                # If the resolution matches, no downsampling needed, use original data\n",
    "                data = src.read()\n",
    "                out_meta = src.meta.copy()\n",
    "\n",
    "            # Write the data to a new file in the output directory\n",
    "            output_path = os.path.join(output_dir, os.path.basename(file_path))\n",
    "            with rasterio.open(output_path, \"w\", **out_meta) as dest:\n",
    "                dest.write(data)\n"
   ]
  },
  {
   "cell_type": "code",
   "execution_count": 5,
   "id": "fadf0aff",
   "metadata": {},
   "outputs": [],
   "source": [
    "ground_truth_path = '../../gully_detection/raw_data/HUC_071100060307/GT/GT.tif'\n",
    "\n",
    "stream_order_path = '../../gully_detection/raw_data/HUC_071100060307/merged/dem_tile__merged.tif'\n",
    "\n",
    "input_files = [ground_truth_path,\n",
    "               stream_order_path,\n",
    "               '../../gully_detection/raw_data/HUC_071100060307/merged_tiffs/tile_10__merged.tif', \n",
    "                 '../../gully_detection/raw_data/HUC_071100060307/merged_tiffs/tile_12__merged.tif', \n",
    "                 '../../gully_detection/raw_data/HUC_071100060307/merged_tiffs/tile_14__merged.tif', \n",
    "                 '../../gully_detection/raw_data/HUC_071100060307/merged_tiffs/tile_16__merged.tif',\n",
    "                 '../../gully_detection/raw_data/HUC_071100060307/merged_tiffs/tile_18__merged.tif', \n",
    "                 '../../gully_detection/raw_data/HUC_071100060307/merged_tiffs/tile_20__merged.tif']\n",
    "\n",
    "output_dir = '../../gully_detection/res_test_1/'\n",
    "# Directory to save the downsampled tif files\n",
    "# output_directory = \"path/to/output/directory\"\n",
    "\n",
    "downsample_to_common_resolution(input_files, output_dir)\n"
   ]
  },
  {
   "cell_type": "code",
   "execution_count": null,
   "id": "6df93063",
   "metadata": {},
   "outputs": [],
   "source": []
  }
 ],
 "metadata": {
  "kernelspec": {
   "display_name": "Python 3 (ipykernel)",
   "language": "python",
   "name": "python3"
  },
  "language_info": {
   "codemirror_mode": {
    "name": "ipython",
    "version": 3
   },
   "file_extension": ".py",
   "mimetype": "text/x-python",
   "name": "python",
   "nbconvert_exporter": "python",
   "pygments_lexer": "ipython3",
   "version": "3.7.13"
  }
 },
 "nbformat": 4,
 "nbformat_minor": 5
}
