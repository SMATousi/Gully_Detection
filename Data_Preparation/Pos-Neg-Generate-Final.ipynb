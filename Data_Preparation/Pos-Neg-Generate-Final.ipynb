{
 "cells": [
  {
   "cell_type": "code",
   "execution_count": 1,
   "id": "02699801",
   "metadata": {},
   "outputs": [],
   "source": [
    "import rasterio\n",
    "from rasterio.windows import Window\n",
    "import numpy as np\n",
    "import cv2\n",
    "import os\n",
    "from tqdm import tqdm"
   ]
  },
  {
   "cell_type": "code",
   "execution_count": 2,
   "id": "af43a38a",
   "metadata": {},
   "outputs": [],
   "source": [
    "def crop_and_save(image, x, y, size, save_path, file_name, is_binary=False, binary_threshold = 0.5):\n",
    "    window = Window(x - size // 2, y - size // 2, size, size)\n",
    "    cropped_image = image.read(window=window)\n",
    "    if cropped_image.min() < 0:\n",
    "        cropped_image = -cropped_image\n",
    "\n",
    "    # Reshape and convert images\n",
    "    if cropped_image.ndim == 3 and not is_binary:\n",
    "        # For RGB or RGBA images\n",
    "        if cropped_image.shape[0] == 3:  # RGB\n",
    "            cropped_image = np.moveaxis(cropped_image, 0, -1)  # Rearrange bands to last dimension\n",
    "        elif cropped_image.shape[0] == 4:  # RGBA\n",
    "            # Convert RGBA to RGB by discarding the alpha channel\n",
    "            cropped_image = np.moveaxis(cropped_image, 0, -1)[..., :3]\n",
    "        else:\n",
    "            print(cropped_image.shape[0])\n",
    "            raise ValueError(\"Unexpected number of bands in image\")\n",
    "    else:\n",
    "        # For single-band images (binary or grayscale)\n",
    "        cropped_image = cropped_image.reshape(cropped_image.shape[1], cropped_image.shape[2])\n",
    "        if is_binary:\n",
    "            _, cropped_image = cv2.threshold(cropped_image, binary_threshold, 255, cv2.THRESH_BINARY)\n",
    "        else:\n",
    "            cropped_image = cv2.cvtColor(cropped_image, cv2.COLOR_GRAY2RGB)  # Convert grayscale to RGB\n",
    "\n",
    "    cv2.imwrite(os.path.join(save_path, file_name), cropped_image)\n",
    "\n"
   ]
  },
  {
   "cell_type": "code",
   "execution_count": 3,
   "id": "cfbfe05c",
   "metadata": {},
   "outputs": [],
   "source": [
    "\n",
    "def process_files(ground_truth_path, rgb_paths, stream_order_path, output_dir, crop_size=128):\n",
    "    os.makedirs(output_dir, exist_ok=True)\n",
    "\n",
    "    # Create subdirectories for different types of images\n",
    "    gt_dir = os.path.join(output_dir, \"ground_truth\")\n",
    "    stream_dir = os.path.join(output_dir, \"stream_order\")\n",
    "    rgb_dir = os.path.join(output_dir, \"rgb_images\")\n",
    "    os.makedirs(gt_dir, exist_ok=True)\n",
    "    os.makedirs(stream_dir, exist_ok=True)\n",
    "    os.makedirs(rgb_dir, exist_ok=True)\n",
    "\n",
    "    with rasterio.open(ground_truth_path) as gt_src, rasterio.open(stream_order_path) as stream_src:\n",
    "        gt_data = gt_src.read(1)\n",
    "        y_indices, x_indices = np.where(gt_data > 0)\n",
    "\n",
    "        rgb_srcs = [rasterio.open(path) for path in rgb_paths]\n",
    "\n",
    "        for x, y in zip(x_indices, y_indices):\n",
    "            crop_and_save(stream_src, x, y, crop_size, stream_dir, f'KS1_stream_{x}_{y}.png', is_binary=True, binary_threshold=1)\n",
    "            crop_and_save(gt_src, x, y, crop_size, gt_dir, f'KS1_ground_truth_{x}_{y}.png', is_binary=True, binary_threshold=0.5)\n",
    "            for i, rgb_src in enumerate(rgb_srcs):\n",
    "                crop_and_save(rgb_src, x, y, crop_size, rgb_dir, f'KS1_rgb_{i}_{x}_{y}.png')\n",
    "\n",
    "    for src in rgb_srcs:\n",
    "        src.close()"
   ]
  },
  {
   "cell_type": "code",
   "execution_count": 21,
   "id": "20ae18d4",
   "metadata": {},
   "outputs": [],
   "source": [
    "def save_tile(raster, window, output_path):\n",
    "    tile = raster.read(window=window)\n",
    "    transform = raster.window_transform(window)\n",
    "    with rasterio.open(\n",
    "        output_path,\n",
    "        'w',\n",
    "        driver='GTiff',\n",
    "        height=window.height,\n",
    "        width=window.width,\n",
    "        count=raster.count,\n",
    "        dtype=raster.dtypes[0],\n",
    "        crs=raster.crs,\n",
    "        transform=transform,\n",
    "    ) as dst:\n",
    "        dst.write(tile)\n",
    "\n",
    "def crop_image(src, x, y, crop_size):\n",
    "    window = rasterio.windows.Window(x - crop_size // 2, y - crop_size // 2, crop_size, crop_size)\n",
    "    return window\n",
    "\n",
    "def process_psoitive_files_with_overlap(ground_truth_path, \n",
    "                               rgb_paths, \n",
    "                               stream_order_path, \n",
    "                               output_dir, \n",
    "                               crop_size=128, \n",
    "                               overlap_rate=0.5,\n",
    "                               tile_number = 0):\n",
    "    \n",
    "    os.makedirs(output_dir, exist_ok=True)\n",
    "\n",
    "    gt_dir = os.path.join(output_dir, \"ground_truth\")\n",
    "    stream_dir = os.path.join(output_dir, \"dem\")\n",
    "    rgb_dir = os.path.join(output_dir, \"rgb_images\")\n",
    "    os.makedirs(gt_dir, exist_ok=True)\n",
    "    os.makedirs(stream_dir, exist_ok=True)\n",
    "    os.makedirs(rgb_dir, exist_ok=True)\n",
    "\n",
    "    with rasterio.open(ground_truth_path) as gt_src, rasterio.open(stream_order_path) as stream_src:\n",
    "        gt_data = gt_src.read(1)\n",
    "        if gt_data.min() < 0:\n",
    "            gt_data = -gt_data\n",
    "        y_indices, x_indices = np.where(gt_data > 0)\n",
    "\n",
    "        rgb_srcs = [rasterio.open(path) for path in rgb_paths]\n",
    "        cropped_regions = []  # List to keep track of cropped regions\n",
    "         # Initialize with the tile number\n",
    "        \n",
    "        overlap_th = crop_size * overlap_rate\n",
    "        all_indices = zip(x_indices, y_indices)\n",
    "        \n",
    "        for x, y in tqdm(all_indices):\n",
    "            # Check for overlap with existing cropped regions\n",
    "            overlap = False\n",
    "            for (prev_x, prev_y) in cropped_regions:\n",
    "                if abs(prev_x - x) < overlap_th and abs(prev_y - y) < overlap_th:\n",
    "                    overlap = True\n",
    "                    break\n",
    "\n",
    "            if overlap:\n",
    "                continue  # Skip cropping this region due to overlap\n",
    "\n",
    "            cropped_regions.append((x, y))\n",
    "            # Crop and save as usual\n",
    "            window = crop_image(stream_src, x, y, crop_size)\n",
    "            save_tile(stream_src, window, os.path.join(stream_dir, f'dem_tile_{tile_number}.tif'))\n",
    "            \n",
    "            window = crop_image(gt_src, x, y, crop_size)\n",
    "            save_tile(gt_src, window, os.path.join(gt_dir, f'ground_truth_tile_{tile_number}.tif'))\n",
    "\n",
    "            for i, rgb_src in enumerate(rgb_srcs):\n",
    "                window = crop_image(rgb_src, x, y, crop_size)\n",
    "                save_tile(rgb_src, window, os.path.join(rgb_dir, f'rgb_{i}_tile_{tile_number}.tif'))\n",
    "\n",
    "            tile_number += 1\n",
    "\n",
    "        for src in rgb_srcs:\n",
    "            src.close()\n",
    "    \n",
    "    return tile_number\n",
    "\n",
    "def process_files_with_negative_check(ground_truth_path, \n",
    "                                      rgb_paths, \n",
    "                                      stream_order_path, \n",
    "                                      output_dir, \n",
    "                                      crop_size=128, \n",
    "                                      overlap_rate=0.5, \n",
    "                                      buffer_size=50,\n",
    "                                      tile_number = 0):\n",
    "    os.makedirs(output_dir, exist_ok=True)\n",
    "\n",
    "    gt_dir = os.path.join(output_dir, \"ground_truth\")\n",
    "    stream_dir = os.path.join(output_dir, \"dem\")\n",
    "    rgb_dir = os.path.join(output_dir, \"rgb_images\")\n",
    "    os.makedirs(gt_dir, exist_ok=True)\n",
    "    os.makedirs(stream_dir, exist_ok=True)\n",
    "    os.makedirs(rgb_dir, exist_ok=True)\n",
    "\n",
    "    with rasterio.open(ground_truth_path) as gt_src, rasterio.open(stream_order_path) as stream_src:\n",
    "        gt_data = gt_src.read(1)\n",
    "        if gt_data.min() < 0:\n",
    "            gt_data = -gt_data\n",
    "        positive_points = np.argwhere(gt_data > 0)\n",
    "        cropped_regions = []\n",
    "          # Initialize tile number counter\n",
    "\n",
    "        for px, py in tqdm(positive_points):\n",
    "            for dx in range(-buffer_size, buffer_size + 1, crop_size):\n",
    "                for dy in range(-buffer_size, buffer_size + 1, crop_size):\n",
    "                    x, y = px + dx, py + dy\n",
    "                    if not (0 <= x < gt_src.width and 0 <= y < gt_src.height):\n",
    "                        continue  # Ensure within bounds\n",
    "\n",
    "                    window = crop_image(gt_src, x, y, crop_size)\n",
    "                    if any(np.sqrt((prev_x - window.col_off)**2 + (prev_y - window.row_off)**2) < overlap_rate * crop_size for prev_x, prev_y in cropped_regions):\n",
    "                        continue  # Check for overlap\n",
    "\n",
    "                    cropped_gt = gt_src.read(1, window=window)\n",
    "                    if np.any(cropped_gt > 0):\n",
    "                        continue  # Ensure no ground truth lines are included\n",
    "\n",
    "                    cropped_regions.append((window.col_off, window.row_off))\n",
    "                    save_tile(gt_src, window, os.path.join(gt_dir, f'negative_ground_truth_tile_{tile_number}.tif'))\n",
    "                    save_tile(stream_src, window, os.path.join(stream_dir, f'dem_tile_{tile_number}.tif'))\n",
    "\n",
    "                    for i, rgb_path in enumerate(rgb_paths):\n",
    "                        with rasterio.open(rgb_path) as rgb_src:\n",
    "                            save_tile(rgb_src, window, os.path.join(rgb_dir, f'rgb_{i}_tile_{tile_number}.tif'))\n",
    "\n",
    "                    tile_number += 1  # Increment tile number after each successful save\n",
    "\n",
    "        print(f\"Total regions saved: {len(cropped_regions)}\")\n",
    "    \n",
    "    return tile_number"
   ]
  },
  {
   "cell_type": "code",
   "execution_count": 22,
   "id": "9e49782d",
   "metadata": {},
   "outputs": [
    {
     "name": "stdout",
     "output_type": "stream",
     "text": [
      "Starting with HUC:  HUC_110300170302-done\n"
     ]
    },
    {
     "name": "stderr",
     "output_type": "stream",
     "text": [
      "11479it [06:15, 30.59it/s]\n",
      "100%|██████████████████████████████████████████████████████████████████████████████████████████████████████| 11479/11479 [05:38<00:00, 33.87it/s]\n"
     ]
    },
    {
     "name": "stdout",
     "output_type": "stream",
     "text": [
      "Total regions saved: 241\n",
      "Starting with HUC:  HUC_102300031003-done\n"
     ]
    },
    {
     "name": "stderr",
     "output_type": "stream",
     "text": [
      "8402it [06:30, 21.54it/s]\n",
      "100%|████████████████████████████████████████████████████████████████████████████████████████████████████████| 8402/8402 [06:40<00:00, 21.00it/s]\n"
     ]
    },
    {
     "name": "stdout",
     "output_type": "stream",
     "text": [
      "Total regions saved: 279\n",
      "Starting with HUC:  HUC_102702060102-done\n"
     ]
    },
    {
     "name": "stderr",
     "output_type": "stream",
     "text": [
      "9067it [06:15, 24.12it/s]\n",
      "100%|████████████████████████████████████████████████████████████████████████████████████████████████████████| 9067/9067 [07:12<00:00, 20.95it/s]\n"
     ]
    },
    {
     "name": "stdout",
     "output_type": "stream",
     "text": [
      "Total regions saved: 272\n",
      "Starting with HUC:  HUC_070801030408-done\n"
     ]
    },
    {
     "name": "stderr",
     "output_type": "stream",
     "text": [
      "3575it [02:40, 22.25it/s]\n",
      "100%|████████████████████████████████████████████████████████████████████████████████████████████████████████| 3575/3575 [02:13<00:00, 26.80it/s]\n"
     ]
    },
    {
     "name": "stdout",
     "output_type": "stream",
     "text": [
      "Total regions saved: 102\n",
      "Starting with HUC:  HUC_110702020102-done\n"
     ]
    },
    {
     "name": "stderr",
     "output_type": "stream",
     "text": [
      "4478it [02:45, 27.13it/s]\n",
      "100%|████████████████████████████████████████████████████████████████████████████████████████████████████████| 4478/4478 [01:35<00:00, 46.92it/s]\n"
     ]
    },
    {
     "name": "stdout",
     "output_type": "stream",
     "text": [
      "Total regions saved: 72\n",
      "Starting with HUC:  HUC_102002030803-done\n"
     ]
    },
    {
     "name": "stderr",
     "output_type": "stream",
     "text": [
      "6497it [04:33, 23.80it/s]\n",
      "100%|████████████████████████████████████████████████████████████████████████████████████████████████████████| 6497/6497 [05:54<00:00, 18.34it/s]\n"
     ]
    },
    {
     "name": "stdout",
     "output_type": "stream",
     "text": [
      "Total regions saved: 203\n",
      "Starting with HUC:  HUC_102600080205-done\n"
     ]
    },
    {
     "name": "stderr",
     "output_type": "stream",
     "text": [
      "7606it [04:54, 25.85it/s]\n",
      "100%|████████████████████████████████████████████████████████████████████████████████████████████████████████| 7606/7606 [03:28<00:00, 36.55it/s]\n"
     ]
    },
    {
     "name": "stdout",
     "output_type": "stream",
     "text": [
      "Total regions saved: 141\n",
      "Starting with HUC:  HUC_110300090303-done\n"
     ]
    },
    {
     "name": "stderr",
     "output_type": "stream",
     "text": [
      "9907it [06:35, 25.03it/s]\n",
      "100%|████████████████████████████████████████████████████████████████████████████████████████████████████████| 9907/9907 [02:01<00:00, 81.80it/s]\n"
     ]
    },
    {
     "name": "stdout",
     "output_type": "stream",
     "text": [
      "Total regions saved: 84\n",
      "Starting with HUC:  HUC_110300090307-done\n"
     ]
    },
    {
     "name": "stderr",
     "output_type": "stream",
     "text": [
      "9305it [06:31, 23.79it/s]\n",
      "100%|████████████████████████████████████████████████████████████████████████████████████████████████████████| 9305/9305 [05:06<00:00, 30.32it/s]\n"
     ]
    },
    {
     "name": "stdout",
     "output_type": "stream",
     "text": [
      "Total regions saved: 239\n",
      "Starting with HUC:  HUC_102300030509-done\n"
     ]
    },
    {
     "name": "stderr",
     "output_type": "stream",
     "text": [
      "8081it [05:32, 24.32it/s]\n",
      "100%|████████████████████████████████████████████████████████████████████████████████████████████████████████| 8081/8081 [06:07<00:00, 21.97it/s]\n"
     ]
    },
    {
     "name": "stdout",
     "output_type": "stream",
     "text": [
      "Total regions saved: 271\n",
      "Starting with HUC:  HUC_071000040910-done\n"
     ]
    },
    {
     "name": "stderr",
     "output_type": "stream",
     "text": [
      "7764it [05:08, 25.14it/s]\n",
      "100%|████████████████████████████████████████████████████████████████████████████████████████████████████████| 7764/7764 [05:47<00:00, 22.35it/s]\n"
     ]
    },
    {
     "name": "stdout",
     "output_type": "stream",
     "text": [
      "Total regions saved: 246\n",
      "Starting with HUC:  HUC_070802050807-done\n"
     ]
    },
    {
     "name": "stderr",
     "output_type": "stream",
     "text": [
      "6340it [04:49, 21.94it/s]\n",
      "100%|████████████████████████████████████████████████████████████████████████████████████████████████████████| 6340/6340 [02:53<00:00, 36.46it/s]\n"
     ]
    },
    {
     "name": "stdout",
     "output_type": "stream",
     "text": [
      "Total regions saved: 118\n",
      "Starting with HUC:  HUC_102100070602-done\n"
     ]
    },
    {
     "name": "stderr",
     "output_type": "stream",
     "text": [
      "18865it [11:43, 26.80it/s]\n",
      "100%|██████████████████████████████████████████████████████████████████████████████████████████████████████| 18865/18865 [13:01<00:00, 24.15it/s]\n"
     ]
    },
    {
     "name": "stdout",
     "output_type": "stream",
     "text": [
      "Total regions saved: 579\n",
      "Starting with HUC:  HUC_102702050101-done\n"
     ]
    },
    {
     "name": "stderr",
     "output_type": "stream",
     "text": [
      "3760it [02:40, 23.36it/s]\n",
      "100%|████████████████████████████████████████████████████████████████████████████████████████████████████████| 3760/3760 [02:02<00:00, 30.57it/s]\n"
     ]
    },
    {
     "name": "stdout",
     "output_type": "stream",
     "text": [
      "Total regions saved: 84\n",
      "Starting with HUC:  HUC_102600100407-done\n"
     ]
    },
    {
     "name": "stderr",
     "output_type": "stream",
     "text": [
      "6629it [04:02, 27.30it/s]\n",
      "100%|████████████████████████████████████████████████████████████████████████████████████████████████████████| 6629/6629 [04:02<00:00, 27.30it/s]\n"
     ]
    },
    {
     "name": "stdout",
     "output_type": "stream",
     "text": [
      "Total regions saved: 173\n",
      "Starting with HUC:  HUC_070801050302-done\n"
     ]
    },
    {
     "name": "stderr",
     "output_type": "stream",
     "text": [
      "4591it [03:23, 22.51it/s]\n",
      "100%|████████████████████████████████████████████████████████████████████████████████████████████████████████| 4591/4591 [03:30<00:00, 21.78it/s]\n"
     ]
    },
    {
     "name": "stdout",
     "output_type": "stream",
     "text": [
      "Total regions saved: 153\n",
      "Starting with HUC:  HUC_102200011306-done\n"
     ]
    },
    {
     "name": "stderr",
     "output_type": "stream",
     "text": [
      "14721it [08:59, 27.27it/s]\n",
      "100%|██████████████████████████████████████████████████████████████████████████████████████████████████████| 14721/14721 [07:34<00:00, 32.41it/s]\n"
     ]
    },
    {
     "name": "stdout",
     "output_type": "stream",
     "text": [
      "Total regions saved: 321\n",
      "Starting with HUC:  HUC_102901010502-done\n"
     ]
    },
    {
     "name": "stderr",
     "output_type": "stream",
     "text": [
      "7447it [04:46, 25.98it/s]\n",
      "100%|████████████████████████████████████████████████████████████████████████████████████████████████████████| 7447/7447 [05:06<00:00, 24.31it/s]\n"
     ]
    },
    {
     "name": "stdout",
     "output_type": "stream",
     "text": [
      "Total regions saved: 219\n",
      "Starting with HUC:  HUC_102702070207-done\n"
     ]
    },
    {
     "name": "stderr",
     "output_type": "stream",
     "text": [
      "2318it [01:33, 24.70it/s]\n",
      "100%|████████████████████████████████████████████████████████████████████████████████████████████████████████| 2318/2318 [01:46<00:00, 21.85it/s]\n"
     ]
    },
    {
     "name": "stdout",
     "output_type": "stream",
     "text": [
      "Total regions saved: 73\n",
      "Starting with HUC:  HUC_071100060307-done\n"
     ]
    },
    {
     "name": "stderr",
     "output_type": "stream",
     "text": [
      "6534it [03:41, 29.51it/s]\n",
      "100%|████████████████████████████████████████████████████████████████████████████████████████████████████████| 6534/6534 [03:09<00:00, 34.51it/s]"
     ]
    },
    {
     "name": "stdout",
     "output_type": "stream",
     "text": [
      "Total regions saved: 131\n"
     ]
    },
    {
     "name": "stderr",
     "output_type": "stream",
     "text": [
      "\n"
     ]
    }
   ],
   "source": [
    "root_path = '/home/macula/SMATousi/Gullies/ground_truth/organized_data/HUCs/'\n",
    "\n",
    "pos_output_dir = '/home/macula/SMATousi/Gullies/ground_truth/organized_data/All_Pos_Neg/all_pos'\n",
    "neg_output_dir = '/home/macula/SMATousi/Gullies/ground_truth/organized_data/All_Pos_Neg/all_neg'\n",
    "\n",
    "starting_pos_tile_number = 0\n",
    "starting_neg_tile_number = 0\n",
    "\n",
    "last_neg_tile_number = 0\n",
    "last_pos_tile_number = 0\n",
    "\n",
    "all_hucs = os.listdir(root_path)\n",
    "\n",
    "for huc_name in all_hucs:\n",
    "    \n",
    "    if huc_name.endswith(\"done\"):\n",
    "        \n",
    "        print(\"Starting with HUC: \", huc_name)\n",
    "        \n",
    "        huc_path = os.path.join(root_path, huc_name)\n",
    "        data_path = os.path.join(huc_path, \"data\")\n",
    "        \n",
    "        GT_path = os.path.join(data_path, \"gt/rasterized_gt.tif\")\n",
    "        \n",
    "        rgb_paths = [os.path.join(data_path,'merged/tile_10__merged.tif'), \n",
    "                     os.path.join(data_path,'merged/tile_12__merged.tif'), \n",
    "                     os.path.join(data_path,'merged/tile_14__merged.tif'), \n",
    "                     os.path.join(data_path,'merged/tile_16__merged.tif'),\n",
    "                     os.path.join(data_path,'merged/tile_18__merged.tif'), \n",
    "                     os.path.join(data_path,'merged/tile_20__merged.tif')]\n",
    "        \n",
    "        dem_path = os.path.join(data_path,'merged/dem_tile__merged.tif')\n",
    "        \n",
    "        starting_pos_tile_number = last_pos_tile_number\n",
    "        starting_neg_tile_number = last_neg_tile_number\n",
    "        \n",
    "        try:\n",
    "        \n",
    "            last_pos_tile_number = process_psoitive_files_with_overlap(GT_path, \n",
    "                                                               rgb_paths, \n",
    "                                                               dem_path, \n",
    "                                                               pos_output_dir, \n",
    "                                                               crop_size=128, \n",
    "                                                               overlap_rate=0.25,\n",
    "                                                               tile_number=starting_pos_tile_number)\n",
    "\n",
    "            last_neg_tile_number = process_files_with_negative_check(GT_path, \n",
    "                                                              rgb_paths, \n",
    "                                                              dem_path, \n",
    "                                                              neg_output_dir, \n",
    "                                                              crop_size=128, \n",
    "                                                              overlap_rate=0.25,  \n",
    "                                                              buffer_size=10,\n",
    "                                                              tile_number=starting_neg_tile_number)\n",
    "        except:\n",
    "            print(\"Error in HUC: \", huc_name)\n",
    "            continue\n",
    "        \n",
    "#     break"
   ]
  },
  {
   "cell_type": "code",
   "execution_count": 19,
   "id": "62b4fcf9",
   "metadata": {},
   "outputs": [
    {
     "data": {
      "text/plain": [
       "241"
      ]
     },
     "execution_count": 19,
     "metadata": {},
     "output_type": "execute_result"
    }
   ],
   "source": [
    "last_neg_tile_number"
   ]
  },
  {
   "cell_type": "code",
   "execution_count": null,
   "id": "52889a0d",
   "metadata": {},
   "outputs": [],
   "source": []
  }
 ],
 "metadata": {
  "kernelspec": {
   "display_name": "Python 3 (ipykernel)",
   "language": "python",
   "name": "python3"
  },
  "language_info": {
   "codemirror_mode": {
    "name": "ipython",
    "version": 3
   },
   "file_extension": ".py",
   "mimetype": "text/x-python",
   "name": "python",
   "nbconvert_exporter": "python",
   "pygments_lexer": "ipython3",
   "version": "3.7.13"
  }
 },
 "nbformat": 4,
 "nbformat_minor": 5
}
