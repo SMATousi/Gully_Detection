{
 "cells": [
  {
   "cell_type": "code",
   "execution_count": 1,
   "id": "2ce6ec19-55a0-4013-a1cd-e895886a1149",
   "metadata": {},
   "outputs": [],
   "source": [
    "import rasterio\n",
    "from rasterio.windows import Window\n",
    "import numpy as np\n",
    "import cv2\n",
    "import os"
   ]
  },
  {
   "cell_type": "code",
   "execution_count": 25,
   "id": "66b94dd3-9c61-4b92-817c-0ee877b32afc",
   "metadata": {},
   "outputs": [],
   "source": [
    "def crop_and_save(image, x, y, size, save_path, file_name, is_binary=False, binary_threshold = 0.5):\n",
    "    window = Window(x - size // 2, y - size // 2, size, size)\n",
    "    cropped_image = image.read(window=window)\n",
    "    if cropped_image.min() < 0:\n",
    "        cropped_image = -cropped_image\n",
    "\n",
    "    # Reshape and convert images\n",
    "    if cropped_image.ndim == 3 and not is_binary:\n",
    "        # For RGB or RGBA images\n",
    "        if cropped_image.shape[0] == 3:  # RGB\n",
    "            cropped_image = np.moveaxis(cropped_image, 0, -1)  # Rearrange bands to last dimension\n",
    "        elif cropped_image.shape[0] == 4:  # RGBA\n",
    "            # Convert RGBA to RGB by discarding the alpha channel\n",
    "            cropped_image = np.moveaxis(cropped_image, 0, -1)[..., :3]\n",
    "        else:\n",
    "            print(cropped_image.shape[0])\n",
    "            raise ValueError(\"Unexpected number of bands in image\")\n",
    "    else:\n",
    "        # For single-band images (binary or grayscale)\n",
    "        cropped_image = cropped_image.reshape(cropped_image.shape[1], cropped_image.shape[2])\n",
    "        if is_binary:\n",
    "            _, cropped_image = cv2.threshold(cropped_image, binary_threshold, 255, cv2.THRESH_BINARY)\n",
    "        else:\n",
    "            cropped_image = cv2.cvtColor(cropped_image, cv2.COLOR_GRAY2RGB)  # Convert grayscale to RGB\n",
    "\n",
    "    cv2.imwrite(os.path.join(save_path, file_name), cropped_image)\n",
    "\n"
   ]
  },
  {
   "cell_type": "code",
   "execution_count": 3,
   "id": "ba9c0e11-3468-4359-bdff-2c6d2e12dd06",
   "metadata": {},
   "outputs": [],
   "source": [
    "\n",
    "def process_files(ground_truth_path, rgb_paths, stream_order_path, output_dir, crop_size=128):\n",
    "    os.makedirs(output_dir, exist_ok=True)\n",
    "\n",
    "    # Create subdirectories for different types of images\n",
    "    gt_dir = os.path.join(output_dir, \"ground_truth\")\n",
    "    stream_dir = os.path.join(output_dir, \"stream_order\")\n",
    "    rgb_dir = os.path.join(output_dir, \"rgb_images\")\n",
    "    os.makedirs(gt_dir, exist_ok=True)\n",
    "    os.makedirs(stream_dir, exist_ok=True)\n",
    "    os.makedirs(rgb_dir, exist_ok=True)\n",
    "\n",
    "    with rasterio.open(ground_truth_path) as gt_src, rasterio.open(stream_order_path) as stream_src:\n",
    "        gt_data = gt_src.read(1)\n",
    "        y_indices, x_indices = np.where(gt_data > 0)\n",
    "\n",
    "        rgb_srcs = [rasterio.open(path) for path in rgb_paths]\n",
    "\n",
    "        for x, y in zip(x_indices, y_indices):\n",
    "            crop_and_save(stream_src, x, y, crop_size, stream_dir, f'KS1_stream_{x}_{y}.png', is_binary=True, binary_threshold=1)\n",
    "            crop_and_save(gt_src, x, y, crop_size, gt_dir, f'KS1_ground_truth_{x}_{y}.png', is_binary=True, binary_threshold=0.5)\n",
    "            for i, rgb_src in enumerate(rgb_srcs):\n",
    "                crop_and_save(rgb_src, x, y, crop_size, rgb_dir, f'KS1_rgb_{i}_{x}_{y}.png')\n",
    "\n",
    "    for src in rgb_srcs:\n",
    "        src.close()"
   ]
  },
  {
   "cell_type": "code",
   "execution_count": 9,
   "id": "391925b9-d540-4da0-81a5-428760a6e2b1",
   "metadata": {},
   "outputs": [],
   "source": [
    "output_dir = '../Res_128x128_50p/'\n",
    "ground_truth_path = '../raw_data/HUC_102701030402/GT/Res_KS_GT.tif'\n",
    "rgb_paths = ['../raw_data/HUC_102701030402/RGB/Res_agg_11.tif', '../raw_data/HUC_102701030402/RGB/Res_agg_12.tif'\n",
    "             , '../raw_data/HUC_102701030402/RGB/Res_agg_13.tif', '../raw_data/HUC_102701030402/RGB/Res_agg_14.tif',\n",
    "            '../raw_data/HUC_102701030402/RGB/Res_agg_15.tif', '../raw_data/HUC_102701030402/RGB/Res_agg_16.tif']\n",
    "stream_order_path = '../raw_data/HUC_102701030402/SO/SO_KS_Strahler.tif'\n",
    "crop_path = '../raw_data/HUC_102701030402/CROP/R_aggregated_crop.tif'"
   ]
  },
  {
   "cell_type": "code",
   "execution_count": 10,
   "id": "9d7cd228-ab68-47e7-bd45-728b3c2de524",
   "metadata": {},
   "outputs": [],
   "source": [
    "process_files(ground_truth_path, rgb_paths, stream_order_path, output_dir, crop_size=128)"
   ]
  },
  {
   "cell_type": "code",
   "execution_count": 42,
   "id": "9cd2171b-4c12-4705-adf3-f18507151932",
   "metadata": {},
   "outputs": [],
   "source": [
    "with rasterio.open(crop_path) as gt_src:\n",
    "    gt_data = gt_src.read(1)\n",
    "\n"
   ]
  },
  {
   "cell_type": "code",
   "execution_count": 43,
   "id": "eb67350c-e67b-4fd7-9767-1a5efbe88b45",
   "metadata": {},
   "outputs": [
    {
     "data": {
      "text/plain": [
       "195.0"
      ]
     },
     "execution_count": 43,
     "metadata": {},
     "output_type": "execute_result"
    }
   ],
   "source": [
    "gt_data.max()"
   ]
  },
  {
   "cell_type": "code",
   "execution_count": 26,
   "id": "d9a98d05-e72e-4641-ab8b-5a135b3d13d1",
   "metadata": {},
   "outputs": [],
   "source": [
    "def process_files_with_overlap(ground_truth_path, rgb_paths, stream_order_path, output_dir, crop_size=128, overlap_rate = 0.5):\n",
    "    os.makedirs(output_dir, exist_ok=True)\n",
    "\n",
    "    # Create subdirectories for different types of images\n",
    "    gt_dir = os.path.join(output_dir, \"ground_truth\")\n",
    "    stream_dir = os.path.join(output_dir, \"stream_order\")\n",
    "    rgb_dir = os.path.join(output_dir, \"rgb_images\")\n",
    "    os.makedirs(gt_dir, exist_ok=True)\n",
    "    os.makedirs(stream_dir, exist_ok=True)\n",
    "    os.makedirs(rgb_dir, exist_ok=True)\n",
    "\n",
    "    with rasterio.open(ground_truth_path) as gt_src, rasterio.open(stream_order_path) as stream_src:\n",
    "        gt_data = gt_src.read(1)\n",
    "        if gt_data.min() < 0:\n",
    "            gt_data = -gt_data\n",
    "        y_indices, x_indices = np.where(gt_data > 0)\n",
    "\n",
    "        rgb_srcs = [rasterio.open(path) for path in rgb_paths]\n",
    "        cropped_regions = []  # List to keep track of cropped regions\n",
    "\n",
    "        overlap_th = crop_size * overlap_rate\n",
    "        print(\"check1\")\n",
    "        for x, y in zip(x_indices, y_indices):\n",
    "#             print(\"check12\")\n",
    "            # Check for overlap with existing cropped regions\n",
    "            overlap = False\n",
    "            for (prev_x, prev_y) in cropped_regions:\n",
    "                if abs(prev_x - x) < overlap_th and abs(prev_y - y) < overlap_th:\n",
    "                    overlap = True\n",
    "                    break\n",
    "\n",
    "            if overlap:\n",
    "#                 print(\"overlap\")\n",
    "                continue  # Skip cropping this region due to overlap\n",
    "\n",
    "            # Update the list of cropped regions\n",
    "            cropped_regions.append((x, y))\n",
    "#             print(\"Check2\")\n",
    "            # Crop and save as usual\n",
    "            crop_and_save(stream_src, x, y, crop_size, stream_dir, f'KS1_stream_{x}_{y}.png', is_binary=True, binary_threshold=1)\n",
    "            crop_and_save(gt_src, x, y, crop_size, gt_dir, f'KS1_ground_truth_{x}_{y}.png', is_binary=True, binary_threshold=0.5)\n",
    "            for i, rgb_src in enumerate(rgb_srcs):\n",
    "                crop_and_save(rgb_src, x, y, crop_size, rgb_dir, f'KS1_rgb_{i}_{x}_{y}.png')\n",
    "\n",
    "        for src in rgb_srcs:\n",
    "            src.close()"
   ]
  },
  {
   "cell_type": "code",
   "execution_count": 27,
   "id": "e6b45b31-9419-4881-8d6c-c9d8995bcea9",
   "metadata": {},
   "outputs": [
    {
     "name": "stdout",
     "output_type": "stream",
     "text": [
      "check1\n"
     ]
    }
   ],
   "source": [
    "process_files_with_overlap(ground_truth_path, rgb_paths, stream_order_path, output_dir, crop_size=128, overlap_rate=0.5)"
   ]
  },
  {
   "cell_type": "code",
   "execution_count": null,
   "id": "38845bf2-c900-465a-8704-793f8b5e3ae5",
   "metadata": {},
   "outputs": [],
   "source": []
  }
 ],
 "metadata": {
  "kernelspec": {
   "display_name": "Python 3 (ipykernel)",
   "language": "python",
   "name": "python3"
  },
  "language_info": {
   "codemirror_mode": {
    "name": "ipython",
    "version": 3
   },
   "file_extension": ".py",
   "mimetype": "text/x-python",
   "name": "python",
   "nbconvert_exporter": "python",
   "pygments_lexer": "ipython3",
   "version": "3.7.13"
  }
 },
 "nbformat": 4,
 "nbformat_minor": 5
}
