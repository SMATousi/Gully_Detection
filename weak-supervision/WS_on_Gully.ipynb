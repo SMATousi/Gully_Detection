{
 "cells": [
  {
   "cell_type": "code",
   "execution_count": 1,
   "id": "afef4df4-daff-47ec-82ea-15c732f6ff96",
   "metadata": {},
   "outputs": [],
   "source": [
    "from snorkel.labeling import labeling_function\n",
    "import json\n",
    "import os\n",
    "import numpy as np\n",
    "import imageio.v2 as imageio\n",
    "from LF_library import *\n",
    "from LF_deep_utils import *\n",
    "from LF_utils import *"
   ]
  },
  {
   "cell_type": "code",
   "execution_count": null,
   "id": "ff75437f-7cd3-4a10-82e0-6d626510938b",
   "metadata": {},
   "outputs": [],
   "source": [
    "# import json\n",
    "\n",
    "# # File paths\n",
    "# file1_path = './vlm_responses/finla_results_llama3.2-vision_90b.json'\n",
    "# file2_path = './vlm_responses/test_data/test_results_llama3.2-vision_90b.json'\n",
    "# output_path = './vlm_responses/llama_merged.json'\n",
    "\n",
    "# # Load the JSON files\n",
    "# with open(file1_path, 'r') as file1:\n",
    "#     data1 = json.load(file1)\n",
    "\n",
    "# with open(file2_path, 'r') as file2:\n",
    "#     data2 = json.load(file2)\n",
    "\n",
    "# # Modify keys in the second JSON\n",
    "# modified_data2 = {f\"Dev-{key}\": value for key, value in data2.items()}\n",
    "\n",
    "# # Merge the dictionaries\n",
    "# merged_data = {**data1, **modified_data2}\n",
    "\n",
    "# # Save the merged dictionary into a new JSON file\n",
    "# with open(output_path, 'w') as output_file:\n",
    "#     json.dump(merged_data, output_file, indent=4)\n",
    "\n",
    "# print(f\"Merged JSON saved to {output_path}\")\n"
   ]
  },
  {
   "cell_type": "code",
   "execution_count": null,
   "id": "8fa6f2ac-cdb5-45a9-81c7-fd12058c61cb",
   "metadata": {},
   "outputs": [],
   "source": []
  },
  {
   "cell_type": "code",
   "execution_count": null,
   "id": "5e883b66-60a8-48fc-a0f9-5fbe0f6e8f05",
   "metadata": {},
   "outputs": [],
   "source": []
  },
  {
   "cell_type": "markdown",
   "id": "9dd70f09-fc21-423d-9784-47651ec6e3cd",
   "metadata": {},
   "source": [
    "# Defining the Labelers"
   ]
  },
  {
   "cell_type": "code",
   "execution_count": 2,
   "id": "71386fb0-f98d-4e26-9e70-30b5b34cd469",
   "metadata": {},
   "outputs": [],
   "source": [
    "POSITIVE = 1\n",
    "NEGATIVE = 0\n",
    "ABSTAIN = -1\n",
    "\n",
    "@labeling_function()\n",
    "def Qwen(image_name):\n",
    "    file_path = './vlm_responses/qwen_merged.json'\n",
    "    # llava_7b_results = \n",
    "    # path_to_llava_7b_results = os.path.join(root_path,llava_7b_results)\n",
    "    with open(file_path, 'r') as file:\n",
    "        data = json.load(file)\n",
    "\n",
    "    # for key in data:\n",
    "    #     if data[key] == '4':\n",
    "    #         data[key] = 1\n",
    "    #     else:\n",
    "    #         data[key] = 0\n",
    "\n",
    "    return data[image_name] if data[image_name] is not None else -1\n",
    "\n",
    "@labeling_function()\n",
    "def Llama3_vision(image_name):\n",
    "    root_path = './vlm_responses/llama_merged.json'\n",
    "    # llava_7b_results = 'finla_results_llama3.2-vision_90b.json'\n",
    "    # path_to_llava_7b_results = os.path.join(root_path,llava_7b_results)\n",
    "    with open(root_path, 'r') as file:\n",
    "        data = json.load(file)\n",
    "\n",
    "    for key in data:\n",
    "        if data[key] == [\"4\"]:\n",
    "            data[key] = 1\n",
    "        else:\n",
    "            data[key] = 0\n",
    "\n",
    "    return data[image_name] if data[image_name] is not None else -1\n",
    "\n",
    "\n",
    "@labeling_function()\n",
    "def deeplearning(image_name):\n",
    "    root_path = './vlm_responses/deeplearning_merged.json'\n",
    "    # llava_7b_results = './train_deep_learning_labels.json'\n",
    "    # path_to_llava_7b_results = os.path.join(root_path,llava_7b_results)\n",
    "    with open(root_path, 'r') as file:\n",
    "        data = json.load(file)\n",
    "\n",
    "    return data[image_name] if data[image_name] is not None else -1\n",
    "\n",
    "@labeling_function()\n",
    "def line_detection(image_name):\n",
    "    root_path = './vlm_responses/line_detection_merged.json'\n",
    "    # llava_7b_results = './train_line_detection_labels.json'\n",
    "    # path_to_llava_7b_results = os.path.join(root_path,llava_7b_results)\n",
    "    with open(root_path, 'r') as file:\n",
    "        data = json.load(file)\n",
    "\n",
    "    return data[image_name] if data[image_name] is not None else -1\n",
    "\n",
    "\n",
    "@labeling_function()\n",
    "def superpixel_detection(image_name):\n",
    "    root_path = './vlm_responses/superpixel_merged.json'\n",
    "    # llava_7b_results = './train_super_pixel_labels.json'\n",
    "    # path_to_llava_7b_results = os.path.join(root_path,llava_7b_results)\n",
    "    with open(root_path, 'r') as file:\n",
    "        data = json.load(file)\n",
    "\n",
    "    return data[image_name] if data[image_name] is not None else -1\n",
    "    "
   ]
  },
  {
   "cell_type": "code",
   "execution_count": null,
   "id": "9e65909b-4186-42eb-9142-d55cfcc81b1e",
   "metadata": {},
   "outputs": [],
   "source": [
    "Llama3_vision(\"1005\")"
   ]
  },
  {
   "cell_type": "code",
   "execution_count": 3,
   "id": "a054ab41-d025-4800-97d0-a2661422f8ee",
   "metadata": {},
   "outputs": [
    {
     "name": "stdout",
     "output_type": "stream",
     "text": [
      "0\n",
      "['4']\n"
     ]
    }
   ],
   "source": [
    "train_data_json_path = './vlm_responses/finla_results_llama3.2-vision_90b.json'\n",
    "# dev_data_json_path = '../prompting_framework/prompting_results/hateful/simplified_dev.json'\n",
    "\n",
    "with open(train_data_json_path, 'r') as file:\n",
    "    train_data = json.load(file)\n",
    "\n",
    "# Extract and pad image names, ensuring they are 5 digits long before the '.png'\n",
    "train_image_names = []\n",
    "for key in train_data:\n",
    "    print(key)\n",
    "    print(train_data[key])\n",
    "    break"
   ]
  },
  {
   "cell_type": "markdown",
   "id": "cff94abf-a386-4f28-a46e-835e955e8c47",
   "metadata": {},
   "source": [
    "# Train Dataset"
   ]
  },
  {
   "cell_type": "code",
   "execution_count": 4,
   "id": "7e3bc313-ce3f-4875-b92f-8ecd100992de",
   "metadata": {},
   "outputs": [
    {
     "name": "stdout",
     "output_type": "stream",
     "text": [
      "There are 8518 images in the Train set.\n",
      "There are 311 images in the dev set.\n",
      "There are 311 labels in the dev set.\n"
     ]
    }
   ],
   "source": [
    "train_data_json_path = './vlm_responses/finla_results_llama3.2-vision_90b.json'\n",
    "dev_data_json_path = './vlm_responses/test_data/Testing_Set.json'\n",
    "\n",
    "with open(train_data_json_path, 'r') as file:\n",
    "    train_data = json.load(file)\n",
    "\n",
    "# Extract and pad image names, ensuring they are 5 digits long before the '.png'\n",
    "train_image_names = []\n",
    "for entry in train_data:\n",
    "    # img_name, ext = entry['img'].split('.')\n",
    "    # padded_img_name = img_name.zfill(5)  # Pad the image name to 5 digits\n",
    "    train_image_names.append(str(entry))\n",
    "\n",
    "with open(dev_data_json_path, 'r') as file:\n",
    "    dev_data = json.load(file)\n",
    "    \n",
    "dev_image_names = []\n",
    "Y_dev = []\n",
    "for entry in dev_data:\n",
    "    Y_dev.append(int(int(dev_data[entry]['label'])/4))\n",
    "    # img_name, ext = entry['img'].split('.')\n",
    "    # padded_img_name = img_name.zfill(5)  # Pad the image name to 5 digits\n",
    "    dev_image_names.append(f\"Dev-{entry}\")\n",
    "\n",
    "print(f\"There are {len(train_image_names)} images in the Train set.\")\n",
    "print(f\"There are {len(dev_image_names)} images in the dev set.\")\n",
    "print(f\"There are {len(Y_dev)} labels in the dev set.\")\n"
   ]
  },
  {
   "cell_type": "code",
   "execution_count": null,
   "id": "d4f03af0-f77d-437e-8fce-b78ab9ca7463",
   "metadata": {},
   "outputs": [],
   "source": [
    "Qwen(dev_image_names[0])"
   ]
  },
  {
   "cell_type": "code",
   "execution_count": null,
   "id": "dff78e3e-467b-4fae-a403-4dc534228bab",
   "metadata": {},
   "outputs": [],
   "source": [
    "dev_image_names"
   ]
  },
  {
   "cell_type": "code",
   "execution_count": null,
   "id": "a4d5cecc-7c43-4b50-b2a8-6b31b253dc96",
   "metadata": {},
   "outputs": [],
   "source": [
    "train_image_names"
   ]
  },
  {
   "cell_type": "markdown",
   "id": "f5b5df0f-fdba-4f11-9d99-e7cfaf24c44f",
   "metadata": {
    "scrolled": true
   },
   "source": [
    "# Applying the LFs"
   ]
  },
  {
   "cell_type": "code",
   "execution_count": 5,
   "id": "3f7ca650-4742-43d6-bb6f-c853dd176269",
   "metadata": {},
   "outputs": [],
   "source": [
    "from snorkel.labeling import LFApplier\n",
    "\n",
    "list_of_all_the_models = ['Qwen', 'Llama3_vision', 'deeplearning', 'line_detection', 'superpixel_detection'\n",
    "       ]\n",
    "\n",
    "lfs = [Qwen, Llama3_vision, deeplearning, line_detection, superpixel_detection\n",
    "       ]\n",
    "\n",
    "applier = LFApplier(lfs)"
   ]
  },
  {
   "cell_type": "code",
   "execution_count": 6,
   "id": "b475d082-aa6a-4fbf-8299-1b1237529a4f",
   "metadata": {},
   "outputs": [
    {
     "name": "stderr",
     "output_type": "stream",
     "text": [
      "311it [00:01, 171.73it/s]\n",
      "8518it [00:49, 173.39it/s]\n"
     ]
    }
   ],
   "source": [
    "from snorkel.labeling import LFAnalysis\n",
    "\n",
    "L_dev = applier.apply(dev_image_names)\n",
    "L_train = applier.apply(train_image_names)"
   ]
  },
  {
   "cell_type": "code",
   "execution_count": null,
   "id": "415e26e7-b9bc-4fb8-8319-695ab90e5b5c",
   "metadata": {},
   "outputs": [],
   "source": []
  },
  {
   "cell_type": "code",
   "execution_count": 7,
   "id": "757add37-1ef5-4fc8-937f-c7b963760125",
   "metadata": {},
   "outputs": [
    {
     "data": {
      "text/html": [
       "<div>\n",
       "<style scoped>\n",
       "    .dataframe tbody tr th:only-of-type {\n",
       "        vertical-align: middle;\n",
       "    }\n",
       "\n",
       "    .dataframe tbody tr th {\n",
       "        vertical-align: top;\n",
       "    }\n",
       "\n",
       "    .dataframe thead th {\n",
       "        text-align: right;\n",
       "    }\n",
       "</style>\n",
       "<table border=\"1\" class=\"dataframe\">\n",
       "  <thead>\n",
       "    <tr style=\"text-align: right;\">\n",
       "      <th></th>\n",
       "      <th>j</th>\n",
       "      <th>Polarity</th>\n",
       "      <th>Coverage</th>\n",
       "      <th>Overlaps</th>\n",
       "      <th>Conflicts</th>\n",
       "      <th>Correct</th>\n",
       "      <th>Incorrect</th>\n",
       "      <th>Emp. Acc.</th>\n",
       "    </tr>\n",
       "  </thead>\n",
       "  <tbody>\n",
       "    <tr>\n",
       "      <th>Qwen</th>\n",
       "      <td>0</td>\n",
       "      <td>[0, 1]</td>\n",
       "      <td>1.000000</td>\n",
       "      <td>1.000000</td>\n",
       "      <td>0.868167</td>\n",
       "      <td>222</td>\n",
       "      <td>89</td>\n",
       "      <td>0.713826</td>\n",
       "    </tr>\n",
       "    <tr>\n",
       "      <th>Llama3_vision</th>\n",
       "      <td>1</td>\n",
       "      <td>[0, 1]</td>\n",
       "      <td>1.000000</td>\n",
       "      <td>1.000000</td>\n",
       "      <td>0.868167</td>\n",
       "      <td>200</td>\n",
       "      <td>111</td>\n",
       "      <td>0.643087</td>\n",
       "    </tr>\n",
       "    <tr>\n",
       "      <th>deeplearning</th>\n",
       "      <td>2</td>\n",
       "      <td>[0, 1]</td>\n",
       "      <td>1.000000</td>\n",
       "      <td>1.000000</td>\n",
       "      <td>0.868167</td>\n",
       "      <td>263</td>\n",
       "      <td>48</td>\n",
       "      <td>0.845659</td>\n",
       "    </tr>\n",
       "    <tr>\n",
       "      <th>line_detection</th>\n",
       "      <td>3</td>\n",
       "      <td>[0, 1]</td>\n",
       "      <td>1.000000</td>\n",
       "      <td>1.000000</td>\n",
       "      <td>0.868167</td>\n",
       "      <td>139</td>\n",
       "      <td>172</td>\n",
       "      <td>0.446945</td>\n",
       "    </tr>\n",
       "    <tr>\n",
       "      <th>superpixel_detection</th>\n",
       "      <td>4</td>\n",
       "      <td>[0]</td>\n",
       "      <td>0.762058</td>\n",
       "      <td>0.762058</td>\n",
       "      <td>0.700965</td>\n",
       "      <td>99</td>\n",
       "      <td>138</td>\n",
       "      <td>0.417722</td>\n",
       "    </tr>\n",
       "  </tbody>\n",
       "</table>\n",
       "</div>"
      ],
      "text/plain": [
       "                      j Polarity  Coverage  Overlaps  Conflicts  Correct  \\\n",
       "Qwen                  0   [0, 1]  1.000000  1.000000   0.868167      222   \n",
       "Llama3_vision         1   [0, 1]  1.000000  1.000000   0.868167      200   \n",
       "deeplearning          2   [0, 1]  1.000000  1.000000   0.868167      263   \n",
       "line_detection        3   [0, 1]  1.000000  1.000000   0.868167      139   \n",
       "superpixel_detection  4      [0]  0.762058  0.762058   0.700965       99   \n",
       "\n",
       "                      Incorrect  Emp. Acc.  \n",
       "Qwen                         89   0.713826  \n",
       "Llama3_vision               111   0.643087  \n",
       "deeplearning                 48   0.845659  \n",
       "line_detection              172   0.446945  \n",
       "superpixel_detection        138   0.417722  "
      ]
     },
     "execution_count": 7,
     "metadata": {},
     "output_type": "execute_result"
    }
   ],
   "source": [
    "Y_dev = np.array(Y_dev)\n",
    "LFAnalysis(L_dev, lfs).lf_summary(Y=Y_dev)"
   ]
  },
  {
   "cell_type": "markdown",
   "id": "2dd038dc-0729-4e6f-9f14-805066f62eb6",
   "metadata": {},
   "source": [
    "F1 of the labelers:"
   ]
  },
  {
   "cell_type": "code",
   "execution_count": 8,
   "id": "11214f33-2540-4854-a076-f581ca68b5bf",
   "metadata": {},
   "outputs": [],
   "source": [
    "from sklearn.metrics import confusion_matrix, precision_score, recall_score, f1_score, accuracy_score\n",
    "import numpy as np\n",
    "\n",
    "def calculate_metrics(y_true, y_pred, abstain_class=-1):\n",
    "    # Filter out samples where prediction is -1\n",
    "    valid_indices = y_pred != abstain_class\n",
    "    y_true_filtered = y_true[valid_indices]\n",
    "    y_pred_filtered = y_pred[valid_indices]\n",
    "\n",
    "    # Compute metrics\n",
    "    conf_matrix = confusion_matrix(y_true_filtered, y_pred_filtered)\n",
    "    precision = precision_score(y_true_filtered, y_pred_filtered)\n",
    "    recall = recall_score(y_true_filtered, y_pred_filtered)\n",
    "    f1 = f1_score(y_true_filtered, y_pred_filtered)\n",
    "    accuracy = accuracy_score(y_true_filtered, y_pred_filtered)\n",
    "\n",
    "    return {\n",
    "        'Confusion Matrix': conf_matrix,\n",
    "        'Precision': precision,\n",
    "        'Recall': recall,\n",
    "        'F1 Score': f1,\n",
    "        'Accuracy': accuracy\n",
    "    }"
   ]
  },
  {
   "cell_type": "code",
   "execution_count": null,
   "id": "8d70b98e-2e01-4b26-8456-9d4d450668b7",
   "metadata": {
    "scrolled": true
   },
   "outputs": [],
   "source": []
  },
  {
   "cell_type": "markdown",
   "id": "6622be9c-eb2c-49ca-9622-98b8bea2feaa",
   "metadata": {},
   "source": [
    "Visualization:"
   ]
  },
  {
   "cell_type": "code",
   "execution_count": null,
   "id": "9cb7cecf-3808-4ff1-a2ff-9d463227c581",
   "metadata": {},
   "outputs": [],
   "source": []
  },
  {
   "cell_type": "code",
   "execution_count": 9,
   "id": "48d36a75-e35c-48ba-9fbf-729e8526c996",
   "metadata": {},
   "outputs": [
    {
     "name": "stderr",
     "output_type": "stream",
     "text": [
      "/home/macula/SMATousi/.conda/envs/snorkel/lib/python3.12/site-packages/sklearn/metrics/_classification.py:1509: UndefinedMetricWarning: Precision is ill-defined and being set to 0.0 due to no predicted samples. Use `zero_division` parameter to control this behavior.\n",
      "  _warn_prf(average, modifier, f\"{metric.capitalize()} is\", len(result))\n"
     ]
    },
    {
     "data": {
      "text/html": [
       "<div>\n",
       "<style scoped>\n",
       "    .dataframe tbody tr th:only-of-type {\n",
       "        vertical-align: middle;\n",
       "    }\n",
       "\n",
       "    .dataframe tbody tr th {\n",
       "        vertical-align: top;\n",
       "    }\n",
       "\n",
       "    .dataframe thead th {\n",
       "        text-align: right;\n",
       "    }\n",
       "</style>\n",
       "<table border=\"1\" class=\"dataframe\">\n",
       "  <thead>\n",
       "    <tr style=\"text-align: right;\">\n",
       "      <th></th>\n",
       "      <th>Model</th>\n",
       "      <th>True Negative</th>\n",
       "      <th>False Positive</th>\n",
       "      <th>False Negative</th>\n",
       "      <th>True Positive</th>\n",
       "      <th>Recall</th>\n",
       "      <th>Precision</th>\n",
       "      <th>Accuracy</th>\n",
       "      <th>F1 Score</th>\n",
       "    </tr>\n",
       "  </thead>\n",
       "  <tbody>\n",
       "    <tr>\n",
       "      <th>0</th>\n",
       "      <td>Qwen</td>\n",
       "      <td>55</td>\n",
       "      <td>79</td>\n",
       "      <td>10</td>\n",
       "      <td>167</td>\n",
       "      <td>0.943503</td>\n",
       "      <td>0.678862</td>\n",
       "      <td>0.713826</td>\n",
       "      <td>0.789598</td>\n",
       "    </tr>\n",
       "    <tr>\n",
       "      <th>1</th>\n",
       "      <td>Llama3_vision</td>\n",
       "      <td>90</td>\n",
       "      <td>44</td>\n",
       "      <td>67</td>\n",
       "      <td>110</td>\n",
       "      <td>0.621469</td>\n",
       "      <td>0.714286</td>\n",
       "      <td>0.643087</td>\n",
       "      <td>0.664653</td>\n",
       "    </tr>\n",
       "    <tr>\n",
       "      <th>2</th>\n",
       "      <td>deeplearning</td>\n",
       "      <td>111</td>\n",
       "      <td>23</td>\n",
       "      <td>25</td>\n",
       "      <td>152</td>\n",
       "      <td>0.858757</td>\n",
       "      <td>0.868571</td>\n",
       "      <td>0.845659</td>\n",
       "      <td>0.863636</td>\n",
       "    </tr>\n",
       "    <tr>\n",
       "      <th>3</th>\n",
       "      <td>line_detection</td>\n",
       "      <td>34</td>\n",
       "      <td>100</td>\n",
       "      <td>72</td>\n",
       "      <td>105</td>\n",
       "      <td>0.593220</td>\n",
       "      <td>0.512195</td>\n",
       "      <td>0.446945</td>\n",
       "      <td>0.549738</td>\n",
       "    </tr>\n",
       "    <tr>\n",
       "      <th>4</th>\n",
       "      <td>superpixel_detection</td>\n",
       "      <td>99</td>\n",
       "      <td>0</td>\n",
       "      <td>138</td>\n",
       "      <td>0</td>\n",
       "      <td>0.000000</td>\n",
       "      <td>0.000000</td>\n",
       "      <td>0.417722</td>\n",
       "      <td>0.000000</td>\n",
       "    </tr>\n",
       "  </tbody>\n",
       "</table>\n",
       "</div>"
      ],
      "text/plain": [
       "                  Model  True Negative  False Positive  False Negative  \\\n",
       "0                  Qwen             55              79              10   \n",
       "1         Llama3_vision             90              44              67   \n",
       "2          deeplearning            111              23              25   \n",
       "3        line_detection             34             100              72   \n",
       "4  superpixel_detection             99               0             138   \n",
       "\n",
       "   True Positive    Recall  Precision  Accuracy  F1 Score  \n",
       "0            167  0.943503   0.678862  0.713826  0.789598  \n",
       "1            110  0.621469   0.714286  0.643087  0.664653  \n",
       "2            152  0.858757   0.868571  0.845659  0.863636  \n",
       "3            105  0.593220   0.512195  0.446945  0.549738  \n",
       "4              0  0.000000   0.000000  0.417722  0.000000  "
      ]
     },
     "execution_count": 9,
     "metadata": {},
     "output_type": "execute_result"
    }
   ],
   "source": [
    "import numpy as np\n",
    "import pandas as pd\n",
    "from sklearn.metrics import confusion_matrix, recall_score, precision_score, accuracy_score, f1_score\n",
    "\n",
    "# Example ground truth and predictions for six models\n",
    "# Replace these arrays with actual predictions from each model\n",
    "y_true = Y_dev\n",
    "predictions = {}\n",
    "\n",
    "for i in range(L_dev.shape[1]):\n",
    "    predictions[list_of_all_the_models[i]] = L_dev[:,i]\n",
    "    \n",
    "# Create a DataFrame to store confusion matrix results and metrics\n",
    "confusion_data = []\n",
    "\n",
    "for model_name, y_pred in predictions.items():\n",
    "    \n",
    "    y_pred = np.array(y_pred)\n",
    "    # Confusion Matrix\n",
    "    metrics = calculate_metrics(Y_dev, y_pred)\n",
    "    \n",
    "    tn, fp, fn, tp = metrics['Confusion Matrix'].ravel()\n",
    "    precision = metrics['Precision']\n",
    "    recall = metrics['Recall']\n",
    "    f1 = metrics['F1 Score']\n",
    "    accuracy = metrics['Accuracy']\n",
    "    # Append data\n",
    "    confusion_data.append([\n",
    "        model_name, tn, fp, fn, tp, \n",
    "        recall, precision, accuracy, f1\n",
    "    ])\n",
    "\n",
    "# Convert to a DataFrame for display\n",
    "confusion_df = pd.DataFrame(confusion_data, columns=[\n",
    "    'Model', 'True Negative', 'False Positive', 'False Negative', 'True Positive', \n",
    "    'Recall', 'Precision', 'Accuracy', 'F1 Score'\n",
    "])\n",
    "\n",
    "# Display the table with confusion matrix and metrics\n",
    "confusion_df\n"
   ]
  },
  {
   "cell_type": "code",
   "execution_count": null,
   "id": "5e7d0ede-bab2-4e37-9c9a-75f494edd82f",
   "metadata": {},
   "outputs": [],
   "source": []
  },
  {
   "cell_type": "markdown",
   "id": "e72d022c-4a6b-4258-86f8-71b615cfa8b3",
   "metadata": {},
   "source": [
    "# Optimization for Label Model"
   ]
  },
  {
   "cell_type": "code",
   "execution_count": 10,
   "id": "84ea9e65-8d70-4621-b3af-f13500eaaf42",
   "metadata": {
    "scrolled": true
   },
   "outputs": [
    {
     "name": "stderr",
     "output_type": "stream",
     "text": [
      "100%|███████████████████████████████████████████████████████████████████████████████████████████████████| 5000/5000 [00:01<00:00, 4190.00epoch/s]\n"
     ]
    }
   ],
   "source": [
    "from snorkel.labeling.model import LabelModel\n",
    "\n",
    "label_model = LabelModel(cardinality=2, verbose=False)\n",
    "label_model.fit(L_train, n_epochs=5000, log_freq=500, seed=12)"
   ]
  },
  {
   "cell_type": "code",
   "execution_count": 11,
   "id": "9d2623cd-28a2-410b-b88f-c90fb3aa1253",
   "metadata": {},
   "outputs": [
    {
     "data": {
      "text/plain": [
       "array([0.79060775, 0.76759365, 0.70573005, 0.59121388, 0.55581636])"
      ]
     },
     "execution_count": 11,
     "metadata": {},
     "output_type": "execute_result"
    }
   ],
   "source": [
    "label_model.get_weights()"
   ]
  },
  {
   "cell_type": "code",
   "execution_count": 12,
   "id": "427bf3f3-3d55-40e0-938a-a9a672fb88d0",
   "metadata": {},
   "outputs": [
    {
     "name": "stdout",
     "output_type": "stream",
     "text": [
      "Confusion Matrix: [[ 92  42]\n",
      " [ 44 133]]\n",
      "Precision: 0.76\n",
      "Recall: 0.751412429378531\n",
      "F1 Score: 0.7556818181818182\n",
      "Accuracy: 0.7234726688102894\n"
     ]
    }
   ],
   "source": [
    "from snorkel.analysis import metric_score\n",
    "from snorkel.utils import probs_to_preds\n",
    "\n",
    "probs_dev = label_model.predict_proba(L_dev)\n",
    "preds_dev = probs_to_preds(probs_dev)\n",
    "\n",
    "metrics = calculate_metrics(Y_dev, preds_dev)\n",
    "for metric, value in metrics.items():\n",
    "    print(f\"{metric}: {value}\")"
   ]
  },
  {
   "cell_type": "code",
   "execution_count": null,
   "id": "6b524bc2-16fc-468d-a61a-f7a252372429",
   "metadata": {},
   "outputs": [],
   "source": [
    "L_train.shape[1]"
   ]
  },
  {
   "cell_type": "markdown",
   "id": "23f93639-7912-4295-84ef-06dada1d4e94",
   "metadata": {},
   "source": [
    "Experimenting with different number of LFs"
   ]
  },
  {
   "cell_type": "code",
   "execution_count": 13,
   "id": "a3cb0df3-92f7-4550-a8aa-0ec8c0715120",
   "metadata": {},
   "outputs": [
    {
     "name": "stderr",
     "output_type": "stream",
     "text": [
      "100%|█████████████████████████████████████████████████████████████████████████████████████████████████████| 100/100 [00:00<00:00, 3700.34epoch/s]\n"
     ]
    },
    {
     "name": "stdout",
     "output_type": "stream",
     "text": [
      "Confusion Matrix: [[ 91  43]\n",
      " [ 19 158]]\n",
      "Precision: 0.7860696517412935\n",
      "Recall: 0.8926553672316384\n",
      "F1 Score: 0.8359788359788359\n",
      "Accuracy: 0.8006430868167203\n",
      "trained with the LFs = ['Qwen', 'Llama3_vision', 'deeplearning']\n"
     ]
    },
    {
     "name": "stderr",
     "output_type": "stream",
     "text": [
      "100%|█████████████████████████████████████████████████████████████████████████████████████████████████████| 100/100 [00:00<00:00, 3943.53epoch/s]\n"
     ]
    },
    {
     "name": "stdout",
     "output_type": "stream",
     "text": [
      "Confusion Matrix: [[ 91  43]\n",
      " [ 18 159]]\n",
      "Precision: 0.7871287128712872\n",
      "Recall: 0.8983050847457628\n",
      "F1 Score: 0.8390501319261213\n",
      "Accuracy: 0.8038585209003215\n",
      "trained with the LFs = ['Qwen', 'Llama3_vision', 'deeplearning', 'line_detection']\n"
     ]
    },
    {
     "name": "stderr",
     "output_type": "stream",
     "text": [
      "100%|█████████████████████████████████████████████████████████████████████████████████████████████████████| 100/100 [00:00<00:00, 3919.07epoch/s]"
     ]
    },
    {
     "name": "stdout",
     "output_type": "stream",
     "text": [
      "Confusion Matrix: [[ 91  43]\n",
      " [ 19 158]]\n",
      "Precision: 0.7860696517412935\n",
      "Recall: 0.8926553672316384\n",
      "F1 Score: 0.8359788359788359\n",
      "Accuracy: 0.8006430868167203\n",
      "trained with the LFs = ['Qwen', 'Llama3_vision', 'deeplearning', 'line_detection', 'superpixel_detection']\n"
     ]
    },
    {
     "name": "stderr",
     "output_type": "stream",
     "text": [
      "\n"
     ]
    }
   ],
   "source": [
    "all_f1s = []\n",
    "number_of_epochs = 100\n",
    "for i in range(3, L_train.shape[1]+1):\n",
    "\n",
    "    \n",
    "    label_model = LabelModel(cardinality=2, verbose=False)\n",
    "    label_model.fit(L_train[:,:i], Y_dev, n_epochs=number_of_epochs, log_freq=500, seed=12)\n",
    "    \n",
    "    probs_dev = label_model.predict_proba(L_dev[:,:i])\n",
    "    preds_dev = probs_to_preds(probs_dev)\n",
    "\n",
    "    metrics = calculate_metrics(Y_dev, preds_dev)\n",
    "    all_f1s.append(metrics['F1 Score'])\n",
    "    for metric, value in metrics.items():\n",
    "        print(f\"{metric}: {value}\")\n",
    "    print(f'trained with the LFs = {list_of_all_the_models[:i]}')"
   ]
  },
  {
   "cell_type": "code",
   "execution_count": 14,
   "id": "6eeee78a-8ef5-463e-b837-01e5e2399848",
   "metadata": {},
   "outputs": [
    {
     "data": {
      "image/png": "[encoded data removed]",
      "text/plain": [
       "<Figure size 800x500 with 1 Axes>"
      ]
     },
     "metadata": {},
     "output_type": "display_data"
    }
   ],
   "source": [
    "import matplotlib.pyplot as plt\n",
    "x = np.array([4, 5, 6])\n",
    "\n",
    "plt.figure(figsize=(8, 5))\n",
    "plt.plot(x, all_f1s, marker='s', linestyle='-', color='b')\n",
    "plt.title(f'The Label Model Performance After Optimizing For {number_of_epochs} Iterations')\n",
    "plt.xlabel('Number of LFs')\n",
    "plt.ylabel('F1 Score')\n",
    "plt.grid(True)\n",
    "# plt.savefig('HM_LM_1000_4-7.png')\n",
    "plt.show()"
   ]
  },
  {
   "cell_type": "code",
   "execution_count": 15,
   "id": "389a9722-eb19-4d62-b6ce-ff6824cfb782",
   "metadata": {},
   "outputs": [
    {
     "name": "stderr",
     "output_type": "stream",
     "text": [
      "100%|██████████████████████████████████████████████████████████████████████████████████████████████████████████| 1/1 [00:00<00:00, 966.65epoch/s]\n",
      "100%|█████████████████████████████████████████████████████████████████████████████████████████████████████████| 2/2 [00:00<00:00, 2151.48epoch/s]\n",
      "100%|█████████████████████████████████████████████████████████████████████████████████████████████████████████| 3/3 [00:00<00:00, 2480.86epoch/s]\n",
      "100%|█████████████████████████████████████████████████████████████████████████████████████████████████████████| 4/4 [00:00<00:00, 2766.69epoch/s]\n",
      "100%|█████████████████████████████████████████████████████████████████████████████████████████████████████████| 5/5 [00:00<00:00, 2838.98epoch/s]\n",
      "100%|█████████████████████████████████████████████████████████████████████████████████████████████████████████| 6/6 [00:00<00:00, 3085.56epoch/s]\n",
      "100%|█████████████████████████████████████████████████████████████████████████████████████████████████████████| 7/7 [00:00<00:00, 3106.56epoch/s]\n",
      "100%|█████████████████████████████████████████████████████████████████████████████████████████████████████████| 8/8 [00:00<00:00, 3147.70epoch/s]\n",
      "100%|█████████████████████████████████████████████████████████████████████████████████████████████████████████| 9/9 [00:00<00:00, 3038.37epoch/s]\n",
      "100%|███████████████████████████████████████████████████████████████████████████████████████████████████████| 10/10 [00:00<00:00, 3153.14epoch/s]\n",
      "100%|███████████████████████████████████████████████████████████████████████████████████████████████████████| 11/11 [00:00<00:00, 3380.77epoch/s]\n",
      "100%|███████████████████████████████████████████████████████████████████████████████████████████████████████| 12/12 [00:00<00:00, 3300.00epoch/s]\n",
      "100%|███████████████████████████████████████████████████████████████████████████████████████████████████████| 13/13 [00:00<00:00, 3524.40epoch/s]\n",
      "100%|███████████████████████████████████████████████████████████████████████████████████████████████████████| 14/14 [00:00<00:00, 3481.99epoch/s]\n",
      "100%|███████████████████████████████████████████████████████████████████████████████████████████████████████| 15/15 [00:00<00:00, 2395.47epoch/s]\n",
      "100%|███████████████████████████████████████████████████████████████████████████████████████████████████████| 16/16 [00:00<00:00, 3605.48epoch/s]\n",
      "100%|███████████████████████████████████████████████████████████████████████████████████████████████████████| 17/17 [00:00<00:00, 3401.87epoch/s]\n",
      "100%|███████████████████████████████████████████████████████████████████████████████████████████████████████| 18/18 [00:00<00:00, 3576.55epoch/s]\n",
      "100%|███████████████████████████████████████████████████████████████████████████████████████████████████████| 19/19 [00:00<00:00, 3605.47epoch/s]\n",
      "100%|███████████████████████████████████████████████████████████████████████████████████████████████████████| 20/20 [00:00<00:00, 3577.99epoch/s]\n",
      "100%|███████████████████████████████████████████████████████████████████████████████████████████████████████| 21/21 [00:00<00:00, 3643.30epoch/s]\n",
      "100%|███████████████████████████████████████████████████████████████████████████████████████████████████████| 22/22 [00:00<00:00, 3665.62epoch/s]\n",
      "100%|███████████████████████████████████████████████████████████████████████████████████████████████████████| 23/23 [00:00<00:00, 3326.29epoch/s]\n",
      "100%|███████████████████████████████████████████████████████████████████████████████████████████████████████| 24/24 [00:00<00:00, 3619.16epoch/s]\n",
      "100%|███████████████████████████████████████████████████████████████████████████████████████████████████████| 25/25 [00:00<00:00, 3679.21epoch/s]\n",
      "100%|███████████████████████████████████████████████████████████████████████████████████████████████████████| 26/26 [00:00<00:00, 3634.82epoch/s]\n",
      "100%|███████████████████████████████████████████████████████████████████████████████████████████████████████| 27/27 [00:00<00:00, 3695.42epoch/s]\n",
      "100%|███████████████████████████████████████████████████████████████████████████████████████████████████████| 28/28 [00:00<00:00, 3654.14epoch/s]\n",
      "100%|███████████████████████████████████████████████████████████████████████████████████████████████████████| 29/29 [00:00<00:00, 2960.57epoch/s]\n",
      "100%|███████████████████████████████████████████████████████████████████████████████████████████████████████| 30/30 [00:00<00:00, 2303.04epoch/s]\n",
      "100%|███████████████████████████████████████████████████████████████████████████████████████████████████████| 31/31 [00:00<00:00, 3310.84epoch/s]\n",
      "100%|███████████████████████████████████████████████████████████████████████████████████████████████████████| 32/32 [00:00<00:00, 3555.15epoch/s]\n",
      "100%|███████████████████████████████████████████████████████████████████████████████████████████████████████| 33/33 [00:00<00:00, 3435.91epoch/s]\n",
      "100%|███████████████████████████████████████████████████████████████████████████████████████████████████████| 34/34 [00:00<00:00, 3633.19epoch/s]\n",
      "100%|███████████████████████████████████████████████████████████████████████████████████████████████████████| 35/35 [00:00<00:00, 3725.81epoch/s]\n",
      "100%|███████████████████████████████████████████████████████████████████████████████████████████████████████| 36/36 [00:00<00:00, 3660.13epoch/s]\n",
      "100%|███████████████████████████████████████████████████████████████████████████████████████████████████████| 37/37 [00:00<00:00, 3804.59epoch/s]\n",
      "100%|███████████████████████████████████████████████████████████████████████████████████████████████████████| 38/38 [00:00<00:00, 3756.03epoch/s]\n",
      "100%|███████████████████████████████████████████████████████████████████████████████████████████████████████| 39/39 [00:00<00:00, 3783.37epoch/s]\n",
      "100%|███████████████████████████████████████████████████████████████████████████████████████████████████████| 40/40 [00:00<00:00, 3805.91epoch/s]\n",
      "100%|███████████████████████████████████████████████████████████████████████████████████████████████████████| 41/41 [00:00<00:00, 3639.19epoch/s]\n",
      "100%|███████████████████████████████████████████████████████████████████████████████████████████████████████| 42/42 [00:00<00:00, 3673.77epoch/s]\n",
      "100%|███████████████████████████████████████████████████████████████████████████████████████████████████████| 43/43 [00:00<00:00, 3701.87epoch/s]\n",
      "100%|███████████████████████████████████████████████████████████████████████████████████████████████████████| 44/44 [00:00<00:00, 3639.88epoch/s]\n",
      "100%|███████████████████████████████████████████████████████████████████████████████████████████████████████| 45/45 [00:00<00:00, 3766.59epoch/s]\n",
      "100%|███████████████████████████████████████████████████████████████████████████████████████████████████████| 46/46 [00:00<00:00, 3895.45epoch/s]\n",
      "100%|███████████████████████████████████████████████████████████████████████████████████████████████████████| 47/47 [00:00<00:00, 3849.79epoch/s]\n",
      "100%|███████████████████████████████████████████████████████████████████████████████████████████████████████| 48/48 [00:00<00:00, 3892.93epoch/s]\n",
      "100%|███████████████████████████████████████████████████████████████████████████████████████████████████████| 49/49 [00:00<00:00, 3749.63epoch/s]\n",
      "100%|███████████████████████████████████████████████████████████████████████████████████████████████████████| 50/50 [00:00<00:00, 3781.85epoch/s]\n",
      "100%|███████████████████████████████████████████████████████████████████████████████████████████████████████| 51/51 [00:00<00:00, 3672.71epoch/s]\n",
      "100%|███████████████████████████████████████████████████████████████████████████████████████████████████████| 52/52 [00:00<00:00, 3788.30epoch/s]\n",
      "100%|███████████████████████████████████████████████████████████████████████████████████████████████████████| 53/53 [00:00<00:00, 3832.46epoch/s]\n",
      "100%|███████████████████████████████████████████████████████████████████████████████████████████████████████| 54/54 [00:00<00:00, 3828.47epoch/s]\n",
      "100%|███████████████████████████████████████████████████████████████████████████████████████████████████████| 55/55 [00:00<00:00, 3790.45epoch/s]\n",
      "100%|███████████████████████████████████████████████████████████████████████████████████████████████████████| 56/56 [00:00<00:00, 3855.94epoch/s]\n",
      "100%|███████████████████████████████████████████████████████████████████████████████████████████████████████| 57/57 [00:00<00:00, 3868.91epoch/s]\n",
      "100%|███████████████████████████████████████████████████████████████████████████████████████████████████████| 58/58 [00:00<00:00, 3907.38epoch/s]\n",
      "100%|███████████████████████████████████████████████████████████████████████████████████████████████████████| 59/59 [00:00<00:00, 3843.26epoch/s]\n",
      "100%|███████████████████████████████████████████████████████████████████████████████████████████████████████| 60/60 [00:00<00:00, 3870.53epoch/s]\n",
      "100%|███████████████████████████████████████████████████████████████████████████████████████████████████████| 61/61 [00:00<00:00, 3843.59epoch/s]\n",
      "100%|███████████████████████████████████████████████████████████████████████████████████████████████████████| 62/62 [00:00<00:00, 3911.42epoch/s]\n",
      "100%|███████████████████████████████████████████████████████████████████████████████████████████████████████| 63/63 [00:00<00:00, 3876.15epoch/s]\n",
      "100%|███████████████████████████████████████████████████████████████████████████████████████████████████████| 64/64 [00:00<00:00, 3911.97epoch/s]\n",
      "100%|███████████████████████████████████████████████████████████████████████████████████████████████████████| 65/65 [00:00<00:00, 3867.09epoch/s]\n",
      "100%|███████████████████████████████████████████████████████████████████████████████████████████████████████| 66/66 [00:00<00:00, 3900.74epoch/s]\n",
      "100%|███████████████████████████████████████████████████████████████████████████████████████████████████████| 67/67 [00:00<00:00, 3950.60epoch/s]\n",
      "100%|███████████████████████████████████████████████████████████████████████████████████████████████████████| 68/68 [00:00<00:00, 3978.14epoch/s]\n",
      "100%|███████████████████████████████████████████████████████████████████████████████████████████████████████| 69/69 [00:00<00:00, 3927.89epoch/s]\n",
      "100%|███████████████████████████████████████████████████████████████████████████████████████████████████████| 70/70 [00:00<00:00, 3892.68epoch/s]\n",
      "100%|███████████████████████████████████████████████████████████████████████████████████████████████████████| 71/71 [00:00<00:00, 3951.80epoch/s]\n",
      "100%|███████████████████████████████████████████████████████████████████████████████████████████████████████| 72/72 [00:00<00:00, 3986.35epoch/s]\n",
      "100%|███████████████████████████████████████████████████████████████████████████████████████████████████████| 73/73 [00:00<00:00, 3980.76epoch/s]\n",
      "100%|███████████████████████████████████████████████████████████████████████████████████████████████████████| 74/74 [00:00<00:00, 3992.83epoch/s]\n",
      "100%|███████████████████████████████████████████████████████████████████████████████████████████████████████| 75/75 [00:00<00:00, 3970.53epoch/s]\n",
      "100%|███████████████████████████████████████████████████████████████████████████████████████████████████████| 76/76 [00:00<00:00, 3862.81epoch/s]\n",
      "100%|███████████████████████████████████████████████████████████████████████████████████████████████████████| 77/77 [00:00<00:00, 3836.33epoch/s]\n",
      "100%|███████████████████████████████████████████████████████████████████████████████████████████████████████| 78/78 [00:00<00:00, 4071.99epoch/s]\n",
      "100%|███████████████████████████████████████████████████████████████████████████████████████████████████████| 79/79 [00:00<00:00, 3852.73epoch/s]\n",
      "100%|███████████████████████████████████████████████████████████████████████████████████████████████████████| 80/80 [00:00<00:00, 3943.78epoch/s]\n",
      "100%|███████████████████████████████████████████████████████████████████████████████████████████████████████| 81/81 [00:00<00:00, 3940.69epoch/s]\n",
      "100%|███████████████████████████████████████████████████████████████████████████████████████████████████████| 82/82 [00:00<00:00, 3920.67epoch/s]\n",
      "100%|███████████████████████████████████████████████████████████████████████████████████████████████████████| 83/83 [00:00<00:00, 3939.52epoch/s]\n",
      "100%|███████████████████████████████████████████████████████████████████████████████████████████████████████| 84/84 [00:00<00:00, 3934.84epoch/s]\n",
      "100%|███████████████████████████████████████████████████████████████████████████████████████████████████████| 85/85 [00:00<00:00, 3977.24epoch/s]\n",
      "100%|███████████████████████████████████████████████████████████████████████████████████████████████████████| 86/86 [00:00<00:00, 3972.18epoch/s]\n",
      "100%|███████████████████████████████████████████████████████████████████████████████████████████████████████| 87/87 [00:00<00:00, 4014.66epoch/s]\n",
      "100%|███████████████████████████████████████████████████████████████████████████████████████████████████████| 88/88 [00:00<00:00, 3961.56epoch/s]\n",
      "100%|███████████████████████████████████████████████████████████████████████████████████████████████████████| 89/89 [00:00<00:00, 3852.95epoch/s]\n",
      "100%|███████████████████████████████████████████████████████████████████████████████████████████████████████| 90/90 [00:00<00:00, 3893.07epoch/s]\n",
      "100%|███████████████████████████████████████████████████████████████████████████████████████████████████████| 91/91 [00:00<00:00, 2670.34epoch/s]\n",
      "100%|███████████████████████████████████████████████████████████████████████████████████████████████████████| 92/92 [00:00<00:00, 3594.93epoch/s]\n",
      "100%|███████████████████████████████████████████████████████████████████████████████████████████████████████| 93/93 [00:00<00:00, 3781.77epoch/s]\n",
      "100%|███████████████████████████████████████████████████████████████████████████████████████████████████████| 94/94 [00:00<00:00, 3643.34epoch/s]\n",
      "100%|███████████████████████████████████████████████████████████████████████████████████████████████████████| 95/95 [00:00<00:00, 3975.96epoch/s]\n",
      "100%|███████████████████████████████████████████████████████████████████████████████████████████████████████| 96/96 [00:00<00:00, 4050.18epoch/s]\n",
      "100%|███████████████████████████████████████████████████████████████████████████████████████████████████████| 97/97 [00:00<00:00, 4000.66epoch/s]\n",
      "100%|███████████████████████████████████████████████████████████████████████████████████████████████████████| 98/98 [00:00<00:00, 3883.98epoch/s]\n",
      "100%|███████████████████████████████████████████████████████████████████████████████████████████████████████| 99/99 [00:00<00:00, 3880.42epoch/s]\n"
     ]
    }
   ],
   "source": [
    "all_f1s = []\n",
    "# number_of_epochs = [10, 20, 50, 80, 100, 500, 1000, 5000]\n",
    "number_of_epochs = range(1,100)\n",
    "for epochs in number_of_epochs:\n",
    "\n",
    "    \n",
    "    label_model = LabelModel(cardinality=2, verbose=False)\n",
    "    label_model.fit(L_train, Y_dev, n_epochs=epochs, log_freq=500, seed=12)\n",
    "    \n",
    "    probs_dev = label_model.predict_proba(L_dev)\n",
    "    preds_dev = probs_to_preds(probs_dev)\n",
    "\n",
    "    metrics = calculate_metrics(Y_dev, preds_dev)\n",
    "    all_f1s.append(metrics['F1 Score'])\n",
    "    # for metric, value in metrics.items():\n",
    "    #     print(f\"{metric}: {value}\")\n",
    "    # print(f'trained with the LFs = {list_of_all_the_models[:i]}')"
   ]
  },
  {
   "cell_type": "code",
   "execution_count": 16,
   "id": "0b73fc8e-0d4c-4cbe-9205-a91d4dedae28",
   "metadata": {},
   "outputs": [
    {
     "data": {
      "image/png": "[encoded data removed]",
      "text/plain": [
       "<Figure size 800x500 with 1 Axes>"
      ]
     },
     "metadata": {},
     "output_type": "display_data"
    }
   ],
   "source": [
    "import matplotlib.pyplot as plt\n",
    "x = np.array(number_of_epochs)\n",
    "\n",
    "plt.figure(figsize=(8, 5))\n",
    "plt.plot(x, all_f1s, marker='s', linestyle='-', color='b')\n",
    "plt.title(f'The Label Model Performance After Optimizing For {number_of_epochs} Iterations')\n",
    "plt.xlabel('Number of LFs')\n",
    "plt.ylabel('F1 Score')\n",
    "plt.grid(True)\n",
    "# plt.savefig('HM_LM_1000_4-7.png')\n",
    "plt.show()"
   ]
  },
  {
   "cell_type": "code",
   "execution_count": null,
   "id": "3b9cf21b-47ee-48ec-878a-3ceea27d9cfc",
   "metadata": {},
   "outputs": [],
   "source": []
  },
  {
   "cell_type": "code",
   "execution_count": null,
   "id": "34b362ac-22db-4739-8a28-db45a372e707",
   "metadata": {},
   "outputs": [],
   "source": [
    "all_f1s[1:]"
   ]
  },
  {
   "cell_type": "markdown",
   "id": "2c11aac3-a236-48ed-b80f-f97875351d15",
   "metadata": {},
   "source": [
    "# Training the End Model"
   ]
  },
  {
   "cell_type": "markdown",
   "id": "85550ff2-272c-4f20-acba-1cddf2ad952b",
   "metadata": {},
   "source": [
    "The dataloader for PyTorch"
   ]
  },
  {
   "cell_type": "code",
   "execution_count": 17,
   "id": "90e13508-d0fb-4f2c-89da-98c7961f60ab",
   "metadata": {},
   "outputs": [],
   "source": [
    "import os\n",
    "from PIL import Image\n",
    "import torch\n",
    "from torch.utils.data import Dataset, DataLoader\n",
    "from torchvision import transforms\n",
    "\n",
    "# Custom dataset class for loading images\n",
    "class ImageDataset(Dataset):\n",
    "    def __init__(self, image_names, root_dir, labels, target_dists, transform=None):\n",
    "        \"\"\"\n",
    "        Args:\n",
    "            image_names (list): List of image file names.\n",
    "            root_dir (string): Directory where images are stored.\n",
    "            transform (callable, optional): Optional transform to be applied on an image.\n",
    "        \"\"\"\n",
    "        self.data = []\n",
    "        self.tile_numbers = []\n",
    "        \n",
    "        self.image_names = image_names\n",
    "        self.root_dir = root_dir\n",
    "        self.labels = labels\n",
    "        self.transform = transform\n",
    "        self.target_dists = target_dists\n",
    "        tile_files = [f for f in os.listdir(self.root_dir) if f.endswith('.tif')]\n",
    "        # neg_files = [f for f in os.listdir(neg_dir) if f.endswith('.tif')]\n",
    "        tile_dict = self.group_files_by_tile(tile_files)\n",
    "        \n",
    "        self.store_tiles(tile_dict, self.root_dir)\n",
    "\n",
    "    \n",
    "    def group_files_by_tile(self, files):\n",
    "        tile_dict = {}\n",
    "        # print(len(files))\n",
    "        for file in files:\n",
    "            tile_number = file.split('_')[-1].split('.')[0]\n",
    "            if tile_number not in tile_dict:\n",
    "                tile_dict[tile_number] = []\n",
    "            tile_dict[tile_number].append(file)\n",
    "        # Only include complete groups\n",
    "        # return [tile for tile in tile_dict.values() if len(tile) == 6]\n",
    "        # return [tile for tile in tile_dict.values()]\n",
    "        # print(tile_dict)\n",
    "        return tile_dict\n",
    "\n",
    "    def store_tiles(self, tile_dict, directory):\n",
    "        for tile_number in self.image_names:\n",
    "            # print(\"----\")\n",
    "            # print(tile_number)\n",
    "            self.data.append([os.path.join(directory, f) for f in sorted(tile_dict[tile_number])])\n",
    "            self.tile_numbers.append(tile_number)\n",
    "    \n",
    "    def __len__(self):\n",
    "        return len(self.image_names)\n",
    "\n",
    "    def __getitem__(self, idx):\n",
    "        # Build the full path of the image file\n",
    "        # img_name = os.path.join(self.root_dir, self.image_names[idx])\n",
    "        # label = self.labels[idx]\n",
    "        # target_dist = self.target_dists[idx]\n",
    "        # image = Image.open(img_name).convert('RGB')  # Load image as RGB\n",
    "\n",
    "        # # Apply any transformations (e.g., resize, normalization)\n",
    "        # if self.transform:\n",
    "        #     image = self.transform(image)\n",
    "        \n",
    "        image_paths = self.data[idx]\n",
    "        images_1 = [imageio.imread(img_path).astype('uint8') for img_path in self.data[idx]]\n",
    "        images = [transforms.functional.to_pil_image(image) for image in images_1]\n",
    "        if self.transform:\n",
    "            images = [self.transform(image) for image in images]\n",
    "\n",
    "        label = self.labels[idx]\n",
    "        target_dist = self.target_dists[idx]\n",
    "        \n",
    "        tile_number = self.tile_numbers[idx]\n",
    "        # label = torch.tensor(self.labels[idx], dtype=torch.float32)\n",
    "        return images, torch.tensor(label), torch.tensor(target_dist), tile_number, image_paths\n",
    "\n",
    "        # return image, torch.tensor(label), torch.tensor(target_dist)"
   ]
  },
  {
   "cell_type": "code",
   "execution_count": 18,
   "id": "f892c82d-e848-41b8-9c58-98462f84401f",
   "metadata": {},
   "outputs": [],
   "source": [
    "root_dir = \"/home/macula/SMATousi/Gullies/ground_truth/organized_data/All_Pos_Neg/combined_folder_true_rgb/\"\n",
    "\n",
    "transform = transforms.Compose([\n",
    "        transforms.Resize((224, 224)),  # Resize images to 224x224 (example)\n",
    "        transforms.ToTensor(),          # Convert images to PyTorch tensors\n",
    "        # transforms.Normalize(mean=[0.485, 0.456, 0.406], std=[0.229, 0.224, 0.225])  # Normalize with ImageNet mean/std\n",
    "    ])\n",
    "\n",
    "probs_dev = label_model.predict_proba(L_train)\n",
    "label_model_predictions = probs_to_preds(probs_dev)"
   ]
  },
  {
   "cell_type": "code",
   "execution_count": 36,
   "id": "03c0e90b-c7be-44cf-bfe3-01a361aa2291",
   "metadata": {},
   "outputs": [],
   "source": [
    "dataset = ImageDataset(image_names=train_image_names, \n",
    "                       root_dir=root_dir, \n",
    "                       labels=label_model_predictions, \n",
    "                       target_dists=probs_dev, \n",
    "                       transform=transform)\n",
    "dataloader = DataLoader(dataset, batch_size=8, shuffle=True, num_workers=0)\n",
    "\n",
    "# dev_dataset = ImageDataset(image_names=dev_image_names, \n",
    "#                            root_dir=root_dir, \n",
    "#                            labels=Y_dev, \n",
    "#                            target_dists=probs_dev, \n",
    "#                            transform=transform)\n",
    "# dev_dataloader = DataLoader(dev_dataset, batch_size=8, shuffle=False, num_workers=4)"
   ]
  },
  {
   "cell_type": "code",
   "execution_count": null,
   "id": "3c23b909-cf72-49f2-b684-9c46346df43b",
   "metadata": {},
   "outputs": [],
   "source": [
    "train_iter = iter(dataloader)\n",
    "\n",
    "images, label, target_dists, tile_number, image_paths = next(train_iter)"
   ]
  },
  {
   "cell_type": "code",
   "execution_count": null,
   "id": "ae43b0b3-abec-4500-a90b-2aff295d1e73",
   "metadata": {},
   "outputs": [],
   "source": [
    "tile_number"
   ]
  },
  {
   "cell_type": "code",
   "execution_count": null,
   "id": "98e681e5-63f2-4f8c-9356-07444d18f504",
   "metadata": {},
   "outputs": [],
   "source": []
  },
  {
   "cell_type": "markdown",
   "id": "7bf71dc2-729a-4ba4-b8f4-33e438edc863",
   "metadata": {},
   "source": [
    "A basic ResNet"
   ]
  },
  {
   "cell_type": "code",
   "execution_count": 37,
   "id": "b4f13e49-02cb-4a0d-9e38-ebe167e96c28",
   "metadata": {},
   "outputs": [],
   "source": [
    "import torch\n",
    "import torch.nn as nn\n",
    "import torch.optim as optim\n",
    "from torchvision import models, transforms\n",
    "from torch.utils.data import DataLoader, Dataset\n",
    "from PIL import Image\n",
    "import torch\n",
    "import torch.nn.functional as F\n",
    "\n",
    "def expected_cross_entropy_loss(logits, target_distributions):\n",
    "    \"\"\"\n",
    "    Computes the expected cross-entropy loss for a batch of predictions and target distributions.\n",
    "\n",
    "    Parameters:\n",
    "    logits (torch.Tensor): The raw output from the model of shape (batch_size, num_classes).\n",
    "    target_distributions (torch.Tensor): The target class distributions of shape (batch_size, num_classes),\n",
    "                                         where each row is a probability distribution over classes.\n",
    "\n",
    "    Returns:\n",
    "    torch.Tensor: The expected cross-entropy loss.\n",
    "    \"\"\"\n",
    "    # Convert logits to log probabilities\n",
    "    log_probs = F.log_softmax(logits, dim=1)\n",
    "    \n",
    "    # Compute the element-wise product between target distributions and log probabilities\n",
    "    # Then, sum across classes to get the cross-entropy for each instance\n",
    "    cross_entropy = -torch.sum(target_distributions * log_probs, dim=1)\n",
    "    \n",
    "    # Take the mean over the batch\n",
    "    loss = cross_entropy.mean()\n",
    "    \n",
    "    return loss\n"
   ]
  },
  {
   "cell_type": "code",
   "execution_count": null,
   "id": "17dfac98-4198-4130-9117-060ff4c51175",
   "metadata": {
    "scrolled": true
   },
   "outputs": [],
   "source": [
    "\n"
   ]
  },
  {
   "cell_type": "code",
   "execution_count": 38,
   "id": "0bcf001b-a515-4e9f-8d4e-2bf5114600b4",
   "metadata": {},
   "outputs": [],
   "source": [
    "from tqdm import tqdm\n",
    "# Function to evaluate the model on the dev set\n",
    "def evaluate(model, dev_loader, device):\n",
    "    model.eval()  # Set the model to evaluation mode\n",
    "    all_labels = []\n",
    "    all_preds = []\n",
    "\n",
    "    with torch.no_grad():  # Disable gradient computation\n",
    "        for images, labels, target_dist, _, _ in tqdm(dev_loader):\n",
    "            labels =  labels.to(device)\n",
    "            list_of_images = [image.to(device) for image in images]\n",
    "\n",
    "            # Forward pass to get outputs\n",
    "            outputs = model(list_of_images)\n",
    "\n",
    "            # Get predictions (class with the highest score)\n",
    "            _, predicted = torch.max(outputs.data, 1)\n",
    "\n",
    "            # Store true labels and predictions\n",
    "            all_labels.extend(labels.cpu().numpy())\n",
    "            all_preds.extend(predicted.cpu().numpy())\n",
    "\n",
    "    return np.array(all_labels), np.array(all_preds)\n",
    "    \n",
    "def train(model, train_loader, criterion, optimizer, device, epochs):\n",
    "    model.train()  # Set the model to training mode\n",
    "    for epoch in range(epochs):\n",
    "        running_loss = 0.0\n",
    "        correct = 0\n",
    "        total = 0\n",
    "\n",
    "        for images, labels, target_dist, _, _ in tqdm(train_loader):\n",
    "            labels, target_dist = labels.to(device), target_dist.to(device)\n",
    "            # print(labels)\n",
    "            list_of_images = [image.to(device) for image in images]\n",
    "\n",
    "            optimizer.zero_grad()  # Clear the gradients\n",
    "\n",
    "            outputs = model(list_of_images)  # Forward pass\n",
    "            # print(outputs)\n",
    "            \n",
    "            # loss = criterion(outputs, labels)  # Compute the loss\n",
    "            loss = expected_cross_entropy_loss(outputs, target_dist)\n",
    "\n",
    "            loss.backward()  # Backward pass\n",
    "            optimizer.step()  # Update the weights\n",
    "\n",
    "            # Calculate running loss and accuracy\n",
    "            running_loss += loss.item()\n",
    "            _, predicted = torch.max(outputs.data, 1)\n",
    "            total += labels.size(0)\n",
    "            correct += (predicted == labels).sum().item()\n",
    "\n",
    "        epoch_loss = running_loss / len(train_loader)\n",
    "        accuracy = 100 * correct / total\n",
    "\n",
    "        print(f\"Epoch [{epoch + 1}/{epochs}], Loss: {epoch_loss:.4f}, Accuracy: {accuracy:.2f}%\")\n",
    "        # labels, predictions = evaluate(model, dev_dataloader, device)\n",
    "\n",
    "        # Calculate and print precision, recall, and F1-score\n",
    "        # calculate_metrics(labels, predictions)\n",
    "        metrics = calculate_metrics(labels, predictions)\n",
    "        for metric, value in metrics.items():\n",
    "            print(f\"{metric}: {value}\")\n"
   ]
  },
  {
   "cell_type": "code",
   "execution_count": 39,
   "id": "85337a25-23c3-4bdb-98c6-3f921342c85a",
   "metadata": {},
   "outputs": [
    {
     "name": "stderr",
     "output_type": "stream",
     "text": [
      "  0%|                                                                                                                   | 0/1065 [00:00<?, ?it/s]/tmp/ipykernel_3033925/1487039160.py:67: DeprecationWarning: Starting with ImageIO v3 the behavior of this function will switch to that of iio.v3.imread. To keep the current behavior (and make this warning disappear) use `import imageio.v2 as imageio` or call `imageio.v2.imread` directly.\n",
      "  images_1 = [imageio.imread(img_path).astype('uint8') for img_path in self.data[idx]]\n",
      "100%|████████████████████████████████████████████████████████████████████████████████████████████████████████| 1065/1065 [04:33<00:00,  3.89it/s]"
     ]
    },
    {
     "name": "stdout",
     "output_type": "stream",
     "text": [
      "Epoch [1/10], Loss: 0.0000, Accuracy: 42.43%\n"
     ]
    },
    {
     "name": "stderr",
     "output_type": "stream",
     "text": [
      "\n"
     ]
    },
    {
     "ename": "KeyError",
     "evalue": "True",
     "output_type": "error",
     "traceback": [
      "\u001b[0;31m---------------------------------------------------------------------------\u001b[0m",
      "\u001b[0;31mKeyError\u001b[0m                                  Traceback (most recent call last)",
      "Cell \u001b[0;32mIn[39], line 19\u001b[0m\n\u001b[1;32m     17\u001b[0m \u001b[38;5;66;03m# Train the model\u001b[39;00m\n\u001b[1;32m     18\u001b[0m epochs \u001b[38;5;241m=\u001b[39m \u001b[38;5;241m10\u001b[39m\n\u001b[0;32m---> 19\u001b[0m \u001b[43mtrain\u001b[49m\u001b[43m(\u001b[49m\u001b[43mmodel\u001b[49m\u001b[43m,\u001b[49m\u001b[43m \u001b[49m\u001b[43mdataloader\u001b[49m\u001b[43m,\u001b[49m\u001b[43m \u001b[49m\u001b[43mcriterion\u001b[49m\u001b[43m,\u001b[49m\u001b[43m \u001b[49m\u001b[43moptimizer\u001b[49m\u001b[43m,\u001b[49m\u001b[43m \u001b[49m\u001b[43mdevice\u001b[49m\u001b[43m,\u001b[49m\u001b[43m \u001b[49m\u001b[43mepochs\u001b[49m\u001b[43m)\u001b[49m\n",
      "Cell \u001b[0;32mIn[38], line 62\u001b[0m, in \u001b[0;36mtrain\u001b[0;34m(model, train_loader, criterion, optimizer, device, epochs)\u001b[0m\n\u001b[1;32m     57\u001b[0m \u001b[38;5;28mprint\u001b[39m(\u001b[38;5;124mf\u001b[39m\u001b[38;5;124m\"\u001b[39m\u001b[38;5;124mEpoch [\u001b[39m\u001b[38;5;132;01m{\u001b[39;00mepoch\u001b[38;5;250m \u001b[39m\u001b[38;5;241m+\u001b[39m\u001b[38;5;250m \u001b[39m\u001b[38;5;241m1\u001b[39m\u001b[38;5;132;01m}\u001b[39;00m\u001b[38;5;124m/\u001b[39m\u001b[38;5;132;01m{\u001b[39;00mepochs\u001b[38;5;132;01m}\u001b[39;00m\u001b[38;5;124m], Loss: \u001b[39m\u001b[38;5;132;01m{\u001b[39;00mepoch_loss\u001b[38;5;132;01m:\u001b[39;00m\u001b[38;5;124m.4f\u001b[39m\u001b[38;5;132;01m}\u001b[39;00m\u001b[38;5;124m, Accuracy: \u001b[39m\u001b[38;5;132;01m{\u001b[39;00maccuracy\u001b[38;5;132;01m:\u001b[39;00m\u001b[38;5;124m.2f\u001b[39m\u001b[38;5;132;01m}\u001b[39;00m\u001b[38;5;124m%\u001b[39m\u001b[38;5;124m\"\u001b[39m)\n\u001b[1;32m     58\u001b[0m \u001b[38;5;66;03m# labels, predictions = evaluate(model, dev_dataloader, device)\u001b[39;00m\n\u001b[1;32m     59\u001b[0m \n\u001b[1;32m     60\u001b[0m \u001b[38;5;66;03m# Calculate and print precision, recall, and F1-score\u001b[39;00m\n\u001b[1;32m     61\u001b[0m \u001b[38;5;66;03m# calculate_metrics(labels, predictions)\u001b[39;00m\n\u001b[0;32m---> 62\u001b[0m metrics \u001b[38;5;241m=\u001b[39m \u001b[43mcalculate_metrics\u001b[49m\u001b[43m(\u001b[49m\u001b[43mlabels\u001b[49m\u001b[43m,\u001b[49m\u001b[43m \u001b[49m\u001b[43mpredictions\u001b[49m\u001b[43m)\u001b[49m\n\u001b[1;32m     63\u001b[0m \u001b[38;5;28;01mfor\u001b[39;00m metric, value \u001b[38;5;129;01min\u001b[39;00m metrics\u001b[38;5;241m.\u001b[39mitems():\n\u001b[1;32m     64\u001b[0m     \u001b[38;5;28mprint\u001b[39m(\u001b[38;5;124mf\u001b[39m\u001b[38;5;124m\"\u001b[39m\u001b[38;5;132;01m{\u001b[39;00mmetric\u001b[38;5;132;01m}\u001b[39;00m\u001b[38;5;124m: \u001b[39m\u001b[38;5;132;01m{\u001b[39;00mvalue\u001b[38;5;132;01m}\u001b[39;00m\u001b[38;5;124m\"\u001b[39m)\n",
      "Cell \u001b[0;32mIn[8], line 8\u001b[0m, in \u001b[0;36mcalculate_metrics\u001b[0;34m(y_true, y_pred, abstain_class)\u001b[0m\n\u001b[1;32m      6\u001b[0m valid_indices \u001b[38;5;241m=\u001b[39m y_pred \u001b[38;5;241m!=\u001b[39m abstain_class\n\u001b[1;32m      7\u001b[0m y_true_filtered \u001b[38;5;241m=\u001b[39m y_true[valid_indices]\n\u001b[0;32m----> 8\u001b[0m y_pred_filtered \u001b[38;5;241m=\u001b[39m \u001b[43my_pred\u001b[49m\u001b[43m[\u001b[49m\u001b[43mvalid_indices\u001b[49m\u001b[43m]\u001b[49m\n\u001b[1;32m     10\u001b[0m \u001b[38;5;66;03m# Compute metrics\u001b[39;00m\n\u001b[1;32m     11\u001b[0m conf_matrix \u001b[38;5;241m=\u001b[39m confusion_matrix(y_true_filtered, y_pred_filtered)\n",
      "\u001b[0;31mKeyError\u001b[0m: True"
     ]
    }
   ],
   "source": [
    "\n",
    "device = torch.device(\"cuda\" if torch.cuda.is_available() else \"cpu\")\n",
    "# device = 'cpu'\n",
    "\n",
    "resnet_extractor = ResNetFeatureExtractor()\n",
    "mlp_classifier = MLPClassifier(input_size=6*2048, hidden_size=512, output_size=1)\n",
    "\n",
    "model = Gully_Classifier(input_size=6*2048, hidden_size=512, output_size=1).to(device)\n",
    "# model = Gully_Classifier(input_size=6*2048, hidden_size=512, output_size=1)\n",
    "\n",
    "# device = torch.device('cuda' if torch.cuda.is_available() else 'cpu')\n",
    "# model.to(device)\n",
    "\n",
    "# Loss and optimizer\n",
    "criterion = nn.BCEWithLogitsLoss()  # Binary classification loss\n",
    "optimizer = optim.Adam(model.parameters(), lr=0.0001)  # Only optimize the MLP parameters\n",
    "\n",
    "# Train the model\n",
    "epochs = 10\n",
    "train(model, dataloader, criterion, optimizer, device, epochs)\n"
   ]
  },
  {
   "cell_type": "markdown",
   "id": "5cea2d27-e855-481d-9df1-490cf74feb7d",
   "metadata": {},
   "source": [
    "Evaluation ..."
   ]
  },
  {
   "cell_type": "code",
   "execution_count": null,
   "id": "dd333283-c836-4eac-b7f3-44892acf6a64",
   "metadata": {},
   "outputs": [],
   "source": [
    "import torch\n",
    "from torch.utils.data import DataLoader\n",
    "from sklearn.metrics import precision_score, recall_score, f1_score\n",
    "import numpy as np\n",
    "\n",
    "# Function to evaluate the model on the dev set\n",
    "def evaluate(model, dev_loader, device):\n",
    "    model.eval()  # Set the model to evaluation mode\n",
    "    all_labels = []\n",
    "    all_preds = []\n",
    "\n",
    "    with torch.no_grad():  # Disable gradient computation\n",
    "        for images, labels, target_dist in tqdm(dev_loader):\n",
    "            images, labels = images.to(device), labels.to(device)\n",
    "\n",
    "            # Forward pass to get outputs\n",
    "            outputs = model(images)\n",
    "\n",
    "            # Get predictions (class with the highest score)\n",
    "            _, predicted = torch.max(outputs.data, 1)\n",
    "\n",
    "            # Store true labels and predictions\n",
    "            all_labels.extend(labels.cpu().numpy())\n",
    "            all_preds.extend(predicted.cpu().numpy())\n",
    "\n",
    "    return np.array(all_labels), np.array(all_preds)\n",
    "\n",
    "# Function to calculate precision, recall, and F1 score\n",
    "def calculate_metrics(labels, predictions):\n",
    "    precision = precision_score(labels, predictions)\n",
    "    recall = recall_score(labels, predictions)\n",
    "    f1 = f1_score(labels, predictions)\n",
    "    \n",
    "    print(f\"Precision: {precision:.4f}\")\n",
    "    print(f\"Recall: {recall:.4f}\")\n",
    "    print(f\"F1 Score: {f1:.4f}\")\n",
    "\n",
    "    return precision, recall, f1"
   ]
  },
  {
   "cell_type": "code",
   "execution_count": null,
   "id": "7526a040-0b04-4da3-8289-ffb05d17a3eb",
   "metadata": {},
   "outputs": [],
   "source": [
    "dev_dataset = ImageDataset(image_names=dev_image_names, root_dir=root_dir, labels=Y_dev, target_dists=probs_dev, transform=transform)\n",
    "dev_dataloader = DataLoader(dev_dataset, batch_size=8, shuffle=False, num_workers=4)"
   ]
  },
  {
   "cell_type": "code",
   "execution_count": null,
   "id": "2d0443e3-46ec-44ac-af0c-06375b1924b0",
   "metadata": {},
   "outputs": [],
   "source": [
    "labels, predictions = evaluate(model, dev_dataloader, device)\n",
    "\n",
    "# Calculate and print precision, recall, and F1-score\n",
    "# calculate_metrics(labels, predictions)\n",
    "metrics = calculate_metrics(labels, predictions)\n",
    "for metric, value in metrics.items():\n",
    "    print(f\"{metric}: {value}\")"
   ]
  },
  {
   "cell_type": "markdown",
   "id": "cca419d4-c42f-4c8f-a056-1d222c5a656f",
   "metadata": {},
   "source": [
    "Training the CLIP+MLP model"
   ]
  },
  {
   "cell_type": "code",
   "execution_count": null,
   "id": "63738088-381e-45ee-9d8b-cf80e44b11bc",
   "metadata": {},
   "outputs": [],
   "source": []
  }
 ],
 "metadata": {
  "kernelspec": {
   "display_name": "Python 3 (ipykernel)",
   "language": "python",
   "name": "python3"
  },
  "language_info": {
   "codemirror_mode": {
    "name": "ipython",
    "version": 3
   },
   "file_extension": ".py",
   "mimetype": "text/x-python",
   "name": "python",
   "nbconvert_exporter": "python",
   "pygments_lexer": "ipython3",
   "version": "3.12.3"
  }
 },
 "nbformat": 4,
 "nbformat_minor": 5
}
