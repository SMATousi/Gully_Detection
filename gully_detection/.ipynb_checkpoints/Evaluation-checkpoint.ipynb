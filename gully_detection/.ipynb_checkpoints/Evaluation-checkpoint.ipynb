{
 "cells": [
  {
   "cell_type": "code",
   "execution_count": 1,
   "id": "b226b718",
   "metadata": {},
   "outputs": [],
   "source": [
    "import os\n",
    "import torch\n",
    "import torch.nn as nn\n",
    "import torch.optim as optim\n",
    "from torch.utils.data import DataLoader, random_split\n",
    "from torchvision import transforms\n",
    "from sklearn.model_selection import train_test_split\n",
    "import random\n",
    "import numpy as np\n",
    "from tqdm import tqdm\n",
    "import argparse\n",
    "import wandb\n",
    "from accelerate import Accelerator\n",
    "from accelerate.utils import DistributedDataParallelKwargs\n",
    "import rasterio\n",
    "from model import *\n",
    "from dataset import *\n",
    "from utils import *\n",
    "from sklearn.metrics import precision_score, recall_score, f1_score"
   ]
  },
  {
   "cell_type": "code",
   "execution_count": 2,
   "id": "1efd8044",
   "metadata": {},
   "outputs": [],
   "source": [
    "np.random.seed(0)\n",
    "torch.manual_seed(0)\n",
    "torch.backends.cudnn.deterministic = True\n",
    "torch.backends.cudnn.benchmark = False"
   ]
  },
  {
   "cell_type": "code",
   "execution_count": 3,
   "id": "f55fc5a3",
   "metadata": {},
   "outputs": [],
   "source": [
    "class SixImageDataset_DEM_GT_Geo(Dataset):\n",
    "    def __init__(self, pos_dir, \n",
    "                 neg_dir, \n",
    "                 pos_dem_dir, \n",
    "                 neg_dem_dir, \n",
    "                 pos_gt_mask_dir, \n",
    "                 neg_gt_mask_dir, \n",
    "                 transform=None):\n",
    "        self.data = []\n",
    "        self.labels = []\n",
    "        self.dem_paths = []\n",
    "        self.gt_mask_paths = []\n",
    "        self.geo_info = []\n",
    "\n",
    "        # Load all files and group by tiles\n",
    "        pos_files = [f for f in os.listdir(pos_dir) if f.endswith('.tif')]\n",
    "        neg_files = [f for f in os.listdir(neg_dir) if f.endswith('.tif')]\n",
    "        pos_tiles = self.group_files_by_tile(pos_files)\n",
    "        neg_tiles = self.group_files_by_tile(neg_files)\n",
    "\n",
    "        # Handle class imbalance by oversampling the minority class\n",
    "        max_len = max(len(pos_tiles), len(neg_tiles))\n",
    "        if len(pos_tiles) > len(neg_tiles):\n",
    "            neg_tiles = self.oversample(neg_tiles, max_len)\n",
    "        else:\n",
    "            pos_tiles = self.oversample(pos_tiles, max_len)\n",
    "\n",
    "        # Combine and store\n",
    "        self.store_tiles(pos_tiles, pos_dir, pos_dem_dir, pos_gt_mask_dir, 1)\n",
    "        self.store_tiles(neg_tiles, neg_dir, neg_dem_dir, neg_gt_mask_dir, 0)\n",
    "        \n",
    "        self.transform = transform\n",
    "\n",
    "    def group_files_by_tile(self, files):\n",
    "        tile_dict = {}\n",
    "        for file in files:\n",
    "            tile_number = file.split('_')[-1].split('.')[0]\n",
    "            if tile_number not in tile_dict:\n",
    "                tile_dict[tile_number] = []\n",
    "            tile_dict[tile_number].append(file)\n",
    "        # Only include complete groups\n",
    "        return [tile for tile in tile_dict.values() if len(tile) == 6]\n",
    "\n",
    "    def oversample(self, tiles, target_length):\n",
    "        # Repeat tiles until the desired length is achieved\n",
    "        return random.choices(tiles, k=target_length)\n",
    "\n",
    "    def store_tiles(self, tiles, directory, dem_dir, gt_mask_dir, label):\n",
    "        for tile_files in tiles:\n",
    "            tile_number = tile_files[0].split('_')[-1].split('.')[0]\n",
    "            self.data.append([os.path.join(directory, f) for f in sorted(tile_files)])\n",
    "            self.dem_paths.append(os.path.join(dem_dir, f\"dem_tile_{tile_number}.tif\"))\n",
    "            if label == 1:\n",
    "                self.gt_mask_paths.append(os.path.join(gt_mask_dir, f\"ground_truth_tile_{tile_number}.tif\"))\n",
    "            else: \n",
    "                self.gt_mask_paths.append(os.path.join(gt_mask_dir, f\"negative_ground_truth_tile_{tile_number}.tif\"))\n",
    "            self.labels.append(label)\n",
    "            self.geo_info.append(self.extract_geo_info(os.path.join(directory, tile_files[0])))\n",
    "\n",
    "    def extract_geo_info(self, file_path):\n",
    "        with rasterio.open(file_path) as dataset:\n",
    "            geo_transform = dataset.transform\n",
    "            crs = dataset.crs\n",
    "        return {'geo_transform': geo_transform, 'crs': crs}\n",
    "\n",
    "    def __len__(self):\n",
    "        return len(self.data)\n",
    "\n",
    "    def __getitem__(self, idx):\n",
    "        images_1 = [imageio.imread(img_path).astype('uint8') for img_path in self.data[idx]]\n",
    "        images = [transforms.functional.to_pil_image(image) for image in images_1]\n",
    "        dem_image = transforms.functional.to_pil_image(imageio.imread(self.dem_paths[idx]).astype('uint8'))\n",
    "        gt_mask = transforms.functional.to_pil_image(imageio.imread(self.gt_mask_paths[idx]).astype('uint8'))\n",
    "        if self.transform:\n",
    "            images = [self.transform(image) for image in images]\n",
    "            dem_image = self.transform(dem_image)\n",
    "            gt_mask = self.transform(gt_mask)\n",
    "        label = torch.tensor(self.labels[idx], dtype=torch.float32)\n",
    "        geo_info = self.geo_info[idx]\n",
    "        return images, dem_image, gt_mask, label, geo_info"
   ]
  },
  {
   "cell_type": "code",
   "execution_count": 4,
   "id": "c6efdb7e",
   "metadata": {},
   "outputs": [],
   "source": [
    "pos_dir = '/home/macula/SMATousi/Gullies/ground_truth/organized_data/All_Pos_Neg/all_pos/rgb_images/'\n",
    "neg_dir = '/home/macula/SMATousi/Gullies/ground_truth/organized_data/All_Pos_Neg/all_neg/rgb_images/'\n",
    "\n",
    "pos_dem_dir = '/home/macula/SMATousi/Gullies/ground_truth/organized_data/All_Pos_Neg/all_pos/dem/'\n",
    "neg_dem_dir = '/home/macula/SMATousi/Gullies/ground_truth/organized_data/All_Pos_Neg/all_neg/dem/'\n",
    "\n",
    "pos_gt_mask_dir = '/home/macula/SMATousi/Gullies/ground_truth/organized_data/All_Pos_Neg/all_pos/ground_truth/'\n",
    "neg_gt_mask_dir = '/home/macula/SMATousi/Gullies/ground_truth/organized_data/All_Pos_Neg/all_neg/ground_truth/'\n"
   ]
  },
  {
   "cell_type": "code",
   "execution_count": 7,
   "id": "b5f3cc37",
   "metadata": {},
   "outputs": [],
   "source": [
    "transform = transforms.Compose([\n",
    "    transforms.Resize((128, 128)),\n",
    "    transforms.ToTensor()\n",
    "])\n",
    "\n",
    "full_dataset = SixImageDataset_DEM_GT_Geo(pos_dir, \n",
    "                             neg_dir, \n",
    "                             pos_dem_dir,\n",
    "                             neg_dem_dir,\n",
    "                             pos_gt_mask_dir,\n",
    "                             neg_gt_mask_dir,\n",
    "                             transform=transform)"
   ]
  },
  {
   "cell_type": "code",
   "execution_count": 9,
   "id": "6f4a128b",
   "metadata": {},
   "outputs": [],
   "source": [
    "arg_batch_size = 1\n",
    "learning_rate = 0.0001\n",
    "epochs = 1\n",
    "number_of_workers = 0\n",
    "# image_size = arg_imagesize\n",
    "val_percent = 0.1"
   ]
  },
  {
   "cell_type": "code",
   "execution_count": 10,
   "id": "36c5c91b",
   "metadata": {},
   "outputs": [],
   "source": [
    "n_val = int(len(full_dataset) * val_percent)\n",
    "n_train = len(full_dataset) - n_val\n",
    "train, val = random_split(full_dataset, [n_train, n_val])\n",
    "\n",
    "train_loader = DataLoader(train, batch_size=arg_batch_size, shuffle=True, num_workers=number_of_workers, pin_memory=True)\n",
    "val_loader = DataLoader(val, batch_size=arg_batch_size, shuffle=False, num_workers=number_of_workers, pin_memory=True, drop_last=True)\n",
    "    "
   ]
  },
  {
   "cell_type": "code",
   "execution_count": 11,
   "id": "c53d6282",
   "metadata": {},
   "outputs": [
    {
     "name": "stderr",
     "output_type": "stream",
     "text": [
      "/home/macula/SMATousi/.conda/envs/mac-deep/lib/python3.7/site-packages/torchvision/models/_utils.py:209: UserWarning: The parameter 'pretrained' is deprecated since 0.13 and may be removed in the future, please use 'weights' instead.\n",
      "  f\"The parameter '{pretrained_param}' is deprecated since 0.13 and may be removed in the future, \"\n",
      "/home/macula/SMATousi/.conda/envs/mac-deep/lib/python3.7/site-packages/torchvision/models/_utils.py:223: UserWarning: Arguments other than a weight enum or `None` for 'weights' are deprecated since 0.13 and may be removed in the future. The current behavior is equivalent to passing `weights=ResNet50_Weights.IMAGENET1K_V1`. You can also use `weights=ResNet50_Weights.DEFAULT` to get the most up-to-date weights.\n",
      "  warnings.warn(msg)\n"
     ]
    }
   ],
   "source": [
    "model = Gully_Classifier(input_size=6*2048, hidden_size=512, output_size=1)"
   ]
  },
  {
   "cell_type": "code",
   "execution_count": null,
   "id": "33fd32a5",
   "metadata": {},
   "outputs": [],
   "source": []
  }
 ],
 "metadata": {
  "kernelspec": {
   "display_name": "Python 3 (ipykernel)",
   "language": "python",
   "name": "python3"
  },
  "language_info": {
   "codemirror_mode": {
    "name": "ipython",
    "version": 3
   },
   "file_extension": ".py",
   "mimetype": "text/x-python",
   "name": "python",
   "nbconvert_exporter": "python",
   "pygments_lexer": "ipython3",
   "version": "3.7.13"
  }
 },
 "nbformat": 4,
 "nbformat_minor": 5
}
