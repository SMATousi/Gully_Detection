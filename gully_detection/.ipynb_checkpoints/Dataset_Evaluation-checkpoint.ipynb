{
 "cells": [
  {
   "cell_type": "code",
   "execution_count": 1,
   "id": "7e4c84d0",
   "metadata": {},
   "outputs": [],
   "source": [
    "import os\n",
    "import torch\n",
    "import torch.nn as nn\n",
    "import torch.optim as optim\n",
    "from torch.utils.data import DataLoader, random_split\n",
    "from torchvision import transforms\n",
    "from sklearn.model_selection import train_test_split\n",
    "import random\n",
    "import numpy as np\n",
    "from tqdm import tqdm\n",
    "import argparse\n",
    "import wandb\n",
    "from accelerate import Accelerator\n",
    "from accelerate.utils import DistributedDataParallelKwargs\n",
    "from model import *\n",
    "from dataset import *\n",
    "from utils import *\n",
    "from sklearn.metrics import precision_score, recall_score, f1_score\n"
   ]
  },
  {
   "cell_type": "code",
   "execution_count": 2,
   "id": "ed47f1db",
   "metadata": {},
   "outputs": [],
   "source": [
    "np.random.seed(0)\n",
    "torch.manual_seed(0)\n",
    "torch.backends.cudnn.deterministic = True\n",
    "torch.backends.cudnn.benchmark = False"
   ]
  },
  {
   "cell_type": "code",
   "execution_count": 3,
   "id": "3c93482c",
   "metadata": {},
   "outputs": [],
   "source": [
    "pos_dir = '/home/macula/SMATousi/Gullies/ground_truth/organized_data/All_Pos_Neg/all_pos/rgb_images/'\n",
    "neg_dir = '/home/macula/SMATousi/Gullies/ground_truth/organized_data/All_Pos_Neg/all_neg/rgb_images/'\n",
    "\n",
    "pos_dem_dir = '/home/macula/SMATousi/Gullies/ground_truth/organized_data/All_Pos_Neg/all_pos/dem/'\n",
    "neg_dem_dir = '/home/macula/SMATousi/Gullies/ground_truth/organized_data/All_Pos_Neg/all_neg/dem/'\n",
    "\n",
    "pos_gt_mask_dir = '/home/macula/SMATousi/Gullies/ground_truth/organized_data/All_Pos_Neg/all_pos/ground_truth/'\n",
    "neg_gt_mask_dir = '/home/macula/SMATousi/Gullies/ground_truth/organized_data/All_Pos_Neg/all_neg/ground_truth/'"
   ]
  },
  {
   "cell_type": "code",
   "execution_count": 13,
   "id": "bd9b90ae",
   "metadata": {},
   "outputs": [],
   "source": [
    "arg_batch_size = 128\n",
    "learning_rate = 0.0001\n",
    "epochs = 1\n",
    "number_of_workers = 0\n",
    "# image_size = arg_imagesize\n",
    "val_percent = 0.1\n",
    "\n",
    "\n",
    "transform = transforms.Compose([\n",
    "    transforms.Resize((128, 128)),\n",
    "    transforms.ToTensor()\n",
    "])\n",
    "\n",
    "full_dataset = SixImageDataset_DEM_GT(pos_dir, \n",
    "                             neg_dir, \n",
    "                             pos_dem_dir,\n",
    "                             neg_dem_dir,\n",
    "                             pos_gt_mask_dir,\n",
    "                             neg_gt_mask_dir,\n",
    "                             transform=transform)"
   ]
  },
  {
   "cell_type": "code",
   "execution_count": 14,
   "id": "2c585b27",
   "metadata": {},
   "outputs": [],
   "source": [
    "n_val = int(len(full_dataset) * val_percent)\n",
    "n_train = len(full_dataset) - n_val\n",
    "train, val = random_split(full_dataset, [n_train, n_val])\n",
    "\n",
    "train_loader = DataLoader(train, batch_size=arg_batch_size, shuffle=True, num_workers=number_of_workers, pin_memory=True)\n",
    "val_loader = DataLoader(val, batch_size=arg_batch_size, shuffle=False, num_workers=number_of_workers, pin_memory=True, drop_last=True)\n",
    "    \n",
    "    "
   ]
  },
  {
   "cell_type": "code",
   "execution_count": 6,
   "id": "c9a5f2f6",
   "metadata": {},
   "outputs": [
    {
     "name": "stderr",
     "output_type": "stream",
     "text": [
      "/home/macula/SMATousi/.conda/envs/mac-deep/lib/python3.7/site-packages/torchvision/models/_utils.py:209: UserWarning: The parameter 'pretrained' is deprecated since 0.13 and may be removed in the future, please use 'weights' instead.\n",
      "  f\"The parameter '{pretrained_param}' is deprecated since 0.13 and may be removed in the future, \"\n",
      "/home/macula/SMATousi/.conda/envs/mac-deep/lib/python3.7/site-packages/torchvision/models/_utils.py:223: UserWarning: Arguments other than a weight enum or `None` for 'weights' are deprecated since 0.13 and may be removed in the future. The current behavior is equivalent to passing `weights=ResNet50_Weights.IMAGENET1K_V1`. You can also use `weights=ResNet50_Weights.DEFAULT` to get the most up-to-date weights.\n",
      "  warnings.warn(msg)\n"
     ]
    }
   ],
   "source": [
    "model = Gully_Classifier(input_size=6*2048, hidden_size=512, output_size=1)"
   ]
  },
  {
   "cell_type": "code",
   "execution_count": 15,
   "id": "0fd75933",
   "metadata": {},
   "outputs": [
    {
     "name": "stderr",
     "output_type": "stream",
     "text": [
      "100%|███████████████████████████████████████████| 64/64 [10:43<00:00, 10.06s/it]\n"
     ]
    }
   ],
   "source": [
    "total_labels = []\n",
    "\n",
    "for batch in tqdm(train_loader):\n",
    "    images, dem_images, gt_masks, labels = batch\n",
    "\n",
    "    # features = [resnet_extractor(image) for image in images]\n",
    "    # stacked_features = torch.stack(features, dim=1)\n",
    "    # output = mlp_classifier(stacked_features)\n",
    "    \n",
    "    total_labels.extend(labels)"
   ]
  },
  {
   "cell_type": "code",
   "execution_count": 19,
   "id": "1675610d",
   "metadata": {},
   "outputs": [
    {
     "data": {
      "text/plain": [
       "4051.0"
      ]
     },
     "execution_count": 19,
     "metadata": {},
     "output_type": "execute_result"
    }
   ],
   "source": [
    "np.sum(total_labels)"
   ]
  },
  {
   "cell_type": "code",
   "execution_count": 21,
   "id": "83bbc50b",
   "metadata": {},
   "outputs": [
    {
     "data": {
      "text/plain": [
       "4080.0"
      ]
     },
     "execution_count": 21,
     "metadata": {},
     "output_type": "execute_result"
    }
   ],
   "source": [
    "len(total_labels) - np.sum(total_labels)"
   ]
  },
  {
   "cell_type": "code",
   "execution_count": 22,
   "id": "d934e45c",
   "metadata": {},
   "outputs": [
    {
     "name": "stderr",
     "output_type": "stream",
     "text": [
      "100%|█████████████████████████████████████████████| 7/7 [01:04<00:00,  9.20s/it]\n"
     ]
    }
   ],
   "source": [
    "val_total_labels = []\n",
    "\n",
    "for batch in tqdm(val_loader):\n",
    "    images, dem_images, gt_masks, labels = batch\n",
    "\n",
    "    # features = [resnet_extractor(image) for image in images]\n",
    "    # stacked_features = torch.stack(features, dim=1)\n",
    "    # output = mlp_classifier(stacked_features)\n",
    "    \n",
    "    val_total_labels.extend(labels)"
   ]
  },
  {
   "cell_type": "code",
   "execution_count": 24,
   "id": "8293f56b",
   "metadata": {},
   "outputs": [
    {
     "data": {
      "text/plain": [
       "896"
      ]
     },
     "execution_count": 24,
     "metadata": {},
     "output_type": "execute_result"
    }
   ],
   "source": [
    "len(val_total_labels)"
   ]
  },
  {
   "cell_type": "code",
   "execution_count": 26,
   "id": "8cbbf4a2",
   "metadata": {},
   "outputs": [
    {
     "data": {
      "text/plain": [
       "462.0"
      ]
     },
     "execution_count": 26,
     "metadata": {},
     "output_type": "execute_result"
    }
   ],
   "source": [
    "np.sum(val_total_labels)"
   ]
  },
  {
   "cell_type": "code",
   "execution_count": null,
   "id": "8ed50ff6",
   "metadata": {},
   "outputs": [],
   "source": []
  }
 ],
 "metadata": {
  "kernelspec": {
   "display_name": "Python 3 (ipykernel)",
   "language": "python",
   "name": "python3"
  },
  "language_info": {
   "codemirror_mode": {
    "name": "ipython",
    "version": 3
   },
   "file_extension": ".py",
   "mimetype": "text/x-python",
   "name": "python",
   "nbconvert_exporter": "python",
   "pygments_lexer": "ipython3",
   "version": "3.7.13"
  }
 },
 "nbformat": 4,
 "nbformat_minor": 5
}
