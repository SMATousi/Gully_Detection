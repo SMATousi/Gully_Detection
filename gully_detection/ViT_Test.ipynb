{
 "cells": [
  {
   "cell_type": "code",
   "execution_count": 1,
   "id": "e3d996da-db22-4d2e-962c-a66cbd180b1a",
   "metadata": {},
   "outputs": [
    {
     "name": "stderr",
     "output_type": "stream",
     "text": [
      "2025-02-24 11:39:59.253900: I tensorflow/core/util/port.cc:153] oneDNN custom operations are on. You may see slightly different numerical results due to floating-point round-off errors from different computation orders. To turn them off, set the environment variable `TF_ENABLE_ONEDNN_OPTS=0`.\n",
      "2025-02-24 11:40:08.503408: E external/local_xla/xla/stream_executor/cuda/cuda_fft.cc:485] Unable to register cuFFT factory: Attempting to register factory for plugin cuFFT when one has already been registered\n",
      "2025-02-24 11:40:11.722625: E external/local_xla/xla/stream_executor/cuda/cuda_dnn.cc:8454] Unable to register cuDNN factory: Attempting to register factory for plugin cuDNN when one has already been registered\n",
      "2025-02-24 11:40:12.848203: E external/local_xla/xla/stream_executor/cuda/cuda_blas.cc:1452] Unable to register cuBLAS factory: Attempting to register factory for plugin cuBLAS when one has already been registered\n",
      "2025-02-24 11:40:19.802806: I tensorflow/core/platform/cpu_feature_guard.cc:210] This TensorFlow binary is optimized to use available CPU instructions in performance-critical operations.\n",
      "To enable the following instructions: AVX2 AVX_VNNI FMA, in other operations, rebuild TensorFlow with the appropriate compiler flags.\n",
      "2025-02-24 11:40:30.966836: W tensorflow/compiler/tf2tensorrt/utils/py_utils.cc:38] TF-TRT Warning: Could not find TensorRT\n"
     ]
    }
   ],
   "source": [
    "import torch\n",
    "from transformers import ViTForImageClassification, ViTFeatureExtractor\n",
    "from torch import nn\n"
   ]
  },
  {
   "cell_type": "code",
   "execution_count": 67,
   "id": "05538087-e842-4e60-be95-8bb250eed6ca",
   "metadata": {},
   "outputs": [
    {
     "name": "stderr",
     "output_type": "stream",
     "text": [
      "Some weights of ViTForImageClassification were not initialized from the model checkpoint at google/vit-base-patch16-224-in21k and are newly initialized: ['classifier.bias', 'classifier.weight']\n",
      "You should probably TRAIN this model on a down-stream task to be able to use it for predictions and inference.\n",
      "/home/macula/SMATousi/.conda/envs/snorkel/lib/python3.12/site-packages/transformers/models/vit/feature_extraction_vit.py:28: FutureWarning: The class ViTFeatureExtractor is deprecated and will be removed in version 5 of Transformers. Please use ViTImageProcessor instead.\n",
      "  warnings.warn(\n"
     ]
    }
   ],
   "source": [
    "# Load the pre-trained Vision Transformer model\n",
    "model = ViTForImageClassification.from_pretrained(\"google/vit-base-patch16-224-in21k\")\n",
    "\n",
    "# Load the corresponding feature extractor (used to preprocess input images)\n",
    "feature_extractor = ViTFeatureExtractor.from_pretrained(\"google/vit-base-patch16-224-in21k\")\n"
   ]
  },
  {
   "cell_type": "code",
   "execution_count": 41,
   "id": "df6fa382-d1e4-4b5a-ba01-5ac4f08b2611",
   "metadata": {},
   "outputs": [
    {
     "name": "stdout",
     "output_type": "stream",
     "text": [
      "ViTForImageClassification(\n",
      "  (vit): ViTModel(\n",
      "    (embeddings): ViTEmbeddings(\n",
      "      (patch_embeddings): ViTPatchEmbeddings(\n",
      "        (projection): Conv2d(3, 768, kernel_size=(16, 16), stride=(16, 16))\n",
      "      )\n",
      "      (dropout): Dropout(p=0.0, inplace=False)\n",
      "    )\n",
      "    (encoder): ViTEncoder(\n",
      "      (layer): ModuleList(\n",
      "        (0-11): 12 x ViTLayer(\n",
      "          (attention): ViTSdpaAttention(\n",
      "            (attention): ViTSdpaSelfAttention(\n",
      "              (query): Linear(in_features=768, out_features=768, bias=True)\n",
      "              (key): Linear(in_features=768, out_features=768, bias=True)\n",
      "              (value): Linear(in_features=768, out_features=768, bias=True)\n",
      "              (dropout): Dropout(p=0.0, inplace=False)\n",
      "            )\n",
      "            (output): ViTSelfOutput(\n",
      "              (dense): Linear(in_features=768, out_features=768, bias=True)\n",
      "              (dropout): Dropout(p=0.0, inplace=False)\n",
      "            )\n",
      "          )\n",
      "          (intermediate): ViTIntermediate(\n",
      "            (dense): Linear(in_features=768, out_features=3072, bias=True)\n",
      "            (intermediate_act_fn): GELUActivation()\n",
      "          )\n",
      "          (output): ViTOutput(\n",
      "            (dense): Linear(in_features=3072, out_features=768, bias=True)\n",
      "            (dropout): Dropout(p=0.0, inplace=False)\n",
      "          )\n",
      "          (layernorm_before): LayerNorm((768,), eps=1e-12, elementwise_affine=True)\n",
      "          (layernorm_after): LayerNorm((768,), eps=1e-12, elementwise_affine=True)\n",
      "        )\n",
      "      )\n",
      "    )\n",
      "    (layernorm): LayerNorm((768,), eps=1e-12, elementwise_affine=True)\n",
      "  )\n",
      "  (classifier): Linear(in_features=768, out_features=2, bias=True)\n",
      ")\n"
     ]
    }
   ],
   "source": [
    "# Print the full architecture of the model\n",
    "print(model)\n",
    "# print(feature_extractor)"
   ]
  },
  {
   "cell_type": "code",
   "execution_count": 24,
   "id": "09410e4d-322d-4297-88aa-292250041a02",
   "metadata": {},
   "outputs": [],
   "source": [
    "feature_extractor.do_resize = False\n",
    "feature_extractor.do_rescale = False"
   ]
  },
  {
   "cell_type": "code",
   "execution_count": 68,
   "id": "f144d7d9-ea36-4c69-91e9-5d8c2f7a7b52",
   "metadata": {
    "scrolled": true
   },
   "outputs": [
    {
     "name": "stdout",
     "output_type": "stream",
     "text": [
      "Embedding Output Shape:  torch.Size([1, 197, 768])\n",
      "Encoder Output Shape:  torch.Size([1, 197, 768])\n",
      "Layer Norm Output Shape:  torch.Size([1, 197, 768])\n",
      "Pooled Output Shape:  torch.Size([1, 768])\n",
      "Logits Output Shape:  torch.Size([1, 2])\n",
      "Full Model Output Shape:  torch.Size([1, 2])\n"
     ]
    }
   ],
   "source": [
    "from PIL import Image\n",
    "import requests\n",
    "\n",
    "image = Image.open(\"/home1/pupil/SMATousi/Pos_Neg_224/pos/rgb_images/rgb_5_tile_4716.tif\")\n",
    "# image = Image.open(\"/home/macula/SMATousi/Gullies/ground_truth/organized_data/All_Pos_Neg/all_pos/rgb_images/rgb_5_tile_4516.tif\")\n",
    "# image.show()\n",
    "\n",
    "# Preprocess the image\n",
    "inputs = feature_extractor(images=image, return_tensors=\"pt\")\n",
    "embedding_layer = model.vit.embeddings\n",
    "\n",
    "# torch.nn.init.normal_(embedding_layer.patch_embeddings.projection.weight, mean=0.0, std=0.02)\n",
    "\n",
    "\n",
    "# Make predictions\n",
    "with torch.no_grad():\n",
    "    embedding_output = embedding_layer(**inputs)\n",
    "    print(\"Embedding Output Shape: \", embedding_output.shape)\n",
    "    \n",
    "    encoder_output = model.vit.encoder(embedding_output)\n",
    "    print(\"Encoder Output Shape: \", encoder_output[0].shape)\n",
    "    \n",
    "    layer_norm_output = model.vit.layernorm(encoder_output[0])\n",
    "    print(\"Layer Norm Output Shape: \", layer_norm_output.shape)\n",
    "\n",
    "    # Pooling: take the first token (CLS token) from the sequence\n",
    "    pooled_output = layer_norm_output[:, 0]\n",
    "    print(\"Pooled Output Shape: \", pooled_output.shape)\n",
    "    \n",
    "    logits = model.classifier(pooled_output)\n",
    "    print(\"Logits Output Shape: \", logits.shape)\n",
    "\n",
    "    outputs = model(**inputs)\n",
    "    print(\"Full Model Output Shape: \", outputs[0].shape)\n",
    "\n",
    "# Get logits\n",
    "# logits = outputs.logits\n",
    "# print(logits)"
   ]
  },
  {
   "cell_type": "code",
   "execution_count": 72,
   "id": "c0ca01a5-62ef-4059-9251-0ee4fb60c89e",
   "metadata": {},
   "outputs": [],
   "source": [
    "for parameter in model.vit.encoder.parameters():\n",
    "    parameter.require_grad = False"
   ]
  },
  {
   "cell_type": "code",
   "execution_count": 70,
   "id": "572e36d5-4e25-4744-a483-383c8adcab66",
   "metadata": {},
   "outputs": [
    {
     "data": {
      "text/plain": [
       "ImageClassifierOutput(loss=None, logits=tensor([[-0.0420, -0.0846]]), hidden_states=None, attentions=None)"
      ]
     },
     "execution_count": 70,
     "metadata": {},
     "output_type": "execute_result"
    }
   ],
   "source": [
    "outputs"
   ]
  },
  {
   "cell_type": "code",
   "execution_count": null,
   "id": "75643914-6c6c-474b-8485-ce45bae50544",
   "metadata": {},
   "outputs": [],
   "source": []
  }
 ],
 "metadata": {
  "kernelspec": {
   "display_name": "Python 3 (ipykernel)",
   "language": "python",
   "name": "python3"
  },
  "language_info": {
   "codemirror_mode": {
    "name": "ipython",
    "version": 3
   },
   "file_extension": ".py",
   "mimetype": "text/x-python",
   "name": "python",
   "nbconvert_exporter": "python",
   "pygments_lexer": "ipython3",
   "version": "3.12.3"
  }
 },
 "nbformat": 4,
 "nbformat_minor": 5
}
