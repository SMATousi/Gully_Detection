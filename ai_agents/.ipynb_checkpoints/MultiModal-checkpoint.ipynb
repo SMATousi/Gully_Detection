{
 "cells": [
  {
   "cell_type": "code",
   "execution_count": 39,
   "id": "ecdb73d4-99c4-4b62-abcd-f64e00f0a663",
   "metadata": {},
   "outputs": [],
   "source": [
    "import base64\n",
    "\n",
    "import httpx\n",
    "from langchain.chat_models import init_chat_model\n",
    "import base64\n",
    "from PIL import Image\n",
    "import io\n",
    "import httpx\n",
    "import os\n"
   ]
  },
  {
   "cell_type": "code",
   "execution_count": 40,
   "id": "686bf138-1011-45d4-b065-7dcb1eb909f8",
   "metadata": {
    "scrolled": true
   },
   "outputs": [],
   "source": [
    "# with open(\"/home/macula/SMATousi/Gullies/ground_truth/Labeling_Tool/MO_test_data/neg_rgb_0_tile_100.tif\", \"rb\") as f:\n",
    "#     image_bytes = f.read()\n",
    "\n",
    "img = Image.open(\"/home/macula/SMATousi/Gullies/ground_truth/Labeling_Tool/MO_test_data/neg_rgb_0_tile_100.tif\")\n",
    "buf = io.BytesIO()\n",
    "img.save(buf, format=\"PNG\")  # or \"JPEG\"\n",
    "buf.seek(0)\n",
    "image_bytes = buf.read()\n",
    "\n",
    "# Step 2: Base64-encode\n",
    "b64_string = base64.b64encode(image_bytes).decode(\"utf-8\")\n",
    "\n"
   ]
  },
  {
   "cell_type": "code",
   "execution_count": 28,
   "id": "8987d387-5a69-4cc0-84be-ea4c8e55e431",
   "metadata": {},
   "outputs": [],
   "source": [
    "# import PIL as pil\n",
    "# Fetch image data\n",
    "image_url = \"https://upload.wikimedia.org/wikipedia/commons/thumb/d/dd/Gfp-wisconsin-madison-the-nature-boardwalk.jpg/2560px-Gfp-wisconsin-madison-the-nature-boardwalk.jpg\"\n",
    "\n",
    "# image = \n",
    "image_data = base64.b64encode(httpx.get(image_url).content).decode(\"utf-8\")\n"
   ]
  },
  {
   "cell_type": "code",
   "execution_count": null,
   "id": "98b3f8ce-41b9-42e5-ae22-540868440622",
   "metadata": {},
   "outputs": [],
   "source": []
  },
  {
   "cell_type": "code",
   "execution_count": 41,
   "id": "e7901aff-ff94-4b15-97f7-d6bc970fee6d",
   "metadata": {},
   "outputs": [],
   "source": [
    "# Pass to LLM\n",
    "llm = init_chat_model(\"ollama:llava:7b\")"
   ]
  },
  {
   "cell_type": "code",
   "execution_count": 52,
   "id": "2e26f13d-fa6d-422f-a2dc-8def8c060f13",
   "metadata": {},
   "outputs": [],
   "source": [
    "message = {\n",
    "    \"role\": \"user\",\n",
    "    \"content\": [\n",
    "        {\n",
    "            \"type\": \"text\",\n",
    "            \"text\": \"What is this image?:\",\n",
    "        },\n",
    "        {\n",
    "            \"type\": \"image\",\n",
    "            \"source_type\": \"base64\",\n",
    "            \"data\": b64_string,\n",
    "            \"mime_type\": \"image/png\",\n",
    "        },\n",
    "    ],\n",
    "}\n",
    "\n",
    "messages = [\n",
    "    {\"role\": \"system\", \"content\": \"You are talking to a king. So change your language.\"},\n",
    "    {\n",
    "        \"role\": \"user\",\n",
    "        \"content\": [\n",
    "            {\"type\": \"text\", \"text\": \"What is this image?\"},\n",
    "            {\"type\": \"image\", \"source_type\": \"base64\", \"data\": b64_string, \"mime_type\": \"image/png\"},\n",
    "        ],\n",
    "    },\n",
    "]\n",
    "\n",
    "# message = {\n",
    "#     \"role\": \"user\",\n",
    "#     \"content\": [\n",
    "#         {\"type\": \"text\", \"text\": \"Are these two images the same?\"},\n",
    "#         {\"type\": \"image\", \"source_type\": \"url\", \"url\": image_url},\n",
    "#         {\"type\": \"image\", \"source_type\": \"url\", \"url\": image_url},\n",
    "#     ],\n",
    "# }"
   ]
  },
  {
   "cell_type": "code",
   "execution_count": 53,
   "id": "19c6a499-e86f-4a90-ab6d-85305066c945",
   "metadata": {},
   "outputs": [],
   "source": [
    "response = llm.invoke(messages)"
   ]
  },
  {
   "cell_type": "code",
   "execution_count": 54,
   "id": "a8018e2f-ad87-4cf1-8810-6fd716e0196d",
   "metadata": {},
   "outputs": [
    {
     "name": "stdout",
     "output_type": "stream",
     "text": [
      " The image shows an aerial view of a rural area with agricultural fields. There appears to be a patch of dirt or bare ground amidst the cultivated fields, which could suggest some form of disturbance or activity in that specific area. The fields are typically used for farming, and the satellite view provides a comprehensive perspective of the landscape. \n"
     ]
    }
   ],
   "source": [
    "print(response.text())"
   ]
  },
  {
   "cell_type": "code",
   "execution_count": null,
   "id": "8c7f972e-5c83-4732-a2e1-1cc3154eed75",
   "metadata": {},
   "outputs": [],
   "source": []
  }
 ],
 "metadata": {
  "kernelspec": {
   "display_name": "Python 3 (ipykernel)",
   "language": "python",
   "name": "python3"
  },
  "language_info": {
   "codemirror_mode": {
    "name": "ipython",
    "version": 3
   },
   "file_extension": ".py",
   "mimetype": "text/x-python",
   "name": "python",
   "nbconvert_exporter": "python",
   "pygments_lexer": "ipython3",
   "version": "3.12.3"
  }
 },
 "nbformat": 4,
 "nbformat_minor": 5
}
