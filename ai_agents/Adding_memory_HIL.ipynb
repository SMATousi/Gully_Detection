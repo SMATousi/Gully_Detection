{
 "cells": [
  {
   "cell_type": "code",
   "execution_count": 1,
   "id": "862fe4e1-180d-416c-b782-47f3eb0bd935",
   "metadata": {},
   "outputs": [],
   "source": [
    "from langgraph.checkpoint.memory import MemorySaver\n",
    "\n",
    "memory = MemorySaver()"
   ]
  },
  {
   "cell_type": "code",
   "execution_count": 2,
   "id": "736d589c-0e7d-428c-81bb-f4f74e122687",
   "metadata": {
    "scrolled": true
   },
   "outputs": [
    {
     "data": {
      "text/plain": [
       "{'query': 'What is the weather in Columbia MO now?',\n",
       " 'follow_up_questions': None,\n",
       " 'answer': None,\n",
       " 'images': [],\n",
       " 'results': [{'title': 'Weather in Columbia, MO',\n",
       "   'url': 'https://www.weatherapi.com/',\n",
       "   'content': \"{'location': {'name': 'Columbia', 'region': 'Missouri', 'country': 'United States of America', 'lat': 38.9517, 'lon': -92.3339, 'tz_id': 'America/Chicago', 'localtime_epoch': 1752785596, 'localtime': '2025-07-17 15:53'}, 'current': {'last_updated_epoch': 1752785100, 'last_updated': '2025-07-17 15:45', 'temp_c': 27.2, 'temp_f': 81.0, 'is_day': 1, 'condition': {'text': 'Partly cloudy', 'icon': '//cdn.weatherapi.com/weather/64x64/day/116.png', 'code': 1003}, 'wind_mph': 7.2, 'wind_kph': 11.5, 'wind_degree': 34, 'wind_dir': 'NE', 'pressure_mb': 1017.0, 'pressure_in': 30.02, 'precip_mm': 0.0, 'precip_in': 0.0, 'humidity': 72, 'cloud': 50, 'feelslike_c': 30.7, 'feelslike_f': 87.2, 'windchill_c': 24.4, 'windchill_f': 76.0, 'heatindex_c': 26.4, 'heatindex_f': 79.6, 'dewpoint_c': 21.0, 'dewpoint_f': 69.7, 'vis_km': 16.0, 'vis_miles': 9.0, 'uv': 4.0, 'gust_mph': 9.8, 'gust_kph': 15.7}}\",\n",
       "   'score': 0.9733339,\n",
       "   'raw_content': None},\n",
       "  {'url': 'http://agebb.missouri.edu/weather/realtime/columbiaBradford.php',\n",
       "   'title': 'Bradford Weather Station - Columbia, Missouri - AgEBB',\n",
       "   'content': 'Columbia, Missouri. Columbia - Bradford, Boone. Current Conditions | As of July 17, 2025, 12:20 pm. Temperature: 74.8°F. Dewpoint: 69.9°F. Humidity: 85%.',\n",
       "   'score': 0.9293445,\n",
       "   'raw_content': None}],\n",
       " 'response_time': 2.05}"
      ]
     },
     "execution_count": 2,
     "metadata": {},
     "output_type": "execute_result"
    }
   ],
   "source": [
    "from langchain_tavily import TavilySearch\n",
    "\n",
    "import os\n",
    "import getpass\n",
    "\n",
    "# def _set_env(var: str):\n",
    "#     if not os.environ.get(var):\n",
    "#         os.environ[var] = getpass.getpass(f\"{var}: \")\n",
    "\n",
    "# _set_env(\"TAVILY_API_KEY\")\n",
    "\n",
    "tool = TavilySearch(max_results=2)\n",
    "tools = [tool]\n",
    "tool.invoke(\"What is the weather in Columbia MO now?\")"
   ]
  },
  {
   "cell_type": "code",
   "execution_count": 3,
   "id": "7aa7044f-8fe7-4ac3-b37f-10071a20280c",
   "metadata": {},
   "outputs": [],
   "source": [
    "import os\n",
    "from langchain.chat_models import init_chat_model\n",
    "import ollama\n",
    "ollama.pull('qwen3:14b')\n",
    "\n",
    "llm = init_chat_model(\"ollama:qwen3:14b\")"
   ]
  },
  {
   "cell_type": "code",
   "execution_count": 4,
   "id": "63f53baa-809b-4428-aa7b-6140143fc134",
   "metadata": {},
   "outputs": [],
   "source": [
    "from typing import Annotated\n",
    "\n",
    "from langchain_tavily import TavilySearch\n",
    "from langchain_core.messages import BaseMessage\n",
    "from typing_extensions import TypedDict\n",
    "\n",
    "from langgraph.graph import StateGraph, START, END\n",
    "from langgraph.graph.message import add_messages\n",
    "from langgraph.prebuilt import ToolNode, tools_condition\n",
    "\n",
    "class State(TypedDict):\n",
    "    messages: Annotated[list, add_messages]\n",
    "\n",
    "graph_builder = StateGraph(State)\n",
    "\n",
    "tool = TavilySearch(max_results=2)\n",
    "tools = [tool]\n",
    "llm_with_tools = llm.bind_tools(tools)\n",
    "\n",
    "def chatbot(state: State):\n",
    "    return {\"messages\": [llm_with_tools.invoke(state[\"messages\"])]}\n",
    "\n",
    "graph_builder.add_node(\"chatbot\", chatbot)\n",
    "\n",
    "tool_node = ToolNode(tools=[tool])\n",
    "graph_builder.add_node(\"tools\", tool_node)\n",
    "\n",
    "graph_builder.add_conditional_edges(\n",
    "    \"chatbot\",\n",
    "    tools_condition,\n",
    ")\n",
    "# Any time a tool is called, we return to the chatbot to decide the next step\n",
    "graph_builder.add_edge(\"tools\", \"chatbot\")\n",
    "graph_builder.add_edge(START, \"chatbot\")\n",
    "graph = graph_builder.compile(checkpointer=memory)"
   ]
  },
  {
   "cell_type": "code",
   "execution_count": 5,
   "id": "556d61a6-0c5f-4062-90b2-302aeb47cf8e",
   "metadata": {},
   "outputs": [
    {
     "data": {
      "image/png": "[encoded data removed]",
      "text/plain": [
       "<IPython.core.display.Image object>"
      ]
     },
     "metadata": {},
     "output_type": "display_data"
    }
   ],
   "source": [
    "from IPython.display import Image, display\n",
    "\n",
    "try:\n",
    "    display(Image(graph.get_graph().draw_mermaid_png()))\n",
    "except Exception:\n",
    "    # This requires some extra dependencies and is optional\n",
    "    pass"
   ]
  },
  {
   "cell_type": "code",
   "execution_count": 6,
   "id": "1bbc8ae7-f65d-4970-bf21-c1d467286f43",
   "metadata": {},
   "outputs": [],
   "source": [
    "config = {\"configurable\": {\"thread_id\": \"1\"}}\n"
   ]
  },
  {
   "cell_type": "code",
   "execution_count": 7,
   "id": "7ec4c571-6f09-40c1-9e37-46a6a77c4ab6",
   "metadata": {},
   "outputs": [
    {
     "name": "stdout",
     "output_type": "stream",
     "text": [
      "================================\u001b[1m Human Message \u001b[0m=================================\n",
      "\n",
      "Hi there! My name is Will.\n",
      "==================================\u001b[1m Ai Message \u001b[0m==================================\n",
      "\n",
      "<think>\n",
      "Okay, the user said \"Hi there! My name is Will.\" So first, I need to respond appropriately. Since Will introduced himself, a simple and friendly response would be best. Maybe something like \"Hello, Will! Nice to meet you. How can I assist you today?\" That's polite and opens the door for him to ask questions. I don't need to use any tools here because there's no query that requires searching or other functions. Just a straightforward greeting and offer of help.\n",
      "</think>\n",
      "\n",
      "Hello, Will! Nice to meet you. How can I assist you today?\n"
     ]
    }
   ],
   "source": [
    "user_input = \"Hi there! My name is Will.\"\n",
    "\n",
    "# The config is the **second positional argument** to stream() or invoke()!\n",
    "events = graph.stream(\n",
    "    {\"messages\": [{\"role\": \"user\", \"content\": user_input}]},\n",
    "    config,\n",
    "    stream_mode=\"values\",\n",
    ")\n",
    "for event in events:\n",
    "    event[\"messages\"][-1].pretty_print()"
   ]
  },
  {
   "cell_type": "code",
   "execution_count": 10,
   "id": "0d7804ea-cb9f-4491-94c9-57953513f859",
   "metadata": {},
   "outputs": [
    {
     "name": "stdout",
     "output_type": "stream",
     "text": [
      "================================\u001b[1m Human Message \u001b[0m=================================\n",
      "\n",
      "Remember my name?\n",
      "==================================\u001b[1m Ai Message \u001b[0m==================================\n",
      "\n",
      "<think>\n",
      "Okay, the user asked, \"Remember my name?\" Let me think about how to respond.\n",
      "\n",
      "First, I need to check if there's any previous conversation where the user mentioned their name. Looking back, the user introduced themselves as Will in the first message. So, the assistant should acknowledge that.\n",
      "\n",
      "But wait, in the history, the user's first message was \"Hi there! My name is Will.\" The assistant replied with \"Hi Will! Nice to meet you. How can I assist you today?\" Then the user asked \"Remember my name?\" which is the current query.\n",
      "\n",
      "So, the user is testing if the assistant remembers their name from the previous conversation. Since the assistant already used \"Will\" in the previous response, it's clear that the name was remembered. However, the user might be expecting a confirmation.\n",
      "\n",
      "The assistant needs to confirm that it remembers the name and perhaps restate it. The response should be friendly and affirming. Maybe something like, \"Of course, Will! I remember your name. How can I assist you today?\" But wait, the assistant already asked that in the previous message. So maybe the user is following up.\n",
      "\n",
      "Alternatively, the assistant could say, \"Yes, I remember you're Will. How can I help you today?\" But the user might be looking for a more detailed response. However, since the user's query is straightforward, a simple confirmation should suffice.\n",
      "\n",
      "I should make sure the response is concise and confirms the name without repeating previous questions. The key is to acknowledge the memory of the name and offer further assistance.\n",
      "</think>\n",
      "\n",
      "Yes, I remember you're Will! How can I assist you today? 😊\n"
     ]
    }
   ],
   "source": [
    "user_input = \"Remember my name?\"\n",
    "\n",
    "# The config is the **second positional argument** to stream() or invoke()!\n",
    "events = graph.stream(\n",
    "    {\"messages\": [{\"role\": \"user\", \"content\": user_input}]},\n",
    "    config,\n",
    "    stream_mode=\"values\",\n",
    ")\n",
    "for event in events:\n",
    "    event[\"messages\"][-1].pretty_print()"
   ]
  },
  {
   "cell_type": "code",
   "execution_count": 11,
   "id": "d5bdfbcf-1614-4d08-ac58-d623b25deb97",
   "metadata": {},
   "outputs": [
    {
     "name": "stdout",
     "output_type": "stream",
     "text": [
      "================================\u001b[1m Human Message \u001b[0m=================================\n",
      "\n",
      "Remember my name?\n",
      "==================================\u001b[1m Ai Message \u001b[0m==================================\n",
      "\n",
      "Yes, I remember your name is Will. Is there anything specific you want to search for?\n"
     ]
    }
   ],
   "source": [
    "# The only difference is we change the `thread_id` here to \"2\" instead of \"1\"\n",
    "events = graph.stream(\n",
    "    {\"messages\": [{\"role\": \"user\", \"content\": user_input}]},\n",
    "    {\"configurable\": {\"thread_id\": \"1\"}},\n",
    "    stream_mode=\"values\",\n",
    ")\n",
    "for event in events:\n",
    "    event[\"messages\"][-1].pretty_print()"
   ]
  },
  {
   "cell_type": "code",
   "execution_count": 8,
   "id": "d8883cd2-66c8-4283-a99b-fbb2eec36493",
   "metadata": {},
   "outputs": [
    {
     "name": "stdout",
     "output_type": "stream",
     "text": [
      "================================\u001b[1m Human Message \u001b[0m=================================\n",
      "\n",
      "What is the weather in Columbia Missouri?\n",
      "==================================\u001b[1m Ai Message \u001b[0m==================================\n",
      "\n",
      "<think>\n",
      "Okay, the user is asking about the weather in Columbia, Missouri. Let me think about how to approach this.\n",
      "\n",
      "First, I need to check if I have access to real-time weather data. The tools provided include a search function called tavily_search. The description says it's optimized for comprehensive, accurate results and can handle current events. It mentions retrieving URLs, snippets, and offers advanced search options like time range and domain filters. \n",
      "\n",
      "Since the user is asking for the current weather, I should use this search tool. The function parameters include a query, which in this case would be \"weather in Columbia Missouri\". I don't see any parameters related to excluding or including specific domains, but maybe the search engine can handle that internally. \n",
      "\n",
      "I should make sure to set the search_depth to \"basic\" if it's a straightforward query. However, the default is \"advanced\", which might be better for getting thorough results. The time_range parameter could be set to \"day\" if the user wants the latest information, but since weather is current, maybe the default (no time range) is okay. \n",
      "\n",
      "Wait, the user didn't specify a time frame, so maybe leave time_range as default. The topic parameter could be \"general\" since it's a general weather inquiry. The include_images parameter is set to False by default, which is probably fine unless the user asked for visuals, which they didn't. \n",
      "\n",
      "So the function call would be to tavily_search with the query \"weather in Columbia Missouri\", and the other parameters left as default unless specified. The user didn't mention excluding or including any domains, so those can be omitted. \n",
      "\n",
      "I think that's all. Let me structure the tool call accordingly.\n",
      "</think>\n",
      "Tool Calls:\n",
      "  tavily_search (a152d263-dc32-481c-bc98-5cefd05deeb1)\n",
      " Call ID: a152d263-dc32-481c-bc98-5cefd05deeb1\n",
      "  Args:\n",
      "    query: weather in Columbia Missouri\n",
      "=================================\u001b[1m Tool Message \u001b[0m=================================\n",
      "Name: tavily_search\n",
      "\n",
      "{\"query\": \"weather in Columbia Missouri\", \"follow_up_questions\": null, \"answer\": null, \"images\": [], \"results\": [{\"title\": \"Weather in Columbia, Missouri\", \"url\": \"https://www.weatherapi.com/\", \"content\": \"{'location': {'name': 'Columbia', 'region': 'Missouri', 'country': 'United States of America', 'lat': 38.9517, 'lon': -92.3339, 'tz_id': 'America/Chicago', 'localtime_epoch': 1752785421, 'localtime': '2025-07-17 15:50'}, 'current': {'last_updated_epoch': 1752785100, 'last_updated': '2025-07-17 15:45', 'temp_c': 27.2, 'temp_f': 81.0, 'is_day': 1, 'condition': {'text': 'Partly cloudy', 'icon': '//cdn.weatherapi.com/weather/64x64/day/116.png', 'code': 1003}, 'wind_mph': 7.2, 'wind_kph': 11.5, 'wind_degree': 34, 'wind_dir': 'NE', 'pressure_mb': 1017.0, 'pressure_in': 30.02, 'precip_mm': 0.0, 'precip_in': 0.0, 'humidity': 72, 'cloud': 50, 'feelslike_c': 30.7, 'feelslike_f': 87.2, 'windchill_c': 24.4, 'windchill_f': 76.0, 'heatindex_c': 26.4, 'heatindex_f': 79.6, 'dewpoint_c': 21.0, 'dewpoint_f': 69.7, 'vis_km': 16.0, 'vis_miles': 9.0, 'uv': 4.0, 'gust_mph': 9.8, 'gust_kph': 15.7}}\", \"score\": 0.9975454, \"raw_content\": null}, {\"url\": \"https://forecast.weather.gov/MapClick.php?CityName=Columbia&state=MO\", \"title\": \"7-Day Forecast 38.95N 92.32W - National Weather Service\", \"content\": \"Current conditions at. Columbia, Columbia Regional Airport (KCOU). Lat: 38.82°NLon: 92.22°WElev: 889ft. Overcast. 78°F. 26°C. Humidity, 79%.\", \"score\": 0.6307082, \"raw_content\": null}], \"response_time\": 1.75}\n",
      "==================================\u001b[1m Ai Message \u001b[0m==================================\n",
      "\n",
      "<think>\n",
      "Okay, let me process the information from the tool response. The user asked for the weather in Columbia, Missouri. The first result from the search shows that the current temperature is 27.2°C (81°F), with partly cloudy conditions. The wind speed is 11.5 km/h from the northeast, and the humidity is 72%. The feels like temperature is 30.7°C (87.2°F). The UV index is 4.0, which is moderate.\n",
      "\n",
      "The second result from the National Weather Service mentions overcast conditions with a temperature of 78°F (26°C) and 79% humidity. However, this might be an older report since the first source has a more recent timestamp (last updated 2025-07-17 15:45).\n",
      "\n",
      "I need to present the most current and accurate information. The first result seems more up-to-date and detailed. I'll mention the temperature, cloud cover, wind, humidity, and UV index. Also, note that the National Weather Service reports overcast but might be slightly older. Make sure to highlight the key details in a clear, concise manner.\n",
      "</think>\n",
      "\n",
      "The current weather in Columbia, Missouri, is **27.2°C (81°F)** with **partly cloudy** conditions. Here are the key details:\n",
      "\n",
      "- **Wind**: 11.5 km/h (7.2 mph) from the northeast.\n",
      "- **Humidity**: 72%.\n",
      "- **Feels Like**: 30.7°C (87.2°F).\n",
      "- **UV Index**: 4.0 (moderate).\n",
      "- **Visibility**: 16 km (9 miles).\n",
      "\n",
      "The National Weather Service also reports **overcast** skies at 78°F (26°C) with 79% humidity, but this data may be slightly older. For the most up-to-date info, check the [WeatherAPI link](https://www.weatherapi.com/).\n"
     ]
    }
   ],
   "source": [
    "user_input = \"What is the weather in Columbia Missouri?\"\n",
    "\n",
    "# The config is the **second positional argument** to stream() or invoke()!\n",
    "events = graph.stream(\n",
    "    {\"messages\": [{\"role\": \"user\", \"content\": user_input}]},\n",
    "    config,\n",
    "    stream_mode=\"values\",\n",
    ")\n",
    "for event in events:\n",
    "    event[\"messages\"][-1].pretty_print()"
   ]
  },
  {
   "cell_type": "code",
   "execution_count": null,
   "id": "e4ae5139-550a-4375-9fcb-41da727b5e1a",
   "metadata": {},
   "outputs": [],
   "source": []
  },
  {
   "cell_type": "code",
   "execution_count": null,
   "id": "dd8370f9-6823-448b-a6cc-9a61a3f1b549",
   "metadata": {},
   "outputs": [],
   "source": []
  },
  {
   "cell_type": "code",
   "execution_count": 9,
   "id": "cc75add6-df0f-4ce8-85fb-81ee69ed5509",
   "metadata": {},
   "outputs": [
    {
     "data": {
      "text/plain": [
       "<langgraph.graph.state.StateGraph at 0x7fe61a6542c0>"
      ]
     },
     "execution_count": 9,
     "metadata": {},
     "output_type": "execute_result"
    }
   ],
   "source": [
    "from typing import Annotated\n",
    "\n",
    "from langchain_tavily import TavilySearch\n",
    "from langchain_core.tools import tool\n",
    "from typing_extensions import TypedDict\n",
    "\n",
    "from langgraph.checkpoint.memory import MemorySaver\n",
    "from langgraph.graph import StateGraph, START, END\n",
    "from langgraph.graph.message import add_messages\n",
    "from langgraph.prebuilt import ToolNode, tools_condition\n",
    "\n",
    "from langgraph.types import Command, interrupt\n",
    "\n",
    "class State(TypedDict):\n",
    "    messages: Annotated[list, add_messages]\n",
    "\n",
    "graph_builder = StateGraph(State)\n",
    "\n",
    "@tool\n",
    "def human_assistance(query: str) -> str:\n",
    "    \"\"\"Request assistance from a human.\"\"\"\n",
    "    human_response = interrupt({\"query\": query})\n",
    "    return human_response[\"data\"]\n",
    "\n",
    "tool = TavilySearch(max_results=2)\n",
    "tools = [tool, human_assistance]\n",
    "llm_with_tools = llm.bind_tools(tools)\n",
    "\n",
    "def chatbot(state: State):\n",
    "    message = llm_with_tools.invoke(state[\"messages\"])\n",
    "    # Because we will be interrupting during tool execution,\n",
    "    # we disable parallel tool calling to avoid repeating any\n",
    "    # tool invocations when we resume.\n",
    "    assert len(message.tool_calls) <= 1\n",
    "    return {\"messages\": [message]}\n",
    "\n",
    "graph_builder.add_node(\"chatbot\", chatbot)\n",
    "\n",
    "tool_node = ToolNode(tools=tools)\n",
    "graph_builder.add_node(\"tools\", tool_node)\n",
    "\n",
    "graph_builder.add_conditional_edges(\n",
    "    \"chatbot\",\n",
    "    tools_condition,\n",
    ")\n",
    "graph_builder.add_edge(\"tools\", \"chatbot\")\n",
    "graph_builder.add_edge(START, \"chatbot\")"
   ]
  },
  {
   "cell_type": "code",
   "execution_count": 10,
   "id": "bf2d5dc4-ab7b-44e2-973c-dd7f93a4118c",
   "metadata": {},
   "outputs": [],
   "source": [
    "memory = MemorySaver()\n",
    "\n",
    "graph = graph_builder.compile(checkpointer=memory)"
   ]
  },
  {
   "cell_type": "code",
   "execution_count": 11,
   "id": "02d17249-40f3-4e9a-a73f-b15389b3be39",
   "metadata": {},
   "outputs": [
    {
     "data": {
      "image/png": "[encoded data removed]",
      "text/plain": [
       "<IPython.core.display.Image object>"
      ]
     },
     "metadata": {},
     "output_type": "display_data"
    }
   ],
   "source": [
    "from IPython.display import Image, display\n",
    "\n",
    "try:\n",
    "    display(Image(graph.get_graph().draw_mermaid_png()))\n",
    "except Exception:\n",
    "    # This requires some extra dependencies and is optional\n",
    "    pass"
   ]
  },
  {
   "cell_type": "code",
   "execution_count": 12,
   "id": "c0b8b432-09c3-4bb4-a524-dc05f81a9c51",
   "metadata": {},
   "outputs": [
    {
     "name": "stdout",
     "output_type": "stream",
     "text": [
      "================================\u001b[1m Human Message \u001b[0m=================================\n",
      "\n",
      "I need some expert guidance for building an AI agent. Could you request assistance for me?\n",
      "==================================\u001b[1m Ai Message \u001b[0m==================================\n",
      "\n",
      "<think>\n",
      "Okay, the user is asking for expert guidance on building an AI agent and wants me to request assistance. Let me see. The available tools are tavily_search and human_assistance. The user's query is about building an AI agent, which is a technical topic. The human_assistance function is meant for requesting help from a human, so maybe that's the right choice here. But wait, the user said \"Could you request assistance for me?\" So they want me to ask for help, not the other way around. The human_assistance function's parameters require a query. The user's query is about building an AI agent, so the arguments should include that. Let me check the parameters again. The function requires a \"query\" parameter, which is a string. So I should call human_assistance with the query being the user's request. That makes sense. I don't need to use tavily_search here because the user isn't asking for information retrieval but rather assistance. So the correct tool call is human_assistance with the query as the user's message.\n",
      "</think>\n",
      "Tool Calls:\n",
      "  human_assistance (537799bb-aef3-4fbc-abac-89bad8debb54)\n",
      " Call ID: 537799bb-aef3-4fbc-abac-89bad8debb54\n",
      "  Args:\n",
      "    query: I need some expert guidance for building an AI agent. Could you request assistance for me?\n"
     ]
    }
   ],
   "source": [
    "user_input = \"I need some expert guidance for building an AI agent. Could you request assistance for me?\"\n",
    "config = {\"configurable\": {\"thread_id\": \"1\"}}\n",
    "\n",
    "events = graph.stream(\n",
    "    {\"messages\": [{\"role\": \"user\", \"content\": user_input}]},\n",
    "    config,\n",
    "    stream_mode=\"values\",\n",
    ")\n",
    "for event in events:\n",
    "    if \"messages\" in event:\n",
    "        event[\"messages\"][-1].pretty_print()"
   ]
  },
  {
   "cell_type": "code",
   "execution_count": null,
   "id": "7083d000-ef11-4e8e-814c-083e6c7ae8b0",
   "metadata": {},
   "outputs": [],
   "source": []
  }
 ],
 "metadata": {
  "kernelspec": {
   "display_name": "Python 3 (ipykernel)",
   "language": "python",
   "name": "python3"
  },
  "language_info": {
   "codemirror_mode": {
    "name": "ipython",
    "version": 3
   },
   "file_extension": ".py",
   "mimetype": "text/x-python",
   "name": "python",
   "nbconvert_exporter": "python",
   "pygments_lexer": "ipython3",
   "version": "3.12.3"
  }
 },
 "nbformat": 4,
 "nbformat_minor": 5
}
