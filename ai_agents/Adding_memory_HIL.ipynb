{
 "cells": [
  {
   "cell_type": "code",
   "execution_count": 1,
   "id": "862fe4e1-180d-416c-b782-47f3eb0bd935",
   "metadata": {},
   "outputs": [],
   "source": [
    "from langgraph.checkpoint.memory import MemorySaver\n",
    "\n",
    "memory = MemorySaver()"
   ]
  },
  {
   "cell_type": "code",
   "execution_count": 2,
   "id": "736d589c-0e7d-428c-81bb-f4f74e122687",
   "metadata": {
    "scrolled": true
   },
   "outputs": [],
   "source": [
    "from langchain_tavily import TavilySearch\n",
    "\n",
    "import os\n",
    "import getpass\n",
    "\n",
    "# def _set_env(var: str):\n",
    "#     if not os.environ.get(var):\n",
    "#         os.environ[var] = getpass.getpass(f\"{var}: \")\n",
    "\n",
    "# _set_env(\"TAVILY_API_KEY\")\n",
    "\n",
    "tool = TavilySearch(max_results=2)\n",
    "tools = [tool]\n",
    "# tool.invoke(\"What is the weather in Columbia MO now?\")"
   ]
  },
  {
   "cell_type": "code",
   "execution_count": 3,
   "id": "7aa7044f-8fe7-4ac3-b37f-10071a20280c",
   "metadata": {},
   "outputs": [],
   "source": [
    "import os\n",
    "from langchain.chat_models import init_chat_model\n",
    "import ollama\n",
    "ollama.pull('qwen3:14b')\n",
    "\n",
    "llm = init_chat_model(\"ollama:qwen3:14b\")"
   ]
  },
  {
   "cell_type": "code",
   "execution_count": 4,
   "id": "63f53baa-809b-4428-aa7b-6140143fc134",
   "metadata": {},
   "outputs": [],
   "source": [
    "from typing import Annotated\n",
    "\n",
    "from langchain_tavily import TavilySearch\n",
    "from langchain_core.messages import BaseMessage\n",
    "from typing_extensions import TypedDict\n",
    "\n",
    "from langgraph.graph import StateGraph, START, END\n",
    "from langgraph.graph.message import add_messages\n",
    "from langgraph.prebuilt import ToolNode, tools_condition\n",
    "\n",
    "class State(TypedDict):\n",
    "    messages: Annotated[list, add_messages]\n",
    "\n",
    "graph_builder = StateGraph(State)\n",
    "\n",
    "tool = TavilySearch(max_results=2)\n",
    "tools = [tool]\n",
    "llm_with_tools = llm.bind_tools(tools)\n",
    "\n",
    "def chatbot(state: State):\n",
    "    return {\"messages\": [llm_with_tools.invoke(state[\"messages\"])]}\n",
    "\n",
    "graph_builder.add_node(\"chatbot\", chatbot)\n",
    "\n",
    "tool_node = ToolNode(tools=[tool])\n",
    "graph_builder.add_node(\"tools\", tool_node)\n",
    "\n",
    "graph_builder.add_conditional_edges(\n",
    "    \"chatbot\",\n",
    "    tools_condition,\n",
    ")\n",
    "# Any time a tool is called, we return to the chatbot to decide the next step\n",
    "graph_builder.add_edge(\"tools\", \"chatbot\")\n",
    "graph_builder.add_edge(START, \"chatbot\")\n",
    "graph = graph_builder.compile(checkpointer=memory)"
   ]
  },
  {
   "cell_type": "code",
   "execution_count": 5,
   "id": "556d61a6-0c5f-4062-90b2-302aeb47cf8e",
   "metadata": {},
   "outputs": [
    {
     "data": {
      "image/png": "[encoded data removed]",
      "text/plain": [
       "<IPython.core.display.Image object>"
      ]
     },
     "metadata": {},
     "output_type": "display_data"
    }
   ],
   "source": [
    "from IPython.display import Image, display\n",
    "\n",
    "try:\n",
    "    display(Image(graph.get_graph().draw_mermaid_png()))\n",
    "except Exception:\n",
    "    # This requires some extra dependencies and is optional\n",
    "    pass"
   ]
  },
  {
   "cell_type": "code",
   "execution_count": 6,
   "id": "1bbc8ae7-f65d-4970-bf21-c1d467286f43",
   "metadata": {},
   "outputs": [],
   "source": [
    "config = {\"configurable\": {\"thread_id\": \"1\"}}\n"
   ]
  },
  {
   "cell_type": "code",
   "execution_count": 7,
   "id": "7ec4c571-6f09-40c1-9e37-46a6a77c4ab6",
   "metadata": {},
   "outputs": [
    {
     "name": "stdout",
     "output_type": "stream",
     "text": [
      "================================\u001b[1m Human Message \u001b[0m=================================\n",
      "\n",
      "Hi there! My name is Will.\n",
      "==================================\u001b[1m Ai Message \u001b[0m==================================\n",
      "\n",
      "<think>\n",
      "Okay, the user said \"Hi there! My name is Will.\" So first, I need to respond appropriately. Since Will introduced himself, a simple and friendly response would be best. Maybe something like \"Hello, Will! Nice to meet you. How can I assist you today?\" That's polite and opens the door for him to ask questions. I don't need to use any tools here because there's no query that requires searching or other functions. Just a straightforward greeting and offer of help.\n",
      "</think>\n",
      "\n",
      "Hello, Will! Nice to meet you. How can I assist you today?\n"
     ]
    }
   ],
   "source": [
    "user_input = \"Hi there! My name is Will.\"\n",
    "\n",
    "# The config is the **second positional argument** to stream() or invoke()!\n",
    "events = graph.stream(\n",
    "    {\"messages\": [{\"role\": \"user\", \"content\": user_input}]},\n",
    "    config,\n",
    "    stream_mode=\"values\",\n",
    ")\n",
    "for event in events:\n",
    "    event[\"messages\"][-1].pretty_print()"
   ]
  },
  {
   "cell_type": "code",
   "execution_count": 10,
   "id": "0d7804ea-cb9f-4491-94c9-57953513f859",
   "metadata": {},
   "outputs": [
    {
     "name": "stdout",
     "output_type": "stream",
     "text": [
      "================================\u001b[1m Human Message \u001b[0m=================================\n",
      "\n",
      "Remember my name?\n",
      "==================================\u001b[1m Ai Message \u001b[0m==================================\n",
      "\n",
      "<think>\n",
      "Okay, the user asked, \"Remember my name?\" Let me think about how to respond.\n",
      "\n",
      "First, I need to check if there's any previous conversation where the user mentioned their name. Looking back, the user introduced themselves as Will in the first message. So, the assistant should acknowledge that.\n",
      "\n",
      "But wait, in the history, the user's first message was \"Hi there! My name is Will.\" The assistant replied with \"Hi Will! Nice to meet you. How can I assist you today?\" Then the user asked \"Remember my name?\" which is the current query.\n",
      "\n",
      "So, the user is testing if the assistant remembers their name from the previous conversation. Since the assistant already used \"Will\" in the previous response, it's clear that the name was remembered. However, the user might be expecting a confirmation.\n",
      "\n",
      "The assistant needs to confirm that it remembers the name and perhaps restate it. The response should be friendly and affirming. Maybe something like, \"Of course, Will! I remember your name. How can I assist you today?\" But wait, the assistant already asked that in the previous message. So maybe the user is following up.\n",
      "\n",
      "Alternatively, the assistant could say, \"Yes, I remember you're Will. How can I help you today?\" But the user might be looking for a more detailed response. However, since the user's query is straightforward, a simple confirmation should suffice.\n",
      "\n",
      "I should make sure the response is concise and confirms the name without repeating previous questions. The key is to acknowledge the memory of the name and offer further assistance.\n",
      "</think>\n",
      "\n",
      "Yes, I remember you're Will! How can I assist you today? 😊\n"
     ]
    }
   ],
   "source": [
    "user_input = \"Remember my name?\"\n",
    "\n",
    "# The config is the **second positional argument** to stream() or invoke()!\n",
    "events = graph.stream(\n",
    "    {\"messages\": [{\"role\": \"user\", \"content\": user_input}]},\n",
    "    config,\n",
    "    stream_mode=\"values\",\n",
    ")\n",
    "for event in events:\n",
    "    event[\"messages\"][-1].pretty_print()"
   ]
  },
  {
   "cell_type": "code",
   "execution_count": 11,
   "id": "d5bdfbcf-1614-4d08-ac58-d623b25deb97",
   "metadata": {},
   "outputs": [
    {
     "name": "stdout",
     "output_type": "stream",
     "text": [
      "================================\u001b[1m Human Message \u001b[0m=================================\n",
      "\n",
      "Remember my name?\n",
      "==================================\u001b[1m Ai Message \u001b[0m==================================\n",
      "\n",
      "Yes, I remember your name is Will. Is there anything specific you want to search for?\n"
     ]
    }
   ],
   "source": [
    "# The only difference is we change the `thread_id` here to \"2\" instead of \"1\"\n",
    "events = graph.stream(\n",
    "    {\"messages\": [{\"role\": \"user\", \"content\": user_input}]},\n",
    "    {\"configurable\": {\"thread_id\": \"1\"}},\n",
    "    stream_mode=\"values\",\n",
    ")\n",
    "for event in events:\n",
    "    event[\"messages\"][-1].pretty_print()"
   ]
  },
  {
   "cell_type": "code",
   "execution_count": 7,
   "id": "d8883cd2-66c8-4283-a99b-fbb2eec36493",
   "metadata": {},
   "outputs": [
    {
     "name": "stdout",
     "output_type": "stream",
     "text": [
      "================================\u001b[1m Human Message \u001b[0m=================================\n",
      "\n",
      "What time is it in Columbia Missouri and what is the weather in Columbia Missouri?\n",
      "==================================\u001b[1m Ai Message \u001b[0m==================================\n",
      "\n",
      "<think>\n",
      "Okay, the user is asking for the current time and weather in Columbia, Missouri. Let me break this down.\n",
      "\n",
      "First, the time. Since Columbia is in the Central Time Zone, I can check the current time there. But wait, do I need to confirm if there's any daylight saving time changes? Maybe, but the user just wants the current time, so I can use a search tool to get the exact time right now.\n",
      "\n",
      "Next, the weather. The user wants to know the current weather conditions in Columbia. I'll need to use a weather service or search tool to find the latest weather data. The tool can provide temperature, precipitation, wind speed, etc.\n",
      "\n",
      "I should use the tavily_search function for both parts. For the time, I can search \"current time in Columbia Missouri\" and for the weather, \"current weather in Columbia Missouri\". Let me make sure the parameters are set correctly. No need to exclude or include specific domains here. Just a general search. The search depth can be basic since it's straightforward. Time range isn't necessary for the time query, but for weather, maybe the latest data is needed. However, the default should suffice.\n",
      "\n",
      "Wait, the tool's parameters include 'topic'. For the time, it's general, and for weather, maybe general as well. Let me structure two separate tool calls: one for time and one for weather. That way, each query is specific and can be handled accurately. Let me make sure the queries are clear and the parameters are set appropriately. Alright, that should cover both parts of the user's request.\n",
      "</think>\n",
      "Tool Calls:\n",
      "  tavily_search (fc967ab3-6e38-453f-9f91-2da21ba0dbad)\n",
      " Call ID: fc967ab3-6e38-453f-9f91-2da21ba0dbad\n",
      "  Args:\n",
      "    query: current time in Columbia Missouri\n",
      "    search_depth: basic\n",
      "    topic: general\n",
      "  tavily_search (af90ae9c-8603-49c7-881a-6513f4fc3ae2)\n",
      " Call ID: af90ae9c-8603-49c7-881a-6513f4fc3ae2\n",
      "  Args:\n",
      "    query: current weather in Columbia Missouri\n",
      "    search_depth: basic\n",
      "    topic: general\n",
      "=================================\u001b[1m Tool Message \u001b[0m=================================\n",
      "Name: tavily_search\n",
      "\n",
      "{\"query\": \"current weather in Columbia Missouri\", \"follow_up_questions\": null, \"answer\": null, \"images\": [], \"results\": [{\"title\": \"Weather in Columbia, Missouri\", \"url\": \"https://www.weatherapi.com/\", \"content\": \"{'location': {'name': 'Columbia', 'region': 'Missouri', 'country': 'United States of America', 'lat': 38.9517, 'lon': -92.3339, 'tz_id': 'America/Chicago', 'localtime_epoch': 1752866246, 'localtime': '2025-07-18 14:17'}, 'current': {'last_updated_epoch': 1752866100, 'last_updated': '2025-07-18 14:15', 'temp_c': 28.9, 'temp_f': 84.0, 'is_day': 1, 'condition': {'text': 'Partly cloudy', 'icon': '//cdn.weatherapi.com/weather/64x64/day/116.png', 'code': 1003}, 'wind_mph': 4.3, 'wind_kph': 6.8, 'wind_degree': 148, 'wind_dir': 'SSE', 'pressure_mb': 1018.0, 'pressure_in': 30.06, 'precip_mm': 0.0, 'precip_in': 0.0, 'humidity': 75, 'cloud': 75, 'feelslike_c': 33.4, 'feelslike_f': 92.1, 'windchill_c': 29.1, 'windchill_f': 84.3, 'heatindex_c': 33.7, 'heatindex_f': 92.6, 'dewpoint_c': 24.0, 'dewpoint_f': 75.2, 'vis_km': 16.0, 'vis_miles': 9.0, 'uv': 9.0, 'gust_mph': 4.9, 'gust_kph': 7.9}}\", \"score\": 0.957985, \"raw_content\": null}, {\"url\": \"https://weathershogun.com/weather/usa/mo/columbia/5109/july/2025-07-18\", \"title\": \"Friday, July 18, 2025. Columbia, MO - Weather Forecast\", \"content\": \"Columbia, Missouri Weather: Friday, July 18, 2025. Cloudy weather, overcast skies with clouds. Day 86°. Night 70°. Precipitation 40 %.\", \"score\": 0.94785136, \"raw_content\": null}], \"response_time\": 7.25}\n",
      "==================================\u001b[1m Ai Message \u001b[0m==================================\n",
      "\n",
      "<think>\n",
      "Okay, let's see. The user asked for the current time and weather in Columbia, Missouri. I need to combine the information from both tool responses.\n",
      "\n",
      "First, the time. The first tool response has a link to \"Time in Columbia, Missouri\" which says it's currently in the Central Daylight Time (CDT), UTC-5. The time was set forward an hour from 02:00AM to 03:00AM. But the exact current time isn't listed here. Wait, maybe the second tool response for weather has a timestamp. Looking at the weather data, the localtime is '2025-07-18 14:17' which is 2:17 PM CDT. So the current time is 2:17 PM.\n",
      "\n",
      "For the weather, the first result from the weatherapi.com shows partly cloudy with temperature at 28.9°C (84°F). Wind is 4.3 mph from SSE, humidity 75%, feels like 33.4°C (92.1°F). There's no precipitation, and UV index is 9. The second result mentions cloudy with day temperature 86°F and night 70°F, 40% precipitation chance. But the first result seems more detailed and recent, so I'll go with that.\n",
      "\n",
      "Putting it all together: The current time is 2:17 PM CDT, and the weather is partly cloudy with 84°F, 75% humidity, and no rain. I should present this clearly, maybe separate the time and weather into two points for readability. Also, check if there's any daylight saving time note, but the user might just want the current time without extra details unless specified. Alright, that should cover the user's query.\n",
      "</think>\n",
      "\n",
      "The current time in Columbia, Missouri is **2:17 PM Central Daylight Time (CDT)**.  \n",
      "\n",
      "For the weather:  \n",
      "- **Condition**: Partly cloudy  \n",
      "- **Temperature**: 84°F (28.9°C)  \n",
      "- **Feels like**: 92.1°F (33.4°C)  \n",
      "- **Humidity**: 75%  \n",
      "- **Wind**: 4.3 mph (SSE)  \n",
      "- **UV Index**: 9  \n",
      "- **Precipitation**: No rain expected  \n",
      "\n",
      "Let me know if you need further details!\n"
     ]
    }
   ],
   "source": [
    "user_input = \"What time is it in Columbia Missouri and what is the weather in Columbia Missouri?\"\n",
    "\n",
    "# The config is the **second positional argument** to stream() or invoke()!\n",
    "events = graph.stream(\n",
    "    {\"messages\": [{\"role\": \"user\", \"content\": user_input}]},\n",
    "    config,\n",
    "    stream_mode=\"values\",\n",
    ")\n",
    "for event in events:\n",
    "    event[\"messages\"][-1].pretty_print()"
   ]
  },
  {
   "cell_type": "code",
   "execution_count": null,
   "id": "e4ae5139-550a-4375-9fcb-41da727b5e1a",
   "metadata": {},
   "outputs": [],
   "source": []
  },
  {
   "cell_type": "code",
   "execution_count": null,
   "id": "dd8370f9-6823-448b-a6cc-9a61a3f1b549",
   "metadata": {},
   "outputs": [],
   "source": []
  },
  {
   "cell_type": "code",
   "execution_count": 9,
   "id": "cc75add6-df0f-4ce8-85fb-81ee69ed5509",
   "metadata": {},
   "outputs": [
    {
     "data": {
      "text/plain": [
       "<langgraph.graph.state.StateGraph at 0x7fe61a6542c0>"
      ]
     },
     "execution_count": 9,
     "metadata": {},
     "output_type": "execute_result"
    }
   ],
   "source": [
    "from typing import Annotated\n",
    "\n",
    "from langchain_tavily import TavilySearch\n",
    "from langchain_core.tools import tool\n",
    "from typing_extensions import TypedDict\n",
    "\n",
    "from langgraph.checkpoint.memory import MemorySaver\n",
    "from langgraph.graph import StateGraph, START, END\n",
    "from langgraph.graph.message import add_messages\n",
    "from langgraph.prebuilt import ToolNode, tools_condition\n",
    "\n",
    "from langgraph.types import Command, interrupt\n",
    "\n",
    "class State(TypedDict):\n",
    "    messages: Annotated[list, add_messages]\n",
    "\n",
    "graph_builder = StateGraph(State)\n",
    "\n",
    "@tool\n",
    "def human_assistance(query: str) -> str:\n",
    "    \"\"\"Request assistance from a human.\"\"\"\n",
    "    human_response = interrupt({\"query\": query})\n",
    "    return human_response[\"data\"]\n",
    "\n",
    "tool = TavilySearch(max_results=2)\n",
    "tools = [tool, human_assistance]\n",
    "llm_with_tools = llm.bind_tools(tools)\n",
    "\n",
    "def chatbot(state: State):\n",
    "    message = llm_with_tools.invoke(state[\"messages\"])\n",
    "    # Because we will be interrupting during tool execution,\n",
    "    # we disable parallel tool calling to avoid repeating any\n",
    "    # tool invocations when we resume.\n",
    "    assert len(message.tool_calls) <= 1\n",
    "    return {\"messages\": [message]}\n",
    "\n",
    "graph_builder.add_node(\"chatbot\", chatbot)\n",
    "\n",
    "tool_node = ToolNode(tools=tools)\n",
    "graph_builder.add_node(\"tools\", tool_node)\n",
    "\n",
    "graph_builder.add_conditional_edges(\n",
    "    \"chatbot\",\n",
    "    tools_condition,\n",
    ")\n",
    "graph_builder.add_edge(\"tools\", \"chatbot\")\n",
    "graph_builder.add_edge(START, \"chatbot\")"
   ]
  },
  {
   "cell_type": "code",
   "execution_count": 10,
   "id": "bf2d5dc4-ab7b-44e2-973c-dd7f93a4118c",
   "metadata": {},
   "outputs": [],
   "source": [
    "memory = MemorySaver()\n",
    "\n",
    "graph = graph_builder.compile(checkpointer=memory)"
   ]
  },
  {
   "cell_type": "code",
   "execution_count": 11,
   "id": "02d17249-40f3-4e9a-a73f-b15389b3be39",
   "metadata": {},
   "outputs": [
    {
     "data": {
      "image/png": "[encoded data removed]",
      "text/plain": [
       "<IPython.core.display.Image object>"
      ]
     },
     "metadata": {},
     "output_type": "display_data"
    }
   ],
   "source": [
    "from IPython.display import Image, display\n",
    "\n",
    "try:\n",
    "    display(Image(graph.get_graph().draw_mermaid_png()))\n",
    "except Exception:\n",
    "    # This requires some extra dependencies and is optional\n",
    "    pass"
   ]
  },
  {
   "cell_type": "code",
   "execution_count": 12,
   "id": "c0b8b432-09c3-4bb4-a524-dc05f81a9c51",
   "metadata": {},
   "outputs": [
    {
     "name": "stdout",
     "output_type": "stream",
     "text": [
      "================================\u001b[1m Human Message \u001b[0m=================================\n",
      "\n",
      "I need some expert guidance for building an AI agent. Could you request assistance for me?\n",
      "==================================\u001b[1m Ai Message \u001b[0m==================================\n",
      "\n",
      "<think>\n",
      "Okay, the user is asking for expert guidance on building an AI agent and wants me to request assistance. Let me see. The available tools are tavily_search and human_assistance. The user's query is about building an AI agent, which is a technical topic. The human_assistance function is meant for requesting help from a human, so maybe that's the right choice here. But wait, the user said \"Could you request assistance for me?\" So they want me to ask for help, not the other way around. The human_assistance function's parameters require a query. The user's query is about building an AI agent, so the arguments should include that. Let me check the parameters again. The function requires a \"query\" parameter, which is a string. So I should call human_assistance with the query being the user's request. That makes sense. I don't need to use tavily_search here because the user isn't asking for information retrieval but rather assistance. So the correct tool call is human_assistance with the query as the user's message.\n",
      "</think>\n",
      "Tool Calls:\n",
      "  human_assistance (537799bb-aef3-4fbc-abac-89bad8debb54)\n",
      " Call ID: 537799bb-aef3-4fbc-abac-89bad8debb54\n",
      "  Args:\n",
      "    query: I need some expert guidance for building an AI agent. Could you request assistance for me?\n"
     ]
    }
   ],
   "source": [
    "user_input = \"I need some expert guidance for building an AI agent. Could you request assistance for me?\"\n",
    "config = {\"configurable\": {\"thread_id\": \"1\"}}\n",
    "\n",
    "events = graph.stream(\n",
    "    {\"messages\": [{\"role\": \"user\", \"content\": user_input}]},\n",
    "    config,\n",
    "    stream_mode=\"values\",\n",
    ")\n",
    "for event in events:\n",
    "    if \"messages\" in event:\n",
    "        event[\"messages\"][-1].pretty_print()"
   ]
  },
  {
   "cell_type": "code",
   "execution_count": null,
   "id": "7083d000-ef11-4e8e-814c-083e6c7ae8b0",
   "metadata": {},
   "outputs": [],
   "source": []
  }
 ],
 "metadata": {
  "kernelspec": {
   "display_name": "Python 3 (ipykernel)",
   "language": "python",
   "name": "python3"
  },
  "language_info": {
   "codemirror_mode": {
    "name": "ipython",
    "version": 3
   },
   "file_extension": ".py",
   "mimetype": "text/x-python",
   "name": "python",
   "nbconvert_exporter": "python",
   "pygments_lexer": "ipython3",
   "version": "3.12.3"
  }
 },
 "nbformat": 4,
 "nbformat_minor": 5
}
