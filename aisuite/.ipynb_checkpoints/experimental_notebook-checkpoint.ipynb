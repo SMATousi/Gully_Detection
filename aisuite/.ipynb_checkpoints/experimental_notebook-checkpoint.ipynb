{
 "cells": [
  {
   "cell_type": "code",
   "execution_count": 3,
   "id": "d3f94ff6-cde1-404f-b19a-00e601a8657d",
   "metadata": {},
   "outputs": [
    {
     "name": "stdin",
     "output_type": "stream",
     "text": [
      "Enter your GROQ API key:  ········\n"
     ]
    }
   ],
   "source": [
    "import os\n",
    "from getpass import getpass\n",
    "os.environ['HUGGINGFACE_TOKEN'] = getpass('Enter your GROQ API key: ')"
   ]
  },
  {
   "cell_type": "code",
   "execution_count": 10,
   "id": "ad389dfd-339d-4cb5-9762-8dbf12ba1c68",
   "metadata": {},
   "outputs": [
    {
     "name": "stdout",
     "output_type": "stream",
     "text": [
      "Nope! I'm not Qwen, I don't think that's a real person... unless maybe it's Queen Bey, but that's a whole different thing! Who is Qwen anyway?\n",
      "-----------------------\n",
      " No, I am not Qwen. I am an artificial intelligence assistant designed to assist users with their questions and provide information based on my programming. How can I help you today? \n",
      "-----------------------\n",
      "Nope, I'm not Qwen. I'm an AI assistant here to help you out! How can I assist you today?\n",
      "-----------------------\n"
     ]
    }
   ],
   "source": [
    "import aisuite as ai\n",
    "client = ai.Client()\n",
    "\n",
    "models = [\"ollama:llama3.2-vision\", \"ollama:llava\", \"huggingface:Qwen/Qwen2.5-Coder-32B-Instruct\"]\n",
    "# models = [\"huggingface:Qwen/Qwen2.5-Coder-32B-Instruct\"]\n",
    "\n",
    "\n",
    "messages = [\n",
    "    {\"role\": \"system\", \"content\": \"Respond in informal English.\"},\n",
    "    {\"role\": \"user\", \"content\": \"Are you Qwen?\"},\n",
    "]\n",
    "\n",
    "for model in models:\n",
    "    response = client.chat.completions.create(\n",
    "        model=model,\n",
    "        messages=messages,\n",
    "        temperature=0.75\n",
    "    )\n",
    "    print(response.choices[0].message.content)\n",
    "    print(\"-----------------------\")\n"
   ]
  },
  {
   "cell_type": "code",
   "execution_count": null,
   "id": "edee7315-f395-4e00-9d07-5b0ddd6f4bd7",
   "metadata": {},
   "outputs": [],
   "source": []
  },
  {
   "cell_type": "code",
   "execution_count": null,
   "id": "5308002f-7925-49a0-b4c3-065b008b740d",
   "metadata": {},
   "outputs": [],
   "source": []
  }
 ],
 "metadata": {
  "kernelspec": {
   "display_name": "Python 3 (ipykernel)",
   "language": "python",
   "name": "python3"
  },
  "language_info": {
   "codemirror_mode": {
    "name": "ipython",
    "version": 3
   },
   "file_extension": ".py",
   "mimetype": "text/x-python",
   "name": "python",
   "nbconvert_exporter": "python",
   "pygments_lexer": "ipython3",
   "version": "3.12.3"
  }
 },
 "nbformat": 4,
 "nbformat_minor": 5
}
