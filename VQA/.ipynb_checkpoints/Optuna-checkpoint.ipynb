{
 "cells": [
  {
   "cell_type": "code",
   "execution_count": 1,
   "id": "2c9e261a",
   "metadata": {},
   "outputs": [
    {
     "name": "stderr",
     "output_type": "stream",
     "text": [
      "/opt/conda/lib/python3.10/site-packages/tqdm/auto.py:21: TqdmWarning: IProgress not found. Please update jupyter and ipywidgets. See https://ipywidgets.readthedocs.io/en/stable/user_install.html\n",
      "  from .autonotebook import tqdm as notebook_tqdm\n"
     ]
    }
   ],
   "source": [
    "import ollama \n",
    "import os\n",
    "from tqdm import tqdm\n",
    "import json\n",
    "import signal\n",
    "import argparse\n",
    "import wandb\n",
    "import pandas as pd\n",
    "\n",
    "import sys\n",
    "from collections import defaultdict\n",
    "from sklearn.metrics import precision_score, recall_score, f1_score, accuracy_score,confusion_matrix\n",
    "from pathlib import Path\n",
    "\n",
    "import optuna\n",
    "import re"
   ]
  },
  {
   "cell_type": "code",
   "execution_count": 2,
   "id": "bb1997fa",
   "metadata": {},
   "outputs": [],
   "source": [
    "from PIL import Image\n",
    "import matplotlib.pyplot as plt\n",
    "import matplotlib.image as mpimg"
   ]
  },
  {
   "cell_type": "code",
   "execution_count": 3,
   "id": "955b4348",
   "metadata": {},
   "outputs": [],
   "source": [
    "sys.argv = [\n",
    "    'notebook',  \n",
    "    '--modelname', 'llama3.2-vision:90b',\n",
    "    '--data', '/root/home/data',\n",
    "    '--data_path_files','/mnt/Gbenga_Enemy/ramy/WACV-2025-Workshop-ViGIR',\n",
    "    '--results_dir', '/mnt/Gbenga_Enemy/ramy/results',\n",
    "    '--timeout', '20',\n",
    "    '--model_unloading',\n",
    "    '--valid_responses' ,'/mnt/Gbenga_Enemy/ramy/results/valid_llama3_90b.json',\n",
    "    '--test_responses' ,'/mnt/Gbenga_Enemy/ramy/results/test_llama3_90b.json'\n",
    "    \n",
    "]"
   ]
  },
  {
   "cell_type": "code",
   "execution_count": 4,
   "id": "fa8b43c0",
   "metadata": {},
   "outputs": [],
   "source": [
    "parser = argparse.ArgumentParser(description=\"A script to run V-LLMs on different image classification datasets\")"
   ]
  },
  {
   "cell_type": "code",
   "execution_count": 5,
   "id": "14847b61",
   "metadata": {},
   "outputs": [],
   "source": [
    "parser.add_argument(\"--modelname\", type=str, required=True, help=\"The name of the V-LLM model\")\n",
    "parser.add_argument(\"--data\", type=str, required=True, help=\"Path to the data\")\n",
    "parser.add_argument(\"--data_path_files\", type=str, required=True, help=\"Path to the image data dir\")\n",
    "parser.add_argument(\"--results_dir\", type=str, required=True, help=\"Folder name to save results\")\n",
    "parser.add_argument(\"--timeout\", type=int, default=40, help=\"time out duration to skip one sample\")\n",
    "parser.add_argument(\"--model_unloading\", action=\"store_true\", help=\"Enables unloading mode. Every 100 sampels it unloades the model from the GPU to avoid carshing.\")\n",
    "parser.add_argument(\"--valid_responses\",type=str, required=True)\n",
    "parser.add_argument(\"--test_responses\",type=str, required=True)\n",
    "\n",
    "\n",
    "args = parser.parse_args()"
   ]
  },
  {
   "cell_type": "code",
   "execution_count": 6,
   "id": "880a8bfc",
   "metadata": {},
   "outputs": [
    {
     "name": "stderr",
     "output_type": "stream",
     "text": [
      "\u001b[34m\u001b[1mwandb\u001b[0m: Using wandb-core as the SDK backend.  Please refer to https://wandb.me/wandb-core for more information.\n",
      "\u001b[34m\u001b[1mwandb\u001b[0m: Currently logged in as: \u001b[33mramytrm\u001b[0m. Use \u001b[1m`wandb login --relogin`\u001b[0m to force relogin\n"
     ]
    },
    {
     "data": {
      "text/html": [
       "Tracking run with wandb version 0.18.6"
      ],
      "text/plain": [
       "<IPython.core.display.HTML object>"
      ]
     },
     "metadata": {},
     "output_type": "display_data"
    },
    {
     "data": {
      "text/html": [
       "Run data is saved locally in <code>/mnt/Gbenga_Enemy/ramy/WACV-2025-Workshop-ViGIR/vqa/wandb/run-20241115_023607-zvb984q8</code>"
      ],
      "text/plain": [
       "<IPython.core.display.HTML object>"
      ]
     },
     "metadata": {},
     "output_type": "display_data"
    },
    {
     "data": {
      "text/html": [
       "Syncing run <strong><a href='https://wandb.ai/ramytrm/WACV-2025-QuestionFiltering/runs/zvb984q8' target=\"_blank\">run_test_llama3.2-vision:90bQuestionFiltering</a></strong> to <a href='https://wandb.ai/ramytrm/WACV-2025-QuestionFiltering' target=\"_blank\">Weights & Biases</a> (<a href='https://wandb.me/developer-guide' target=\"_blank\">docs</a>)<br/>"
      ],
      "text/plain": [
       "<IPython.core.display.HTML object>"
      ]
     },
     "metadata": {},
     "output_type": "display_data"
    },
    {
     "data": {
      "text/html": [
       " View project at <a href='https://wandb.ai/ramytrm/WACV-2025-QuestionFiltering' target=\"_blank\">https://wandb.ai/ramytrm/WACV-2025-QuestionFiltering</a>"
      ],
      "text/plain": [
       "<IPython.core.display.HTML object>"
      ]
     },
     "metadata": {},
     "output_type": "display_data"
    },
    {
     "data": {
      "text/html": [
       " View run at <a href='https://wandb.ai/ramytrm/WACV-2025-QuestionFiltering/runs/zvb984q8' target=\"_blank\">https://wandb.ai/ramytrm/WACV-2025-QuestionFiltering/runs/zvb984q8</a>"
      ],
      "text/plain": [
       "<IPython.core.display.HTML object>"
      ]
     },
     "metadata": {},
     "output_type": "display_data"
    }
   ],
   "source": [
    "run = wandb.init(\n",
    "    entity=\"ramytrm\",\n",
    "    project=f\"WACV-2025-QuestionFiltering\",\n",
    "    name=\"run_test_\" +args.modelname+\"QuestionFiltering\"\n",
    ")"
   ]
  },
  {
   "cell_type": "code",
   "execution_count": 7,
   "id": "d8c578b9",
   "metadata": {},
   "outputs": [],
   "source": [
    "def display_image(image_path):\n",
    "    img = mpimg.imread(image_path)\n",
    "    plt.figure(figsize=(20, 20))\n",
    "    plt.imshow(img)\n",
    "    plt.axis('off')\n",
    "    plt.show()"
   ]
  },
  {
   "cell_type": "code",
   "execution_count": 8,
   "id": "7f3ad21b",
   "metadata": {},
   "outputs": [
    {
     "name": "stdout",
     "output_type": "stream",
     "text": [
      "/mnt/Gbenga_Enemy/ramy/results/Best_Q_Best_Dict.json\n"
     ]
    }
   ],
   "source": [
    "best_dict_path=os.path.join(args.results_dir,'Best_Q_Best_Dict.json')\n",
    "print(best_dict_path)"
   ]
  },
  {
   "cell_type": "code",
   "execution_count": 9,
   "id": "61c55a16",
   "metadata": {},
   "outputs": [],
   "source": [
    "model_name = args.modelname #'llama3.2-vision:90b'\n",
    "ollama.pull(model_name)\n",
    "\n",
    "timeout_duration = args.timeout\n",
    "\n",
    "options= {  # new\n",
    "            \"seed\": 123,\n",
    "            \"temperature\": 0,\n",
    "            \"num_ctx\": 2048, # must be set, otherwise slightly random output\n",
    "        }\n",
    "\n",
    "model_labels = {}\n",
    "count = 0"
   ]
  },
  {
   "cell_type": "code",
   "execution_count": 10,
   "id": "37cad585",
   "metadata": {},
   "outputs": [],
   "source": [
    "file_path = os.path.join(args.valid_responses)\n",
    "with open(file_path, 'r') as file:\n",
    "    valid_responses = json.load(file)\n",
    "    \n",
    "    \n",
    "file_path = os.path.join(args.test_responses)\n",
    "with open(file_path, 'r') as file:\n",
    "    test_responses = json.load(file)"
   ]
  },
  {
   "cell_type": "code",
   "execution_count": 11,
   "id": "92f8e0cb",
   "metadata": {},
   "outputs": [],
   "source": [
    "data_reformated = {}\n",
    "\n",
    "for key, item in valid_responses.items():\n",
    "    q_and_a = []\n",
    "    for i in range(len(item)):\n",
    "        tmp = item[i][1:]   \n",
    "        q_and_a.append(tmp)\n",
    "\n",
    "    data_reformated[key] = q_and_a"
   ]
  },
  {
   "cell_type": "code",
   "execution_count": 12,
   "id": "cd9b9ca9",
   "metadata": {},
   "outputs": [],
   "source": [
    "data_reformated_test = {}\n",
    "\n",
    "for key, item in test_responses.items():\n",
    "    q_and_a = []\n",
    "    for i in range(len(item)):\n",
    "        tmp = item[i][1:]   \n",
    "        q_and_a.append(tmp)\n",
    "\n",
    "    data_reformated_test[key] = q_and_a"
   ]
  },
  {
   "cell_type": "code",
   "execution_count": 13,
   "id": "0bdda581",
   "metadata": {},
   "outputs": [
    {
     "data": {
      "text/plain": [
       "621"
      ]
     },
     "execution_count": 13,
     "metadata": {},
     "output_type": "execute_result"
    }
   ],
   "source": [
    "len(data_reformated)+len(data_reformated_test)"
   ]
  },
  {
   "cell_type": "code",
   "execution_count": 14,
   "id": "22283f60",
   "metadata": {},
   "outputs": [],
   "source": [
    "binary_vars=[1, 0, 0, 0, 0, 0, 0, 0, 0, 0, 0, 0, 0, 0, 1]\n",
    "\n",
    "for index, (key, item) in enumerate(data_reformated.items()):\n",
    "\n",
    "    formatted_qas = []\n",
    "    for i, qa in enumerate(item):\n",
    "        if binary_vars[i] == 0:\n",
    "            continue\n",
    "        formatted_qa = f\"Q: {qa[0]}\\nA: {qa[1]}\"\n",
    "        formatted_qas.append(formatted_qa)\n",
    "\n",
    "    prompt = \"\\n\".join(formatted_qas)\n",
    "\n",
    "    question = \"Based on the following questions and their answers, determine if there is evidence of an ephemeral gully in the observed area. Carefully analyze all the questions and the responses to assess.\\n\\n\"\n",
    "    question += prompt\n",
    "    question += \"\\n\\nAfter considering these responses, provide a clear conclusion: Is there evidence of an ephemeral gully? Answer with yes or no only.\"\n",
    "    break"
   ]
  },
  {
   "cell_type": "code",
   "execution_count": 15,
   "id": "3a70f05a",
   "metadata": {},
   "outputs": [
    {
     "name": "stdout",
     "output_type": "stream",
     "text": [
      "Based on the following questions and their answers, determine if there is evidence of an ephemeral gully in the observed area. Carefully analyze all the questions and the responses to assess.\n",
      "\n",
      "Q: Given these six images of the exact same area and collected over a period of 10 years, do you see a low point in the terrain? Answer with yes or no only!\n",
      "A: No.\n",
      "Q: Given these six images of the exact same area and collected over a period of 10 years, are there indications of nearby human activity, such as tillage or machinery tracks? Answer with yes or no only!\n",
      "A: No.\n",
      "\n",
      "After considering these responses, provide a clear conclusion: Is there evidence of an ephemeral gully? Answer with yes or no only.\n"
     ]
    }
   ],
   "source": [
    "print(question)"
   ]
  },
  {
   "cell_type": "code",
   "execution_count": 16,
   "id": "d99d5eab",
   "metadata": {},
   "outputs": [],
   "source": [
    "def extract_first_yes_no(text):\n",
    "    # Use regular expressions to find \"Yes\" or \"No\" (case-insensitive)\n",
    "    match = re.search(r'\\b(Yes|No)\\b', text, re.IGNORECASE)\n",
    "    if match:\n",
    "        # Return the first match in its original case\n",
    "        return match.group(0)\n",
    "    return None"
   ]
  },
  {
   "cell_type": "code",
   "execution_count": 17,
   "id": "3e3b2d23",
   "metadata": {},
   "outputs": [],
   "source": [
    "def evaluate_model(data_reform, responses, binary_vars, model_name, options,trial,VALID=0):\n",
    "    ground_truth_test = []\n",
    "    model_response_test = []\n",
    "\n",
    "    for index, (key, item) in enumerate(data_reform.items()):\n",
    "\n",
    "        formatted_qas = []\n",
    "        for i, qa in enumerate(item):\n",
    "            if binary_vars[i] == 0:\n",
    "                continue\n",
    "            formatted_qa = f\"Q: {qa[0]}\\nA: {qa[1]}\"\n",
    "            formatted_qas.append(formatted_qa)\n",
    "\n",
    "        prompt = \"\\n\".join(formatted_qas)\n",
    "\n",
    "        question = \"Based on the following questions and their answers, determine if there is evidence of an ephemeral gully in the observed area. Carefully analyze all the questions and the responses to assess.\\n\\n\"\n",
    "        question += prompt\n",
    "        question += \"\\n\\nAfter considering these responses, provide a clear conclusion: Is there evidence of an ephemeral gully? Answer with yes or no only.\"\n",
    "#         question += \"\\n\\nIs there evidence of an ephemeral gully? Answer with yes or no only.\"\n",
    "\n",
    "        response = ollama.generate(model=model_name, prompt=question, options=options)\n",
    "        text=extract_first_yes_no(response['response'])\n",
    "        \n",
    "        \n",
    "        if text == 'Yes':\n",
    "            model_response_test.append(1)\n",
    "        else:\n",
    "            model_response_test.append(0)\n",
    "            \n",
    "        if responses[key][0][0]['label'] == '4':\n",
    "            ground_truth_test.append(1)\n",
    "        else:\n",
    "            ground_truth_test.append(0)\n",
    "            \n",
    "            \n",
    "        if VALID==1 and index%50==0:\n",
    "        \n",
    "            macro_f1 = f1_score(ground_truth_test, model_response_test, average='macro')\n",
    "            trial.report(macro_f1, step=index)\n",
    "            \n",
    "            if trial.should_prune():\n",
    "                raise optuna.TrialPruned()\n",
    "\n",
    "    return ground_truth_test, model_response_test"
   ]
  },
  {
   "cell_type": "code",
   "execution_count": 18,
   "id": "324ceba7",
   "metadata": {},
   "outputs": [],
   "source": [
    "def log_best_dict(best_dict,file_path):\n",
    "\n",
    "    wandb.log(best_dict)\n",
    "    \n",
    "    table = wandb.Table(data=[list(best_dict.values())], columns=list(best_dict.keys()))\n",
    "    wandb.log({\"best_dict_table\": table})\n",
    "    \n",
    "    if os.path.isfile(file_path):\n",
    "        artifact = wandb.Artifact(\"best_dict\", type=\"dictionary\")\n",
    "        artifact.add_file(file_path)\n",
    "        wandb.log_artifact(artifact)\n",
    "    else:\n",
    "        raise FileNotFoundError(f\"The file {file_path} was not created successfully.\")"
   ]
  },
  {
   "cell_type": "code",
   "execution_count": 19,
   "id": "3717d247",
   "metadata": {},
   "outputs": [],
   "source": [
    "def objective(trial):\n",
    "    \n",
    "    global best_dict, trail_no\n",
    "    \n",
    "    trail_no+=1\n",
    "    \n",
    "    print(trail_no,best_dict['best_macro'])\n",
    "    \n",
    "    binary_vars = [trial.suggest_int(f\"x{i}\", 0, 1) for i in range(15)]\n",
    "    \n",
    "\n",
    "    if sum(binary_vars)<=3:\n",
    "        return 0\n",
    "    \n",
    "    ground_truth, model_response = evaluate_model(data_reformated, \n",
    "                                                  valid_responses, \n",
    "                                                  binary_vars, \n",
    "                                                  model_name, \n",
    "                                                  options,trial, \n",
    "                                                  VALID=1)\n",
    "        \n",
    "    \n",
    "    macro_f1 = f1_score(ground_truth, model_response, average='macro')\n",
    "    \n",
    "    \n",
    "    if macro_f1>best_dict['best_macro']:\n",
    "        \n",
    "        \n",
    "        best_dict['all_best']=[]\n",
    "        best_dict['all_best'].append(binary_vars)\n",
    "        best_dict['best_macro']=macro_f1\n",
    "        best_dict['best_questions']=binary_vars\n",
    "        \n",
    "        \n",
    "        ground_truth_test, model_response_test = evaluate_model(\n",
    "        data_reformated_test, test_responses, binary_vars, model_name, options, trial\n",
    "        )\n",
    "\n",
    "\n",
    "        macro_f1_test = f1_score(ground_truth_test, model_response_test, average='macro')\n",
    "        best_dict['best_test']=macro_f1_test\n",
    "        \n",
    "        print('Got new best', best_dict['best_macro'],best_dict['best_test'])\n",
    "        \n",
    "     \n",
    "    if macro_f1>=best_dict['best_macro']:\n",
    "        with open(best_dict_path, 'w') as fp:\n",
    "            json.dump(best_dict, fp, indent=4)\n",
    "            \n",
    "        log_best_dict(best_dict,best_dict_path)\n",
    "        \n",
    "    return macro_f1 "
   ]
  },
  {
   "cell_type": "code",
   "execution_count": 20,
   "id": "3652558a",
   "metadata": {},
   "outputs": [
    {
     "name": "stderr",
     "output_type": "stream",
     "text": [
      "[I 2024-11-15 02:36:09,567] A new study created in memory with name: no-name-e3651763-06bd-41fa-acdc-9145dde0b88f\n"
     ]
    },
    {
     "name": "stdout",
     "output_type": "stream",
     "text": [
      "1 0\n",
      "Got new best 0.6877753997230265 0.6477550214574437\n"
     ]
    },
    {
     "name": "stderr",
     "output_type": "stream",
     "text": [
      "[I 2024-11-15 02:40:10,266] Trial 0 finished with value: 0.6877753997230265 and parameters: {'x0': 0, 'x1': 1, 'x2': 1, 'x3': 1, 'x4': 1, 'x5': 0, 'x6': 1, 'x7': 0, 'x8': 0, 'x9': 0, 'x10': 1, 'x11': 0, 'x12': 0, 'x13': 0, 'x14': 0}. Best is trial 0 with value: 0.6877753997230265.\n"
     ]
    },
    {
     "name": "stdout",
     "output_type": "stream",
     "text": [
      "2 0.6877753997230265\n"
     ]
    },
    {
     "name": "stderr",
     "output_type": "stream",
     "text": [
      "[I 2024-11-15 02:45:53,159] Trial 1 finished with value: 0.47403181543857253 and parameters: {'x0': 1, 'x1': 1, 'x2': 1, 'x3': 1, 'x4': 0, 'x5': 1, 'x6': 0, 'x7': 0, 'x8': 1, 'x9': 0, 'x10': 1, 'x11': 0, 'x12': 0, 'x13': 1, 'x14': 0}. Best is trial 0 with value: 0.6877753997230265.\n"
     ]
    },
    {
     "name": "stdout",
     "output_type": "stream",
     "text": [
      "3 0.6877753997230265\n"
     ]
    },
    {
     "name": "stderr",
     "output_type": "stream",
     "text": [
      "[I 2024-11-15 02:50:53,047] Trial 2 finished with value: 0.4972004976892997 and parameters: {'x0': 0, 'x1': 1, 'x2': 1, 'x3': 1, 'x4': 1, 'x5': 0, 'x6': 0, 'x7': 1, 'x8': 0, 'x9': 0, 'x10': 1, 'x11': 1, 'x12': 1, 'x13': 0, 'x14': 0}. Best is trial 0 with value: 0.6877753997230265.\n",
      "[I 2024-11-15 02:50:53,051] Trial 3 finished with value: 0.0 and parameters: {'x0': 0, 'x1': 0, 'x2': 0, 'x3': 1, 'x4': 0, 'x5': 0, 'x6': 0, 'x7': 0, 'x8': 0, 'x9': 1, 'x10': 0, 'x11': 1, 'x12': 0, 'x13': 0, 'x14': 0}. Best is trial 0 with value: 0.6877753997230265.\n"
     ]
    },
    {
     "name": "stdout",
     "output_type": "stream",
     "text": [
      "4 0.6877753997230265\n",
      "5 0.6877753997230265\n",
      "Got new best 0.6918521308765211 0.645242243238759\n"
     ]
    },
    {
     "name": "stderr",
     "output_type": "stream",
     "text": [
      "[I 2024-11-15 03:41:08,581] Trial 4 finished with value: 0.6918521308765211 and parameters: {'x0': 1, 'x1': 1, 'x2': 1, 'x3': 1, 'x4': 0, 'x5': 1, 'x6': 1, 'x7': 1, 'x8': 1, 'x9': 1, 'x10': 1, 'x11': 0, 'x12': 1, 'x13': 1, 'x14': 1}. Best is trial 4 with value: 0.6918521308765211.\n"
     ]
    },
    {
     "name": "stdout",
     "output_type": "stream",
     "text": [
      "6 0.6918521308765211\n"
     ]
    },
    {
     "name": "stderr",
     "output_type": "stream",
     "text": [
      "[I 2024-11-15 03:41:09,728] Trial 5 pruned. \n"
     ]
    },
    {
     "name": "stdout",
     "output_type": "stream",
     "text": [
      "7 0.6918521308765211\n"
     ]
    },
    {
     "name": "stderr",
     "output_type": "stream",
     "text": [
      "[I 2024-11-15 03:41:10,924] Trial 6 pruned. \n"
     ]
    },
    {
     "name": "stdout",
     "output_type": "stream",
     "text": [
      "8 0.6918521308765211\n"
     ]
    },
    {
     "name": "stderr",
     "output_type": "stream",
     "text": [
      "[I 2024-11-15 03:41:11,578] Trial 7 pruned. \n"
     ]
    },
    {
     "name": "stdout",
     "output_type": "stream",
     "text": [
      "9 0.6918521308765211\n"
     ]
    },
    {
     "name": "stderr",
     "output_type": "stream",
     "text": [
      "[I 2024-11-15 03:41:12,460] Trial 8 pruned. \n"
     ]
    },
    {
     "name": "stdout",
     "output_type": "stream",
     "text": [
      "10 0.6918521308765211\n"
     ]
    },
    {
     "name": "stderr",
     "output_type": "stream",
     "text": [
      "[I 2024-11-15 03:56:37,661] Trial 9 finished with value: 0.6843342886236471 and parameters: {'x0': 1, 'x1': 1, 'x2': 1, 'x3': 0, 'x4': 1, 'x5': 1, 'x6': 1, 'x7': 1, 'x8': 1, 'x9': 0, 'x10': 0, 'x11': 0, 'x12': 0, 'x13': 0, 'x14': 1}. Best is trial 4 with value: 0.6918521308765211.\n"
     ]
    },
    {
     "name": "stdout",
     "output_type": "stream",
     "text": [
      "11 0.6918521308765211\n",
      "Got new best 0.6949457727900842 0.6325858066655613\n"
     ]
    },
    {
     "name": "stderr",
     "output_type": "stream",
     "text": [
      "[I 2024-11-15 04:31:16,463] Trial 10 finished with value: 0.6949457727900842 and parameters: {'x0': 1, 'x1': 0, 'x2': 0, 'x3': 0, 'x4': 0, 'x5': 1, 'x6': 1, 'x7': 0, 'x8': 1, 'x9': 1, 'x10': 0, 'x11': 1, 'x12': 1, 'x13': 1, 'x14': 1}. Best is trial 10 with value: 0.6949457727900842.\n"
     ]
    },
    {
     "name": "stdout",
     "output_type": "stream",
     "text": [
      "12 0.6949457727900842\n"
     ]
    },
    {
     "name": "stderr",
     "output_type": "stream",
     "text": [
      "[I 2024-11-15 04:49:24,827] Trial 11 finished with value: 0.6949457727900842 and parameters: {'x0': 1, 'x1': 0, 'x2': 0, 'x3': 0, 'x4': 0, 'x5': 1, 'x6': 1, 'x7': 0, 'x8': 1, 'x9': 1, 'x10': 0, 'x11': 1, 'x12': 1, 'x13': 1, 'x14': 1}. Best is trial 10 with value: 0.6949457727900842.\n"
     ]
    },
    {
     "name": "stdout",
     "output_type": "stream",
     "text": [
      "13 0.6949457727900842\n"
     ]
    },
    {
     "name": "stderr",
     "output_type": "stream",
     "text": [
      "[I 2024-11-15 05:07:31,755] Trial 12 finished with value: 0.6949457727900842 and parameters: {'x0': 1, 'x1': 0, 'x2': 0, 'x3': 0, 'x4': 0, 'x5': 1, 'x6': 1, 'x7': 0, 'x8': 1, 'x9': 1, 'x10': 0, 'x11': 1, 'x12': 1, 'x13': 1, 'x14': 1}. Best is trial 10 with value: 0.6949457727900842.\n"
     ]
    },
    {
     "name": "stdout",
     "output_type": "stream",
     "text": [
      "14 0.6949457727900842\n"
     ]
    },
    {
     "name": "stderr",
     "output_type": "stream",
     "text": [
      "[I 2024-11-15 05:25:39,180] Trial 13 finished with value: 0.6949457727900842 and parameters: {'x0': 1, 'x1': 0, 'x2': 0, 'x3': 0, 'x4': 0, 'x5': 1, 'x6': 1, 'x7': 0, 'x8': 1, 'x9': 1, 'x10': 0, 'x11': 1, 'x12': 1, 'x13': 1, 'x14': 1}. Best is trial 10 with value: 0.6949457727900842.\n"
     ]
    },
    {
     "name": "stdout",
     "output_type": "stream",
     "text": [
      "15 0.6949457727900842\n"
     ]
    },
    {
     "name": "stderr",
     "output_type": "stream",
     "text": [
      "[I 2024-11-15 05:43:46,271] Trial 14 finished with value: 0.6949457727900842 and parameters: {'x0': 1, 'x1': 0, 'x2': 0, 'x3': 0, 'x4': 0, 'x5': 1, 'x6': 1, 'x7': 0, 'x8': 1, 'x9': 1, 'x10': 0, 'x11': 1, 'x12': 1, 'x13': 1, 'x14': 1}. Best is trial 10 with value: 0.6949457727900842.\n"
     ]
    },
    {
     "name": "stdout",
     "output_type": "stream",
     "text": [
      "16 0.6949457727900842\n"
     ]
    },
    {
     "name": "stderr",
     "output_type": "stream",
     "text": [
      "[I 2024-11-15 06:01:54,206] Trial 15 finished with value: 0.6949457727900842 and parameters: {'x0': 1, 'x1': 0, 'x2': 0, 'x3': 0, 'x4': 0, 'x5': 1, 'x6': 1, 'x7': 0, 'x8': 1, 'x9': 1, 'x10': 0, 'x11': 1, 'x12': 1, 'x13': 1, 'x14': 1}. Best is trial 10 with value: 0.6949457727900842.\n"
     ]
    },
    {
     "name": "stdout",
     "output_type": "stream",
     "text": [
      "17 0.6949457727900842\n"
     ]
    },
    {
     "name": "stderr",
     "output_type": "stream",
     "text": [
      "[I 2024-11-15 06:20:02,595] Trial 16 finished with value: 0.6949457727900842 and parameters: {'x0': 1, 'x1': 0, 'x2': 0, 'x3': 0, 'x4': 0, 'x5': 1, 'x6': 1, 'x7': 0, 'x8': 1, 'x9': 1, 'x10': 0, 'x11': 1, 'x12': 1, 'x13': 1, 'x14': 1}. Best is trial 10 with value: 0.6949457727900842.\n"
     ]
    },
    {
     "name": "stdout",
     "output_type": "stream",
     "text": [
      "18 0.6949457727900842\n"
     ]
    },
    {
     "name": "stderr",
     "output_type": "stream",
     "text": [
      "[I 2024-11-15 06:35:41,441] Trial 17 finished with value: 0.6949457727900842 and parameters: {'x0': 1, 'x1': 0, 'x2': 0, 'x3': 0, 'x4': 0, 'x5': 1, 'x6': 1, 'x7': 0, 'x8': 1, 'x9': 0, 'x10': 0, 'x11': 1, 'x12': 1, 'x13': 1, 'x14': 1}. Best is trial 10 with value: 0.6949457727900842.\n"
     ]
    },
    {
     "name": "stdout",
     "output_type": "stream",
     "text": [
      "19 0.6949457727900842\n"
     ]
    },
    {
     "name": "stderr",
     "output_type": "stream",
     "text": [
      "[I 2024-11-15 06:53:49,289] Trial 18 finished with value: 0.6949457727900842 and parameters: {'x0': 1, 'x1': 0, 'x2': 0, 'x3': 0, 'x4': 0, 'x5': 1, 'x6': 1, 'x7': 0, 'x8': 1, 'x9': 1, 'x10': 0, 'x11': 1, 'x12': 1, 'x13': 1, 'x14': 1}. Best is trial 10 with value: 0.6949457727900842.\n"
     ]
    },
    {
     "name": "stdout",
     "output_type": "stream",
     "text": [
      "20 0.6949457727900842\n"
     ]
    },
    {
     "name": "stderr",
     "output_type": "stream",
     "text": [
      "[I 2024-11-15 07:11:55,930] Trial 19 finished with value: 0.6949457727900842 and parameters: {'x0': 1, 'x1': 0, 'x2': 0, 'x3': 0, 'x4': 0, 'x5': 1, 'x6': 1, 'x7': 0, 'x8': 1, 'x9': 1, 'x10': 0, 'x11': 1, 'x12': 1, 'x13': 1, 'x14': 1}. Best is trial 10 with value: 0.6949457727900842.\n"
     ]
    },
    {
     "name": "stdout",
     "output_type": "stream",
     "text": [
      "21 0.6949457727900842\n"
     ]
    },
    {
     "name": "stderr",
     "output_type": "stream",
     "text": [
      "[I 2024-11-15 07:19:26,716] Trial 20 finished with value: 0.6847049941806209 and parameters: {'x0': 0, 'x1': 0, 'x2': 0, 'x3': 0, 'x4': 1, 'x5': 1, 'x6': 1, 'x7': 0, 'x8': 0, 'x9': 0, 'x10': 0, 'x11': 1, 'x12': 0, 'x13': 1, 'x14': 0}. Best is trial 10 with value: 0.6949457727900842.\n"
     ]
    },
    {
     "name": "stdout",
     "output_type": "stream",
     "text": [
      "22 0.6949457727900842\n"
     ]
    },
    {
     "name": "stderr",
     "output_type": "stream",
     "text": [
      "[I 2024-11-15 07:37:34,498] Trial 21 finished with value: 0.6949457727900842 and parameters: {'x0': 1, 'x1': 0, 'x2': 0, 'x3': 0, 'x4': 0, 'x5': 1, 'x6': 1, 'x7': 0, 'x8': 1, 'x9': 1, 'x10': 0, 'x11': 1, 'x12': 1, 'x13': 1, 'x14': 1}. Best is trial 10 with value: 0.6949457727900842.\n"
     ]
    },
    {
     "name": "stdout",
     "output_type": "stream",
     "text": [
      "23 0.6949457727900842\n"
     ]
    },
    {
     "name": "stderr",
     "output_type": "stream",
     "text": [
      "[I 2024-11-15 07:55:41,493] Trial 22 finished with value: 0.6949457727900842 and parameters: {'x0': 1, 'x1': 0, 'x2': 0, 'x3': 0, 'x4': 0, 'x5': 1, 'x6': 1, 'x7': 0, 'x8': 1, 'x9': 1, 'x10': 0, 'x11': 1, 'x12': 1, 'x13': 1, 'x14': 1}. Best is trial 10 with value: 0.6949457727900842.\n"
     ]
    },
    {
     "name": "stdout",
     "output_type": "stream",
     "text": [
      "24 0.6949457727900842\n"
     ]
    },
    {
     "name": "stderr",
     "output_type": "stream",
     "text": [
      "[I 2024-11-15 08:13:47,923] Trial 23 finished with value: 0.6949457727900842 and parameters: {'x0': 1, 'x1': 0, 'x2': 0, 'x3': 0, 'x4': 0, 'x5': 1, 'x6': 1, 'x7': 0, 'x8': 1, 'x9': 1, 'x10': 0, 'x11': 1, 'x12': 1, 'x13': 1, 'x14': 1}. Best is trial 10 with value: 0.6949457727900842.\n"
     ]
    },
    {
     "name": "stdout",
     "output_type": "stream",
     "text": [
      "25 0.6949457727900842\n"
     ]
    },
    {
     "name": "stderr",
     "output_type": "stream",
     "text": [
      "[I 2024-11-15 08:31:55,885] Trial 24 finished with value: 0.6949457727900842 and parameters: {'x0': 1, 'x1': 0, 'x2': 0, 'x3': 0, 'x4': 0, 'x5': 1, 'x6': 1, 'x7': 0, 'x8': 1, 'x9': 1, 'x10': 0, 'x11': 1, 'x12': 1, 'x13': 1, 'x14': 1}. Best is trial 10 with value: 0.6949457727900842.\n"
     ]
    },
    {
     "name": "stdout",
     "output_type": "stream",
     "text": [
      "26 0.6949457727900842\n"
     ]
    },
    {
     "name": "stderr",
     "output_type": "stream",
     "text": [
      "[I 2024-11-15 08:50:02,776] Trial 25 finished with value: 0.6949457727900842 and parameters: {'x0': 1, 'x1': 0, 'x2': 0, 'x3': 0, 'x4': 0, 'x5': 1, 'x6': 1, 'x7': 0, 'x8': 1, 'x9': 1, 'x10': 0, 'x11': 1, 'x12': 1, 'x13': 1, 'x14': 1}. Best is trial 10 with value: 0.6949457727900842.\n"
     ]
    },
    {
     "name": "stdout",
     "output_type": "stream",
     "text": [
      "27 0.6949457727900842\n"
     ]
    },
    {
     "name": "stderr",
     "output_type": "stream",
     "text": [
      "[I 2024-11-15 09:08:09,758] Trial 26 finished with value: 0.6949457727900842 and parameters: {'x0': 1, 'x1': 0, 'x2': 0, 'x3': 0, 'x4': 0, 'x5': 1, 'x6': 1, 'x7': 0, 'x8': 1, 'x9': 1, 'x10': 0, 'x11': 1, 'x12': 1, 'x13': 1, 'x14': 1}. Best is trial 10 with value: 0.6949457727900842.\n"
     ]
    },
    {
     "name": "stdout",
     "output_type": "stream",
     "text": [
      "28 0.6949457727900842\n"
     ]
    },
    {
     "name": "stderr",
     "output_type": "stream",
     "text": [
      "[I 2024-11-15 09:26:17,581] Trial 27 finished with value: 0.6949457727900842 and parameters: {'x0': 1, 'x1': 0, 'x2': 0, 'x3': 0, 'x4': 0, 'x5': 1, 'x6': 1, 'x7': 0, 'x8': 1, 'x9': 1, 'x10': 0, 'x11': 1, 'x12': 1, 'x13': 1, 'x14': 1}. Best is trial 10 with value: 0.6949457727900842.\n"
     ]
    },
    {
     "name": "stdout",
     "output_type": "stream",
     "text": [
      "29 0.6949457727900842\n"
     ]
    },
    {
     "name": "stderr",
     "output_type": "stream",
     "text": [
      "[I 2024-11-15 09:44:24,862] Trial 28 finished with value: 0.6949457727900842 and parameters: {'x0': 1, 'x1': 0, 'x2': 0, 'x3': 0, 'x4': 0, 'x5': 1, 'x6': 1, 'x7': 0, 'x8': 1, 'x9': 1, 'x10': 0, 'x11': 1, 'x12': 1, 'x13': 1, 'x14': 1}. Best is trial 10 with value: 0.6949457727900842.\n",
      "[I 2024-11-15 09:44:24,920] Trial 29 finished with value: 0.0 and parameters: {'x0': 0, 'x1': 0, 'x2': 0, 'x3': 0, 'x4': 1, 'x5': 0, 'x6': 1, 'x7': 0, 'x8': 0, 'x9': 0, 'x10': 0, 'x11': 1, 'x12': 0, 'x13': 0, 'x14': 0}. Best is trial 10 with value: 0.6949457727900842.\n"
     ]
    },
    {
     "name": "stdout",
     "output_type": "stream",
     "text": [
      "30 0.6949457727900842\n",
      "31 0.6949457727900842\n"
     ]
    },
    {
     "name": "stderr",
     "output_type": "stream",
     "text": [
      "[I 2024-11-15 10:02:31,498] Trial 30 finished with value: 0.6949457727900842 and parameters: {'x0': 1, 'x1': 0, 'x2': 0, 'x3': 0, 'x4': 0, 'x5': 1, 'x6': 1, 'x7': 0, 'x8': 1, 'x9': 1, 'x10': 0, 'x11': 1, 'x12': 1, 'x13': 1, 'x14': 1}. Best is trial 10 with value: 0.6949457727900842.\n"
     ]
    },
    {
     "name": "stdout",
     "output_type": "stream",
     "text": [
      "32 0.6949457727900842\n"
     ]
    },
    {
     "name": "stderr",
     "output_type": "stream",
     "text": [
      "[I 2024-11-15 10:20:42,219] Trial 31 finished with value: 0.6949457727900842 and parameters: {'x0': 1, 'x1': 0, 'x2': 0, 'x3': 0, 'x4': 0, 'x5': 1, 'x6': 1, 'x7': 0, 'x8': 1, 'x9': 1, 'x10': 0, 'x11': 1, 'x12': 1, 'x13': 1, 'x14': 1}. Best is trial 10 with value: 0.6949457727900842.\n"
     ]
    },
    {
     "name": "stdout",
     "output_type": "stream",
     "text": [
      "33 0.6949457727900842\n"
     ]
    },
    {
     "name": "stderr",
     "output_type": "stream",
     "text": [
      "[I 2024-11-15 10:38:49,094] Trial 32 finished with value: 0.6949457727900842 and parameters: {'x0': 1, 'x1': 0, 'x2': 0, 'x3': 0, 'x4': 0, 'x5': 1, 'x6': 1, 'x7': 0, 'x8': 1, 'x9': 1, 'x10': 0, 'x11': 1, 'x12': 1, 'x13': 1, 'x14': 1}. Best is trial 10 with value: 0.6949457727900842.\n"
     ]
    },
    {
     "name": "stdout",
     "output_type": "stream",
     "text": [
      "34 0.6949457727900842\n"
     ]
    },
    {
     "name": "stderr",
     "output_type": "stream",
     "text": [
      "[I 2024-11-15 10:56:56,823] Trial 33 finished with value: 0.6949457727900842 and parameters: {'x0': 1, 'x1': 0, 'x2': 0, 'x3': 0, 'x4': 0, 'x5': 1, 'x6': 1, 'x7': 0, 'x8': 1, 'x9': 1, 'x10': 0, 'x11': 1, 'x12': 1, 'x13': 1, 'x14': 1}. Best is trial 10 with value: 0.6949457727900842.\n"
     ]
    },
    {
     "name": "stdout",
     "output_type": "stream",
     "text": [
      "35 0.6949457727900842\n"
     ]
    },
    {
     "name": "stderr",
     "output_type": "stream",
     "text": [
      "[I 2024-11-15 10:56:57,689] Trial 34 pruned. \n"
     ]
    },
    {
     "name": "stdout",
     "output_type": "stream",
     "text": [
      "36 0.6949457727900842\n"
     ]
    },
    {
     "name": "stderr",
     "output_type": "stream",
     "text": [
      "[I 2024-11-15 11:17:49,419] Trial 35 finished with value: 0.6915422885572139 and parameters: {'x0': 1, 'x1': 0, 'x2': 0, 'x3': 0, 'x4': 0, 'x5': 1, 'x6': 1, 'x7': 0, 'x8': 1, 'x9': 0, 'x10': 1, 'x11': 1, 'x12': 1, 'x13': 1, 'x14': 1}. Best is trial 10 with value: 0.6949457727900842.\n"
     ]
    },
    {
     "name": "stdout",
     "output_type": "stream",
     "text": [
      "37 0.6949457727900842\n"
     ]
    },
    {
     "name": "stderr",
     "output_type": "stream",
     "text": [
      "[I 2024-11-15 11:32:00,339] Trial 36 finished with value: 0.6918521308765211 and parameters: {'x0': 1, 'x1': 0, 'x2': 0, 'x3': 0, 'x4': 0, 'x5': 0, 'x6': 1, 'x7': 0, 'x8': 1, 'x9': 1, 'x10': 0, 'x11': 0, 'x12': 0, 'x13': 1, 'x14': 1}. Best is trial 10 with value: 0.6949457727900842.\n"
     ]
    },
    {
     "name": "stdout",
     "output_type": "stream",
     "text": [
      "38 0.6949457727900842\n"
     ]
    },
    {
     "name": "stderr",
     "output_type": "stream",
     "text": [
      "[I 2024-11-15 11:32:01,190] Trial 37 pruned. \n"
     ]
    },
    {
     "name": "stdout",
     "output_type": "stream",
     "text": [
      "39 0.6949457727900842\n"
     ]
    },
    {
     "name": "stderr",
     "output_type": "stream",
     "text": [
      "[I 2024-11-15 11:32:02,697] Trial 38 pruned. \n"
     ]
    },
    {
     "name": "stdout",
     "output_type": "stream",
     "text": [
      "40 0.6949457727900842\n"
     ]
    },
    {
     "name": "stderr",
     "output_type": "stream",
     "text": [
      "[I 2024-11-15 11:32:03,391] Trial 39 pruned. \n"
     ]
    },
    {
     "name": "stdout",
     "output_type": "stream",
     "text": [
      "41 0.6949457727900842\n"
     ]
    },
    {
     "name": "stderr",
     "output_type": "stream",
     "text": [
      "[I 2024-11-15 11:52:10,207] Trial 40 finished with value: 0.6915422885572139 and parameters: {'x0': 1, 'x1': 0, 'x2': 1, 'x3': 0, 'x4': 0, 'x5': 1, 'x6': 1, 'x7': 1, 'x8': 0, 'x9': 1, 'x10': 1, 'x11': 1, 'x12': 1, 'x13': 1, 'x14': 1}. Best is trial 10 with value: 0.6949457727900842.\n"
     ]
    },
    {
     "name": "stdout",
     "output_type": "stream",
     "text": [
      "42 0.6949457727900842\n"
     ]
    },
    {
     "name": "stderr",
     "output_type": "stream",
     "text": [
      "[I 2024-11-15 12:10:22,995] Trial 41 finished with value: 0.6949457727900842 and parameters: {'x0': 1, 'x1': 0, 'x2': 0, 'x3': 0, 'x4': 0, 'x5': 1, 'x6': 1, 'x7': 0, 'x8': 1, 'x9': 1, 'x10': 0, 'x11': 1, 'x12': 1, 'x13': 1, 'x14': 1}. Best is trial 10 with value: 0.6949457727900842.\n"
     ]
    },
    {
     "name": "stdout",
     "output_type": "stream",
     "text": [
      "43 0.6949457727900842\n"
     ]
    },
    {
     "name": "stderr",
     "output_type": "stream",
     "text": [
      "[I 2024-11-15 12:28:35,039] Trial 42 finished with value: 0.6949457727900842 and parameters: {'x0': 1, 'x1': 0, 'x2': 0, 'x3': 0, 'x4': 0, 'x5': 1, 'x6': 1, 'x7': 0, 'x8': 1, 'x9': 1, 'x10': 0, 'x11': 1, 'x12': 1, 'x13': 1, 'x14': 1}. Best is trial 10 with value: 0.6949457727900842.\n"
     ]
    },
    {
     "name": "stdout",
     "output_type": "stream",
     "text": [
      "44 0.6949457727900842\n"
     ]
    },
    {
     "name": "stderr",
     "output_type": "stream",
     "text": [
      "[I 2024-11-15 12:46:47,221] Trial 43 finished with value: 0.6949457727900842 and parameters: {'x0': 1, 'x1': 0, 'x2': 0, 'x3': 0, 'x4': 0, 'x5': 1, 'x6': 1, 'x7': 0, 'x8': 1, 'x9': 1, 'x10': 0, 'x11': 1, 'x12': 1, 'x13': 1, 'x14': 1}. Best is trial 10 with value: 0.6949457727900842.\n"
     ]
    },
    {
     "name": "stdout",
     "output_type": "stream",
     "text": [
      "45 0.6949457727900842\n"
     ]
    },
    {
     "name": "stderr",
     "output_type": "stream",
     "text": [
      "[I 2024-11-15 13:04:58,318] Trial 44 finished with value: 0.6949457727900842 and parameters: {'x0': 1, 'x1': 0, 'x2': 0, 'x3': 0, 'x4': 0, 'x5': 1, 'x6': 1, 'x7': 0, 'x8': 1, 'x9': 1, 'x10': 0, 'x11': 1, 'x12': 1, 'x13': 1, 'x14': 1}. Best is trial 10 with value: 0.6949457727900842.\n"
     ]
    },
    {
     "name": "stdout",
     "output_type": "stream",
     "text": [
      "46 0.6949457727900842\n"
     ]
    },
    {
     "name": "stderr",
     "output_type": "stream",
     "text": [
      "[I 2024-11-15 13:20:10,618] Trial 45 finished with value: 0.6918521308765211 and parameters: {'x0': 1, 'x1': 1, 'x2': 0, 'x3': 0, 'x4': 0, 'x5': 1, 'x6': 1, 'x7': 0, 'x8': 1, 'x9': 1, 'x10': 0, 'x11': 1, 'x12': 1, 'x13': 1, 'x14': 1}. Best is trial 10 with value: 0.6949457727900842.\n"
     ]
    },
    {
     "name": "stdout",
     "output_type": "stream",
     "text": [
      "47 0.6949457727900842\n"
     ]
    },
    {
     "name": "stderr",
     "output_type": "stream",
     "text": [
      "[I 2024-11-15 13:38:14,915] Trial 46 finished with value: 0.6949457727900842 and parameters: {'x0': 1, 'x1': 0, 'x2': 0, 'x3': 0, 'x4': 0, 'x5': 1, 'x6': 1, 'x7': 0, 'x8': 1, 'x9': 1, 'x10': 0, 'x11': 1, 'x12': 1, 'x13': 1, 'x14': 1}. Best is trial 10 with value: 0.6949457727900842.\n"
     ]
    },
    {
     "name": "stdout",
     "output_type": "stream",
     "text": [
      "48 0.6949457727900842\n"
     ]
    },
    {
     "name": "stderr",
     "output_type": "stream",
     "text": [
      "[I 2024-11-15 13:55:55,477] Trial 47 finished with value: 0.6918521308765211 and parameters: {'x0': 1, 'x1': 0, 'x2': 0, 'x3': 0, 'x4': 0, 'x5': 1, 'x6': 1, 'x7': 0, 'x8': 1, 'x9': 1, 'x10': 0, 'x11': 0, 'x12': 1, 'x13': 1, 'x14': 1}. Best is trial 10 with value: 0.6949457727900842.\n"
     ]
    },
    {
     "name": "stdout",
     "output_type": "stream",
     "text": [
      "49 0.6949457727900842\n"
     ]
    },
    {
     "name": "stderr",
     "output_type": "stream",
     "text": [
      "[I 2024-11-15 13:55:57,008] Trial 48 pruned. \n"
     ]
    },
    {
     "name": "stdout",
     "output_type": "stream",
     "text": [
      "50 0.6949457727900842\n"
     ]
    },
    {
     "name": "stderr",
     "output_type": "stream",
     "text": [
      "[I 2024-11-15 13:55:57,941] Trial 49 pruned. \n"
     ]
    },
    {
     "name": "stdout",
     "output_type": "stream",
     "text": [
      "51 0.6949457727900842\n"
     ]
    },
    {
     "name": "stderr",
     "output_type": "stream",
     "text": [
      "[I 2024-11-15 13:55:58,735] Trial 50 pruned. \n"
     ]
    },
    {
     "name": "stdout",
     "output_type": "stream",
     "text": [
      "52 0.6949457727900842\n"
     ]
    },
    {
     "name": "stderr",
     "output_type": "stream",
     "text": [
      "[I 2024-11-15 14:14:11,948] Trial 51 finished with value: 0.6949457727900842 and parameters: {'x0': 1, 'x1': 0, 'x2': 0, 'x3': 0, 'x4': 0, 'x5': 1, 'x6': 1, 'x7': 0, 'x8': 1, 'x9': 1, 'x10': 0, 'x11': 1, 'x12': 1, 'x13': 1, 'x14': 1}. Best is trial 10 with value: 0.6949457727900842.\n"
     ]
    },
    {
     "name": "stdout",
     "output_type": "stream",
     "text": [
      "53 0.6949457727900842\n"
     ]
    },
    {
     "name": "stderr",
     "output_type": "stream",
     "text": [
      "[I 2024-11-15 14:32:24,692] Trial 52 finished with value: 0.6949457727900842 and parameters: {'x0': 1, 'x1': 0, 'x2': 0, 'x3': 0, 'x4': 0, 'x5': 1, 'x6': 1, 'x7': 0, 'x8': 1, 'x9': 1, 'x10': 0, 'x11': 1, 'x12': 1, 'x13': 1, 'x14': 1}. Best is trial 10 with value: 0.6949457727900842.\n"
     ]
    },
    {
     "name": "stdout",
     "output_type": "stream",
     "text": [
      "54 0.6949457727900842\n"
     ]
    },
    {
     "name": "stderr",
     "output_type": "stream",
     "text": [
      "[I 2024-11-15 14:50:37,840] Trial 53 finished with value: 0.6949457727900842 and parameters: {'x0': 1, 'x1': 0, 'x2': 0, 'x3': 0, 'x4': 0, 'x5': 1, 'x6': 1, 'x7': 0, 'x8': 1, 'x9': 1, 'x10': 0, 'x11': 1, 'x12': 1, 'x13': 1, 'x14': 1}. Best is trial 10 with value: 0.6949457727900842.\n"
     ]
    },
    {
     "name": "stdout",
     "output_type": "stream",
     "text": [
      "55 0.6949457727900842\n"
     ]
    },
    {
     "name": "stderr",
     "output_type": "stream",
     "text": [
      "[I 2024-11-15 15:08:51,123] Trial 54 finished with value: 0.6949457727900842 and parameters: {'x0': 1, 'x1': 0, 'x2': 0, 'x3': 0, 'x4': 0, 'x5': 1, 'x6': 1, 'x7': 0, 'x8': 1, 'x9': 1, 'x10': 0, 'x11': 1, 'x12': 1, 'x13': 1, 'x14': 1}. Best is trial 10 with value: 0.6949457727900842.\n"
     ]
    },
    {
     "name": "stdout",
     "output_type": "stream",
     "text": [
      "56 0.6949457727900842\n"
     ]
    },
    {
     "name": "stderr",
     "output_type": "stream",
     "text": [
      "[I 2024-11-15 15:27:04,103] Trial 55 finished with value: 0.6949457727900842 and parameters: {'x0': 1, 'x1': 0, 'x2': 0, 'x3': 0, 'x4': 0, 'x5': 1, 'x6': 1, 'x7': 0, 'x8': 1, 'x9': 1, 'x10': 0, 'x11': 1, 'x12': 1, 'x13': 1, 'x14': 1}. Best is trial 10 with value: 0.6949457727900842.\n"
     ]
    },
    {
     "name": "stdout",
     "output_type": "stream",
     "text": [
      "57 0.6949457727900842\n"
     ]
    },
    {
     "name": "stderr",
     "output_type": "stream",
     "text": [
      "[I 2024-11-15 15:45:17,485] Trial 56 finished with value: 0.6949457727900842 and parameters: {'x0': 1, 'x1': 0, 'x2': 0, 'x3': 0, 'x4': 0, 'x5': 1, 'x6': 1, 'x7': 0, 'x8': 1, 'x9': 1, 'x10': 0, 'x11': 1, 'x12': 1, 'x13': 1, 'x14': 1}. Best is trial 10 with value: 0.6949457727900842.\n"
     ]
    },
    {
     "name": "stdout",
     "output_type": "stream",
     "text": [
      "58 0.6949457727900842\n"
     ]
    },
    {
     "name": "stderr",
     "output_type": "stream",
     "text": [
      "[I 2024-11-15 16:03:31,470] Trial 57 finished with value: 0.6949457727900842 and parameters: {'x0': 1, 'x1': 0, 'x2': 0, 'x3': 0, 'x4': 0, 'x5': 1, 'x6': 1, 'x7': 0, 'x8': 1, 'x9': 1, 'x10': 0, 'x11': 1, 'x12': 1, 'x13': 1, 'x14': 1}. Best is trial 10 with value: 0.6949457727900842.\n"
     ]
    },
    {
     "name": "stdout",
     "output_type": "stream",
     "text": [
      "59 0.6949457727900842\n"
     ]
    },
    {
     "name": "stderr",
     "output_type": "stream",
     "text": [
      "[I 2024-11-15 16:21:45,124] Trial 58 finished with value: 0.6949457727900842 and parameters: {'x0': 1, 'x1': 0, 'x2': 0, 'x3': 0, 'x4': 0, 'x5': 1, 'x6': 1, 'x7': 0, 'x8': 1, 'x9': 1, 'x10': 0, 'x11': 1, 'x12': 1, 'x13': 1, 'x14': 1}. Best is trial 10 with value: 0.6949457727900842.\n"
     ]
    },
    {
     "name": "stdout",
     "output_type": "stream",
     "text": [
      "60 0.6949457727900842\n"
     ]
    },
    {
     "name": "stderr",
     "output_type": "stream",
     "text": [
      "[I 2024-11-15 16:39:59,568] Trial 59 finished with value: 0.6949457727900842 and parameters: {'x0': 1, 'x1': 0, 'x2': 0, 'x3': 0, 'x4': 0, 'x5': 1, 'x6': 1, 'x7': 0, 'x8': 1, 'x9': 1, 'x10': 0, 'x11': 1, 'x12': 1, 'x13': 1, 'x14': 1}. Best is trial 10 with value: 0.6949457727900842.\n"
     ]
    },
    {
     "name": "stdout",
     "output_type": "stream",
     "text": [
      "61 0.6949457727900842\n"
     ]
    },
    {
     "name": "stderr",
     "output_type": "stream",
     "text": [
      "[I 2024-11-15 16:52:57,324] Trial 60 finished with value: 0.6949457727900842 and parameters: {'x0': 0, 'x1': 0, 'x2': 0, 'x3': 0, 'x4': 0, 'x5': 1, 'x6': 1, 'x7': 0, 'x8': 0, 'x9': 1, 'x10': 0, 'x11': 1, 'x12': 0, 'x13': 1, 'x14': 1}. Best is trial 10 with value: 0.6949457727900842.\n"
     ]
    },
    {
     "name": "stdout",
     "output_type": "stream",
     "text": [
      "62 0.6949457727900842\n"
     ]
    },
    {
     "name": "stderr",
     "output_type": "stream",
     "text": [
      "[I 2024-11-15 17:11:10,374] Trial 61 finished with value: 0.6949457727900842 and parameters: {'x0': 1, 'x1': 0, 'x2': 0, 'x3': 0, 'x4': 0, 'x5': 1, 'x6': 1, 'x7': 0, 'x8': 1, 'x9': 1, 'x10': 0, 'x11': 1, 'x12': 1, 'x13': 1, 'x14': 1}. Best is trial 10 with value: 0.6949457727900842.\n"
     ]
    },
    {
     "name": "stdout",
     "output_type": "stream",
     "text": [
      "63 0.6949457727900842\n"
     ]
    },
    {
     "name": "stderr",
     "output_type": "stream",
     "text": [
      "[I 2024-11-15 17:29:25,238] Trial 62 finished with value: 0.6949457727900842 and parameters: {'x0': 1, 'x1': 0, 'x2': 0, 'x3': 0, 'x4': 0, 'x5': 1, 'x6': 1, 'x7': 0, 'x8': 1, 'x9': 1, 'x10': 0, 'x11': 1, 'x12': 1, 'x13': 1, 'x14': 1}. Best is trial 10 with value: 0.6949457727900842.\n"
     ]
    },
    {
     "name": "stdout",
     "output_type": "stream",
     "text": [
      "64 0.6949457727900842\n"
     ]
    },
    {
     "name": "stderr",
     "output_type": "stream",
     "text": [
      "[I 2024-11-15 17:47:39,322] Trial 63 finished with value: 0.6949457727900842 and parameters: {'x0': 1, 'x1': 0, 'x2': 0, 'x3': 0, 'x4': 0, 'x5': 1, 'x6': 1, 'x7': 0, 'x8': 1, 'x9': 1, 'x10': 0, 'x11': 1, 'x12': 1, 'x13': 1, 'x14': 1}. Best is trial 10 with value: 0.6949457727900842.\n"
     ]
    },
    {
     "name": "stdout",
     "output_type": "stream",
     "text": [
      "65 0.6949457727900842\n"
     ]
    },
    {
     "name": "stderr",
     "output_type": "stream",
     "text": [
      "[I 2024-11-15 18:05:53,620] Trial 64 finished with value: 0.6949457727900842 and parameters: {'x0': 1, 'x1': 0, 'x2': 0, 'x3': 0, 'x4': 0, 'x5': 1, 'x6': 1, 'x7': 0, 'x8': 1, 'x9': 1, 'x10': 0, 'x11': 1, 'x12': 1, 'x13': 1, 'x14': 1}. Best is trial 10 with value: 0.6949457727900842.\n"
     ]
    },
    {
     "name": "stdout",
     "output_type": "stream",
     "text": [
      "66 0.6949457727900842\n"
     ]
    },
    {
     "name": "stderr",
     "output_type": "stream",
     "text": [
      "[I 2024-11-15 18:24:14,031] Trial 65 finished with value: 0.6949457727900842 and parameters: {'x0': 1, 'x1': 0, 'x2': 0, 'x3': 0, 'x4': 0, 'x5': 1, 'x6': 1, 'x7': 0, 'x8': 1, 'x9': 1, 'x10': 0, 'x11': 1, 'x12': 1, 'x13': 1, 'x14': 1}. Best is trial 10 with value: 0.6949457727900842.\n"
     ]
    },
    {
     "name": "stdout",
     "output_type": "stream",
     "text": [
      "67 0.6949457727900842\n"
     ]
    },
    {
     "name": "stderr",
     "output_type": "stream",
     "text": [
      "[I 2024-11-15 18:42:36,318] Trial 66 finished with value: 0.6949457727900842 and parameters: {'x0': 1, 'x1': 0, 'x2': 0, 'x3': 0, 'x4': 0, 'x5': 1, 'x6': 1, 'x7': 0, 'x8': 1, 'x9': 1, 'x10': 0, 'x11': 1, 'x12': 1, 'x13': 1, 'x14': 1}. Best is trial 10 with value: 0.6949457727900842.\n"
     ]
    },
    {
     "name": "stdout",
     "output_type": "stream",
     "text": [
      "68 0.6949457727900842\n"
     ]
    },
    {
     "name": "stderr",
     "output_type": "stream",
     "text": [
      "[I 2024-11-15 18:58:22,095] Trial 67 finished with value: 0.6949457727900842 and parameters: {'x0': 1, 'x1': 0, 'x2': 0, 'x3': 0, 'x4': 0, 'x5': 1, 'x6': 1, 'x7': 0, 'x8': 1, 'x9': 0, 'x10': 0, 'x11': 1, 'x12': 1, 'x13': 1, 'x14': 1}. Best is trial 10 with value: 0.6949457727900842.\n"
     ]
    },
    {
     "name": "stdout",
     "output_type": "stream",
     "text": [
      "69 0.6949457727900842\n"
     ]
    },
    {
     "name": "stderr",
     "output_type": "stream",
     "text": [
      "[I 2024-11-15 19:16:55,953] Trial 68 finished with value: 0.6847049941806209 and parameters: {'x0': 1, 'x1': 0, 'x2': 0, 'x3': 0, 'x4': 1, 'x5': 1, 'x6': 1, 'x7': 0, 'x8': 1, 'x9': 1, 'x10': 0, 'x11': 1, 'x12': 1, 'x13': 1, 'x14': 1}. Best is trial 10 with value: 0.6949457727900842.\n"
     ]
    },
    {
     "name": "stdout",
     "output_type": "stream",
     "text": [
      "70 0.6949457727900842\n"
     ]
    },
    {
     "name": "stderr",
     "output_type": "stream",
     "text": [
      "[I 2024-11-15 19:35:12,733] Trial 69 finished with value: 0.6949457727900842 and parameters: {'x0': 1, 'x1': 0, 'x2': 0, 'x3': 0, 'x4': 0, 'x5': 1, 'x6': 1, 'x7': 0, 'x8': 1, 'x9': 1, 'x10': 0, 'x11': 1, 'x12': 1, 'x13': 1, 'x14': 1}. Best is trial 10 with value: 0.6949457727900842.\n"
     ]
    },
    {
     "name": "stdout",
     "output_type": "stream",
     "text": [
      "71 0.6949457727900842\n"
     ]
    },
    {
     "name": "stderr",
     "output_type": "stream",
     "text": [
      "[I 2024-11-15 19:52:53,362] Trial 70 finished with value: 0.6918521308765211 and parameters: {'x0': 1, 'x1': 0, 'x2': 0, 'x3': 0, 'x4': 0, 'x5': 1, 'x6': 1, 'x7': 0, 'x8': 1, 'x9': 1, 'x10': 0, 'x11': 0, 'x12': 1, 'x13': 1, 'x14': 1}. Best is trial 10 with value: 0.6949457727900842.\n"
     ]
    },
    {
     "name": "stdout",
     "output_type": "stream",
     "text": [
      "72 0.6949457727900842\n"
     ]
    },
    {
     "name": "stderr",
     "output_type": "stream",
     "text": [
      "[I 2024-11-15 20:08:35,613] Trial 71 finished with value: 0.6949457727900842 and parameters: {'x0': 1, 'x1': 0, 'x2': 0, 'x3': 0, 'x4': 0, 'x5': 1, 'x6': 1, 'x7': 0, 'x8': 1, 'x9': 0, 'x10': 0, 'x11': 1, 'x12': 1, 'x13': 1, 'x14': 1}. Best is trial 10 with value: 0.6949457727900842.\n"
     ]
    },
    {
     "name": "stdout",
     "output_type": "stream",
     "text": [
      "73 0.6949457727900842\n"
     ]
    },
    {
     "name": "stderr",
     "output_type": "stream",
     "text": [
      "[I 2024-11-15 20:24:21,843] Trial 72 finished with value: 0.6949457727900842 and parameters: {'x0': 1, 'x1': 0, 'x2': 0, 'x3': 0, 'x4': 0, 'x5': 1, 'x6': 1, 'x7': 0, 'x8': 1, 'x9': 0, 'x10': 0, 'x11': 1, 'x12': 1, 'x13': 1, 'x14': 1}. Best is trial 10 with value: 0.6949457727900842.\n"
     ]
    },
    {
     "name": "stdout",
     "output_type": "stream",
     "text": [
      "74 0.6949457727900842\n"
     ]
    },
    {
     "name": "stderr",
     "output_type": "stream",
     "text": [
      "[I 2024-11-15 20:40:08,370] Trial 73 finished with value: 0.6949457727900842 and parameters: {'x0': 1, 'x1': 0, 'x2': 0, 'x3': 0, 'x4': 0, 'x5': 1, 'x6': 1, 'x7': 0, 'x8': 1, 'x9': 0, 'x10': 0, 'x11': 1, 'x12': 1, 'x13': 1, 'x14': 1}. Best is trial 10 with value: 0.6949457727900842.\n"
     ]
    },
    {
     "name": "stdout",
     "output_type": "stream",
     "text": [
      "75 0.6949457727900842\n"
     ]
    },
    {
     "name": "stderr",
     "output_type": "stream",
     "text": [
      "[I 2024-11-15 20:55:54,293] Trial 74 finished with value: 0.6949457727900842 and parameters: {'x0': 1, 'x1': 0, 'x2': 0, 'x3': 0, 'x4': 0, 'x5': 1, 'x6': 1, 'x7': 0, 'x8': 1, 'x9': 0, 'x10': 0, 'x11': 1, 'x12': 1, 'x13': 1, 'x14': 1}. Best is trial 10 with value: 0.6949457727900842.\n"
     ]
    },
    {
     "name": "stdout",
     "output_type": "stream",
     "text": [
      "76 0.6949457727900842\n"
     ]
    },
    {
     "name": "stderr",
     "output_type": "stream",
     "text": [
      "[I 2024-11-15 21:14:09,679] Trial 75 finished with value: 0.6949457727900842 and parameters: {'x0': 1, 'x1': 0, 'x2': 0, 'x3': 0, 'x4': 0, 'x5': 1, 'x6': 1, 'x7': 0, 'x8': 1, 'x9': 1, 'x10': 0, 'x11': 1, 'x12': 1, 'x13': 1, 'x14': 1}. Best is trial 10 with value: 0.6949457727900842.\n"
     ]
    },
    {
     "name": "stdout",
     "output_type": "stream",
     "text": [
      "77 0.6949457727900842\n"
     ]
    },
    {
     "name": "stderr",
     "output_type": "stream",
     "text": [
      "[I 2024-11-15 21:32:22,282] Trial 76 finished with value: 0.6949457727900842 and parameters: {'x0': 1, 'x1': 0, 'x2': 0, 'x3': 0, 'x4': 0, 'x5': 1, 'x6': 1, 'x7': 0, 'x8': 1, 'x9': 1, 'x10': 0, 'x11': 1, 'x12': 1, 'x13': 1, 'x14': 1}. Best is trial 10 with value: 0.6949457727900842.\n"
     ]
    },
    {
     "name": "stdout",
     "output_type": "stream",
     "text": [
      "78 0.6949457727900842\n"
     ]
    },
    {
     "name": "stderr",
     "output_type": "stream",
     "text": [
      "[I 2024-11-15 21:49:21,005] Trial 77 finished with value: 0.6949457727900842 and parameters: {'x0': 1, 'x1': 0, 'x2': 1, 'x3': 0, 'x4': 0, 'x5': 1, 'x6': 1, 'x7': 0, 'x8': 1, 'x9': 0, 'x10': 0, 'x11': 1, 'x12': 1, 'x13': 1, 'x14': 1}. Best is trial 10 with value: 0.6949457727900842.\n"
     ]
    },
    {
     "name": "stdout",
     "output_type": "stream",
     "text": [
      "79 0.6949457727900842\n"
     ]
    },
    {
     "name": "stderr",
     "output_type": "stream",
     "text": [
      "[I 2024-11-15 22:04:23,640] Trial 78 finished with value: 0.6918521308765211 and parameters: {'x0': 1, 'x1': 0, 'x2': 0, 'x3': 0, 'x4': 0, 'x5': 0, 'x6': 1, 'x7': 1, 'x8': 1, 'x9': 1, 'x10': 0, 'x11': 1, 'x12': 1, 'x13': 1, 'x14': 0}. Best is trial 10 with value: 0.6949457727900842.\n"
     ]
    },
    {
     "name": "stdout",
     "output_type": "stream",
     "text": [
      "80 0.6949457727900842\n"
     ]
    },
    {
     "name": "stderr",
     "output_type": "stream",
     "text": [
      "[I 2024-11-15 22:18:39,902] Trial 79 finished with value: 0.6918521308765211 and parameters: {'x0': 1, 'x1': 0, 'x2': 0, 'x3': 1, 'x4': 0, 'x5': 1, 'x6': 1, 'x7': 0, 'x8': 1, 'x9': 1, 'x10': 0, 'x11': 1, 'x12': 1, 'x13': 1, 'x14': 1}. Best is trial 10 with value: 0.6949457727900842.\n"
     ]
    },
    {
     "name": "stdout",
     "output_type": "stream",
     "text": [
      "81 0.6949457727900842\n"
     ]
    },
    {
     "name": "stderr",
     "output_type": "stream",
     "text": [
      "[I 2024-11-15 22:18:40,768] Trial 80 pruned. \n"
     ]
    },
    {
     "name": "stdout",
     "output_type": "stream",
     "text": [
      "82 0.6949457727900842\n"
     ]
    },
    {
     "name": "stderr",
     "output_type": "stream",
     "text": [
      "[I 2024-11-15 22:36:50,278] Trial 81 finished with value: 0.6949457727900842 and parameters: {'x0': 1, 'x1': 0, 'x2': 0, 'x3': 0, 'x4': 0, 'x5': 1, 'x6': 1, 'x7': 0, 'x8': 1, 'x9': 1, 'x10': 0, 'x11': 1, 'x12': 1, 'x13': 1, 'x14': 1}. Best is trial 10 with value: 0.6949457727900842.\n"
     ]
    },
    {
     "name": "stdout",
     "output_type": "stream",
     "text": [
      "83 0.6949457727900842\n"
     ]
    },
    {
     "name": "stderr",
     "output_type": "stream",
     "text": [
      "[I 2024-11-15 22:55:05,914] Trial 82 finished with value: 0.6949457727900842 and parameters: {'x0': 1, 'x1': 0, 'x2': 0, 'x3': 0, 'x4': 0, 'x5': 1, 'x6': 1, 'x7': 0, 'x8': 1, 'x9': 1, 'x10': 0, 'x11': 1, 'x12': 1, 'x13': 1, 'x14': 1}. Best is trial 10 with value: 0.6949457727900842.\n"
     ]
    },
    {
     "name": "stdout",
     "output_type": "stream",
     "text": [
      "84 0.6949457727900842\n"
     ]
    },
    {
     "name": "stderr",
     "output_type": "stream",
     "text": [
      "[I 2024-11-15 23:13:20,419] Trial 83 finished with value: 0.6949457727900842 and parameters: {'x0': 1, 'x1': 0, 'x2': 0, 'x3': 0, 'x4': 0, 'x5': 1, 'x6': 1, 'x7': 0, 'x8': 1, 'x9': 1, 'x10': 0, 'x11': 1, 'x12': 1, 'x13': 1, 'x14': 1}. Best is trial 10 with value: 0.6949457727900842.\n"
     ]
    },
    {
     "name": "stdout",
     "output_type": "stream",
     "text": [
      "85 0.6949457727900842\n"
     ]
    },
    {
     "name": "stderr",
     "output_type": "stream",
     "text": [
      "[I 2024-11-15 23:31:11,893] Trial 84 finished with value: 0.6949457727900842 and parameters: {'x0': 1, 'x1': 0, 'x2': 0, 'x3': 0, 'x4': 0, 'x5': 1, 'x6': 1, 'x7': 0, 'x8': 1, 'x9': 1, 'x10': 0, 'x11': 1, 'x12': 1, 'x13': 0, 'x14': 1}. Best is trial 10 with value: 0.6949457727900842.\n"
     ]
    },
    {
     "name": "stdout",
     "output_type": "stream",
     "text": [
      "86 0.6949457727900842\n"
     ]
    },
    {
     "name": "stderr",
     "output_type": "stream",
     "text": [
      "[I 2024-11-15 23:49:30,623] Trial 85 finished with value: 0.6949457727900842 and parameters: {'x0': 1, 'x1': 0, 'x2': 0, 'x3': 0, 'x4': 0, 'x5': 1, 'x6': 1, 'x7': 0, 'x8': 1, 'x9': 1, 'x10': 0, 'x11': 1, 'x12': 1, 'x13': 1, 'x14': 1}. Best is trial 10 with value: 0.6949457727900842.\n"
     ]
    },
    {
     "name": "stdout",
     "output_type": "stream",
     "text": [
      "87 0.6949457727900842\n"
     ]
    },
    {
     "name": "stderr",
     "output_type": "stream",
     "text": [
      "[I 2024-11-16 00:07:20,272] Trial 86 finished with value: 0.6949457727900842 and parameters: {'x0': 0, 'x1': 0, 'x2': 0, 'x3': 0, 'x4': 0, 'x5': 1, 'x6': 1, 'x7': 0, 'x8': 1, 'x9': 1, 'x10': 1, 'x11': 1, 'x12': 1, 'x13': 1, 'x14': 1}. Best is trial 10 with value: 0.6949457727900842.\n"
     ]
    },
    {
     "name": "stdout",
     "output_type": "stream",
     "text": [
      "88 0.6949457727900842\n"
     ]
    },
    {
     "name": "stderr",
     "output_type": "stream",
     "text": [
      "[I 2024-11-16 00:26:09,440] Trial 87 finished with value: 0.6949457727900842 and parameters: {'x0': 1, 'x1': 0, 'x2': 0, 'x3': 0, 'x4': 0, 'x5': 1, 'x6': 1, 'x7': 0, 'x8': 0, 'x9': 1, 'x10': 0, 'x11': 1, 'x12': 1, 'x13': 1, 'x14': 1}. Best is trial 10 with value: 0.6949457727900842.\n"
     ]
    },
    {
     "name": "stdout",
     "output_type": "stream",
     "text": [
      "89 0.6949457727900842\n"
     ]
    },
    {
     "name": "stderr",
     "output_type": "stream",
     "text": [
      "[I 2024-11-16 00:44:19,138] Trial 88 finished with value: 0.6949457727900842 and parameters: {'x0': 1, 'x1': 0, 'x2': 0, 'x3': 0, 'x4': 0, 'x5': 1, 'x6': 1, 'x7': 0, 'x8': 1, 'x9': 1, 'x10': 0, 'x11': 1, 'x12': 1, 'x13': 1, 'x14': 1}. Best is trial 10 with value: 0.6949457727900842.\n"
     ]
    },
    {
     "name": "stdout",
     "output_type": "stream",
     "text": [
      "90 0.6949457727900842\n"
     ]
    },
    {
     "name": "stderr",
     "output_type": "stream",
     "text": [
      "[I 2024-11-16 01:02:24,776] Trial 89 finished with value: 0.6949457727900842 and parameters: {'x0': 1, 'x1': 0, 'x2': 0, 'x3': 0, 'x4': 0, 'x5': 1, 'x6': 1, 'x7': 0, 'x8': 1, 'x9': 1, 'x10': 0, 'x11': 1, 'x12': 1, 'x13': 1, 'x14': 1}. Best is trial 10 with value: 0.6949457727900842.\n"
     ]
    },
    {
     "name": "stdout",
     "output_type": "stream",
     "text": [
      "91 0.6949457727900842\n"
     ]
    },
    {
     "name": "stderr",
     "output_type": "stream",
     "text": [
      "[I 2024-11-16 01:22:37,493] Trial 90 finished with value: 0.6847049941806209 and parameters: {'x0': 1, 'x1': 0, 'x2': 0, 'x3': 0, 'x4': 1, 'x5': 1, 'x6': 1, 'x7': 0, 'x8': 1, 'x9': 1, 'x10': 0, 'x11': 1, 'x12': 1, 'x13': 1, 'x14': 1}. Best is trial 10 with value: 0.6949457727900842.\n"
     ]
    },
    {
     "name": "stdout",
     "output_type": "stream",
     "text": [
      "92 0.6949457727900842\n"
     ]
    },
    {
     "name": "stderr",
     "output_type": "stream",
     "text": [
      "[I 2024-11-16 01:40:44,734] Trial 91 finished with value: 0.6949457727900842 and parameters: {'x0': 1, 'x1': 0, 'x2': 0, 'x3': 0, 'x4': 0, 'x5': 1, 'x6': 1, 'x7': 0, 'x8': 1, 'x9': 1, 'x10': 0, 'x11': 1, 'x12': 1, 'x13': 1, 'x14': 1}. Best is trial 10 with value: 0.6949457727900842.\n"
     ]
    },
    {
     "name": "stdout",
     "output_type": "stream",
     "text": [
      "93 0.6949457727900842\n"
     ]
    },
    {
     "name": "stderr",
     "output_type": "stream",
     "text": [
      "[I 2024-11-16 01:58:50,308] Trial 92 finished with value: 0.6949457727900842 and parameters: {'x0': 1, 'x1': 0, 'x2': 0, 'x3': 0, 'x4': 0, 'x5': 1, 'x6': 1, 'x7': 0, 'x8': 1, 'x9': 1, 'x10': 0, 'x11': 1, 'x12': 1, 'x13': 1, 'x14': 1}. Best is trial 10 with value: 0.6949457727900842.\n"
     ]
    },
    {
     "name": "stdout",
     "output_type": "stream",
     "text": [
      "94 0.6949457727900842\n"
     ]
    },
    {
     "name": "stderr",
     "output_type": "stream",
     "text": [
      "[I 2024-11-16 02:16:55,943] Trial 93 finished with value: 0.6949457727900842 and parameters: {'x0': 1, 'x1': 0, 'x2': 0, 'x3': 0, 'x4': 0, 'x5': 1, 'x6': 1, 'x7': 0, 'x8': 1, 'x9': 1, 'x10': 0, 'x11': 1, 'x12': 1, 'x13': 1, 'x14': 1}. Best is trial 10 with value: 0.6949457727900842.\n"
     ]
    },
    {
     "name": "stdout",
     "output_type": "stream",
     "text": [
      "95 0.6949457727900842\n"
     ]
    },
    {
     "name": "stderr",
     "output_type": "stream",
     "text": [
      "[I 2024-11-16 02:35:00,988] Trial 94 finished with value: 0.6949457727900842 and parameters: {'x0': 1, 'x1': 0, 'x2': 0, 'x3': 0, 'x4': 0, 'x5': 1, 'x6': 1, 'x7': 0, 'x8': 1, 'x9': 1, 'x10': 0, 'x11': 1, 'x12': 1, 'x13': 1, 'x14': 1}. Best is trial 10 with value: 0.6949457727900842.\n"
     ]
    },
    {
     "name": "stdout",
     "output_type": "stream",
     "text": [
      "96 0.6949457727900842\n"
     ]
    },
    {
     "name": "stderr",
     "output_type": "stream",
     "text": [
      "[I 2024-11-16 02:53:06,352] Trial 95 finished with value: 0.6949457727900842 and parameters: {'x0': 1, 'x1': 0, 'x2': 0, 'x3': 0, 'x4': 0, 'x5': 1, 'x6': 1, 'x7': 0, 'x8': 1, 'x9': 1, 'x10': 0, 'x11': 1, 'x12': 1, 'x13': 1, 'x14': 1}. Best is trial 10 with value: 0.6949457727900842.\n"
     ]
    },
    {
     "name": "stdout",
     "output_type": "stream",
     "text": [
      "97 0.6949457727900842\n"
     ]
    },
    {
     "name": "stderr",
     "output_type": "stream",
     "text": [
      "[I 2024-11-16 03:11:11,718] Trial 96 finished with value: 0.6949457727900842 and parameters: {'x0': 1, 'x1': 0, 'x2': 0, 'x3': 0, 'x4': 0, 'x5': 1, 'x6': 1, 'x7': 0, 'x8': 1, 'x9': 1, 'x10': 0, 'x11': 1, 'x12': 1, 'x13': 1, 'x14': 1}. Best is trial 10 with value: 0.6949457727900842.\n"
     ]
    },
    {
     "name": "stdout",
     "output_type": "stream",
     "text": [
      "98 0.6949457727900842\n"
     ]
    },
    {
     "name": "stderr",
     "output_type": "stream",
     "text": [
      "[I 2024-11-16 03:28:31,520] Trial 97 finished with value: 0.6918521308765211 and parameters: {'x0': 1, 'x1': 0, 'x2': 0, 'x3': 0, 'x4': 0, 'x5': 1, 'x6': 1, 'x7': 0, 'x8': 1, 'x9': 1, 'x10': 0, 'x11': 0, 'x12': 1, 'x13': 1, 'x14': 1}. Best is trial 10 with value: 0.6949457727900842.\n"
     ]
    },
    {
     "name": "stdout",
     "output_type": "stream",
     "text": [
      "99 0.6949457727900842\n"
     ]
    },
    {
     "name": "stderr",
     "output_type": "stream",
     "text": [
      "[I 2024-11-16 03:46:39,025] Trial 98 finished with value: 0.6949457727900842 and parameters: {'x0': 1, 'x1': 0, 'x2': 0, 'x3': 0, 'x4': 0, 'x5': 1, 'x6': 1, 'x7': 0, 'x8': 1, 'x9': 1, 'x10': 0, 'x11': 1, 'x12': 1, 'x13': 1, 'x14': 1}. Best is trial 10 with value: 0.6949457727900842.\n"
     ]
    },
    {
     "name": "stdout",
     "output_type": "stream",
     "text": [
      "100 0.6949457727900842\n"
     ]
    },
    {
     "name": "stderr",
     "output_type": "stream",
     "text": [
      "[I 2024-11-16 04:04:44,306] Trial 99 finished with value: 0.6949457727900842 and parameters: {'x0': 1, 'x1': 0, 'x2': 0, 'x3': 0, 'x4': 0, 'x5': 1, 'x6': 1, 'x7': 0, 'x8': 1, 'x9': 1, 'x10': 0, 'x11': 1, 'x12': 1, 'x13': 1, 'x14': 1}. Best is trial 10 with value: 0.6949457727900842.\n"
     ]
    },
    {
     "name": "stdout",
     "output_type": "stream",
     "text": [
      "101 0.6949457727900842\n"
     ]
    },
    {
     "name": "stderr",
     "output_type": "stream",
     "text": [
      "[I 2024-11-16 04:17:27,883] Trial 100 finished with value: 0.6918521308765211 and parameters: {'x0': 1, 'x1': 0, 'x2': 0, 'x3': 0, 'x4': 0, 'x5': 0, 'x6': 1, 'x7': 0, 'x8': 1, 'x9': 0, 'x10': 0, 'x11': 1, 'x12': 1, 'x13': 1, 'x14': 0}. Best is trial 10 with value: 0.6949457727900842.\n"
     ]
    },
    {
     "name": "stdout",
     "output_type": "stream",
     "text": [
      "102 0.6949457727900842\n"
     ]
    },
    {
     "name": "stderr",
     "output_type": "stream",
     "text": [
      "[I 2024-11-16 04:35:34,576] Trial 101 finished with value: 0.6949457727900842 and parameters: {'x0': 1, 'x1': 0, 'x2': 0, 'x3': 0, 'x4': 0, 'x5': 1, 'x6': 1, 'x7': 0, 'x8': 1, 'x9': 1, 'x10': 0, 'x11': 1, 'x12': 1, 'x13': 1, 'x14': 1}. Best is trial 10 with value: 0.6949457727900842.\n"
     ]
    },
    {
     "name": "stdout",
     "output_type": "stream",
     "text": [
      "103 0.6949457727900842\n"
     ]
    },
    {
     "name": "stderr",
     "output_type": "stream",
     "text": [
      "[I 2024-11-16 04:53:40,666] Trial 102 finished with value: 0.6949457727900842 and parameters: {'x0': 1, 'x1': 0, 'x2': 0, 'x3': 0, 'x4': 0, 'x5': 1, 'x6': 1, 'x7': 0, 'x8': 1, 'x9': 1, 'x10': 0, 'x11': 1, 'x12': 1, 'x13': 1, 'x14': 1}. Best is trial 10 with value: 0.6949457727900842.\n"
     ]
    },
    {
     "name": "stdout",
     "output_type": "stream",
     "text": [
      "104 0.6949457727900842\n"
     ]
    },
    {
     "name": "stderr",
     "output_type": "stream",
     "text": [
      "[I 2024-11-16 05:11:48,307] Trial 103 finished with value: 0.6949457727900842 and parameters: {'x0': 1, 'x1': 0, 'x2': 0, 'x3': 0, 'x4': 0, 'x5': 1, 'x6': 1, 'x7': 0, 'x8': 1, 'x9': 1, 'x10': 0, 'x11': 1, 'x12': 1, 'x13': 1, 'x14': 1}. Best is trial 10 with value: 0.6949457727900842.\n"
     ]
    },
    {
     "name": "stdout",
     "output_type": "stream",
     "text": [
      "105 0.6949457727900842\n"
     ]
    },
    {
     "name": "stderr",
     "output_type": "stream",
     "text": [
      "[I 2024-11-16 05:29:55,937] Trial 104 finished with value: 0.6949457727900842 and parameters: {'x0': 1, 'x1': 0, 'x2': 0, 'x3': 0, 'x4': 0, 'x5': 1, 'x6': 1, 'x7': 0, 'x8': 1, 'x9': 1, 'x10': 0, 'x11': 1, 'x12': 1, 'x13': 1, 'x14': 1}. Best is trial 10 with value: 0.6949457727900842.\n"
     ]
    },
    {
     "name": "stdout",
     "output_type": "stream",
     "text": [
      "106 0.6949457727900842\n"
     ]
    },
    {
     "name": "stderr",
     "output_type": "stream",
     "text": [
      "[I 2024-11-16 05:48:01,513] Trial 105 finished with value: 0.6949457727900842 and parameters: {'x0': 1, 'x1': 0, 'x2': 0, 'x3': 0, 'x4': 0, 'x5': 1, 'x6': 1, 'x7': 0, 'x8': 1, 'x9': 1, 'x10': 0, 'x11': 1, 'x12': 1, 'x13': 1, 'x14': 1}. Best is trial 10 with value: 0.6949457727900842.\n"
     ]
    },
    {
     "name": "stdout",
     "output_type": "stream",
     "text": [
      "107 0.6949457727900842\n"
     ]
    },
    {
     "name": "stderr",
     "output_type": "stream",
     "text": [
      "[I 2024-11-16 06:08:06,828] Trial 106 finished with value: 0.6918521308765211 and parameters: {'x0': 1, 'x1': 0, 'x2': 1, 'x3': 0, 'x4': 0, 'x5': 1, 'x6': 1, 'x7': 0, 'x8': 1, 'x9': 1, 'x10': 0, 'x11': 1, 'x12': 1, 'x13': 1, 'x14': 1}. Best is trial 10 with value: 0.6949457727900842.\n"
     ]
    },
    {
     "name": "stdout",
     "output_type": "stream",
     "text": [
      "108 0.6949457727900842\n"
     ]
    },
    {
     "name": "stderr",
     "output_type": "stream",
     "text": [
      "[I 2024-11-16 06:23:50,852] Trial 107 finished with value: 0.6918521308765211 and parameters: {'x0': 1, 'x1': 0, 'x2': 0, 'x3': 1, 'x4': 0, 'x5': 1, 'x6': 1, 'x7': 1, 'x8': 1, 'x9': 1, 'x10': 0, 'x11': 1, 'x12': 1, 'x13': 1, 'x14': 1}. Best is trial 10 with value: 0.6949457727900842.\n"
     ]
    },
    {
     "name": "stdout",
     "output_type": "stream",
     "text": [
      "109 0.6949457727900842\n"
     ]
    },
    {
     "name": "stderr",
     "output_type": "stream",
     "text": [
      "[I 2024-11-16 06:39:08,763] Trial 108 finished with value: 0.6949457727900842 and parameters: {'x0': 1, 'x1': 0, 'x2': 0, 'x3': 0, 'x4': 0, 'x5': 1, 'x6': 1, 'x7': 0, 'x8': 1, 'x9': 1, 'x10': 0, 'x11': 1, 'x12': 1, 'x13': 0, 'x14': 1}. Best is trial 10 with value: 0.6949457727900842.\n"
     ]
    },
    {
     "name": "stdout",
     "output_type": "stream",
     "text": [
      "110 0.6949457727900842\n"
     ]
    },
    {
     "name": "stderr",
     "output_type": "stream",
     "text": [
      "[I 2024-11-16 06:57:15,908] Trial 109 finished with value: 0.6949457727900842 and parameters: {'x0': 1, 'x1': 0, 'x2': 0, 'x3': 0, 'x4': 0, 'x5': 1, 'x6': 1, 'x7': 0, 'x8': 1, 'x9': 1, 'x10': 0, 'x11': 1, 'x12': 1, 'x13': 1, 'x14': 1}. Best is trial 10 with value: 0.6949457727900842.\n"
     ]
    },
    {
     "name": "stdout",
     "output_type": "stream",
     "text": [
      "111 0.6949457727900842\n"
     ]
    },
    {
     "name": "stderr",
     "output_type": "stream",
     "text": [
      "[I 2024-11-16 06:57:16,851] Trial 110 pruned. \n"
     ]
    },
    {
     "name": "stdout",
     "output_type": "stream",
     "text": [
      "112 0.6949457727900842\n"
     ]
    },
    {
     "name": "stderr",
     "output_type": "stream",
     "text": [
      "[I 2024-11-16 07:15:26,123] Trial 111 finished with value: 0.6949457727900842 and parameters: {'x0': 1, 'x1': 0, 'x2': 0, 'x3': 0, 'x4': 0, 'x5': 1, 'x6': 1, 'x7': 0, 'x8': 1, 'x9': 1, 'x10': 0, 'x11': 1, 'x12': 1, 'x13': 1, 'x14': 1}. Best is trial 10 with value: 0.6949457727900842.\n"
     ]
    },
    {
     "name": "stdout",
     "output_type": "stream",
     "text": [
      "113 0.6949457727900842\n"
     ]
    },
    {
     "name": "stderr",
     "output_type": "stream",
     "text": [
      "[I 2024-11-16 07:33:31,831] Trial 112 finished with value: 0.6949457727900842 and parameters: {'x0': 1, 'x1': 0, 'x2': 0, 'x3': 0, 'x4': 0, 'x5': 1, 'x6': 1, 'x7': 0, 'x8': 1, 'x9': 1, 'x10': 0, 'x11': 1, 'x12': 1, 'x13': 1, 'x14': 1}. Best is trial 10 with value: 0.6949457727900842.\n"
     ]
    },
    {
     "name": "stdout",
     "output_type": "stream",
     "text": [
      "114 0.6949457727900842\n"
     ]
    },
    {
     "name": "stderr",
     "output_type": "stream",
     "text": [
      "[I 2024-11-16 07:51:37,295] Trial 113 finished with value: 0.6949457727900842 and parameters: {'x0': 1, 'x1': 0, 'x2': 0, 'x3': 0, 'x4': 0, 'x5': 1, 'x6': 1, 'x7': 0, 'x8': 1, 'x9': 1, 'x10': 0, 'x11': 1, 'x12': 1, 'x13': 1, 'x14': 1}. Best is trial 10 with value: 0.6949457727900842.\n"
     ]
    },
    {
     "name": "stdout",
     "output_type": "stream",
     "text": [
      "115 0.6949457727900842\n"
     ]
    },
    {
     "name": "stderr",
     "output_type": "stream",
     "text": [
      "[I 2024-11-16 08:06:44,897] Trial 114 finished with value: 0.6949457727900842 and parameters: {'x0': 1, 'x1': 0, 'x2': 0, 'x3': 0, 'x4': 0, 'x5': 1, 'x6': 1, 'x7': 0, 'x8': 1, 'x9': 1, 'x10': 0, 'x11': 1, 'x12': 0, 'x13': 1, 'x14': 1}. Best is trial 10 with value: 0.6949457727900842.\n"
     ]
    },
    {
     "name": "stdout",
     "output_type": "stream",
     "text": [
      "116 0.6949457727900842\n"
     ]
    },
    {
     "name": "stderr",
     "output_type": "stream",
     "text": [
      "[I 2024-11-16 08:19:43,588] Trial 115 finished with value: 0.6949457727900842 and parameters: {'x0': 1, 'x1': 0, 'x2': 0, 'x3': 0, 'x4': 0, 'x5': 1, 'x6': 1, 'x7': 0, 'x8': 1, 'x9': 0, 'x10': 0, 'x11': 1, 'x12': 1, 'x13': 1, 'x14': 1}. Best is trial 10 with value: 0.6949457727900842.\n"
     ]
    },
    {
     "name": "stdout",
     "output_type": "stream",
     "text": [
      "117 0.6949457727900842\n"
     ]
    },
    {
     "name": "stderr",
     "output_type": "stream",
     "text": [
      "[I 2024-11-16 08:34:36,899] Trial 116 finished with value: 0.6949457727900842 and parameters: {'x0': 0, 'x1': 0, 'x2': 0, 'x3': 0, 'x4': 0, 'x5': 1, 'x6': 1, 'x7': 0, 'x8': 1, 'x9': 1, 'x10': 0, 'x11': 1, 'x12': 1, 'x13': 1, 'x14': 1}. Best is trial 10 with value: 0.6949457727900842.\n"
     ]
    },
    {
     "name": "stdout",
     "output_type": "stream",
     "text": [
      "118 0.6949457727900842\n"
     ]
    },
    {
     "name": "stderr",
     "output_type": "stream",
     "text": [
      "[I 2024-11-16 08:58:13,600] Trial 117 finished with value: 0.6915422885572139 and parameters: {'x0': 1, 'x1': 0, 'x2': 0, 'x3': 0, 'x4': 0, 'x5': 1, 'x6': 1, 'x7': 0, 'x8': 0, 'x9': 1, 'x10': 1, 'x11': 1, 'x12': 1, 'x13': 1, 'x14': 1}. Best is trial 10 with value: 0.6949457727900842.\n"
     ]
    },
    {
     "name": "stdout",
     "output_type": "stream",
     "text": [
      "119 0.6949457727900842\n"
     ]
    },
    {
     "name": "stderr",
     "output_type": "stream",
     "text": [
      "[I 2024-11-16 09:16:27,156] Trial 118 finished with value: 0.6949457727900842 and parameters: {'x0': 1, 'x1': 0, 'x2': 0, 'x3': 0, 'x4': 0, 'x5': 1, 'x6': 1, 'x7': 0, 'x8': 1, 'x9': 1, 'x10': 0, 'x11': 1, 'x12': 1, 'x13': 1, 'x14': 1}. Best is trial 10 with value: 0.6949457727900842.\n"
     ]
    },
    {
     "name": "stdout",
     "output_type": "stream",
     "text": [
      "120 0.6949457727900842\n"
     ]
    },
    {
     "name": "stderr",
     "output_type": "stream",
     "text": [
      "[I 2024-11-16 09:34:40,254] Trial 119 finished with value: 0.6949457727900842 and parameters: {'x0': 1, 'x1': 0, 'x2': 0, 'x3': 0, 'x4': 0, 'x5': 1, 'x6': 1, 'x7': 0, 'x8': 1, 'x9': 1, 'x10': 0, 'x11': 1, 'x12': 1, 'x13': 1, 'x14': 1}. Best is trial 10 with value: 0.6949457727900842.\n"
     ]
    },
    {
     "name": "stdout",
     "output_type": "stream",
     "text": [
      "121 0.6949457727900842\n"
     ]
    },
    {
     "name": "stderr",
     "output_type": "stream",
     "text": [
      "[I 2024-11-16 09:52:55,189] Trial 120 finished with value: 0.6949457727900842 and parameters: {'x0': 1, 'x1': 0, 'x2': 0, 'x3': 0, 'x4': 0, 'x5': 1, 'x6': 1, 'x7': 0, 'x8': 1, 'x9': 1, 'x10': 0, 'x11': 1, 'x12': 1, 'x13': 1, 'x14': 1}. Best is trial 10 with value: 0.6949457727900842.\n"
     ]
    },
    {
     "name": "stdout",
     "output_type": "stream",
     "text": [
      "122 0.6949457727900842\n"
     ]
    },
    {
     "name": "stderr",
     "output_type": "stream",
     "text": [
      "[I 2024-11-16 10:11:08,591] Trial 121 finished with value: 0.6949457727900842 and parameters: {'x0': 1, 'x1': 0, 'x2': 0, 'x3': 0, 'x4': 0, 'x5': 1, 'x6': 1, 'x7': 0, 'x8': 1, 'x9': 1, 'x10': 0, 'x11': 1, 'x12': 1, 'x13': 1, 'x14': 1}. Best is trial 10 with value: 0.6949457727900842.\n"
     ]
    },
    {
     "name": "stdout",
     "output_type": "stream",
     "text": [
      "123 0.6949457727900842\n"
     ]
    },
    {
     "name": "stderr",
     "output_type": "stream",
     "text": [
      "[I 2024-11-16 10:29:21,944] Trial 122 finished with value: 0.6949457727900842 and parameters: {'x0': 1, 'x1': 0, 'x2': 0, 'x3': 0, 'x4': 0, 'x5': 1, 'x6': 1, 'x7': 0, 'x8': 1, 'x9': 1, 'x10': 0, 'x11': 1, 'x12': 1, 'x13': 1, 'x14': 1}. Best is trial 10 with value: 0.6949457727900842.\n"
     ]
    },
    {
     "name": "stdout",
     "output_type": "stream",
     "text": [
      "124 0.6949457727900842\n"
     ]
    },
    {
     "name": "stderr",
     "output_type": "stream",
     "text": [
      "[I 2024-11-16 10:47:36,463] Trial 123 finished with value: 0.6949457727900842 and parameters: {'x0': 1, 'x1': 0, 'x2': 0, 'x3': 0, 'x4': 0, 'x5': 1, 'x6': 1, 'x7': 0, 'x8': 1, 'x9': 1, 'x10': 0, 'x11': 1, 'x12': 1, 'x13': 1, 'x14': 1}. Best is trial 10 with value: 0.6949457727900842.\n"
     ]
    },
    {
     "name": "stdout",
     "output_type": "stream",
     "text": [
      "125 0.6949457727900842\n"
     ]
    },
    {
     "name": "stderr",
     "output_type": "stream",
     "text": [
      "[I 2024-11-16 11:05:50,040] Trial 124 finished with value: 0.6949457727900842 and parameters: {'x0': 1, 'x1': 0, 'x2': 0, 'x3': 0, 'x4': 0, 'x5': 1, 'x6': 1, 'x7': 0, 'x8': 1, 'x9': 1, 'x10': 0, 'x11': 1, 'x12': 1, 'x13': 1, 'x14': 1}. Best is trial 10 with value: 0.6949457727900842.\n"
     ]
    },
    {
     "name": "stdout",
     "output_type": "stream",
     "text": [
      "126 0.6949457727900842\n"
     ]
    },
    {
     "name": "stderr",
     "output_type": "stream",
     "text": [
      "[I 2024-11-16 11:24:03,618] Trial 125 finished with value: 0.6949457727900842 and parameters: {'x0': 1, 'x1': 0, 'x2': 0, 'x3': 0, 'x4': 0, 'x5': 1, 'x6': 1, 'x7': 0, 'x8': 1, 'x9': 1, 'x10': 0, 'x11': 1, 'x12': 1, 'x13': 1, 'x14': 1}. Best is trial 10 with value: 0.6949457727900842.\n"
     ]
    },
    {
     "name": "stdout",
     "output_type": "stream",
     "text": [
      "127 0.6949457727900842\n"
     ]
    },
    {
     "name": "stderr",
     "output_type": "stream",
     "text": [
      "[I 2024-11-16 11:42:38,185] Trial 126 finished with value: 0.6847049941806209 and parameters: {'x0': 1, 'x1': 0, 'x2': 0, 'x3': 0, 'x4': 1, 'x5': 1, 'x6': 1, 'x7': 0, 'x8': 1, 'x9': 1, 'x10': 0, 'x11': 1, 'x12': 1, 'x13': 1, 'x14': 1}. Best is trial 10 with value: 0.6949457727900842.\n"
     ]
    },
    {
     "name": "stdout",
     "output_type": "stream",
     "text": [
      "128 0.6949457727900842\n"
     ]
    },
    {
     "name": "stderr",
     "output_type": "stream",
     "text": [
      "[I 2024-11-16 12:00:52,838] Trial 127 finished with value: 0.6949457727900842 and parameters: {'x0': 1, 'x1': 0, 'x2': 0, 'x3': 0, 'x4': 0, 'x5': 1, 'x6': 1, 'x7': 0, 'x8': 1, 'x9': 1, 'x10': 0, 'x11': 1, 'x12': 1, 'x13': 1, 'x14': 1}. Best is trial 10 with value: 0.6949457727900842.\n"
     ]
    },
    {
     "name": "stdout",
     "output_type": "stream",
     "text": [
      "129 0.6949457727900842\n"
     ]
    },
    {
     "name": "stderr",
     "output_type": "stream",
     "text": [
      "[I 2024-11-16 12:22:52,671] Trial 128 finished with value: 0.6918521308765211 and parameters: {'x0': 1, 'x1': 0, 'x2': 0, 'x3': 0, 'x4': 0, 'x5': 1, 'x6': 1, 'x7': 0, 'x8': 1, 'x9': 0, 'x10': 0, 'x11': 0, 'x12': 1, 'x13': 1, 'x14': 1}. Best is trial 10 with value: 0.6949457727900842.\n"
     ]
    },
    {
     "name": "stdout",
     "output_type": "stream",
     "text": [
      "130 0.6949457727900842\n"
     ]
    },
    {
     "name": "stderr",
     "output_type": "stream",
     "text": [
      "[I 2024-11-16 12:41:06,711] Trial 129 finished with value: 0.6949457727900842 and parameters: {'x0': 1, 'x1': 0, 'x2': 0, 'x3': 0, 'x4': 0, 'x5': 1, 'x6': 1, 'x7': 0, 'x8': 1, 'x9': 1, 'x10': 0, 'x11': 1, 'x12': 1, 'x13': 1, 'x14': 1}. Best is trial 10 with value: 0.6949457727900842.\n"
     ]
    },
    {
     "name": "stdout",
     "output_type": "stream",
     "text": [
      "131 0.6949457727900842\n"
     ]
    },
    {
     "name": "stderr",
     "output_type": "stream",
     "text": [
      "[I 2024-11-16 12:59:21,279] Trial 130 finished with value: 0.6949457727900842 and parameters: {'x0': 1, 'x1': 0, 'x2': 0, 'x3': 0, 'x4': 0, 'x5': 1, 'x6': 1, 'x7': 0, 'x8': 1, 'x9': 1, 'x10': 0, 'x11': 1, 'x12': 1, 'x13': 1, 'x14': 1}. Best is trial 10 with value: 0.6949457727900842.\n"
     ]
    },
    {
     "name": "stdout",
     "output_type": "stream",
     "text": [
      "132 0.6949457727900842\n"
     ]
    },
    {
     "name": "stderr",
     "output_type": "stream",
     "text": [
      "[I 2024-11-16 13:17:37,032] Trial 131 finished with value: 0.6949457727900842 and parameters: {'x0': 1, 'x1': 0, 'x2': 0, 'x3': 0, 'x4': 0, 'x5': 1, 'x6': 1, 'x7': 0, 'x8': 1, 'x9': 1, 'x10': 0, 'x11': 1, 'x12': 1, 'x13': 1, 'x14': 1}. Best is trial 10 with value: 0.6949457727900842.\n"
     ]
    },
    {
     "name": "stdout",
     "output_type": "stream",
     "text": [
      "133 0.6949457727900842\n"
     ]
    },
    {
     "name": "stderr",
     "output_type": "stream",
     "text": [
      "[I 2024-11-16 13:35:53,315] Trial 132 finished with value: 0.6949457727900842 and parameters: {'x0': 1, 'x1': 0, 'x2': 0, 'x3': 0, 'x4': 0, 'x5': 1, 'x6': 1, 'x7': 0, 'x8': 1, 'x9': 1, 'x10': 0, 'x11': 1, 'x12': 1, 'x13': 1, 'x14': 1}. Best is trial 10 with value: 0.6949457727900842.\n"
     ]
    },
    {
     "name": "stdout",
     "output_type": "stream",
     "text": [
      "134 0.6949457727900842\n"
     ]
    },
    {
     "name": "stderr",
     "output_type": "stream",
     "text": [
      "[I 2024-11-16 13:54:06,733] Trial 133 finished with value: 0.6949457727900842 and parameters: {'x0': 1, 'x1': 0, 'x2': 0, 'x3': 0, 'x4': 0, 'x5': 1, 'x6': 1, 'x7': 0, 'x8': 1, 'x9': 1, 'x10': 0, 'x11': 1, 'x12': 1, 'x13': 1, 'x14': 1}. Best is trial 10 with value: 0.6949457727900842.\n"
     ]
    },
    {
     "name": "stdout",
     "output_type": "stream",
     "text": [
      "135 0.6949457727900842\n"
     ]
    },
    {
     "name": "stderr",
     "output_type": "stream",
     "text": [
      "[I 2024-11-16 14:12:20,228] Trial 134 finished with value: 0.6949457727900842 and parameters: {'x0': 1, 'x1': 0, 'x2': 0, 'x3': 0, 'x4': 0, 'x5': 1, 'x6': 1, 'x7': 0, 'x8': 1, 'x9': 1, 'x10': 0, 'x11': 1, 'x12': 1, 'x13': 1, 'x14': 1}. Best is trial 10 with value: 0.6949457727900842.\n"
     ]
    },
    {
     "name": "stdout",
     "output_type": "stream",
     "text": [
      "136 0.6949457727900842\n"
     ]
    },
    {
     "name": "stderr",
     "output_type": "stream",
     "text": [
      "[I 2024-11-16 14:30:35,443] Trial 135 finished with value: 0.6949457727900842 and parameters: {'x0': 1, 'x1': 0, 'x2': 0, 'x3': 0, 'x4': 0, 'x5': 1, 'x6': 1, 'x7': 0, 'x8': 1, 'x9': 1, 'x10': 0, 'x11': 1, 'x12': 1, 'x13': 1, 'x14': 1}. Best is trial 10 with value: 0.6949457727900842.\n"
     ]
    },
    {
     "name": "stdout",
     "output_type": "stream",
     "text": [
      "137 0.6949457727900842\n"
     ]
    },
    {
     "name": "stderr",
     "output_type": "stream",
     "text": [
      "[I 2024-11-16 14:30:36,242] Trial 136 pruned. \n"
     ]
    },
    {
     "name": "stdout",
     "output_type": "stream",
     "text": [
      "138 0.6949457727900842\n"
     ]
    },
    {
     "name": "stderr",
     "output_type": "stream",
     "text": [
      "[I 2024-11-16 14:48:41,850] Trial 137 finished with value: 0.6949457727900842 and parameters: {'x0': 1, 'x1': 0, 'x2': 0, 'x3': 0, 'x4': 0, 'x5': 1, 'x6': 1, 'x7': 0, 'x8': 1, 'x9': 1, 'x10': 0, 'x11': 1, 'x12': 1, 'x13': 1, 'x14': 1}. Best is trial 10 with value: 0.6949457727900842.\n"
     ]
    },
    {
     "name": "stdout",
     "output_type": "stream",
     "text": [
      "139 0.6949457727900842\n"
     ]
    },
    {
     "name": "stderr",
     "output_type": "stream",
     "text": [
      "[I 2024-11-16 15:09:30,416] Trial 138 finished with value: 0.6949457727900842 and parameters: {'x0': 1, 'x1': 0, 'x2': 1, 'x3': 0, 'x4': 0, 'x5': 1, 'x6': 1, 'x7': 1, 'x8': 1, 'x9': 1, 'x10': 0, 'x11': 1, 'x12': 1, 'x13': 1, 'x14': 1}. Best is trial 10 with value: 0.6949457727900842.\n"
     ]
    },
    {
     "name": "stdout",
     "output_type": "stream",
     "text": [
      "140 0.6949457727900842\n"
     ]
    },
    {
     "name": "stderr",
     "output_type": "stream",
     "text": [
      "[I 2024-11-16 15:23:46,391] Trial 139 finished with value: 0.6918521308765211 and parameters: {'x0': 1, 'x1': 0, 'x2': 0, 'x3': 1, 'x4': 0, 'x5': 1, 'x6': 1, 'x7': 0, 'x8': 1, 'x9': 1, 'x10': 0, 'x11': 1, 'x12': 1, 'x13': 1, 'x14': 1}. Best is trial 10 with value: 0.6949457727900842.\n"
     ]
    },
    {
     "name": "stdout",
     "output_type": "stream",
     "text": [
      "141 0.6949457727900842\n"
     ]
    },
    {
     "name": "stderr",
     "output_type": "stream",
     "text": [
      "[I 2024-11-16 15:42:00,211] Trial 140 finished with value: 0.6949457727900842 and parameters: {'x0': 1, 'x1': 0, 'x2': 0, 'x3': 0, 'x4': 0, 'x5': 1, 'x6': 1, 'x7': 0, 'x8': 1, 'x9': 1, 'x10': 0, 'x11': 1, 'x12': 1, 'x13': 1, 'x14': 1}. Best is trial 10 with value: 0.6949457727900842.\n"
     ]
    },
    {
     "name": "stdout",
     "output_type": "stream",
     "text": [
      "142 0.6949457727900842\n"
     ]
    },
    {
     "name": "stderr",
     "output_type": "stream",
     "text": [
      "[I 2024-11-16 16:00:13,878] Trial 141 finished with value: 0.6949457727900842 and parameters: {'x0': 1, 'x1': 0, 'x2': 0, 'x3': 0, 'x4': 0, 'x5': 1, 'x6': 1, 'x7': 0, 'x8': 1, 'x9': 1, 'x10': 0, 'x11': 1, 'x12': 1, 'x13': 1, 'x14': 1}. Best is trial 10 with value: 0.6949457727900842.\n"
     ]
    },
    {
     "name": "stdout",
     "output_type": "stream",
     "text": [
      "143 0.6949457727900842\n"
     ]
    },
    {
     "name": "stderr",
     "output_type": "stream",
     "text": [
      "[I 2024-11-16 16:18:27,584] Trial 142 finished with value: 0.6949457727900842 and parameters: {'x0': 1, 'x1': 0, 'x2': 0, 'x3': 0, 'x4': 0, 'x5': 1, 'x6': 1, 'x7': 0, 'x8': 1, 'x9': 1, 'x10': 0, 'x11': 1, 'x12': 1, 'x13': 1, 'x14': 1}. Best is trial 10 with value: 0.6949457727900842.\n"
     ]
    },
    {
     "name": "stdout",
     "output_type": "stream",
     "text": [
      "144 0.6949457727900842\n"
     ]
    },
    {
     "name": "stderr",
     "output_type": "stream",
     "text": [
      "[I 2024-11-16 16:36:40,882] Trial 143 finished with value: 0.6949457727900842 and parameters: {'x0': 1, 'x1': 0, 'x2': 0, 'x3': 0, 'x4': 0, 'x5': 1, 'x6': 1, 'x7': 0, 'x8': 1, 'x9': 1, 'x10': 0, 'x11': 1, 'x12': 1, 'x13': 1, 'x14': 1}. Best is trial 10 with value: 0.6949457727900842.\n"
     ]
    },
    {
     "name": "stdout",
     "output_type": "stream",
     "text": [
      "145 0.6949457727900842\n"
     ]
    },
    {
     "name": "stderr",
     "output_type": "stream",
     "text": [
      "[I 2024-11-16 16:54:28,357] Trial 144 finished with value: 0.6949457727900842 and parameters: {'x0': 1, 'x1': 0, 'x2': 0, 'x3': 0, 'x4': 0, 'x5': 1, 'x6': 1, 'x7': 0, 'x8': 1, 'x9': 1, 'x10': 0, 'x11': 1, 'x12': 1, 'x13': 0, 'x14': 1}. Best is trial 10 with value: 0.6949457727900842.\n"
     ]
    },
    {
     "name": "stdout",
     "output_type": "stream",
     "text": [
      "146 0.6949457727900842\n"
     ]
    },
    {
     "name": "stderr",
     "output_type": "stream",
     "text": [
      "[I 2024-11-16 16:54:29,162] Trial 145 pruned. \n"
     ]
    },
    {
     "name": "stdout",
     "output_type": "stream",
     "text": [
      "147 0.6949457727900842\n"
     ]
    },
    {
     "name": "stderr",
     "output_type": "stream",
     "text": [
      "[I 2024-11-16 17:12:44,200] Trial 146 finished with value: 0.6949457727900842 and parameters: {'x0': 1, 'x1': 0, 'x2': 0, 'x3': 0, 'x4': 0, 'x5': 1, 'x6': 1, 'x7': 0, 'x8': 1, 'x9': 1, 'x10': 0, 'x11': 1, 'x12': 1, 'x13': 1, 'x14': 1}. Best is trial 10 with value: 0.6949457727900842.\n"
     ]
    },
    {
     "name": "stdout",
     "output_type": "stream",
     "text": [
      "148 0.6949457727900842\n"
     ]
    },
    {
     "name": "stderr",
     "output_type": "stream",
     "text": [
      "[I 2024-11-16 17:26:22,737] Trial 147 finished with value: 0.6949457727900842 and parameters: {'x0': 1, 'x1': 1, 'x2': 0, 'x3': 0, 'x4': 0, 'x5': 1, 'x6': 1, 'x7': 0, 'x8': 1, 'x9': 0, 'x10': 0, 'x11': 1, 'x12': 0, 'x13': 1, 'x14': 1}. Best is trial 10 with value: 0.6949457727900842.\n"
     ]
    },
    {
     "name": "stdout",
     "output_type": "stream",
     "text": [
      "149 0.6949457727900842\n"
     ]
    },
    {
     "name": "stderr",
     "output_type": "stream",
     "text": [
      "[I 2024-11-16 17:41:16,463] Trial 148 finished with value: 0.6949457727900842 and parameters: {'x0': 0, 'x1': 0, 'x2': 0, 'x3': 0, 'x4': 0, 'x5': 1, 'x6': 1, 'x7': 0, 'x8': 1, 'x9': 1, 'x10': 0, 'x11': 1, 'x12': 1, 'x13': 1, 'x14': 1}. Best is trial 10 with value: 0.6949457727900842.\n"
     ]
    },
    {
     "name": "stdout",
     "output_type": "stream",
     "text": [
      "150 0.6949457727900842\n"
     ]
    },
    {
     "name": "stderr",
     "output_type": "stream",
     "text": [
      "[I 2024-11-16 18:04:53,469] Trial 149 finished with value: 0.6915422885572139 and parameters: {'x0': 1, 'x1': 0, 'x2': 0, 'x3': 0, 'x4': 0, 'x5': 1, 'x6': 1, 'x7': 0, 'x8': 0, 'x9': 1, 'x10': 1, 'x11': 1, 'x12': 1, 'x13': 1, 'x14': 1}. Best is trial 10 with value: 0.6949457727900842.\n"
     ]
    },
    {
     "name": "stdout",
     "output_type": "stream",
     "text": [
      "151 0.6949457727900842\n"
     ]
    },
    {
     "name": "stderr",
     "output_type": "stream",
     "text": [
      "[I 2024-11-16 18:23:08,142] Trial 150 finished with value: 0.6949457727900842 and parameters: {'x0': 1, 'x1': 0, 'x2': 0, 'x3': 0, 'x4': 0, 'x5': 1, 'x6': 1, 'x7': 0, 'x8': 1, 'x9': 1, 'x10': 0, 'x11': 1, 'x12': 1, 'x13': 1, 'x14': 1}. Best is trial 10 with value: 0.6949457727900842.\n"
     ]
    },
    {
     "name": "stdout",
     "output_type": "stream",
     "text": [
      "152 0.6949457727900842\n"
     ]
    },
    {
     "name": "stderr",
     "output_type": "stream",
     "text": [
      "[I 2024-11-16 18:41:21,069] Trial 151 finished with value: 0.6949457727900842 and parameters: {'x0': 1, 'x1': 0, 'x2': 0, 'x3': 0, 'x4': 0, 'x5': 1, 'x6': 1, 'x7': 0, 'x8': 1, 'x9': 1, 'x10': 0, 'x11': 1, 'x12': 1, 'x13': 1, 'x14': 1}. Best is trial 10 with value: 0.6949457727900842.\n"
     ]
    },
    {
     "name": "stdout",
     "output_type": "stream",
     "text": [
      "153 0.6949457727900842\n"
     ]
    },
    {
     "name": "stderr",
     "output_type": "stream",
     "text": [
      "[I 2024-11-16 18:59:33,943] Trial 152 finished with value: 0.6949457727900842 and parameters: {'x0': 1, 'x1': 0, 'x2': 0, 'x3': 0, 'x4': 0, 'x5': 1, 'x6': 1, 'x7': 0, 'x8': 1, 'x9': 1, 'x10': 0, 'x11': 1, 'x12': 1, 'x13': 1, 'x14': 1}. Best is trial 10 with value: 0.6949457727900842.\n"
     ]
    },
    {
     "name": "stdout",
     "output_type": "stream",
     "text": [
      "154 0.6949457727900842\n"
     ]
    },
    {
     "name": "stderr",
     "output_type": "stream",
     "text": [
      "[I 2024-11-16 19:17:47,078] Trial 153 finished with value: 0.6949457727900842 and parameters: {'x0': 1, 'x1': 0, 'x2': 0, 'x3': 0, 'x4': 0, 'x5': 1, 'x6': 1, 'x7': 0, 'x8': 1, 'x9': 1, 'x10': 0, 'x11': 1, 'x12': 1, 'x13': 1, 'x14': 1}. Best is trial 10 with value: 0.6949457727900842.\n"
     ]
    },
    {
     "name": "stdout",
     "output_type": "stream",
     "text": [
      "155 0.6949457727900842\n"
     ]
    },
    {
     "name": "stderr",
     "output_type": "stream",
     "text": [
      "[I 2024-11-16 19:36:00,097] Trial 154 finished with value: 0.6949457727900842 and parameters: {'x0': 1, 'x1': 0, 'x2': 0, 'x3': 0, 'x4': 0, 'x5': 1, 'x6': 1, 'x7': 0, 'x8': 1, 'x9': 1, 'x10': 0, 'x11': 1, 'x12': 1, 'x13': 1, 'x14': 1}. Best is trial 10 with value: 0.6949457727900842.\n"
     ]
    },
    {
     "name": "stdout",
     "output_type": "stream",
     "text": [
      "156 0.6949457727900842\n"
     ]
    },
    {
     "name": "stderr",
     "output_type": "stream",
     "text": [
      "[I 2024-11-16 19:54:13,985] Trial 155 finished with value: 0.6949457727900842 and parameters: {'x0': 1, 'x1': 0, 'x2': 0, 'x3': 0, 'x4': 0, 'x5': 1, 'x6': 1, 'x7': 0, 'x8': 1, 'x9': 1, 'x10': 0, 'x11': 1, 'x12': 1, 'x13': 1, 'x14': 1}. Best is trial 10 with value: 0.6949457727900842.\n"
     ]
    },
    {
     "name": "stdout",
     "output_type": "stream",
     "text": [
      "157 0.6949457727900842\n"
     ]
    },
    {
     "name": "stderr",
     "output_type": "stream",
     "text": [
      "[I 2024-11-16 20:12:27,444] Trial 156 finished with value: 0.6949457727900842 and parameters: {'x0': 1, 'x1': 0, 'x2': 0, 'x3': 0, 'x4': 0, 'x5': 1, 'x6': 1, 'x7': 0, 'x8': 1, 'x9': 1, 'x10': 0, 'x11': 1, 'x12': 1, 'x13': 1, 'x14': 1}. Best is trial 10 with value: 0.6949457727900842.\n"
     ]
    },
    {
     "name": "stdout",
     "output_type": "stream",
     "text": [
      "158 0.6949457727900842\n"
     ]
    },
    {
     "name": "stderr",
     "output_type": "stream",
     "text": [
      "[I 2024-11-16 20:30:40,513] Trial 157 finished with value: 0.6949457727900842 and parameters: {'x0': 1, 'x1': 0, 'x2': 0, 'x3': 0, 'x4': 0, 'x5': 1, 'x6': 1, 'x7': 0, 'x8': 1, 'x9': 1, 'x10': 0, 'x11': 1, 'x12': 1, 'x13': 1, 'x14': 1}. Best is trial 10 with value: 0.6949457727900842.\n"
     ]
    },
    {
     "name": "stdout",
     "output_type": "stream",
     "text": [
      "159 0.6949457727900842\n"
     ]
    },
    {
     "name": "stderr",
     "output_type": "stream",
     "text": [
      "[I 2024-11-16 20:48:55,429] Trial 158 finished with value: 0.6949457727900842 and parameters: {'x0': 1, 'x1': 0, 'x2': 0, 'x3': 0, 'x4': 0, 'x5': 1, 'x6': 1, 'x7': 0, 'x8': 1, 'x9': 1, 'x10': 0, 'x11': 1, 'x12': 1, 'x13': 1, 'x14': 1}. Best is trial 10 with value: 0.6949457727900842.\n"
     ]
    },
    {
     "name": "stdout",
     "output_type": "stream",
     "text": [
      "160 0.6949457727900842\n"
     ]
    },
    {
     "name": "stderr",
     "output_type": "stream",
     "text": [
      "[I 2024-11-16 21:07:08,764] Trial 159 finished with value: 0.6949457727900842 and parameters: {'x0': 1, 'x1': 0, 'x2': 0, 'x3': 0, 'x4': 0, 'x5': 1, 'x6': 1, 'x7': 0, 'x8': 1, 'x9': 1, 'x10': 0, 'x11': 1, 'x12': 1, 'x13': 1, 'x14': 1}. Best is trial 10 with value: 0.6949457727900842.\n"
     ]
    },
    {
     "name": "stdout",
     "output_type": "stream",
     "text": [
      "161 0.6949457727900842\n"
     ]
    },
    {
     "name": "stderr",
     "output_type": "stream",
     "text": [
      "[I 2024-11-16 21:25:23,508] Trial 160 finished with value: 0.6949457727900842 and parameters: {'x0': 1, 'x1': 0, 'x2': 0, 'x3': 0, 'x4': 0, 'x5': 1, 'x6': 1, 'x7': 0, 'x8': 1, 'x9': 1, 'x10': 0, 'x11': 1, 'x12': 1, 'x13': 1, 'x14': 1}. Best is trial 10 with value: 0.6949457727900842.\n"
     ]
    },
    {
     "name": "stdout",
     "output_type": "stream",
     "text": [
      "162 0.6949457727900842\n"
     ]
    },
    {
     "name": "stderr",
     "output_type": "stream",
     "text": [
      "[I 2024-11-16 21:43:36,838] Trial 161 finished with value: 0.6949457727900842 and parameters: {'x0': 1, 'x1': 0, 'x2': 0, 'x3': 0, 'x4': 0, 'x5': 1, 'x6': 1, 'x7': 0, 'x8': 1, 'x9': 1, 'x10': 0, 'x11': 1, 'x12': 1, 'x13': 1, 'x14': 1}. Best is trial 10 with value: 0.6949457727900842.\n"
     ]
    },
    {
     "name": "stdout",
     "output_type": "stream",
     "text": [
      "163 0.6949457727900842\n"
     ]
    },
    {
     "name": "stderr",
     "output_type": "stream",
     "text": [
      "[I 2024-11-16 22:01:50,789] Trial 162 finished with value: 0.6949457727900842 and parameters: {'x0': 1, 'x1': 0, 'x2': 0, 'x3': 0, 'x4': 0, 'x5': 1, 'x6': 1, 'x7': 0, 'x8': 1, 'x9': 1, 'x10': 0, 'x11': 1, 'x12': 1, 'x13': 1, 'x14': 1}. Best is trial 10 with value: 0.6949457727900842.\n"
     ]
    },
    {
     "name": "stdout",
     "output_type": "stream",
     "text": [
      "164 0.6949457727900842\n"
     ]
    },
    {
     "name": "stderr",
     "output_type": "stream",
     "text": [
      "[I 2024-11-16 22:20:04,360] Trial 163 finished with value: 0.6949457727900842 and parameters: {'x0': 1, 'x1': 0, 'x2': 0, 'x3': 0, 'x4': 0, 'x5': 1, 'x6': 1, 'x7': 0, 'x8': 1, 'x9': 1, 'x10': 0, 'x11': 1, 'x12': 1, 'x13': 1, 'x14': 1}. Best is trial 10 with value: 0.6949457727900842.\n"
     ]
    },
    {
     "name": "stdout",
     "output_type": "stream",
     "text": [
      "165 0.6949457727900842\n"
     ]
    },
    {
     "name": "stderr",
     "output_type": "stream",
     "text": [
      "[I 2024-11-16 22:38:18,292] Trial 164 finished with value: 0.6949457727900842 and parameters: {'x0': 1, 'x1': 0, 'x2': 0, 'x3': 0, 'x4': 0, 'x5': 1, 'x6': 1, 'x7': 0, 'x8': 1, 'x9': 1, 'x10': 0, 'x11': 1, 'x12': 1, 'x13': 1, 'x14': 1}. Best is trial 10 with value: 0.6949457727900842.\n"
     ]
    },
    {
     "name": "stdout",
     "output_type": "stream",
     "text": [
      "166 0.6949457727900842\n"
     ]
    },
    {
     "name": "stderr",
     "output_type": "stream",
     "text": [
      "[I 2024-11-16 22:56:53,104] Trial 165 finished with value: 0.6847049941806209 and parameters: {'x0': 1, 'x1': 0, 'x2': 0, 'x3': 0, 'x4': 1, 'x5': 1, 'x6': 1, 'x7': 0, 'x8': 1, 'x9': 1, 'x10': 0, 'x11': 1, 'x12': 1, 'x13': 1, 'x14': 1}. Best is trial 10 with value: 0.6949457727900842.\n"
     ]
    },
    {
     "name": "stdout",
     "output_type": "stream",
     "text": [
      "167 0.6949457727900842\n"
     ]
    },
    {
     "name": "stderr",
     "output_type": "stream",
     "text": [
      "[I 2024-11-16 23:12:37,955] Trial 166 finished with value: 0.6949457727900842 and parameters: {'x0': 1, 'x1': 0, 'x2': 0, 'x3': 0, 'x4': 0, 'x5': 1, 'x6': 1, 'x7': 0, 'x8': 1, 'x9': 0, 'x10': 0, 'x11': 1, 'x12': 1, 'x13': 1, 'x14': 1}. Best is trial 10 with value: 0.6949457727900842.\n"
     ]
    },
    {
     "name": "stdout",
     "output_type": "stream",
     "text": [
      "168 0.6949457727900842\n"
     ]
    },
    {
     "name": "stderr",
     "output_type": "stream",
     "text": [
      "[I 2024-11-16 23:30:52,382] Trial 167 finished with value: 0.6949457727900842 and parameters: {'x0': 1, 'x1': 0, 'x2': 0, 'x3': 0, 'x4': 0, 'x5': 1, 'x6': 1, 'x7': 0, 'x8': 1, 'x9': 1, 'x10': 0, 'x11': 1, 'x12': 1, 'x13': 1, 'x14': 1}. Best is trial 10 with value: 0.6949457727900842.\n"
     ]
    },
    {
     "name": "stdout",
     "output_type": "stream",
     "text": [
      "169 0.6949457727900842\n"
     ]
    },
    {
     "name": "stderr",
     "output_type": "stream",
     "text": [
      "[I 2024-11-16 23:48:33,728] Trial 168 finished with value: 0.6918521308765211 and parameters: {'x0': 1, 'x1': 0, 'x2': 0, 'x3': 0, 'x4': 0, 'x5': 1, 'x6': 1, 'x7': 0, 'x8': 1, 'x9': 1, 'x10': 0, 'x11': 0, 'x12': 1, 'x13': 1, 'x14': 1}. Best is trial 10 with value: 0.6949457727900842.\n"
     ]
    },
    {
     "name": "stdout",
     "output_type": "stream",
     "text": [
      "170 0.6949457727900842\n"
     ]
    },
    {
     "name": "stderr",
     "output_type": "stream",
     "text": [
      "[I 2024-11-17 00:06:49,952] Trial 169 finished with value: 0.6949457727900842 and parameters: {'x0': 1, 'x1': 0, 'x2': 0, 'x3': 0, 'x4': 0, 'x5': 1, 'x6': 1, 'x7': 0, 'x8': 1, 'x9': 1, 'x10': 0, 'x11': 1, 'x12': 1, 'x13': 1, 'x14': 1}. Best is trial 10 with value: 0.6949457727900842.\n"
     ]
    },
    {
     "name": "stdout",
     "output_type": "stream",
     "text": [
      "171 0.6949457727900842\n"
     ]
    },
    {
     "name": "stderr",
     "output_type": "stream",
     "text": [
      "[I 2024-11-17 00:25:02,922] Trial 170 finished with value: 0.6949457727900842 and parameters: {'x0': 1, 'x1': 0, 'x2': 0, 'x3': 0, 'x4': 0, 'x5': 1, 'x6': 1, 'x7': 0, 'x8': 1, 'x9': 1, 'x10': 0, 'x11': 1, 'x12': 1, 'x13': 1, 'x14': 1}. Best is trial 10 with value: 0.6949457727900842.\n"
     ]
    },
    {
     "name": "stdout",
     "output_type": "stream",
     "text": [
      "172 0.6949457727900842\n"
     ]
    },
    {
     "name": "stderr",
     "output_type": "stream",
     "text": [
      "[I 2024-11-17 00:43:17,090] Trial 171 finished with value: 0.6949457727900842 and parameters: {'x0': 1, 'x1': 0, 'x2': 0, 'x3': 0, 'x4': 0, 'x5': 1, 'x6': 1, 'x7': 0, 'x8': 1, 'x9': 1, 'x10': 0, 'x11': 1, 'x12': 1, 'x13': 1, 'x14': 1}. Best is trial 10 with value: 0.6949457727900842.\n"
     ]
    },
    {
     "name": "stdout",
     "output_type": "stream",
     "text": [
      "173 0.6949457727900842\n"
     ]
    },
    {
     "name": "stderr",
     "output_type": "stream",
     "text": [
      "[I 2024-11-17 01:01:31,087] Trial 172 finished with value: 0.6949457727900842 and parameters: {'x0': 1, 'x1': 0, 'x2': 0, 'x3': 0, 'x4': 0, 'x5': 1, 'x6': 1, 'x7': 0, 'x8': 1, 'x9': 1, 'x10': 0, 'x11': 1, 'x12': 1, 'x13': 1, 'x14': 1}. Best is trial 10 with value: 0.6949457727900842.\n"
     ]
    },
    {
     "name": "stdout",
     "output_type": "stream",
     "text": [
      "174 0.6949457727900842\n"
     ]
    },
    {
     "name": "stderr",
     "output_type": "stream",
     "text": [
      "[I 2024-11-17 01:19:44,338] Trial 173 finished with value: 0.6949457727900842 and parameters: {'x0': 1, 'x1': 0, 'x2': 0, 'x3': 0, 'x4': 0, 'x5': 1, 'x6': 1, 'x7': 0, 'x8': 1, 'x9': 1, 'x10': 0, 'x11': 1, 'x12': 1, 'x13': 1, 'x14': 1}. Best is trial 10 with value: 0.6949457727900842.\n"
     ]
    },
    {
     "name": "stdout",
     "output_type": "stream",
     "text": [
      "175 0.6949457727900842\n"
     ]
    },
    {
     "name": "stderr",
     "output_type": "stream",
     "text": [
      "[I 2024-11-17 01:37:58,009] Trial 174 finished with value: 0.6949457727900842 and parameters: {'x0': 1, 'x1': 0, 'x2': 0, 'x3': 0, 'x4': 0, 'x5': 1, 'x6': 1, 'x7': 0, 'x8': 1, 'x9': 1, 'x10': 0, 'x11': 1, 'x12': 1, 'x13': 1, 'x14': 1}. Best is trial 10 with value: 0.6949457727900842.\n"
     ]
    },
    {
     "name": "stdout",
     "output_type": "stream",
     "text": [
      "176 0.6949457727900842\n"
     ]
    },
    {
     "name": "stderr",
     "output_type": "stream",
     "text": [
      "[I 2024-11-17 01:54:06,641] Trial 175 finished with value: 0.6918521308765211 and parameters: {'x0': 1, 'x1': 0, 'x2': 0, 'x3': 0, 'x4': 0, 'x5': 1, 'x6': 1, 'x7': 0, 'x8': 1, 'x9': 1, 'x10': 0, 'x11': 1, 'x12': 1, 'x13': 1, 'x14': 0}. Best is trial 10 with value: 0.6949457727900842.\n"
     ]
    },
    {
     "name": "stdout",
     "output_type": "stream",
     "text": [
      "177 0.6949457727900842\n"
     ]
    },
    {
     "name": "stderr",
     "output_type": "stream",
     "text": [
      "[I 2024-11-17 02:12:23,331] Trial 176 finished with value: 0.6949457727900842 and parameters: {'x0': 1, 'x1': 0, 'x2': 0, 'x3': 0, 'x4': 0, 'x5': 1, 'x6': 1, 'x7': 0, 'x8': 1, 'x9': 1, 'x10': 0, 'x11': 1, 'x12': 1, 'x13': 1, 'x14': 1}. Best is trial 10 with value: 0.6949457727900842.\n"
     ]
    },
    {
     "name": "stdout",
     "output_type": "stream",
     "text": [
      "178 0.6949457727900842\n"
     ]
    },
    {
     "name": "stderr",
     "output_type": "stream",
     "text": [
      "[I 2024-11-17 02:30:36,933] Trial 177 finished with value: 0.6949457727900842 and parameters: {'x0': 1, 'x1': 0, 'x2': 0, 'x3': 0, 'x4': 0, 'x5': 1, 'x6': 1, 'x7': 0, 'x8': 1, 'x9': 1, 'x10': 0, 'x11': 1, 'x12': 1, 'x13': 1, 'x14': 1}. Best is trial 10 with value: 0.6949457727900842.\n"
     ]
    },
    {
     "name": "stdout",
     "output_type": "stream",
     "text": [
      "179 0.6949457727900842\n"
     ]
    },
    {
     "name": "stderr",
     "output_type": "stream",
     "text": [
      "[I 2024-11-17 02:43:02,394] Trial 178 finished with value: 0.6918521308765211 and parameters: {'x0': 1, 'x1': 0, 'x2': 0, 'x3': 0, 'x4': 0, 'x5': 0, 'x6': 1, 'x7': 0, 'x8': 1, 'x9': 1, 'x10': 0, 'x11': 1, 'x12': 1, 'x13': 1, 'x14': 1}. Best is trial 10 with value: 0.6949457727900842.\n"
     ]
    },
    {
     "name": "stdout",
     "output_type": "stream",
     "text": [
      "180 0.6949457727900842\n"
     ]
    },
    {
     "name": "stderr",
     "output_type": "stream",
     "text": [
      "[I 2024-11-17 03:01:16,663] Trial 179 finished with value: 0.6949457727900842 and parameters: {'x0': 1, 'x1': 0, 'x2': 0, 'x3': 0, 'x4': 0, 'x5': 1, 'x6': 1, 'x7': 0, 'x8': 1, 'x9': 1, 'x10': 0, 'x11': 1, 'x12': 1, 'x13': 1, 'x14': 1}. Best is trial 10 with value: 0.6949457727900842.\n"
     ]
    },
    {
     "name": "stdout",
     "output_type": "stream",
     "text": [
      "181 0.6949457727900842\n"
     ]
    },
    {
     "name": "stderr",
     "output_type": "stream",
     "text": [
      "[I 2024-11-17 03:15:32,887] Trial 180 finished with value: 0.6918521308765211 and parameters: {'x0': 1, 'x1': 0, 'x2': 0, 'x3': 1, 'x4': 0, 'x5': 1, 'x6': 1, 'x7': 0, 'x8': 1, 'x9': 1, 'x10': 0, 'x11': 1, 'x12': 1, 'x13': 1, 'x14': 1}. Best is trial 10 with value: 0.6949457727900842.\n"
     ]
    },
    {
     "name": "stdout",
     "output_type": "stream",
     "text": [
      "182 0.6949457727900842\n"
     ]
    },
    {
     "name": "stderr",
     "output_type": "stream",
     "text": [
      "[I 2024-11-17 03:33:47,577] Trial 181 finished with value: 0.6949457727900842 and parameters: {'x0': 1, 'x1': 0, 'x2': 0, 'x3': 0, 'x4': 0, 'x5': 1, 'x6': 1, 'x7': 0, 'x8': 1, 'x9': 1, 'x10': 0, 'x11': 1, 'x12': 1, 'x13': 1, 'x14': 1}. Best is trial 10 with value: 0.6949457727900842.\n"
     ]
    },
    {
     "name": "stdout",
     "output_type": "stream",
     "text": [
      "183 0.6949457727900842\n"
     ]
    },
    {
     "name": "stderr",
     "output_type": "stream",
     "text": [
      "[I 2024-11-17 03:52:01,060] Trial 182 finished with value: 0.6949457727900842 and parameters: {'x0': 1, 'x1': 0, 'x2': 0, 'x3': 0, 'x4': 0, 'x5': 1, 'x6': 1, 'x7': 0, 'x8': 1, 'x9': 1, 'x10': 0, 'x11': 1, 'x12': 1, 'x13': 1, 'x14': 1}. Best is trial 10 with value: 0.6949457727900842.\n"
     ]
    },
    {
     "name": "stdout",
     "output_type": "stream",
     "text": [
      "184 0.6949457727900842\n"
     ]
    },
    {
     "name": "stderr",
     "output_type": "stream",
     "text": [
      "[I 2024-11-17 04:10:14,597] Trial 183 finished with value: 0.6949457727900842 and parameters: {'x0': 1, 'x1': 0, 'x2': 0, 'x3': 0, 'x4': 0, 'x5': 1, 'x6': 1, 'x7': 0, 'x8': 1, 'x9': 1, 'x10': 0, 'x11': 1, 'x12': 1, 'x13': 1, 'x14': 1}. Best is trial 10 with value: 0.6949457727900842.\n"
     ]
    },
    {
     "name": "stdout",
     "output_type": "stream",
     "text": [
      "185 0.6949457727900842\n"
     ]
    },
    {
     "name": "stderr",
     "output_type": "stream",
     "text": [
      "[I 2024-11-17 04:30:31,062] Trial 184 finished with value: 0.6918521308765211 and parameters: {'x0': 1, 'x1': 0, 'x2': 1, 'x3': 0, 'x4': 0, 'x5': 1, 'x6': 1, 'x7': 0, 'x8': 1, 'x9': 1, 'x10': 0, 'x11': 1, 'x12': 1, 'x13': 1, 'x14': 1}. Best is trial 10 with value: 0.6949457727900842.\n"
     ]
    },
    {
     "name": "stdout",
     "output_type": "stream",
     "text": [
      "186 0.6949457727900842\n"
     ]
    },
    {
     "name": "stderr",
     "output_type": "stream",
     "text": [
      "[I 2024-11-17 04:48:17,489] Trial 185 finished with value: 0.6949457727900842 and parameters: {'x0': 1, 'x1': 0, 'x2': 0, 'x3': 0, 'x4': 0, 'x5': 1, 'x6': 1, 'x7': 0, 'x8': 1, 'x9': 1, 'x10': 0, 'x11': 1, 'x12': 1, 'x13': 0, 'x14': 1}. Best is trial 10 with value: 0.6949457727900842.\n"
     ]
    },
    {
     "name": "stdout",
     "output_type": "stream",
     "text": [
      "187 0.6949457727900842\n"
     ]
    },
    {
     "name": "stderr",
     "output_type": "stream",
     "text": [
      "[I 2024-11-17 05:06:30,982] Trial 186 finished with value: 0.6949457727900842 and parameters: {'x0': 1, 'x1': 0, 'x2': 0, 'x3': 0, 'x4': 0, 'x5': 1, 'x6': 1, 'x7': 0, 'x8': 1, 'x9': 1, 'x10': 0, 'x11': 1, 'x12': 1, 'x13': 1, 'x14': 1}. Best is trial 10 with value: 0.6949457727900842.\n"
     ]
    },
    {
     "name": "stdout",
     "output_type": "stream",
     "text": [
      "188 0.6949457727900842\n"
     ]
    },
    {
     "name": "stderr",
     "output_type": "stream",
     "text": [
      "[I 2024-11-17 05:22:15,540] Trial 187 finished with value: 0.6949457727900842 and parameters: {'x0': 1, 'x1': 0, 'x2': 0, 'x3': 0, 'x4': 0, 'x5': 1, 'x6': 1, 'x7': 0, 'x8': 1, 'x9': 0, 'x10': 0, 'x11': 1, 'x12': 1, 'x13': 1, 'x14': 1}. Best is trial 10 with value: 0.6949457727900842.\n"
     ]
    },
    {
     "name": "stdout",
     "output_type": "stream",
     "text": [
      "189 0.6949457727900842\n"
     ]
    },
    {
     "name": "stderr",
     "output_type": "stream",
     "text": [
      "[I 2024-11-17 05:37:17,971] Trial 188 finished with value: 0.6949457727900842 and parameters: {'x0': 1, 'x1': 0, 'x2': 0, 'x3': 0, 'x4': 0, 'x5': 1, 'x6': 1, 'x7': 0, 'x8': 1, 'x9': 1, 'x10': 0, 'x11': 1, 'x12': 0, 'x13': 1, 'x14': 1}. Best is trial 10 with value: 0.6949457727900842.\n"
     ]
    },
    {
     "name": "stdout",
     "output_type": "stream",
     "text": [
      "190 0.6949457727900842\n"
     ]
    },
    {
     "name": "stderr",
     "output_type": "stream",
     "text": [
      "[I 2024-11-17 05:58:53,521] Trial 189 finished with value: 0.6949457727900842 and parameters: {'x0': 1, 'x1': 0, 'x2': 0, 'x3': 0, 'x4': 0, 'x5': 1, 'x6': 1, 'x7': 1, 'x8': 1, 'x9': 1, 'x10': 0, 'x11': 1, 'x12': 1, 'x13': 1, 'x14': 1}. Best is trial 10 with value: 0.6949457727900842.\n"
     ]
    },
    {
     "name": "stdout",
     "output_type": "stream",
     "text": [
      "191 0.6949457727900842\n"
     ]
    },
    {
     "name": "stderr",
     "output_type": "stream",
     "text": [
      "[I 2024-11-17 05:58:54,392] Trial 190 pruned. \n"
     ]
    },
    {
     "name": "stdout",
     "output_type": "stream",
     "text": [
      "192 0.6949457727900842\n"
     ]
    },
    {
     "name": "stderr",
     "output_type": "stream",
     "text": [
      "[I 2024-11-17 06:17:07,613] Trial 191 finished with value: 0.6949457727900842 and parameters: {'x0': 1, 'x1': 0, 'x2': 0, 'x3': 0, 'x4': 0, 'x5': 1, 'x6': 1, 'x7': 0, 'x8': 1, 'x9': 1, 'x10': 0, 'x11': 1, 'x12': 1, 'x13': 1, 'x14': 1}. Best is trial 10 with value: 0.6949457727900842.\n"
     ]
    },
    {
     "name": "stdout",
     "output_type": "stream",
     "text": [
      "193 0.6949457727900842\n"
     ]
    },
    {
     "name": "stderr",
     "output_type": "stream",
     "text": [
      "[I 2024-11-17 06:35:20,633] Trial 192 finished with value: 0.6949457727900842 and parameters: {'x0': 1, 'x1': 0, 'x2': 0, 'x3': 0, 'x4': 0, 'x5': 1, 'x6': 1, 'x7': 0, 'x8': 1, 'x9': 1, 'x10': 0, 'x11': 1, 'x12': 1, 'x13': 1, 'x14': 1}. Best is trial 10 with value: 0.6949457727900842.\n"
     ]
    },
    {
     "name": "stdout",
     "output_type": "stream",
     "text": [
      "194 0.6949457727900842\n"
     ]
    },
    {
     "name": "stderr",
     "output_type": "stream",
     "text": [
      "[I 2024-11-17 06:53:33,679] Trial 193 finished with value: 0.6949457727900842 and parameters: {'x0': 1, 'x1': 0, 'x2': 0, 'x3': 0, 'x4': 0, 'x5': 1, 'x6': 1, 'x7': 0, 'x8': 1, 'x9': 1, 'x10': 0, 'x11': 1, 'x12': 1, 'x13': 1, 'x14': 1}. Best is trial 10 with value: 0.6949457727900842.\n"
     ]
    },
    {
     "name": "stdout",
     "output_type": "stream",
     "text": [
      "195 0.6949457727900842\n"
     ]
    },
    {
     "name": "stderr",
     "output_type": "stream",
     "text": [
      "[I 2024-11-17 07:11:47,128] Trial 194 finished with value: 0.6949457727900842 and parameters: {'x0': 1, 'x1': 0, 'x2': 0, 'x3': 0, 'x4': 0, 'x5': 1, 'x6': 1, 'x7': 0, 'x8': 1, 'x9': 1, 'x10': 0, 'x11': 1, 'x12': 1, 'x13': 1, 'x14': 1}. Best is trial 10 with value: 0.6949457727900842.\n"
     ]
    },
    {
     "name": "stdout",
     "output_type": "stream",
     "text": [
      "196 0.6949457727900842\n"
     ]
    },
    {
     "name": "stderr",
     "output_type": "stream",
     "text": [
      "[I 2024-11-17 07:26:26,653] Trial 195 finished with value: 0.6918521308765211 and parameters: {'x0': 1, 'x1': 1, 'x2': 0, 'x3': 0, 'x4': 0, 'x5': 1, 'x6': 1, 'x7': 0, 'x8': 0, 'x9': 1, 'x10': 0, 'x11': 1, 'x12': 1, 'x13': 1, 'x14': 1}. Best is trial 10 with value: 0.6949457727900842.\n"
     ]
    },
    {
     "name": "stdout",
     "output_type": "stream",
     "text": [
      "197 0.6949457727900842\n"
     ]
    },
    {
     "name": "stderr",
     "output_type": "stream",
     "text": [
      "[I 2024-11-17 07:51:35,997] Trial 196 finished with value: 0.6915422885572139 and parameters: {'x0': 1, 'x1': 0, 'x2': 0, 'x3': 0, 'x4': 0, 'x5': 1, 'x6': 1, 'x7': 0, 'x8': 1, 'x9': 1, 'x10': 1, 'x11': 1, 'x12': 1, 'x13': 1, 'x14': 1}. Best is trial 10 with value: 0.6949457727900842.\n"
     ]
    },
    {
     "name": "stdout",
     "output_type": "stream",
     "text": [
      "198 0.6949457727900842\n"
     ]
    },
    {
     "name": "stderr",
     "output_type": "stream",
     "text": [
      "[I 2024-11-17 08:09:49,791] Trial 197 finished with value: 0.6949457727900842 and parameters: {'x0': 1, 'x1': 0, 'x2': 0, 'x3': 0, 'x4': 0, 'x5': 1, 'x6': 1, 'x7': 0, 'x8': 1, 'x9': 1, 'x10': 0, 'x11': 1, 'x12': 1, 'x13': 1, 'x14': 1}. Best is trial 10 with value: 0.6949457727900842.\n"
     ]
    },
    {
     "name": "stdout",
     "output_type": "stream",
     "text": [
      "199 0.6949457727900842\n"
     ]
    },
    {
     "name": "stderr",
     "output_type": "stream",
     "text": [
      "[I 2024-11-17 08:28:03,370] Trial 198 finished with value: 0.6949457727900842 and parameters: {'x0': 1, 'x1': 0, 'x2': 0, 'x3': 0, 'x4': 0, 'x5': 1, 'x6': 1, 'x7': 0, 'x8': 1, 'x9': 1, 'x10': 0, 'x11': 1, 'x12': 1, 'x13': 1, 'x14': 1}. Best is trial 10 with value: 0.6949457727900842.\n"
     ]
    },
    {
     "name": "stdout",
     "output_type": "stream",
     "text": [
      "200 0.6949457727900842\n"
     ]
    },
    {
     "name": "stderr",
     "output_type": "stream",
     "text": [
      "[I 2024-11-17 08:46:17,152] Trial 199 finished with value: 0.6949457727900842 and parameters: {'x0': 1, 'x1': 0, 'x2': 0, 'x3': 0, 'x4': 0, 'x5': 1, 'x6': 1, 'x7': 0, 'x8': 1, 'x9': 1, 'x10': 0, 'x11': 1, 'x12': 1, 'x13': 1, 'x14': 1}. Best is trial 10 with value: 0.6949457727900842.\n"
     ]
    },
    {
     "name": "stdout",
     "output_type": "stream",
     "text": [
      "201 0.6949457727900842\n"
     ]
    },
    {
     "name": "stderr",
     "output_type": "stream",
     "text": [
      "[I 2024-11-17 09:04:30,907] Trial 200 finished with value: 0.6949457727900842 and parameters: {'x0': 1, 'x1': 0, 'x2': 0, 'x3': 0, 'x4': 0, 'x5': 1, 'x6': 1, 'x7': 0, 'x8': 1, 'x9': 1, 'x10': 0, 'x11': 1, 'x12': 1, 'x13': 1, 'x14': 1}. Best is trial 10 with value: 0.6949457727900842.\n"
     ]
    },
    {
     "name": "stdout",
     "output_type": "stream",
     "text": [
      "202 0.6949457727900842\n"
     ]
    },
    {
     "name": "stderr",
     "output_type": "stream",
     "text": [
      "[I 2024-11-17 09:22:44,516] Trial 201 finished with value: 0.6949457727900842 and parameters: {'x0': 1, 'x1': 0, 'x2': 0, 'x3': 0, 'x4': 0, 'x5': 1, 'x6': 1, 'x7': 0, 'x8': 1, 'x9': 1, 'x10': 0, 'x11': 1, 'x12': 1, 'x13': 1, 'x14': 1}. Best is trial 10 with value: 0.6949457727900842.\n"
     ]
    },
    {
     "name": "stdout",
     "output_type": "stream",
     "text": [
      "203 0.6949457727900842\n"
     ]
    },
    {
     "name": "stderr",
     "output_type": "stream",
     "text": [
      "[I 2024-11-17 09:40:57,887] Trial 202 finished with value: 0.6949457727900842 and parameters: {'x0': 1, 'x1': 0, 'x2': 0, 'x3': 0, 'x4': 0, 'x5': 1, 'x6': 1, 'x7': 0, 'x8': 1, 'x9': 1, 'x10': 0, 'x11': 1, 'x12': 1, 'x13': 1, 'x14': 1}. Best is trial 10 with value: 0.6949457727900842.\n"
     ]
    },
    {
     "name": "stdout",
     "output_type": "stream",
     "text": [
      "204 0.6949457727900842\n"
     ]
    },
    {
     "name": "stderr",
     "output_type": "stream",
     "text": [
      "[I 2024-11-17 09:59:11,712] Trial 203 finished with value: 0.6949457727900842 and parameters: {'x0': 1, 'x1': 0, 'x2': 0, 'x3': 0, 'x4': 0, 'x5': 1, 'x6': 1, 'x7': 0, 'x8': 1, 'x9': 1, 'x10': 0, 'x11': 1, 'x12': 1, 'x13': 1, 'x14': 1}. Best is trial 10 with value: 0.6949457727900842.\n"
     ]
    },
    {
     "name": "stdout",
     "output_type": "stream",
     "text": [
      "205 0.6949457727900842\n"
     ]
    },
    {
     "name": "stderr",
     "output_type": "stream",
     "text": [
      "[I 2024-11-17 10:17:25,908] Trial 204 finished with value: 0.6949457727900842 and parameters: {'x0': 1, 'x1': 0, 'x2': 0, 'x3': 0, 'x4': 0, 'x5': 1, 'x6': 1, 'x7': 0, 'x8': 1, 'x9': 1, 'x10': 0, 'x11': 1, 'x12': 1, 'x13': 1, 'x14': 1}. Best is trial 10 with value: 0.6949457727900842.\n"
     ]
    },
    {
     "name": "stdout",
     "output_type": "stream",
     "text": [
      "206 0.6949457727900842\n"
     ]
    },
    {
     "name": "stderr",
     "output_type": "stream",
     "text": [
      "[I 2024-11-17 10:35:39,188] Trial 205 finished with value: 0.6949457727900842 and parameters: {'x0': 1, 'x1': 0, 'x2': 0, 'x3': 0, 'x4': 0, 'x5': 1, 'x6': 1, 'x7': 0, 'x8': 1, 'x9': 1, 'x10': 0, 'x11': 1, 'x12': 1, 'x13': 1, 'x14': 1}. Best is trial 10 with value: 0.6949457727900842.\n"
     ]
    },
    {
     "name": "stdout",
     "output_type": "stream",
     "text": [
      "207 0.6949457727900842\n"
     ]
    },
    {
     "name": "stderr",
     "output_type": "stream",
     "text": [
      "[I 2024-11-17 10:53:53,053] Trial 206 finished with value: 0.6949457727900842 and parameters: {'x0': 1, 'x1': 0, 'x2': 0, 'x3': 0, 'x4': 0, 'x5': 1, 'x6': 1, 'x7': 0, 'x8': 1, 'x9': 1, 'x10': 0, 'x11': 1, 'x12': 1, 'x13': 1, 'x14': 1}. Best is trial 10 with value: 0.6949457727900842.\n"
     ]
    },
    {
     "name": "stdout",
     "output_type": "stream",
     "text": [
      "208 0.6949457727900842\n"
     ]
    },
    {
     "name": "stderr",
     "output_type": "stream",
     "text": [
      "[I 2024-11-17 11:12:06,352] Trial 207 finished with value: 0.6949457727900842 and parameters: {'x0': 1, 'x1': 0, 'x2': 0, 'x3': 0, 'x4': 0, 'x5': 1, 'x6': 1, 'x7': 0, 'x8': 1, 'x9': 1, 'x10': 0, 'x11': 1, 'x12': 1, 'x13': 1, 'x14': 1}. Best is trial 10 with value: 0.6949457727900842.\n"
     ]
    },
    {
     "name": "stdout",
     "output_type": "stream",
     "text": [
      "209 0.6949457727900842\n"
     ]
    },
    {
     "name": "stderr",
     "output_type": "stream",
     "text": [
      "[I 2024-11-17 11:30:20,021] Trial 208 finished with value: 0.6949457727900842 and parameters: {'x0': 1, 'x1': 0, 'x2': 0, 'x3': 0, 'x4': 0, 'x5': 1, 'x6': 1, 'x7': 0, 'x8': 1, 'x9': 1, 'x10': 0, 'x11': 1, 'x12': 1, 'x13': 1, 'x14': 1}. Best is trial 10 with value: 0.6949457727900842.\n"
     ]
    },
    {
     "name": "stdout",
     "output_type": "stream",
     "text": [
      "210 0.6949457727900842\n"
     ]
    },
    {
     "name": "stderr",
     "output_type": "stream",
     "text": [
      "[I 2024-11-17 11:48:33,730] Trial 209 finished with value: 0.6949457727900842 and parameters: {'x0': 1, 'x1': 0, 'x2': 0, 'x3': 0, 'x4': 0, 'x5': 1, 'x6': 1, 'x7': 0, 'x8': 1, 'x9': 1, 'x10': 0, 'x11': 1, 'x12': 1, 'x13': 1, 'x14': 1}. Best is trial 10 with value: 0.6949457727900842.\n"
     ]
    },
    {
     "name": "stdout",
     "output_type": "stream",
     "text": [
      "211 0.6949457727900842\n"
     ]
    },
    {
     "name": "stderr",
     "output_type": "stream",
     "text": [
      "[I 2024-11-17 12:06:46,837] Trial 210 finished with value: 0.6949457727900842 and parameters: {'x0': 1, 'x1': 0, 'x2': 0, 'x3': 0, 'x4': 0, 'x5': 1, 'x6': 1, 'x7': 0, 'x8': 1, 'x9': 1, 'x10': 0, 'x11': 1, 'x12': 1, 'x13': 1, 'x14': 1}. Best is trial 10 with value: 0.6949457727900842.\n"
     ]
    },
    {
     "name": "stdout",
     "output_type": "stream",
     "text": [
      "212 0.6949457727900842\n"
     ]
    },
    {
     "name": "stderr",
     "output_type": "stream",
     "text": [
      "[I 2024-11-17 12:25:00,062] Trial 211 finished with value: 0.6949457727900842 and parameters: {'x0': 1, 'x1': 0, 'x2': 0, 'x3': 0, 'x4': 0, 'x5': 1, 'x6': 1, 'x7': 0, 'x8': 1, 'x9': 1, 'x10': 0, 'x11': 1, 'x12': 1, 'x13': 1, 'x14': 1}. Best is trial 10 with value: 0.6949457727900842.\n"
     ]
    },
    {
     "name": "stdout",
     "output_type": "stream",
     "text": [
      "213 0.6949457727900842\n"
     ]
    },
    {
     "name": "stderr",
     "output_type": "stream",
     "text": [
      "[I 2024-11-17 12:43:13,286] Trial 212 finished with value: 0.6949457727900842 and parameters: {'x0': 1, 'x1': 0, 'x2': 0, 'x3': 0, 'x4': 0, 'x5': 1, 'x6': 1, 'x7': 0, 'x8': 1, 'x9': 1, 'x10': 0, 'x11': 1, 'x12': 1, 'x13': 1, 'x14': 1}. Best is trial 10 with value: 0.6949457727900842.\n"
     ]
    },
    {
     "name": "stdout",
     "output_type": "stream",
     "text": [
      "214 0.6949457727900842\n"
     ]
    },
    {
     "name": "stderr",
     "output_type": "stream",
     "text": [
      "[I 2024-11-17 13:01:26,723] Trial 213 finished with value: 0.6949457727900842 and parameters: {'x0': 1, 'x1': 0, 'x2': 0, 'x3': 0, 'x4': 0, 'x5': 1, 'x6': 1, 'x7': 0, 'x8': 1, 'x9': 1, 'x10': 0, 'x11': 1, 'x12': 1, 'x13': 1, 'x14': 1}. Best is trial 10 with value: 0.6949457727900842.\n"
     ]
    },
    {
     "name": "stdout",
     "output_type": "stream",
     "text": [
      "215 0.6949457727900842\n"
     ]
    },
    {
     "name": "stderr",
     "output_type": "stream",
     "text": [
      "[I 2024-11-17 13:17:11,253] Trial 214 finished with value: 0.6949457727900842 and parameters: {'x0': 1, 'x1': 0, 'x2': 0, 'x3': 0, 'x4': 0, 'x5': 1, 'x6': 1, 'x7': 0, 'x8': 1, 'x9': 0, 'x10': 0, 'x11': 1, 'x12': 1, 'x13': 1, 'x14': 1}. Best is trial 10 with value: 0.6949457727900842.\n"
     ]
    },
    {
     "name": "stdout",
     "output_type": "stream",
     "text": [
      "216 0.6949457727900842\n"
     ]
    },
    {
     "name": "stderr",
     "output_type": "stream",
     "text": [
      "[I 2024-11-17 13:35:25,731] Trial 215 finished with value: 0.6949457727900842 and parameters: {'x0': 1, 'x1': 0, 'x2': 0, 'x3': 0, 'x4': 0, 'x5': 1, 'x6': 1, 'x7': 0, 'x8': 1, 'x9': 1, 'x10': 0, 'x11': 1, 'x12': 1, 'x13': 1, 'x14': 1}. Best is trial 10 with value: 0.6949457727900842.\n"
     ]
    },
    {
     "name": "stdout",
     "output_type": "stream",
     "text": [
      "217 0.6949457727900842\n"
     ]
    },
    {
     "name": "stderr",
     "output_type": "stream",
     "text": [
      "[I 2024-11-17 13:54:00,615] Trial 216 finished with value: 0.6847049941806209 and parameters: {'x0': 1, 'x1': 0, 'x2': 0, 'x3': 0, 'x4': 1, 'x5': 1, 'x6': 1, 'x7': 0, 'x8': 1, 'x9': 1, 'x10': 0, 'x11': 1, 'x12': 1, 'x13': 1, 'x14': 1}. Best is trial 10 with value: 0.6949457727900842.\n"
     ]
    },
    {
     "name": "stdout",
     "output_type": "stream",
     "text": [
      "218 0.6949457727900842\n"
     ]
    },
    {
     "name": "stderr",
     "output_type": "stream",
     "text": [
      "[I 2024-11-17 14:11:44,597] Trial 217 finished with value: 0.6918521308765211 and parameters: {'x0': 1, 'x1': 0, 'x2': 0, 'x3': 0, 'x4': 0, 'x5': 1, 'x6': 1, 'x7': 0, 'x8': 1, 'x9': 1, 'x10': 0, 'x11': 0, 'x12': 1, 'x13': 1, 'x14': 1}. Best is trial 10 with value: 0.6949457727900842.\n"
     ]
    },
    {
     "name": "stdout",
     "output_type": "stream",
     "text": [
      "219 0.6949457727900842\n"
     ]
    },
    {
     "name": "stderr",
     "output_type": "stream",
     "text": [
      "[I 2024-11-17 14:29:58,516] Trial 218 finished with value: 0.6949457727900842 and parameters: {'x0': 1, 'x1': 0, 'x2': 0, 'x3': 0, 'x4': 0, 'x5': 1, 'x6': 1, 'x7': 0, 'x8': 1, 'x9': 1, 'x10': 0, 'x11': 1, 'x12': 1, 'x13': 1, 'x14': 1}. Best is trial 10 with value: 0.6949457727900842.\n"
     ]
    },
    {
     "name": "stdout",
     "output_type": "stream",
     "text": [
      "220 0.6949457727900842\n"
     ]
    },
    {
     "name": "stderr",
     "output_type": "stream",
     "text": [
      "[I 2024-11-17 14:48:12,648] Trial 219 finished with value: 0.6949457727900842 and parameters: {'x0': 1, 'x1': 0, 'x2': 0, 'x3': 0, 'x4': 0, 'x5': 1, 'x6': 1, 'x7': 0, 'x8': 1, 'x9': 1, 'x10': 0, 'x11': 1, 'x12': 1, 'x13': 1, 'x14': 1}. Best is trial 10 with value: 0.6949457727900842.\n"
     ]
    },
    {
     "name": "stdout",
     "output_type": "stream",
     "text": [
      "221 0.6949457727900842\n"
     ]
    },
    {
     "name": "stderr",
     "output_type": "stream",
     "text": [
      "[I 2024-11-17 15:06:26,894] Trial 220 finished with value: 0.6949457727900842 and parameters: {'x0': 1, 'x1': 0, 'x2': 0, 'x3': 0, 'x4': 0, 'x5': 1, 'x6': 1, 'x7': 0, 'x8': 1, 'x9': 1, 'x10': 0, 'x11': 1, 'x12': 1, 'x13': 1, 'x14': 1}. Best is trial 10 with value: 0.6949457727900842.\n"
     ]
    },
    {
     "name": "stdout",
     "output_type": "stream",
     "text": [
      "222 0.6949457727900842\n"
     ]
    },
    {
     "name": "stderr",
     "output_type": "stream",
     "text": [
      "[I 2024-11-17 15:24:40,567] Trial 221 finished with value: 0.6949457727900842 and parameters: {'x0': 1, 'x1': 0, 'x2': 0, 'x3': 0, 'x4': 0, 'x5': 1, 'x6': 1, 'x7': 0, 'x8': 1, 'x9': 1, 'x10': 0, 'x11': 1, 'x12': 1, 'x13': 1, 'x14': 1}. Best is trial 10 with value: 0.6949457727900842.\n"
     ]
    },
    {
     "name": "stdout",
     "output_type": "stream",
     "text": [
      "223 0.6949457727900842\n"
     ]
    },
    {
     "name": "stderr",
     "output_type": "stream",
     "text": [
      "[I 2024-11-17 15:42:54,047] Trial 222 finished with value: 0.6949457727900842 and parameters: {'x0': 1, 'x1': 0, 'x2': 0, 'x3': 0, 'x4': 0, 'x5': 1, 'x6': 1, 'x7': 0, 'x8': 1, 'x9': 1, 'x10': 0, 'x11': 1, 'x12': 1, 'x13': 1, 'x14': 1}. Best is trial 10 with value: 0.6949457727900842.\n"
     ]
    },
    {
     "name": "stdout",
     "output_type": "stream",
     "text": [
      "224 0.6949457727900842\n"
     ]
    },
    {
     "name": "stderr",
     "output_type": "stream",
     "text": [
      "[I 2024-11-17 16:01:08,151] Trial 223 finished with value: 0.6949457727900842 and parameters: {'x0': 1, 'x1': 0, 'x2': 0, 'x3': 0, 'x4': 0, 'x5': 1, 'x6': 1, 'x7': 0, 'x8': 1, 'x9': 1, 'x10': 0, 'x11': 1, 'x12': 1, 'x13': 1, 'x14': 1}. Best is trial 10 with value: 0.6949457727900842.\n"
     ]
    },
    {
     "name": "stdout",
     "output_type": "stream",
     "text": [
      "225 0.6949457727900842\n"
     ]
    },
    {
     "name": "stderr",
     "output_type": "stream",
     "text": [
      "[I 2024-11-17 16:19:21,544] Trial 224 finished with value: 0.6949457727900842 and parameters: {'x0': 1, 'x1': 0, 'x2': 0, 'x3': 0, 'x4': 0, 'x5': 1, 'x6': 1, 'x7': 0, 'x8': 1, 'x9': 1, 'x10': 0, 'x11': 1, 'x12': 1, 'x13': 1, 'x14': 1}. Best is trial 10 with value: 0.6949457727900842.\n"
     ]
    },
    {
     "name": "stdout",
     "output_type": "stream",
     "text": [
      "226 0.6949457727900842\n"
     ]
    },
    {
     "name": "stderr",
     "output_type": "stream",
     "text": [
      "[I 2024-11-17 16:37:35,141] Trial 225 finished with value: 0.6949457727900842 and parameters: {'x0': 1, 'x1': 0, 'x2': 0, 'x3': 0, 'x4': 0, 'x5': 1, 'x6': 1, 'x7': 0, 'x8': 1, 'x9': 1, 'x10': 0, 'x11': 1, 'x12': 1, 'x13': 1, 'x14': 1}. Best is trial 10 with value: 0.6949457727900842.\n"
     ]
    },
    {
     "name": "stdout",
     "output_type": "stream",
     "text": [
      "227 0.6949457727900842\n"
     ]
    },
    {
     "name": "stderr",
     "output_type": "stream",
     "text": [
      "[I 2024-11-17 16:55:48,924] Trial 226 finished with value: 0.6949457727900842 and parameters: {'x0': 1, 'x1': 0, 'x2': 0, 'x3': 0, 'x4': 0, 'x5': 1, 'x6': 1, 'x7': 0, 'x8': 1, 'x9': 1, 'x10': 0, 'x11': 1, 'x12': 1, 'x13': 1, 'x14': 1}. Best is trial 10 with value: 0.6949457727900842.\n"
     ]
    },
    {
     "name": "stdout",
     "output_type": "stream",
     "text": [
      "228 0.6949457727900842\n"
     ]
    },
    {
     "name": "stderr",
     "output_type": "stream",
     "text": [
      "[I 2024-11-17 17:11:57,556] Trial 227 finished with value: 0.6918521308765211 and parameters: {'x0': 1, 'x1': 0, 'x2': 0, 'x3': 0, 'x4': 0, 'x5': 1, 'x6': 1, 'x7': 0, 'x8': 1, 'x9': 1, 'x10': 0, 'x11': 1, 'x12': 1, 'x13': 1, 'x14': 0}. Best is trial 10 with value: 0.6949457727900842.\n"
     ]
    },
    {
     "name": "stdout",
     "output_type": "stream",
     "text": [
      "229 0.6949457727900842\n"
     ]
    },
    {
     "name": "stderr",
     "output_type": "stream",
     "text": [
      "[I 2024-11-17 17:30:11,346] Trial 228 finished with value: 0.6949457727900842 and parameters: {'x0': 1, 'x1': 0, 'x2': 0, 'x3': 0, 'x4': 0, 'x5': 1, 'x6': 1, 'x7': 0, 'x8': 1, 'x9': 1, 'x10': 0, 'x11': 1, 'x12': 1, 'x13': 1, 'x14': 1}. Best is trial 10 with value: 0.6949457727900842.\n"
     ]
    },
    {
     "name": "stdout",
     "output_type": "stream",
     "text": [
      "230 0.6949457727900842\n"
     ]
    },
    {
     "name": "stderr",
     "output_type": "stream",
     "text": [
      "[I 2024-11-17 17:42:36,701] Trial 229 finished with value: 0.6918521308765211 and parameters: {'x0': 1, 'x1': 0, 'x2': 0, 'x3': 0, 'x4': 0, 'x5': 0, 'x6': 1, 'x7': 0, 'x8': 1, 'x9': 1, 'x10': 0, 'x11': 1, 'x12': 1, 'x13': 1, 'x14': 1}. Best is trial 10 with value: 0.6949457727900842.\n"
     ]
    },
    {
     "name": "stdout",
     "output_type": "stream",
     "text": [
      "231 0.6949457727900842\n"
     ]
    },
    {
     "name": "stderr",
     "output_type": "stream",
     "text": [
      "[I 2024-11-17 18:00:50,734] Trial 230 finished with value: 0.6949457727900842 and parameters: {'x0': 1, 'x1': 0, 'x2': 0, 'x3': 0, 'x4': 0, 'x5': 1, 'x6': 1, 'x7': 0, 'x8': 1, 'x9': 1, 'x10': 0, 'x11': 1, 'x12': 1, 'x13': 1, 'x14': 1}. Best is trial 10 with value: 0.6949457727900842.\n"
     ]
    },
    {
     "name": "stdout",
     "output_type": "stream",
     "text": [
      "232 0.6949457727900842\n"
     ]
    },
    {
     "name": "stderr",
     "output_type": "stream",
     "text": [
      "[I 2024-11-17 18:19:04,387] Trial 231 finished with value: 0.6949457727900842 and parameters: {'x0': 1, 'x1': 0, 'x2': 0, 'x3': 0, 'x4': 0, 'x5': 1, 'x6': 1, 'x7': 0, 'x8': 1, 'x9': 1, 'x10': 0, 'x11': 1, 'x12': 1, 'x13': 1, 'x14': 1}. Best is trial 10 with value: 0.6949457727900842.\n"
     ]
    },
    {
     "name": "stdout",
     "output_type": "stream",
     "text": [
      "233 0.6949457727900842\n"
     ]
    },
    {
     "name": "stderr",
     "output_type": "stream",
     "text": [
      "[W 2024-11-17 18:33:22,666] Trial 232 failed with parameters: {'x0': 1, 'x1': 0, 'x2': 0, 'x3': 0, 'x4': 0, 'x5': 1, 'x6': 1, 'x7': 0, 'x8': 1, 'x9': 1, 'x10': 0, 'x11': 1, 'x12': 1, 'x13': 1, 'x14': 1} because of the following error: KeyboardInterrupt().\n",
      "Traceback (most recent call last):\n",
      "  File \"/opt/conda/lib/python3.10/site-packages/optuna/study/_optimize.py\", line 197, in _run_trial\n",
      "    value_or_values = func(trial)\n",
      "  File \"/tmp/ipykernel_41268/2286529558.py\", line 15, in objective\n",
      "    ground_truth, model_response = evaluate_model(data_reformated,\n",
      "  File \"/tmp/ipykernel_41268/4011818009.py\", line 21, in evaluate_model\n",
      "    response = ollama.generate(model=model_name, prompt=question, options=options)\n",
      "  File \"/opt/conda/lib/python3.10/site-packages/ollama/_client.py\", line 163, in generate\n",
      "    return self._request_stream(\n",
      "  File \"/opt/conda/lib/python3.10/site-packages/ollama/_client.py\", line 99, in _request_stream\n",
      "    return self._stream(*args, **kwargs) if stream else self._request(*args, **kwargs).json()\n",
      "  File \"/opt/conda/lib/python3.10/site-packages/ollama/_client.py\", line 70, in _request\n",
      "    response = self._client.request(method, url, **kwargs)\n",
      "  File \"/opt/conda/lib/python3.10/site-packages/httpx/_client.py\", line 837, in request\n",
      "    return self.send(request, auth=auth, follow_redirects=follow_redirects)\n",
      "  File \"/opt/conda/lib/python3.10/site-packages/httpx/_client.py\", line 926, in send\n",
      "    response = self._send_handling_auth(\n",
      "  File \"/opt/conda/lib/python3.10/site-packages/httpx/_client.py\", line 954, in _send_handling_auth\n",
      "    response = self._send_handling_redirects(\n",
      "  File \"/opt/conda/lib/python3.10/site-packages/httpx/_client.py\", line 991, in _send_handling_redirects\n",
      "    response = self._send_single_request(request)\n",
      "  File \"/opt/conda/lib/python3.10/site-packages/httpx/_client.py\", line 1027, in _send_single_request\n",
      "    response = transport.handle_request(request)\n",
      "  File \"/opt/conda/lib/python3.10/site-packages/httpx/_transports/default.py\", line 236, in handle_request\n",
      "    resp = self._pool.handle_request(req)\n",
      "  File \"/opt/conda/lib/python3.10/site-packages/httpcore/_sync/connection_pool.py\", line 216, in handle_request\n",
      "    raise exc from None\n",
      "  File \"/opt/conda/lib/python3.10/site-packages/httpcore/_sync/connection_pool.py\", line 196, in handle_request\n",
      "    response = connection.handle_request(\n",
      "  File \"/opt/conda/lib/python3.10/site-packages/httpcore/_sync/connection.py\", line 101, in handle_request\n",
      "    return self._connection.handle_request(request)\n",
      "  File \"/opt/conda/lib/python3.10/site-packages/httpcore/_sync/http11.py\", line 143, in handle_request\n",
      "    raise exc\n",
      "  File \"/opt/conda/lib/python3.10/site-packages/httpcore/_sync/http11.py\", line 113, in handle_request\n",
      "    ) = self._receive_response_headers(**kwargs)\n",
      "  File \"/opt/conda/lib/python3.10/site-packages/httpcore/_sync/http11.py\", line 186, in _receive_response_headers\n",
      "    event = self._receive_event(timeout=timeout)\n",
      "  File \"/opt/conda/lib/python3.10/site-packages/httpcore/_sync/http11.py\", line 224, in _receive_event\n",
      "    data = self._network_stream.read(\n",
      "  File \"/opt/conda/lib/python3.10/site-packages/httpcore/_backends/sync.py\", line 126, in read\n",
      "    return self._sock.recv(max_bytes)\n",
      "KeyboardInterrupt\n",
      "[W 2024-11-17 18:33:22,669] Trial 232 failed with value None.\n"
     ]
    },
    {
     "ename": "KeyboardInterrupt",
     "evalue": "",
     "output_type": "error",
     "traceback": [
      "\u001b[0;31m---------------------------------------------------------------------------\u001b[0m",
      "\u001b[0;31mKeyboardInterrupt\u001b[0m                         Traceback (most recent call last)",
      "Cell \u001b[0;32mIn[20], line 11\u001b[0m\n\u001b[1;32m      6\u001b[0m best_dict[\u001b[38;5;124m'\u001b[39m\u001b[38;5;124mall_best\u001b[39m\u001b[38;5;124m'\u001b[39m]\u001b[38;5;241m=\u001b[39m[]\n\u001b[1;32m     10\u001b[0m study \u001b[38;5;241m=\u001b[39m optuna\u001b[38;5;241m.\u001b[39mcreate_study(direction\u001b[38;5;241m=\u001b[39m\u001b[38;5;124m\"\u001b[39m\u001b[38;5;124mmaximize\u001b[39m\u001b[38;5;124m\"\u001b[39m, pruner\u001b[38;5;241m=\u001b[39moptuna\u001b[38;5;241m.\u001b[39mpruners\u001b[38;5;241m.\u001b[39mMedianPruner())\n\u001b[0;32m---> 11\u001b[0m \u001b[43mstudy\u001b[49m\u001b[38;5;241;43m.\u001b[39;49m\u001b[43moptimize\u001b[49m\u001b[43m(\u001b[49m\u001b[43mobjective\u001b[49m\u001b[43m,\u001b[49m\u001b[43m \u001b[49m\u001b[43mn_trials\u001b[49m\u001b[38;5;241;43m=\u001b[39;49m\u001b[38;5;241;43m1000\u001b[39;49m\u001b[43m)\u001b[49m\n\u001b[1;32m     14\u001b[0m \u001b[38;5;28mprint\u001b[39m(\u001b[38;5;124m\"\u001b[39m\u001b[38;5;124mBest objective value:\u001b[39m\u001b[38;5;124m\"\u001b[39m, study\u001b[38;5;241m.\u001b[39mbest_value)\n\u001b[1;32m     15\u001b[0m \u001b[38;5;28mprint\u001b[39m(\u001b[38;5;124m\"\u001b[39m\u001b[38;5;124mBest parameters:\u001b[39m\u001b[38;5;124m\"\u001b[39m, study\u001b[38;5;241m.\u001b[39mbest_params)\n",
      "File \u001b[0;32m/opt/conda/lib/python3.10/site-packages/optuna/study/study.py:475\u001b[0m, in \u001b[0;36mStudy.optimize\u001b[0;34m(self, func, n_trials, timeout, n_jobs, catch, callbacks, gc_after_trial, show_progress_bar)\u001b[0m\n\u001b[1;32m    373\u001b[0m \u001b[38;5;28;01mdef\u001b[39;00m \u001b[38;5;21moptimize\u001b[39m(\n\u001b[1;32m    374\u001b[0m     \u001b[38;5;28mself\u001b[39m,\n\u001b[1;32m    375\u001b[0m     func: ObjectiveFuncType,\n\u001b[0;32m   (...)\u001b[0m\n\u001b[1;32m    382\u001b[0m     show_progress_bar: \u001b[38;5;28mbool\u001b[39m \u001b[38;5;241m=\u001b[39m \u001b[38;5;28;01mFalse\u001b[39;00m,\n\u001b[1;32m    383\u001b[0m ) \u001b[38;5;241m-\u001b[39m\u001b[38;5;241m>\u001b[39m \u001b[38;5;28;01mNone\u001b[39;00m:\n\u001b[1;32m    384\u001b[0m \u001b[38;5;250m    \u001b[39m\u001b[38;5;124;03m\"\"\"Optimize an objective function.\u001b[39;00m\n\u001b[1;32m    385\u001b[0m \n\u001b[1;32m    386\u001b[0m \u001b[38;5;124;03m    Optimization is done by choosing a suitable set of hyperparameter values from a given\u001b[39;00m\n\u001b[0;32m   (...)\u001b[0m\n\u001b[1;32m    473\u001b[0m \u001b[38;5;124;03m            If nested invocation of this method occurs.\u001b[39;00m\n\u001b[1;32m    474\u001b[0m \u001b[38;5;124;03m    \"\"\"\u001b[39;00m\n\u001b[0;32m--> 475\u001b[0m     \u001b[43m_optimize\u001b[49m\u001b[43m(\u001b[49m\n\u001b[1;32m    476\u001b[0m \u001b[43m        \u001b[49m\u001b[43mstudy\u001b[49m\u001b[38;5;241;43m=\u001b[39;49m\u001b[38;5;28;43mself\u001b[39;49m\u001b[43m,\u001b[49m\n\u001b[1;32m    477\u001b[0m \u001b[43m        \u001b[49m\u001b[43mfunc\u001b[49m\u001b[38;5;241;43m=\u001b[39;49m\u001b[43mfunc\u001b[49m\u001b[43m,\u001b[49m\n\u001b[1;32m    478\u001b[0m \u001b[43m        \u001b[49m\u001b[43mn_trials\u001b[49m\u001b[38;5;241;43m=\u001b[39;49m\u001b[43mn_trials\u001b[49m\u001b[43m,\u001b[49m\n\u001b[1;32m    479\u001b[0m \u001b[43m        \u001b[49m\u001b[43mtimeout\u001b[49m\u001b[38;5;241;43m=\u001b[39;49m\u001b[43mtimeout\u001b[49m\u001b[43m,\u001b[49m\n\u001b[1;32m    480\u001b[0m \u001b[43m        \u001b[49m\u001b[43mn_jobs\u001b[49m\u001b[38;5;241;43m=\u001b[39;49m\u001b[43mn_jobs\u001b[49m\u001b[43m,\u001b[49m\n\u001b[1;32m    481\u001b[0m \u001b[43m        \u001b[49m\u001b[43mcatch\u001b[49m\u001b[38;5;241;43m=\u001b[39;49m\u001b[38;5;28;43mtuple\u001b[39;49m\u001b[43m(\u001b[49m\u001b[43mcatch\u001b[49m\u001b[43m)\u001b[49m\u001b[43m \u001b[49m\u001b[38;5;28;43;01mif\u001b[39;49;00m\u001b[43m \u001b[49m\u001b[38;5;28;43misinstance\u001b[39;49m\u001b[43m(\u001b[49m\u001b[43mcatch\u001b[49m\u001b[43m,\u001b[49m\u001b[43m \u001b[49m\u001b[43mIterable\u001b[49m\u001b[43m)\u001b[49m\u001b[43m \u001b[49m\u001b[38;5;28;43;01melse\u001b[39;49;00m\u001b[43m \u001b[49m\u001b[43m(\u001b[49m\u001b[43mcatch\u001b[49m\u001b[43m,\u001b[49m\u001b[43m)\u001b[49m\u001b[43m,\u001b[49m\n\u001b[1;32m    482\u001b[0m \u001b[43m        \u001b[49m\u001b[43mcallbacks\u001b[49m\u001b[38;5;241;43m=\u001b[39;49m\u001b[43mcallbacks\u001b[49m\u001b[43m,\u001b[49m\n\u001b[1;32m    483\u001b[0m \u001b[43m        \u001b[49m\u001b[43mgc_after_trial\u001b[49m\u001b[38;5;241;43m=\u001b[39;49m\u001b[43mgc_after_trial\u001b[49m\u001b[43m,\u001b[49m\n\u001b[1;32m    484\u001b[0m \u001b[43m        \u001b[49m\u001b[43mshow_progress_bar\u001b[49m\u001b[38;5;241;43m=\u001b[39;49m\u001b[43mshow_progress_bar\u001b[49m\u001b[43m,\u001b[49m\n\u001b[1;32m    485\u001b[0m \u001b[43m    \u001b[49m\u001b[43m)\u001b[49m\n",
      "File \u001b[0;32m/opt/conda/lib/python3.10/site-packages/optuna/study/_optimize.py:63\u001b[0m, in \u001b[0;36m_optimize\u001b[0;34m(study, func, n_trials, timeout, n_jobs, catch, callbacks, gc_after_trial, show_progress_bar)\u001b[0m\n\u001b[1;32m     61\u001b[0m \u001b[38;5;28;01mtry\u001b[39;00m:\n\u001b[1;32m     62\u001b[0m     \u001b[38;5;28;01mif\u001b[39;00m n_jobs \u001b[38;5;241m==\u001b[39m \u001b[38;5;241m1\u001b[39m:\n\u001b[0;32m---> 63\u001b[0m         \u001b[43m_optimize_sequential\u001b[49m\u001b[43m(\u001b[49m\n\u001b[1;32m     64\u001b[0m \u001b[43m            \u001b[49m\u001b[43mstudy\u001b[49m\u001b[43m,\u001b[49m\n\u001b[1;32m     65\u001b[0m \u001b[43m            \u001b[49m\u001b[43mfunc\u001b[49m\u001b[43m,\u001b[49m\n\u001b[1;32m     66\u001b[0m \u001b[43m            \u001b[49m\u001b[43mn_trials\u001b[49m\u001b[43m,\u001b[49m\n\u001b[1;32m     67\u001b[0m \u001b[43m            \u001b[49m\u001b[43mtimeout\u001b[49m\u001b[43m,\u001b[49m\n\u001b[1;32m     68\u001b[0m \u001b[43m            \u001b[49m\u001b[43mcatch\u001b[49m\u001b[43m,\u001b[49m\n\u001b[1;32m     69\u001b[0m \u001b[43m            \u001b[49m\u001b[43mcallbacks\u001b[49m\u001b[43m,\u001b[49m\n\u001b[1;32m     70\u001b[0m \u001b[43m            \u001b[49m\u001b[43mgc_after_trial\u001b[49m\u001b[43m,\u001b[49m\n\u001b[1;32m     71\u001b[0m \u001b[43m            \u001b[49m\u001b[43mreseed_sampler_rng\u001b[49m\u001b[38;5;241;43m=\u001b[39;49m\u001b[38;5;28;43;01mFalse\u001b[39;49;00m\u001b[43m,\u001b[49m\n\u001b[1;32m     72\u001b[0m \u001b[43m            \u001b[49m\u001b[43mtime_start\u001b[49m\u001b[38;5;241;43m=\u001b[39;49m\u001b[38;5;28;43;01mNone\u001b[39;49;00m\u001b[43m,\u001b[49m\n\u001b[1;32m     73\u001b[0m \u001b[43m            \u001b[49m\u001b[43mprogress_bar\u001b[49m\u001b[38;5;241;43m=\u001b[39;49m\u001b[43mprogress_bar\u001b[49m\u001b[43m,\u001b[49m\n\u001b[1;32m     74\u001b[0m \u001b[43m        \u001b[49m\u001b[43m)\u001b[49m\n\u001b[1;32m     75\u001b[0m     \u001b[38;5;28;01melse\u001b[39;00m:\n\u001b[1;32m     76\u001b[0m         \u001b[38;5;28;01mif\u001b[39;00m n_jobs \u001b[38;5;241m==\u001b[39m \u001b[38;5;241m-\u001b[39m\u001b[38;5;241m1\u001b[39m:\n",
      "File \u001b[0;32m/opt/conda/lib/python3.10/site-packages/optuna/study/_optimize.py:160\u001b[0m, in \u001b[0;36m_optimize_sequential\u001b[0;34m(study, func, n_trials, timeout, catch, callbacks, gc_after_trial, reseed_sampler_rng, time_start, progress_bar)\u001b[0m\n\u001b[1;32m    157\u001b[0m         \u001b[38;5;28;01mbreak\u001b[39;00m\n\u001b[1;32m    159\u001b[0m \u001b[38;5;28;01mtry\u001b[39;00m:\n\u001b[0;32m--> 160\u001b[0m     frozen_trial \u001b[38;5;241m=\u001b[39m \u001b[43m_run_trial\u001b[49m\u001b[43m(\u001b[49m\u001b[43mstudy\u001b[49m\u001b[43m,\u001b[49m\u001b[43m \u001b[49m\u001b[43mfunc\u001b[49m\u001b[43m,\u001b[49m\u001b[43m \u001b[49m\u001b[43mcatch\u001b[49m\u001b[43m)\u001b[49m\n\u001b[1;32m    161\u001b[0m \u001b[38;5;28;01mfinally\u001b[39;00m:\n\u001b[1;32m    162\u001b[0m     \u001b[38;5;66;03m# The following line mitigates memory problems that can be occurred in some\u001b[39;00m\n\u001b[1;32m    163\u001b[0m     \u001b[38;5;66;03m# environments (e.g., services that use computing containers such as GitHub Actions).\u001b[39;00m\n\u001b[1;32m    164\u001b[0m     \u001b[38;5;66;03m# Please refer to the following PR for further details:\u001b[39;00m\n\u001b[1;32m    165\u001b[0m     \u001b[38;5;66;03m# https://github.com/optuna/optuna/pull/325.\u001b[39;00m\n\u001b[1;32m    166\u001b[0m     \u001b[38;5;28;01mif\u001b[39;00m gc_after_trial:\n",
      "File \u001b[0;32m/opt/conda/lib/python3.10/site-packages/optuna/study/_optimize.py:248\u001b[0m, in \u001b[0;36m_run_trial\u001b[0;34m(study, func, catch)\u001b[0m\n\u001b[1;32m    241\u001b[0m         \u001b[38;5;28;01massert\u001b[39;00m \u001b[38;5;28;01mFalse\u001b[39;00m, \u001b[38;5;124m\"\u001b[39m\u001b[38;5;124mShould not reach.\u001b[39m\u001b[38;5;124m\"\u001b[39m\n\u001b[1;32m    243\u001b[0m \u001b[38;5;28;01mif\u001b[39;00m (\n\u001b[1;32m    244\u001b[0m     frozen_trial\u001b[38;5;241m.\u001b[39mstate \u001b[38;5;241m==\u001b[39m TrialState\u001b[38;5;241m.\u001b[39mFAIL\n\u001b[1;32m    245\u001b[0m     \u001b[38;5;129;01mand\u001b[39;00m func_err \u001b[38;5;129;01mis\u001b[39;00m \u001b[38;5;129;01mnot\u001b[39;00m \u001b[38;5;28;01mNone\u001b[39;00m\n\u001b[1;32m    246\u001b[0m     \u001b[38;5;129;01mand\u001b[39;00m \u001b[38;5;129;01mnot\u001b[39;00m \u001b[38;5;28misinstance\u001b[39m(func_err, catch)\n\u001b[1;32m    247\u001b[0m ):\n\u001b[0;32m--> 248\u001b[0m     \u001b[38;5;28;01mraise\u001b[39;00m func_err\n\u001b[1;32m    249\u001b[0m \u001b[38;5;28;01mreturn\u001b[39;00m frozen_trial\n",
      "File \u001b[0;32m/opt/conda/lib/python3.10/site-packages/optuna/study/_optimize.py:197\u001b[0m, in \u001b[0;36m_run_trial\u001b[0;34m(study, func, catch)\u001b[0m\n\u001b[1;32m    195\u001b[0m \u001b[38;5;28;01mwith\u001b[39;00m get_heartbeat_thread(trial\u001b[38;5;241m.\u001b[39m_trial_id, study\u001b[38;5;241m.\u001b[39m_storage):\n\u001b[1;32m    196\u001b[0m     \u001b[38;5;28;01mtry\u001b[39;00m:\n\u001b[0;32m--> 197\u001b[0m         value_or_values \u001b[38;5;241m=\u001b[39m \u001b[43mfunc\u001b[49m\u001b[43m(\u001b[49m\u001b[43mtrial\u001b[49m\u001b[43m)\u001b[49m\n\u001b[1;32m    198\u001b[0m     \u001b[38;5;28;01mexcept\u001b[39;00m exceptions\u001b[38;5;241m.\u001b[39mTrialPruned \u001b[38;5;28;01mas\u001b[39;00m e:\n\u001b[1;32m    199\u001b[0m         \u001b[38;5;66;03m# TODO(mamu): Handle multi-objective cases.\u001b[39;00m\n\u001b[1;32m    200\u001b[0m         state \u001b[38;5;241m=\u001b[39m TrialState\u001b[38;5;241m.\u001b[39mPRUNED\n",
      "Cell \u001b[0;32mIn[19], line 15\u001b[0m, in \u001b[0;36mobjective\u001b[0;34m(trial)\u001b[0m\n\u001b[1;32m     12\u001b[0m \u001b[38;5;28;01mif\u001b[39;00m \u001b[38;5;28msum\u001b[39m(binary_vars)\u001b[38;5;241m<\u001b[39m\u001b[38;5;241m=\u001b[39m\u001b[38;5;241m3\u001b[39m:\n\u001b[1;32m     13\u001b[0m     \u001b[38;5;28;01mreturn\u001b[39;00m \u001b[38;5;241m0\u001b[39m\n\u001b[0;32m---> 15\u001b[0m ground_truth, model_response \u001b[38;5;241m=\u001b[39m \u001b[43mevaluate_model\u001b[49m\u001b[43m(\u001b[49m\u001b[43mdata_reformated\u001b[49m\u001b[43m,\u001b[49m\u001b[43m \u001b[49m\n\u001b[1;32m     16\u001b[0m \u001b[43m                                              \u001b[49m\u001b[43mvalid_responses\u001b[49m\u001b[43m,\u001b[49m\u001b[43m \u001b[49m\n\u001b[1;32m     17\u001b[0m \u001b[43m                                              \u001b[49m\u001b[43mbinary_vars\u001b[49m\u001b[43m,\u001b[49m\u001b[43m \u001b[49m\n\u001b[1;32m     18\u001b[0m \u001b[43m                                              \u001b[49m\u001b[43mmodel_name\u001b[49m\u001b[43m,\u001b[49m\u001b[43m \u001b[49m\n\u001b[1;32m     19\u001b[0m \u001b[43m                                              \u001b[49m\u001b[43moptions\u001b[49m\u001b[43m,\u001b[49m\u001b[43mtrial\u001b[49m\u001b[43m,\u001b[49m\u001b[43m \u001b[49m\n\u001b[1;32m     20\u001b[0m \u001b[43m                                              \u001b[49m\u001b[43mVALID\u001b[49m\u001b[38;5;241;43m=\u001b[39;49m\u001b[38;5;241;43m1\u001b[39;49m\n\u001b[1;32m     21\u001b[0m \u001b[43m                                            \u001b[49m\u001b[43m)\u001b[49m\n\u001b[1;32m     24\u001b[0m macro_f1 \u001b[38;5;241m=\u001b[39m f1_score(ground_truth, model_response, average\u001b[38;5;241m=\u001b[39m\u001b[38;5;124m'\u001b[39m\u001b[38;5;124mmacro\u001b[39m\u001b[38;5;124m'\u001b[39m)\n\u001b[1;32m     27\u001b[0m \u001b[38;5;28;01mif\u001b[39;00m macro_f1\u001b[38;5;241m>\u001b[39mbest_dict[\u001b[38;5;124m'\u001b[39m\u001b[38;5;124mbest_macro\u001b[39m\u001b[38;5;124m'\u001b[39m]:\n",
      "Cell \u001b[0;32mIn[17], line 21\u001b[0m, in \u001b[0;36mevaluate_model\u001b[0;34m(data_reform, responses, binary_vars, model_name, options, trial, VALID)\u001b[0m\n\u001b[1;32m     18\u001b[0m         question \u001b[38;5;241m+\u001b[39m\u001b[38;5;241m=\u001b[39m \u001b[38;5;124m\"\u001b[39m\u001b[38;5;130;01m\\n\u001b[39;00m\u001b[38;5;130;01m\\n\u001b[39;00m\u001b[38;5;124mAfter considering these responses, provide a clear conclusion: Is there evidence of an ephemeral gully? Answer with yes or no only.\u001b[39m\u001b[38;5;124m\"\u001b[39m\n\u001b[1;32m     19\u001b[0m \u001b[38;5;66;03m#         question += \"\\n\\nIs there evidence of an ephemeral gully? Answer with yes or no only.\"\u001b[39;00m\n\u001b[0;32m---> 21\u001b[0m         response \u001b[38;5;241m=\u001b[39m \u001b[43mollama\u001b[49m\u001b[38;5;241;43m.\u001b[39;49m\u001b[43mgenerate\u001b[49m\u001b[43m(\u001b[49m\u001b[43mmodel\u001b[49m\u001b[38;5;241;43m=\u001b[39;49m\u001b[43mmodel_name\u001b[49m\u001b[43m,\u001b[49m\u001b[43m \u001b[49m\u001b[43mprompt\u001b[49m\u001b[38;5;241;43m=\u001b[39;49m\u001b[43mquestion\u001b[49m\u001b[43m,\u001b[49m\u001b[43m \u001b[49m\u001b[43moptions\u001b[49m\u001b[38;5;241;43m=\u001b[39;49m\u001b[43moptions\u001b[49m\u001b[43m)\u001b[49m\n\u001b[1;32m     22\u001b[0m         text\u001b[38;5;241m=\u001b[39mextract_first_yes_no(response[\u001b[38;5;124m'\u001b[39m\u001b[38;5;124mresponse\u001b[39m\u001b[38;5;124m'\u001b[39m])\n\u001b[1;32m     25\u001b[0m         \u001b[38;5;28;01mif\u001b[39;00m text \u001b[38;5;241m==\u001b[39m \u001b[38;5;124m'\u001b[39m\u001b[38;5;124mYes\u001b[39m\u001b[38;5;124m'\u001b[39m:\n",
      "File \u001b[0;32m/opt/conda/lib/python3.10/site-packages/ollama/_client.py:163\u001b[0m, in \u001b[0;36mClient.generate\u001b[0;34m(self, model, prompt, suffix, system, template, context, stream, raw, format, images, options, keep_alive)\u001b[0m\n\u001b[1;32m    160\u001b[0m \u001b[38;5;28;01mif\u001b[39;00m \u001b[38;5;129;01mnot\u001b[39;00m model:\n\u001b[1;32m    161\u001b[0m   \u001b[38;5;28;01mraise\u001b[39;00m RequestError(\u001b[38;5;124m'\u001b[39m\u001b[38;5;124mmust provide a model\u001b[39m\u001b[38;5;124m'\u001b[39m)\n\u001b[0;32m--> 163\u001b[0m \u001b[38;5;28;01mreturn\u001b[39;00m \u001b[38;5;28;43mself\u001b[39;49m\u001b[38;5;241;43m.\u001b[39;49m\u001b[43m_request_stream\u001b[49m\u001b[43m(\u001b[49m\n\u001b[1;32m    164\u001b[0m \u001b[43m  \u001b[49m\u001b[38;5;124;43m'\u001b[39;49m\u001b[38;5;124;43mPOST\u001b[39;49m\u001b[38;5;124;43m'\u001b[39;49m\u001b[43m,\u001b[49m\n\u001b[1;32m    165\u001b[0m \u001b[43m  \u001b[49m\u001b[38;5;124;43m'\u001b[39;49m\u001b[38;5;124;43m/api/generate\u001b[39;49m\u001b[38;5;124;43m'\u001b[39;49m\u001b[43m,\u001b[49m\n\u001b[1;32m    166\u001b[0m \u001b[43m  \u001b[49m\u001b[43mjson\u001b[49m\u001b[38;5;241;43m=\u001b[39;49m\u001b[43m{\u001b[49m\n\u001b[1;32m    167\u001b[0m \u001b[43m    \u001b[49m\u001b[38;5;124;43m'\u001b[39;49m\u001b[38;5;124;43mmodel\u001b[39;49m\u001b[38;5;124;43m'\u001b[39;49m\u001b[43m:\u001b[49m\u001b[43m \u001b[49m\u001b[43mmodel\u001b[49m\u001b[43m,\u001b[49m\n\u001b[1;32m    168\u001b[0m \u001b[43m    \u001b[49m\u001b[38;5;124;43m'\u001b[39;49m\u001b[38;5;124;43mprompt\u001b[39;49m\u001b[38;5;124;43m'\u001b[39;49m\u001b[43m:\u001b[49m\u001b[43m \u001b[49m\u001b[43mprompt\u001b[49m\u001b[43m,\u001b[49m\n\u001b[1;32m    169\u001b[0m \u001b[43m    \u001b[49m\u001b[38;5;124;43m'\u001b[39;49m\u001b[38;5;124;43msuffix\u001b[39;49m\u001b[38;5;124;43m'\u001b[39;49m\u001b[43m:\u001b[49m\u001b[43m \u001b[49m\u001b[43msuffix\u001b[49m\u001b[43m,\u001b[49m\n\u001b[1;32m    170\u001b[0m \u001b[43m    \u001b[49m\u001b[38;5;124;43m'\u001b[39;49m\u001b[38;5;124;43msystem\u001b[39;49m\u001b[38;5;124;43m'\u001b[39;49m\u001b[43m:\u001b[49m\u001b[43m \u001b[49m\u001b[43msystem\u001b[49m\u001b[43m,\u001b[49m\n\u001b[1;32m    171\u001b[0m \u001b[43m    \u001b[49m\u001b[38;5;124;43m'\u001b[39;49m\u001b[38;5;124;43mtemplate\u001b[39;49m\u001b[38;5;124;43m'\u001b[39;49m\u001b[43m:\u001b[49m\u001b[43m \u001b[49m\u001b[43mtemplate\u001b[49m\u001b[43m,\u001b[49m\n\u001b[1;32m    172\u001b[0m \u001b[43m    \u001b[49m\u001b[38;5;124;43m'\u001b[39;49m\u001b[38;5;124;43mcontext\u001b[39;49m\u001b[38;5;124;43m'\u001b[39;49m\u001b[43m:\u001b[49m\u001b[43m \u001b[49m\u001b[43mcontext\u001b[49m\u001b[43m \u001b[49m\u001b[38;5;129;43;01mor\u001b[39;49;00m\u001b[43m \u001b[49m\u001b[43m[\u001b[49m\u001b[43m]\u001b[49m\u001b[43m,\u001b[49m\n\u001b[1;32m    173\u001b[0m \u001b[43m    \u001b[49m\u001b[38;5;124;43m'\u001b[39;49m\u001b[38;5;124;43mstream\u001b[39;49m\u001b[38;5;124;43m'\u001b[39;49m\u001b[43m:\u001b[49m\u001b[43m \u001b[49m\u001b[43mstream\u001b[49m\u001b[43m,\u001b[49m\n\u001b[1;32m    174\u001b[0m \u001b[43m    \u001b[49m\u001b[38;5;124;43m'\u001b[39;49m\u001b[38;5;124;43mraw\u001b[39;49m\u001b[38;5;124;43m'\u001b[39;49m\u001b[43m:\u001b[49m\u001b[43m \u001b[49m\u001b[43mraw\u001b[49m\u001b[43m,\u001b[49m\n\u001b[1;32m    175\u001b[0m \u001b[43m    \u001b[49m\u001b[38;5;124;43m'\u001b[39;49m\u001b[38;5;124;43mimages\u001b[39;49m\u001b[38;5;124;43m'\u001b[39;49m\u001b[43m:\u001b[49m\u001b[43m \u001b[49m\u001b[43m[\u001b[49m\u001b[43m_encode_image\u001b[49m\u001b[43m(\u001b[49m\u001b[43mimage\u001b[49m\u001b[43m)\u001b[49m\u001b[43m \u001b[49m\u001b[38;5;28;43;01mfor\u001b[39;49;00m\u001b[43m \u001b[49m\u001b[43mimage\u001b[49m\u001b[43m \u001b[49m\u001b[38;5;129;43;01min\u001b[39;49;00m\u001b[43m \u001b[49m\u001b[43mimages\u001b[49m\u001b[43m \u001b[49m\u001b[38;5;129;43;01mor\u001b[39;49;00m\u001b[43m \u001b[49m\u001b[43m[\u001b[49m\u001b[43m]\u001b[49m\u001b[43m]\u001b[49m\u001b[43m,\u001b[49m\n\u001b[1;32m    176\u001b[0m \u001b[43m    \u001b[49m\u001b[38;5;124;43m'\u001b[39;49m\u001b[38;5;124;43mformat\u001b[39;49m\u001b[38;5;124;43m'\u001b[39;49m\u001b[43m:\u001b[49m\u001b[43m \u001b[49m\u001b[38;5;28;43mformat\u001b[39;49m\u001b[43m,\u001b[49m\n\u001b[1;32m    177\u001b[0m \u001b[43m    \u001b[49m\u001b[38;5;124;43m'\u001b[39;49m\u001b[38;5;124;43moptions\u001b[39;49m\u001b[38;5;124;43m'\u001b[39;49m\u001b[43m:\u001b[49m\u001b[43m \u001b[49m\u001b[43moptions\u001b[49m\u001b[43m \u001b[49m\u001b[38;5;129;43;01mor\u001b[39;49;00m\u001b[43m \u001b[49m\u001b[43m{\u001b[49m\u001b[43m}\u001b[49m\u001b[43m,\u001b[49m\n\u001b[1;32m    178\u001b[0m \u001b[43m    \u001b[49m\u001b[38;5;124;43m'\u001b[39;49m\u001b[38;5;124;43mkeep_alive\u001b[39;49m\u001b[38;5;124;43m'\u001b[39;49m\u001b[43m:\u001b[49m\u001b[43m \u001b[49m\u001b[43mkeep_alive\u001b[49m\u001b[43m,\u001b[49m\n\u001b[1;32m    179\u001b[0m \u001b[43m  \u001b[49m\u001b[43m}\u001b[49m\u001b[43m,\u001b[49m\n\u001b[1;32m    180\u001b[0m \u001b[43m  \u001b[49m\u001b[43mstream\u001b[49m\u001b[38;5;241;43m=\u001b[39;49m\u001b[43mstream\u001b[49m\u001b[43m,\u001b[49m\n\u001b[1;32m    181\u001b[0m \u001b[43m\u001b[49m\u001b[43m)\u001b[49m\n",
      "File \u001b[0;32m/opt/conda/lib/python3.10/site-packages/ollama/_client.py:99\u001b[0m, in \u001b[0;36mClient._request_stream\u001b[0;34m(self, stream, *args, **kwargs)\u001b[0m\n\u001b[1;32m     93\u001b[0m \u001b[38;5;28;01mdef\u001b[39;00m \u001b[38;5;21m_request_stream\u001b[39m(\n\u001b[1;32m     94\u001b[0m   \u001b[38;5;28mself\u001b[39m,\n\u001b[1;32m     95\u001b[0m   \u001b[38;5;241m*\u001b[39margs,\n\u001b[1;32m     96\u001b[0m   stream: \u001b[38;5;28mbool\u001b[39m \u001b[38;5;241m=\u001b[39m \u001b[38;5;28;01mFalse\u001b[39;00m,\n\u001b[1;32m     97\u001b[0m   \u001b[38;5;241m*\u001b[39m\u001b[38;5;241m*\u001b[39mkwargs,\n\u001b[1;32m     98\u001b[0m ) \u001b[38;5;241m-\u001b[39m\u001b[38;5;241m>\u001b[39m Union[Mapping[\u001b[38;5;28mstr\u001b[39m, Any], Iterator[Mapping[\u001b[38;5;28mstr\u001b[39m, Any]]]:\n\u001b[0;32m---> 99\u001b[0m   \u001b[38;5;28;01mreturn\u001b[39;00m \u001b[38;5;28mself\u001b[39m\u001b[38;5;241m.\u001b[39m_stream(\u001b[38;5;241m*\u001b[39margs, \u001b[38;5;241m*\u001b[39m\u001b[38;5;241m*\u001b[39mkwargs) \u001b[38;5;28;01mif\u001b[39;00m stream \u001b[38;5;28;01melse\u001b[39;00m \u001b[38;5;28;43mself\u001b[39;49m\u001b[38;5;241;43m.\u001b[39;49m\u001b[43m_request\u001b[49m\u001b[43m(\u001b[49m\u001b[38;5;241;43m*\u001b[39;49m\u001b[43margs\u001b[49m\u001b[43m,\u001b[49m\u001b[43m \u001b[49m\u001b[38;5;241;43m*\u001b[39;49m\u001b[38;5;241;43m*\u001b[39;49m\u001b[43mkwargs\u001b[49m\u001b[43m)\u001b[49m\u001b[38;5;241m.\u001b[39mjson()\n",
      "File \u001b[0;32m/opt/conda/lib/python3.10/site-packages/ollama/_client.py:70\u001b[0m, in \u001b[0;36mClient._request\u001b[0;34m(self, method, url, **kwargs)\u001b[0m\n\u001b[1;32m     69\u001b[0m \u001b[38;5;28;01mdef\u001b[39;00m \u001b[38;5;21m_request\u001b[39m(\u001b[38;5;28mself\u001b[39m, method: \u001b[38;5;28mstr\u001b[39m, url: \u001b[38;5;28mstr\u001b[39m, \u001b[38;5;241m*\u001b[39m\u001b[38;5;241m*\u001b[39mkwargs) \u001b[38;5;241m-\u001b[39m\u001b[38;5;241m>\u001b[39m httpx\u001b[38;5;241m.\u001b[39mResponse:\n\u001b[0;32m---> 70\u001b[0m   response \u001b[38;5;241m=\u001b[39m \u001b[38;5;28;43mself\u001b[39;49m\u001b[38;5;241;43m.\u001b[39;49m\u001b[43m_client\u001b[49m\u001b[38;5;241;43m.\u001b[39;49m\u001b[43mrequest\u001b[49m\u001b[43m(\u001b[49m\u001b[43mmethod\u001b[49m\u001b[43m,\u001b[49m\u001b[43m \u001b[49m\u001b[43murl\u001b[49m\u001b[43m,\u001b[49m\u001b[43m \u001b[49m\u001b[38;5;241;43m*\u001b[39;49m\u001b[38;5;241;43m*\u001b[39;49m\u001b[43mkwargs\u001b[49m\u001b[43m)\u001b[49m\n\u001b[1;32m     72\u001b[0m   \u001b[38;5;28;01mtry\u001b[39;00m:\n\u001b[1;32m     73\u001b[0m     response\u001b[38;5;241m.\u001b[39mraise_for_status()\n",
      "File \u001b[0;32m/opt/conda/lib/python3.10/site-packages/httpx/_client.py:837\u001b[0m, in \u001b[0;36mClient.request\u001b[0;34m(self, method, url, content, data, files, json, params, headers, cookies, auth, follow_redirects, timeout, extensions)\u001b[0m\n\u001b[1;32m    822\u001b[0m     warnings\u001b[38;5;241m.\u001b[39mwarn(message, \u001b[38;5;167;01mDeprecationWarning\u001b[39;00m)\n\u001b[1;32m    824\u001b[0m request \u001b[38;5;241m=\u001b[39m \u001b[38;5;28mself\u001b[39m\u001b[38;5;241m.\u001b[39mbuild_request(\n\u001b[1;32m    825\u001b[0m     method\u001b[38;5;241m=\u001b[39mmethod,\n\u001b[1;32m    826\u001b[0m     url\u001b[38;5;241m=\u001b[39murl,\n\u001b[0;32m   (...)\u001b[0m\n\u001b[1;32m    835\u001b[0m     extensions\u001b[38;5;241m=\u001b[39mextensions,\n\u001b[1;32m    836\u001b[0m )\n\u001b[0;32m--> 837\u001b[0m \u001b[38;5;28;01mreturn\u001b[39;00m \u001b[38;5;28;43mself\u001b[39;49m\u001b[38;5;241;43m.\u001b[39;49m\u001b[43msend\u001b[49m\u001b[43m(\u001b[49m\u001b[43mrequest\u001b[49m\u001b[43m,\u001b[49m\u001b[43m \u001b[49m\u001b[43mauth\u001b[49m\u001b[38;5;241;43m=\u001b[39;49m\u001b[43mauth\u001b[49m\u001b[43m,\u001b[49m\u001b[43m \u001b[49m\u001b[43mfollow_redirects\u001b[49m\u001b[38;5;241;43m=\u001b[39;49m\u001b[43mfollow_redirects\u001b[49m\u001b[43m)\u001b[49m\n",
      "File \u001b[0;32m/opt/conda/lib/python3.10/site-packages/httpx/_client.py:926\u001b[0m, in \u001b[0;36mClient.send\u001b[0;34m(self, request, stream, auth, follow_redirects)\u001b[0m\n\u001b[1;32m    922\u001b[0m \u001b[38;5;28mself\u001b[39m\u001b[38;5;241m.\u001b[39m_set_timeout(request)\n\u001b[1;32m    924\u001b[0m auth \u001b[38;5;241m=\u001b[39m \u001b[38;5;28mself\u001b[39m\u001b[38;5;241m.\u001b[39m_build_request_auth(request, auth)\n\u001b[0;32m--> 926\u001b[0m response \u001b[38;5;241m=\u001b[39m \u001b[38;5;28;43mself\u001b[39;49m\u001b[38;5;241;43m.\u001b[39;49m\u001b[43m_send_handling_auth\u001b[49m\u001b[43m(\u001b[49m\n\u001b[1;32m    927\u001b[0m \u001b[43m    \u001b[49m\u001b[43mrequest\u001b[49m\u001b[43m,\u001b[49m\n\u001b[1;32m    928\u001b[0m \u001b[43m    \u001b[49m\u001b[43mauth\u001b[49m\u001b[38;5;241;43m=\u001b[39;49m\u001b[43mauth\u001b[49m\u001b[43m,\u001b[49m\n\u001b[1;32m    929\u001b[0m \u001b[43m    \u001b[49m\u001b[43mfollow_redirects\u001b[49m\u001b[38;5;241;43m=\u001b[39;49m\u001b[43mfollow_redirects\u001b[49m\u001b[43m,\u001b[49m\n\u001b[1;32m    930\u001b[0m \u001b[43m    \u001b[49m\u001b[43mhistory\u001b[49m\u001b[38;5;241;43m=\u001b[39;49m\u001b[43m[\u001b[49m\u001b[43m]\u001b[49m\u001b[43m,\u001b[49m\n\u001b[1;32m    931\u001b[0m \u001b[43m\u001b[49m\u001b[43m)\u001b[49m\n\u001b[1;32m    932\u001b[0m \u001b[38;5;28;01mtry\u001b[39;00m:\n\u001b[1;32m    933\u001b[0m     \u001b[38;5;28;01mif\u001b[39;00m \u001b[38;5;129;01mnot\u001b[39;00m stream:\n",
      "File \u001b[0;32m/opt/conda/lib/python3.10/site-packages/httpx/_client.py:954\u001b[0m, in \u001b[0;36mClient._send_handling_auth\u001b[0;34m(self, request, auth, follow_redirects, history)\u001b[0m\n\u001b[1;32m    951\u001b[0m request \u001b[38;5;241m=\u001b[39m \u001b[38;5;28mnext\u001b[39m(auth_flow)\n\u001b[1;32m    953\u001b[0m \u001b[38;5;28;01mwhile\u001b[39;00m \u001b[38;5;28;01mTrue\u001b[39;00m:\n\u001b[0;32m--> 954\u001b[0m     response \u001b[38;5;241m=\u001b[39m \u001b[38;5;28;43mself\u001b[39;49m\u001b[38;5;241;43m.\u001b[39;49m\u001b[43m_send_handling_redirects\u001b[49m\u001b[43m(\u001b[49m\n\u001b[1;32m    955\u001b[0m \u001b[43m        \u001b[49m\u001b[43mrequest\u001b[49m\u001b[43m,\u001b[49m\n\u001b[1;32m    956\u001b[0m \u001b[43m        \u001b[49m\u001b[43mfollow_redirects\u001b[49m\u001b[38;5;241;43m=\u001b[39;49m\u001b[43mfollow_redirects\u001b[49m\u001b[43m,\u001b[49m\n\u001b[1;32m    957\u001b[0m \u001b[43m        \u001b[49m\u001b[43mhistory\u001b[49m\u001b[38;5;241;43m=\u001b[39;49m\u001b[43mhistory\u001b[49m\u001b[43m,\u001b[49m\n\u001b[1;32m    958\u001b[0m \u001b[43m    \u001b[49m\u001b[43m)\u001b[49m\n\u001b[1;32m    959\u001b[0m     \u001b[38;5;28;01mtry\u001b[39;00m:\n\u001b[1;32m    960\u001b[0m         \u001b[38;5;28;01mtry\u001b[39;00m:\n",
      "File \u001b[0;32m/opt/conda/lib/python3.10/site-packages/httpx/_client.py:991\u001b[0m, in \u001b[0;36mClient._send_handling_redirects\u001b[0;34m(self, request, follow_redirects, history)\u001b[0m\n\u001b[1;32m    988\u001b[0m \u001b[38;5;28;01mfor\u001b[39;00m hook \u001b[38;5;129;01min\u001b[39;00m \u001b[38;5;28mself\u001b[39m\u001b[38;5;241m.\u001b[39m_event_hooks[\u001b[38;5;124m\"\u001b[39m\u001b[38;5;124mrequest\u001b[39m\u001b[38;5;124m\"\u001b[39m]:\n\u001b[1;32m    989\u001b[0m     hook(request)\n\u001b[0;32m--> 991\u001b[0m response \u001b[38;5;241m=\u001b[39m \u001b[38;5;28;43mself\u001b[39;49m\u001b[38;5;241;43m.\u001b[39;49m\u001b[43m_send_single_request\u001b[49m\u001b[43m(\u001b[49m\u001b[43mrequest\u001b[49m\u001b[43m)\u001b[49m\n\u001b[1;32m    992\u001b[0m \u001b[38;5;28;01mtry\u001b[39;00m:\n\u001b[1;32m    993\u001b[0m     \u001b[38;5;28;01mfor\u001b[39;00m hook \u001b[38;5;129;01min\u001b[39;00m \u001b[38;5;28mself\u001b[39m\u001b[38;5;241m.\u001b[39m_event_hooks[\u001b[38;5;124m\"\u001b[39m\u001b[38;5;124mresponse\u001b[39m\u001b[38;5;124m\"\u001b[39m]:\n",
      "File \u001b[0;32m/opt/conda/lib/python3.10/site-packages/httpx/_client.py:1027\u001b[0m, in \u001b[0;36mClient._send_single_request\u001b[0;34m(self, request)\u001b[0m\n\u001b[1;32m   1022\u001b[0m     \u001b[38;5;28;01mraise\u001b[39;00m \u001b[38;5;167;01mRuntimeError\u001b[39;00m(\n\u001b[1;32m   1023\u001b[0m         \u001b[38;5;124m\"\u001b[39m\u001b[38;5;124mAttempted to send an async request with a sync Client instance.\u001b[39m\u001b[38;5;124m\"\u001b[39m\n\u001b[1;32m   1024\u001b[0m     )\n\u001b[1;32m   1026\u001b[0m \u001b[38;5;28;01mwith\u001b[39;00m request_context(request\u001b[38;5;241m=\u001b[39mrequest):\n\u001b[0;32m-> 1027\u001b[0m     response \u001b[38;5;241m=\u001b[39m \u001b[43mtransport\u001b[49m\u001b[38;5;241;43m.\u001b[39;49m\u001b[43mhandle_request\u001b[49m\u001b[43m(\u001b[49m\u001b[43mrequest\u001b[49m\u001b[43m)\u001b[49m\n\u001b[1;32m   1029\u001b[0m \u001b[38;5;28;01massert\u001b[39;00m \u001b[38;5;28misinstance\u001b[39m(response\u001b[38;5;241m.\u001b[39mstream, SyncByteStream)\n\u001b[1;32m   1031\u001b[0m response\u001b[38;5;241m.\u001b[39mrequest \u001b[38;5;241m=\u001b[39m request\n",
      "File \u001b[0;32m/opt/conda/lib/python3.10/site-packages/httpx/_transports/default.py:236\u001b[0m, in \u001b[0;36mHTTPTransport.handle_request\u001b[0;34m(self, request)\u001b[0m\n\u001b[1;32m    223\u001b[0m req \u001b[38;5;241m=\u001b[39m httpcore\u001b[38;5;241m.\u001b[39mRequest(\n\u001b[1;32m    224\u001b[0m     method\u001b[38;5;241m=\u001b[39mrequest\u001b[38;5;241m.\u001b[39mmethod,\n\u001b[1;32m    225\u001b[0m     url\u001b[38;5;241m=\u001b[39mhttpcore\u001b[38;5;241m.\u001b[39mURL(\n\u001b[0;32m   (...)\u001b[0m\n\u001b[1;32m    233\u001b[0m     extensions\u001b[38;5;241m=\u001b[39mrequest\u001b[38;5;241m.\u001b[39mextensions,\n\u001b[1;32m    234\u001b[0m )\n\u001b[1;32m    235\u001b[0m \u001b[38;5;28;01mwith\u001b[39;00m map_httpcore_exceptions():\n\u001b[0;32m--> 236\u001b[0m     resp \u001b[38;5;241m=\u001b[39m \u001b[38;5;28;43mself\u001b[39;49m\u001b[38;5;241;43m.\u001b[39;49m\u001b[43m_pool\u001b[49m\u001b[38;5;241;43m.\u001b[39;49m\u001b[43mhandle_request\u001b[49m\u001b[43m(\u001b[49m\u001b[43mreq\u001b[49m\u001b[43m)\u001b[49m\n\u001b[1;32m    238\u001b[0m \u001b[38;5;28;01massert\u001b[39;00m \u001b[38;5;28misinstance\u001b[39m(resp\u001b[38;5;241m.\u001b[39mstream, typing\u001b[38;5;241m.\u001b[39mIterable)\n\u001b[1;32m    240\u001b[0m \u001b[38;5;28;01mreturn\u001b[39;00m Response(\n\u001b[1;32m    241\u001b[0m     status_code\u001b[38;5;241m=\u001b[39mresp\u001b[38;5;241m.\u001b[39mstatus,\n\u001b[1;32m    242\u001b[0m     headers\u001b[38;5;241m=\u001b[39mresp\u001b[38;5;241m.\u001b[39mheaders,\n\u001b[1;32m    243\u001b[0m     stream\u001b[38;5;241m=\u001b[39mResponseStream(resp\u001b[38;5;241m.\u001b[39mstream),\n\u001b[1;32m    244\u001b[0m     extensions\u001b[38;5;241m=\u001b[39mresp\u001b[38;5;241m.\u001b[39mextensions,\n\u001b[1;32m    245\u001b[0m )\n",
      "File \u001b[0;32m/opt/conda/lib/python3.10/site-packages/httpcore/_sync/connection_pool.py:216\u001b[0m, in \u001b[0;36mConnectionPool.handle_request\u001b[0;34m(self, request)\u001b[0m\n\u001b[1;32m    213\u001b[0m         closing \u001b[38;5;241m=\u001b[39m \u001b[38;5;28mself\u001b[39m\u001b[38;5;241m.\u001b[39m_assign_requests_to_connections()\n\u001b[1;32m    215\u001b[0m     \u001b[38;5;28mself\u001b[39m\u001b[38;5;241m.\u001b[39m_close_connections(closing)\n\u001b[0;32m--> 216\u001b[0m     \u001b[38;5;28;01mraise\u001b[39;00m exc \u001b[38;5;28;01mfrom\u001b[39;00m \u001b[38;5;28;01mNone\u001b[39;00m\n\u001b[1;32m    218\u001b[0m \u001b[38;5;66;03m# Return the response. Note that in this case we still have to manage\u001b[39;00m\n\u001b[1;32m    219\u001b[0m \u001b[38;5;66;03m# the point at which the response is closed.\u001b[39;00m\n\u001b[1;32m    220\u001b[0m \u001b[38;5;28;01massert\u001b[39;00m \u001b[38;5;28misinstance\u001b[39m(response\u001b[38;5;241m.\u001b[39mstream, Iterable)\n",
      "File \u001b[0;32m/opt/conda/lib/python3.10/site-packages/httpcore/_sync/connection_pool.py:196\u001b[0m, in \u001b[0;36mConnectionPool.handle_request\u001b[0;34m(self, request)\u001b[0m\n\u001b[1;32m    192\u001b[0m connection \u001b[38;5;241m=\u001b[39m pool_request\u001b[38;5;241m.\u001b[39mwait_for_connection(timeout\u001b[38;5;241m=\u001b[39mtimeout)\n\u001b[1;32m    194\u001b[0m \u001b[38;5;28;01mtry\u001b[39;00m:\n\u001b[1;32m    195\u001b[0m     \u001b[38;5;66;03m# Send the request on the assigned connection.\u001b[39;00m\n\u001b[0;32m--> 196\u001b[0m     response \u001b[38;5;241m=\u001b[39m \u001b[43mconnection\u001b[49m\u001b[38;5;241;43m.\u001b[39;49m\u001b[43mhandle_request\u001b[49m\u001b[43m(\u001b[49m\n\u001b[1;32m    197\u001b[0m \u001b[43m        \u001b[49m\u001b[43mpool_request\u001b[49m\u001b[38;5;241;43m.\u001b[39;49m\u001b[43mrequest\u001b[49m\n\u001b[1;32m    198\u001b[0m \u001b[43m    \u001b[49m\u001b[43m)\u001b[49m\n\u001b[1;32m    199\u001b[0m \u001b[38;5;28;01mexcept\u001b[39;00m ConnectionNotAvailable:\n\u001b[1;32m    200\u001b[0m     \u001b[38;5;66;03m# In some cases a connection may initially be available to\u001b[39;00m\n\u001b[1;32m    201\u001b[0m     \u001b[38;5;66;03m# handle a request, but then become unavailable.\u001b[39;00m\n\u001b[1;32m    202\u001b[0m     \u001b[38;5;66;03m#\u001b[39;00m\n\u001b[1;32m    203\u001b[0m     \u001b[38;5;66;03m# In this case we clear the connection and try again.\u001b[39;00m\n\u001b[1;32m    204\u001b[0m     pool_request\u001b[38;5;241m.\u001b[39mclear_connection()\n",
      "File \u001b[0;32m/opt/conda/lib/python3.10/site-packages/httpcore/_sync/connection.py:101\u001b[0m, in \u001b[0;36mHTTPConnection.handle_request\u001b[0;34m(self, request)\u001b[0m\n\u001b[1;32m     98\u001b[0m     \u001b[38;5;28mself\u001b[39m\u001b[38;5;241m.\u001b[39m_connect_failed \u001b[38;5;241m=\u001b[39m \u001b[38;5;28;01mTrue\u001b[39;00m\n\u001b[1;32m     99\u001b[0m     \u001b[38;5;28;01mraise\u001b[39;00m exc\n\u001b[0;32m--> 101\u001b[0m \u001b[38;5;28;01mreturn\u001b[39;00m \u001b[38;5;28;43mself\u001b[39;49m\u001b[38;5;241;43m.\u001b[39;49m\u001b[43m_connection\u001b[49m\u001b[38;5;241;43m.\u001b[39;49m\u001b[43mhandle_request\u001b[49m\u001b[43m(\u001b[49m\u001b[43mrequest\u001b[49m\u001b[43m)\u001b[49m\n",
      "File \u001b[0;32m/opt/conda/lib/python3.10/site-packages/httpcore/_sync/http11.py:143\u001b[0m, in \u001b[0;36mHTTP11Connection.handle_request\u001b[0;34m(self, request)\u001b[0m\n\u001b[1;32m    141\u001b[0m     \u001b[38;5;28;01mwith\u001b[39;00m Trace(\u001b[38;5;124m\"\u001b[39m\u001b[38;5;124mresponse_closed\u001b[39m\u001b[38;5;124m\"\u001b[39m, logger, request) \u001b[38;5;28;01mas\u001b[39;00m trace:\n\u001b[1;32m    142\u001b[0m         \u001b[38;5;28mself\u001b[39m\u001b[38;5;241m.\u001b[39m_response_closed()\n\u001b[0;32m--> 143\u001b[0m \u001b[38;5;28;01mraise\u001b[39;00m exc\n",
      "File \u001b[0;32m/opt/conda/lib/python3.10/site-packages/httpcore/_sync/http11.py:113\u001b[0m, in \u001b[0;36mHTTP11Connection.handle_request\u001b[0;34m(self, request)\u001b[0m\n\u001b[1;32m    102\u001b[0m     \u001b[38;5;28;01mpass\u001b[39;00m\n\u001b[1;32m    104\u001b[0m \u001b[38;5;28;01mwith\u001b[39;00m Trace(\n\u001b[1;32m    105\u001b[0m     \u001b[38;5;124m\"\u001b[39m\u001b[38;5;124mreceive_response_headers\u001b[39m\u001b[38;5;124m\"\u001b[39m, logger, request, kwargs\n\u001b[1;32m    106\u001b[0m ) \u001b[38;5;28;01mas\u001b[39;00m trace:\n\u001b[1;32m    107\u001b[0m     (\n\u001b[1;32m    108\u001b[0m         http_version,\n\u001b[1;32m    109\u001b[0m         status,\n\u001b[1;32m    110\u001b[0m         reason_phrase,\n\u001b[1;32m    111\u001b[0m         headers,\n\u001b[1;32m    112\u001b[0m         trailing_data,\n\u001b[0;32m--> 113\u001b[0m     ) \u001b[38;5;241m=\u001b[39m \u001b[38;5;28;43mself\u001b[39;49m\u001b[38;5;241;43m.\u001b[39;49m\u001b[43m_receive_response_headers\u001b[49m\u001b[43m(\u001b[49m\u001b[38;5;241;43m*\u001b[39;49m\u001b[38;5;241;43m*\u001b[39;49m\u001b[43mkwargs\u001b[49m\u001b[43m)\u001b[49m\n\u001b[1;32m    114\u001b[0m     trace\u001b[38;5;241m.\u001b[39mreturn_value \u001b[38;5;241m=\u001b[39m (\n\u001b[1;32m    115\u001b[0m         http_version,\n\u001b[1;32m    116\u001b[0m         status,\n\u001b[1;32m    117\u001b[0m         reason_phrase,\n\u001b[1;32m    118\u001b[0m         headers,\n\u001b[1;32m    119\u001b[0m     )\n\u001b[1;32m    121\u001b[0m network_stream \u001b[38;5;241m=\u001b[39m \u001b[38;5;28mself\u001b[39m\u001b[38;5;241m.\u001b[39m_network_stream\n",
      "File \u001b[0;32m/opt/conda/lib/python3.10/site-packages/httpcore/_sync/http11.py:186\u001b[0m, in \u001b[0;36mHTTP11Connection._receive_response_headers\u001b[0;34m(self, request)\u001b[0m\n\u001b[1;32m    183\u001b[0m timeout \u001b[38;5;241m=\u001b[39m timeouts\u001b[38;5;241m.\u001b[39mget(\u001b[38;5;124m\"\u001b[39m\u001b[38;5;124mread\u001b[39m\u001b[38;5;124m\"\u001b[39m, \u001b[38;5;28;01mNone\u001b[39;00m)\n\u001b[1;32m    185\u001b[0m \u001b[38;5;28;01mwhile\u001b[39;00m \u001b[38;5;28;01mTrue\u001b[39;00m:\n\u001b[0;32m--> 186\u001b[0m     event \u001b[38;5;241m=\u001b[39m \u001b[38;5;28;43mself\u001b[39;49m\u001b[38;5;241;43m.\u001b[39;49m\u001b[43m_receive_event\u001b[49m\u001b[43m(\u001b[49m\u001b[43mtimeout\u001b[49m\u001b[38;5;241;43m=\u001b[39;49m\u001b[43mtimeout\u001b[49m\u001b[43m)\u001b[49m\n\u001b[1;32m    187\u001b[0m     \u001b[38;5;28;01mif\u001b[39;00m \u001b[38;5;28misinstance\u001b[39m(event, h11\u001b[38;5;241m.\u001b[39mResponse):\n\u001b[1;32m    188\u001b[0m         \u001b[38;5;28;01mbreak\u001b[39;00m\n",
      "File \u001b[0;32m/opt/conda/lib/python3.10/site-packages/httpcore/_sync/http11.py:224\u001b[0m, in \u001b[0;36mHTTP11Connection._receive_event\u001b[0;34m(self, timeout)\u001b[0m\n\u001b[1;32m    221\u001b[0m     event \u001b[38;5;241m=\u001b[39m \u001b[38;5;28mself\u001b[39m\u001b[38;5;241m.\u001b[39m_h11_state\u001b[38;5;241m.\u001b[39mnext_event()\n\u001b[1;32m    223\u001b[0m \u001b[38;5;28;01mif\u001b[39;00m event \u001b[38;5;129;01mis\u001b[39;00m h11\u001b[38;5;241m.\u001b[39mNEED_DATA:\n\u001b[0;32m--> 224\u001b[0m     data \u001b[38;5;241m=\u001b[39m \u001b[38;5;28;43mself\u001b[39;49m\u001b[38;5;241;43m.\u001b[39;49m\u001b[43m_network_stream\u001b[49m\u001b[38;5;241;43m.\u001b[39;49m\u001b[43mread\u001b[49m\u001b[43m(\u001b[49m\n\u001b[1;32m    225\u001b[0m \u001b[43m        \u001b[49m\u001b[38;5;28;43mself\u001b[39;49m\u001b[38;5;241;43m.\u001b[39;49m\u001b[43mREAD_NUM_BYTES\u001b[49m\u001b[43m,\u001b[49m\u001b[43m \u001b[49m\u001b[43mtimeout\u001b[49m\u001b[38;5;241;43m=\u001b[39;49m\u001b[43mtimeout\u001b[49m\n\u001b[1;32m    226\u001b[0m \u001b[43m    \u001b[49m\u001b[43m)\u001b[49m\n\u001b[1;32m    228\u001b[0m     \u001b[38;5;66;03m# If we feed this case through h11 we'll raise an exception like:\u001b[39;00m\n\u001b[1;32m    229\u001b[0m     \u001b[38;5;66;03m#\u001b[39;00m\n\u001b[1;32m    230\u001b[0m     \u001b[38;5;66;03m#     httpcore.RemoteProtocolError: can't handle event type\u001b[39;00m\n\u001b[0;32m   (...)\u001b[0m\n\u001b[1;32m    234\u001b[0m     \u001b[38;5;66;03m# perspective. Instead we handle this case distinctly and treat\u001b[39;00m\n\u001b[1;32m    235\u001b[0m     \u001b[38;5;66;03m# it as a ConnectError.\u001b[39;00m\n\u001b[1;32m    236\u001b[0m     \u001b[38;5;28;01mif\u001b[39;00m data \u001b[38;5;241m==\u001b[39m \u001b[38;5;124mb\u001b[39m\u001b[38;5;124m\"\u001b[39m\u001b[38;5;124m\"\u001b[39m \u001b[38;5;129;01mand\u001b[39;00m \u001b[38;5;28mself\u001b[39m\u001b[38;5;241m.\u001b[39m_h11_state\u001b[38;5;241m.\u001b[39mtheir_state \u001b[38;5;241m==\u001b[39m h11\u001b[38;5;241m.\u001b[39mSEND_RESPONSE:\n",
      "File \u001b[0;32m/opt/conda/lib/python3.10/site-packages/httpcore/_backends/sync.py:126\u001b[0m, in \u001b[0;36mSyncStream.read\u001b[0;34m(self, max_bytes, timeout)\u001b[0m\n\u001b[1;32m    124\u001b[0m \u001b[38;5;28;01mwith\u001b[39;00m map_exceptions(exc_map):\n\u001b[1;32m    125\u001b[0m     \u001b[38;5;28mself\u001b[39m\u001b[38;5;241m.\u001b[39m_sock\u001b[38;5;241m.\u001b[39msettimeout(timeout)\n\u001b[0;32m--> 126\u001b[0m     \u001b[38;5;28;01mreturn\u001b[39;00m \u001b[38;5;28;43mself\u001b[39;49m\u001b[38;5;241;43m.\u001b[39;49m\u001b[43m_sock\u001b[49m\u001b[38;5;241;43m.\u001b[39;49m\u001b[43mrecv\u001b[49m\u001b[43m(\u001b[49m\u001b[43mmax_bytes\u001b[49m\u001b[43m)\u001b[49m\n",
      "\u001b[0;31mKeyboardInterrupt\u001b[0m: "
     ]
    }
   ],
   "source": [
    "trail_no=0\n",
    "best_dict={}\n",
    "\n",
    "best_dict['best_macro']=0\n",
    "best_dict['best_questions']=[]\n",
    "best_dict['all_best']=[]\n",
    "\n",
    "\n",
    "\n",
    "study = optuna.create_study(direction=\"maximize\", pruner=optuna.pruners.MedianPruner())\n",
    "study.optimize(objective, n_trials=1000)\n",
    "\n",
    "\n",
    "print(\"Best objective value:\", study.best_value)\n",
    "print(\"Best parameters:\", study.best_params)"
   ]
  },
  {
   "cell_type": "code",
   "execution_count": null,
   "id": "c75638e7",
   "metadata": {},
   "outputs": [],
   "source": [
    "tes=[1]*15"
   ]
  },
  {
   "cell_type": "code",
   "execution_count": null,
   "id": "a5037aa3",
   "metadata": {},
   "outputs": [],
   "source": [
    "print(len(tes))"
   ]
  },
  {
   "cell_type": "code",
   "execution_count": null,
   "id": "9f874d1f",
   "metadata": {},
   "outputs": [],
   "source": [
    "tes[1:12]=[0]*11"
   ]
  },
  {
   "cell_type": "code",
   "execution_count": null,
   "id": "12fc2a5a",
   "metadata": {},
   "outputs": [],
   "source": [
    "print(tes)"
   ]
  },
  {
   "cell_type": "code",
   "execution_count": null,
   "id": "adc9e86c",
   "metadata": {},
   "outputs": [],
   "source": [
    "for index, (key, item) in enumerate(data_reformated.items()):\n",
    "    formatted_qas = []\n",
    "    for i, qa in enumerate(item):\n",
    "        if tes[i]==0:\n",
    "            continue\n",
    "        formatted_qa = f\"Q: {qa[0]}\\nA: {qa[1]}\"\n",
    "        formatted_qas.append(formatted_qa)\n",
    "        \n",
    "    prompt = \"\\n\".join(formatted_qas)\n",
    "    print(prompt)\n",
    "    print('________________________________')\n",
    "    if index ==2:\n",
    "        break"
   ]
  },
  {
   "cell_type": "code",
   "execution_count": null,
   "id": "f6fbff9d",
   "metadata": {},
   "outputs": [],
   "source": [
    "data_reformated[str(356)]"
   ]
  },
  {
   "cell_type": "code",
   "execution_count": null,
   "id": "f414edcf",
   "metadata": {},
   "outputs": [],
   "source": [
    "valid_responses"
   ]
  },
  {
   "cell_type": "code",
   "execution_count": null,
   "id": "e7ad8473",
   "metadata": {},
   "outputs": [],
   "source": [
    "binary_vars"
   ]
  },
  {
   "cell_type": "code",
   "execution_count": null,
   "id": "0d5152fe",
   "metadata": {},
   "outputs": [],
   "source": [
    "binary_vars=[1]*15\n",
    "\n",
    "ground_truth, model_response = evaluate_model(data_reformated_test, \n",
    "                                              test_responses, \n",
    "                                              binary_vars, \n",
    "                                              model_name, \n",
    "                                              options, 12\n",
    "                                            )\n",
    "\n",
    "\n",
    "macro_f1 = f1_score(ground_truth, model_response, average='macro')"
   ]
  },
  {
   "cell_type": "code",
   "execution_count": null,
   "id": "16c8b908",
   "metadata": {},
   "outputs": [],
   "source": [
    "macro_f1"
   ]
  },
  {
   "cell_type": "code",
   "execution_count": null,
   "id": "aff13472",
   "metadata": {},
   "outputs": [],
   "source": [
    "best_dict"
   ]
  },
  {
   "cell_type": "code",
   "execution_count": null,
   "id": "feeb09ed",
   "metadata": {},
   "outputs": [],
   "source": [
    "#     if macro_f1==best_dict['best_macro']:\n",
    "#         best_dict['all_best'].append(binary_vars)\n",
    "        \n",
    "        \n",
    "#         ground_truth_test, model_response_test = evaluate_model(\n",
    "#             data_reformated_test, test_responses, binary_vars, model_name, options, trial\n",
    "#         )\n",
    "\n",
    "\n",
    "#         macro_f1_test = f1_score(ground_truth_test, model_response_test, average='macro')\n",
    "#         best_dict['all_best_test'].append(macro_f1_test)\n",
    "        \n",
    "#         print('Got a new tie', best_dict['best_macro'],best_dict['best_test'])"
   ]
  }
 ],
 "metadata": {
  "kernelspec": {
   "display_name": "Python 3 (ipykernel)",
   "language": "python",
   "name": "python3"
  },
  "language_info": {
   "codemirror_mode": {
    "name": "ipython",
    "version": 3
   },
   "file_extension": ".py",
   "mimetype": "text/x-python",
   "name": "python",
   "nbconvert_exporter": "python",
   "pygments_lexer": "ipython3",
   "version": "3.10.11"
  }
 },
 "nbformat": 4,
 "nbformat_minor": 5
}
